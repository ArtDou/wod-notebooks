{
 "cells": [
  {
   "cell_type": "markdown",
   "metadata": {},
   "source": [
    "![HPEDEVlogo](Pictures/hpedevlogo-NB.JPG)   ![arubalogo](Pictures/aruba.jpg)\n",
    "\n",
    "# Thank you for visiting the Hack Shack\n",
    "\n",
    "Powered by [HPE DEV Team](hpedev.io)\n",
    "\n",
    "\n",
    "# Conclusion\n",
    "\n",
    "Thanks for attending this session! We kept the content relatively conservative for this first session.\n",
    "For those interested in taking their Aruba automation journey further, please reach out to me, details below, the HPE Hack Shack or your local Aruba SE. More Aruba Workshops to come, stay tuned !\n",
    "\n",
    "\n",
    "\n",
    "# Final steps\n",
    "\n",
    "### Please take a moment to fill out our [survey]({{ SURVEYURL }}).\n",
    "\n",
    "### Learn more about the HPE DEV Community\n",
    "![QRCode](Pictures/QRCode-HPEDEV.png)\n",
    "\n",
    "### And make sure you use `File -> Log Out` menu to terminate your workshop session.\n",
    "\n",
    "# Thank you\n",
    "![ThankYou](Pictures/grommet.jpg)\n",
    "\n"
   ]
  },
  {
   "cell_type": "code",
   "execution_count": null,
   "metadata": {},
   "outputs": [],
   "source": []
  }
 ],
 "metadata": {
  "kernelspec": {
   "display_name": "Bash",
   "language": "bash",
   "name": "bash"
  },
  "language_info": {
   "codemirror_mode": "shell",
   "file_extension": ".sh",
   "mimetype": "text/x-sh",
   "name": "bash"
  }
 },
 "nbformat": 4,
 "nbformat_minor": 4
}
