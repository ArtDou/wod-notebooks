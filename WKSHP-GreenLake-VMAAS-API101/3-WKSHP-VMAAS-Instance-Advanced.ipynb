{
 "cells": [
  {
   "cell_type": "markdown",
   "metadata": {},
   "source": [
    "# Provisioning\n",
    "\n",
    "## Instances\n",
    "Instances are sets of vms of various types that can be provisioned across the GreenLake for private cloud stack and a wide range of services like MySQL, Redis, ElasticSearch, PostgreSQL, Tomcat, nginx, Confluence, Jenkins, and more. There are a few important concept differentiators between what we call an instance and what amazon calls an instance. In GreenLake an instance can represent many vms that are of a set. For example. If you wanted to spin up a Mongo sharded replicaset, that requires 7 virtual machines. In GreenLake for private cloud we represent this as a singular instance with a specified layout and then represent all the associated services running within that virtual machine. The serverId represents the compute resource it was provisioned onto, (i.e. the virtual machine).\n"
   ]
  },
  {
   "cell_type": "markdown",
   "metadata": {},
   "source": [
    "In this second lab, we will take care of some more advanced management features like snapshots or clones."
   ]
  },
  {
   "cell_type": "markdown",
   "metadata": {},
   "source": [
    "# Important Note\n",
    "The HPE GreenLake Central API Acess token has a time to live duration of 15 minutes fro security reasons.\n",
    "\n",
    "if during the course of the lab, you run an API call and get a result indicating your token is not valid : \n",
    "\n",
    "\n",
    "{\n",
    "  \"message\": \"Unable to read user authentication information.\",\n",
    "  \"details\": \"Invalid access token provided: 'Unauthorized access: Token is not valid'\",\n",
    "  \"recommendedActions\": [\n",
    "    \"Obtain a valid token and resubmit the request.\"\n",
    "  ],\n",
    "  \"errorCode\": \"UNAUTHORIZED\"\n",
    "}\n",
    "\n",
    "\n",
    "Please go back to step4 to retrieve the GreenLake Central API Acess token to copy / paste it in the token.txt file.\n",
    "\n",
    "Do not append content but replace existing token with the new one.\n",
    "\n",
    "Please re run the next cell each time you update the token in the token.txt file"
   ]
  },
  {
   "cell_type": "code",
   "execution_count": null,
   "metadata": {},
   "outputs": [],
   "source": [
    "username=\"student{{ STDID }}\" \n",
    "\n",
    "\n",
    "##Initializing Variables here\n",
    "ACCESS_TOKEN=$(cat token.txt)\n",
    "echo \"your api token is: $ACCESS_TOKEN\"\n",
    "\n",
    "\n",
    "API_URL=\"https://client.greenlake.hpe.com/api/iac-vmaas/v1\"\n",
    "\n",
    "space=\"HPEDEV%20HackShack%20workshops\"\n",
    "location=\"HPE\"\n",
    "stdid={{ STDID }}"
   ]
  },
  {
   "cell_type": "markdown",
   "metadata": {},
   "source": [
    "Let's start by checking how many instances are running here"
   ]
  },
  {
   "cell_type": "code",
   "execution_count": null,
   "metadata": {},
   "outputs": [],
   "source": [
    "echo \"Listing all available instances now\"\n",
    "curl -s -X GET \\\n",
    "  \"$API_URL/instances?space=$space&location=$location\" \\\n",
    "  -H \"Authorization: $ACCESS_TOKEN\" |jq -r"
   ]
  },
  {
   "cell_type": "markdown",
   "metadata": {},
   "source": [
    "We will need the student group id as well, let 's get it as a variable now.\n"
   ]
  },
  {
   "cell_type": "code",
   "execution_count": null,
   "metadata": {},
   "outputs": [],
   "source": [
    "echo \"Getting your group Id now\"\n",
    "\n",
    "groupid=$(curl -s \"$API_URL/groups?space=$space&location=$location&name=student{{ STDID }}\" -H \"Authorization: $ACCESS_TOKEN\" |jq -r '.groups[].id')\n",
    "echo \"your student groupid is: $groupid\""
   ]
  },
  {
   "cell_type": "markdown",
   "metadata": {},
   "source": [
    "As we covered creation / update / start / stop / restart / suspend in the frst lab.\n",
    "\n",
    "Let's see snapshots and clones in details now."
   ]
  },
  {
   "cell_type": "markdown",
   "metadata": {},
   "source": [
    "Let's start by getting the the VM id to be used later. We'll make it a variable for ease of use."
   ]
  },
  {
   "cell_type": "code",
   "execution_count": null,
   "metadata": {},
   "outputs": [],
   "source": [
    "echo \"Getting your VM Id now\"\n",
    "\n",
    "student{{ STDID }}vmid=$(curl -s --request GET \"$API_URL/instances?space=$space&location=$location&max=25&name=vm-student{{ STDID }}-api\" \\\n",
    "-H \"Authorization: $ACCESS_TOKEN\" |jq -r '.instances[0].id')\n",
    "\n",
    "\n",
    "echo \"your vm id is \"$student{{ STDID }}vmid"
   ]
  },
  {
   "cell_type": "markdown",
   "metadata": {},
   "source": [
    "### Snapshot an instance \n",
    "\n",
    "[Create a Snaphot GreenLake Doc link ](https://developer.greenlake.hpe.com/docs/greenlake/services/private-cloud/public/openapi/private-cloud-cmp-latest/operation/SnapshotsInstance/)\n",
    "\n",
    "- PUT /instances/:id/snapshot\n",
    "-d '{snapshot}\n",
    "--name VALUE Name\n",
    "--description VALUE Description"
   ]
  },
  {
   "cell_type": "markdown",
   "metadata": {},
   "source": [
    "## Caution !!  The snapshot takes a few minutes to complete. Please be patient..."
   ]
  },
  {
   "cell_type": "code",
   "execution_count": null,
   "metadata": {},
   "outputs": [],
   "source": [
    "echo \"Creating a snapshot for your student{{ STDID }} instance with id $student{{ STDID }}vmid\"\n",
    "\n",
    "\n",
    "curl -s --request PUT \"$API_URL/instances/$student{{ STDID }}vmid/snapshot?space=$space&location=$location\" \\\n",
    "-H \"Authorization:  $ACCESS_TOKEN\" \\\n",
    "-H \"Content-Type: application/json\" \\\n",
    "-d '{ \"snapshot\": { \"name\": \"api-vm-student{{ STDID }}-snap\", \"description\": \"A snapshot created via VMAAS API Call for student{{ STDID }} instance\" }}' | jq -r"
   ]
  },
  {
   "cell_type": "markdown",
   "metadata": {},
   "source": [
    "### List now your Instance Snapshot\n",
    "- GET/api/instances/:id/snapshots\n"
   ]
  },
  {
   "cell_type": "code",
   "execution_count": null,
   "metadata": {},
   "outputs": [],
   "source": [
    "echo \"Listing your newly created snapshot\"\n",
    "\n",
    "curl -s --request GET \"$API_URL/instances/$student{{ STDID }}vmid/snapshots?space=$space&location=$location\" \\\n",
    "-H \"Authorization: $ACCESS_TOKEN\" | jq -r"
   ]
  },
  {
   "cell_type": "markdown",
   "metadata": {},
   "source": [
    "### You can also clone or resize  an instance\n",
    "\n",
    "[Clone an Instance GreenLake Doc link ](https://developer.greenlake.hpe.com/docs/greenlake/services/private-cloud/public/openapi/private-cloud-cmp-latest/operation/ClonesInstance/)\n",
    "\n",
    "[Resize an Instance GreenLake Doc link ](https://developer.greenlake.hpe.com/docs/greenlake/services/private-cloud/public/openapi/private-cloud-cmp-latest/operation/ResizesInstance/)\n",
    "\n",
    "\n",
    "- PUT /instances/:id/clone\n",
    "\n",
    "- PUT /instances/:id/resize\n",
    "\n",
    "Payload:\n",
    "\n",
    "{\n",
    "  \"instance\": {\n",
    "    \"id\": 482,\n",
    "    \"plan\": {\n",
    "      \"id\": 419\n",
    "    }\n",
    "  },\n",
    "  \"volumes\": [\n",
    "    {\n",
    "      \"id\": 643,\n",
    "      \"rootVolume\": true,\n",
    "      \"name\": \"Hard disk 1\",\n",
    "      \"size\": 10,\n",
    "      \"sizeId\": null,\n",
    "      \"storageType\": 1,\n",
    "      \"datastoreId\": \"auto\"\n",
    "    }\n",
    "  ],\n",
    "  \"deleteOriginalVolumes\": true\n",
    "}"
   ]
  },
  {
   "cell_type": "markdown",
   "metadata": {},
   "source": [
    "### Let's Clone your existing VM now!"
   ]
  },
  {
   "cell_type": "code",
   "execution_count": null,
   "metadata": {},
   "outputs": [],
   "source": [
    "echo \"Cloning your student{{ STDID }} instance with id $student{{ STDID }}vmid\"\n",
    "\n",
    "curl -s -X PUT \"$API_URL/instances/$student{{ STDID }}vmid/clone?space=$space&location=$location\"\\\n",
    "  -H \"Authorization: $ACCESS_TOKEN\" \\\n",
    "  -H \"Content-Type: application/json\" \\\n",
    "  --data-raw '{\n",
    "    \"name\": \"clone-vm-student{{ STDID }}-api\",\n",
    "    \"group\": {\n",
    "      \"id\": '$groupid'\n",
    "    }\n",
    "  }'"
   ]
  },
  {
   "cell_type": "markdown",
   "metadata": {},
   "source": [
    "### Retrieve the clone vm id now"
   ]
  },
  {
   "cell_type": "code",
   "execution_count": null,
   "metadata": {},
   "outputs": [],
   "source": [
    "echo \"Getting your Clone VM Id now\"\n",
    "\n",
    "clonestudent{{ STDID }}vmid=$(curl -s --request GET \"$API_URL/instances?space=$space&location=$location&max=25&name=clone-vm-student{{ STDID }}-api\" \\\n",
    "-H \"Authorization: $ACCESS_TOKEN\" |jq -r '.instances[0].id')\n",
    "\n",
    "\n",
    "echo \"your clonestudent{{ STDID }} vm id is \"$clonestudent{{ STDID }}vmid"
   ]
  },
  {
   "cell_type": "markdown",
   "metadata": {},
   "source": [
    "### What about accessing the vm now ? \n",
    "Let's get the details for our centos instance. An IP address might help to connect. Some crededntials too."
   ]
  },
  {
   "cell_type": "code",
   "execution_count": null,
   "metadata": {},
   "outputs": [],
   "source": [
    "echo \" Retrieving your student{{ STDID }} instance IP Address now\"\n",
    "\n",
    "student{{ STDID }}vmip=$(curl -s --request GET \"$API_URL/instances/$student{{ STDID }}vmid?space=$space&location=$location\" \\\n",
    "-H \"Authorization: $ACCESS_TOKEN\" |jq -r '.instance.connectionInfo[0].ip')\n",
    "\n",
    "echo \"Your student1701 instance IP Address is $student1701vmip\""
   ]
  },
  {
   "cell_type": "markdown",
   "metadata": {},
   "source": [
    "#### Check if vm is reachable "
   ]
  },
  {
   "cell_type": "code",
   "execution_count": null,
   "metadata": {},
   "outputs": [],
   "source": [
    "ping $student{{ STDID }}vmip"
   ]
  },
  {
   "cell_type": "markdown",
   "metadata": {},
   "source": [
    "####  Connect now to the vm"
   ]
  },
  {
   "cell_type": "code",
   "execution_count": null,
   "metadata": {},
   "outputs": [],
   "source": [
    "ssh student1701@$student{{ STDID }}vmip"
   ]
  },
  {
   "cell_type": "markdown",
   "metadata": {},
   "source": [
    "## Deleting Instance here"
   ]
  },
  {
   "cell_type": "markdown",
   "metadata": {},
   "source": [
    "As we don't need the instance for the rest of the workshop, we will now delete it."
   ]
  },
  {
   "cell_type": "code",
   "execution_count": null,
   "metadata": {},
   "outputs": [],
   "source": [
    "##Getting Instance id\n",
    "\n",
    "echo \"Getting your VM Id now\"\n",
    "\n",
    "student{{ STDID }}vmid=$(curl -s --request GET \"$API_URL/instances?space=$space&location=$location&max=25&name=vm-student{{ STDID }}-api\" \\\n",
    "-H \"Authorization: $ACCESS_TOKEN\" |jq -r '.instances[0].id')\n",
    "\n",
    "\n",
    "echo \"your vm id is \"$student{{ STDID }}vmid\n",
    "\n",
    "## Deleting instance\n",
    "echo \"Deleting your student{{ STDID }} instance now\"\n",
    "\n",
    "curl -s -X DELETE \"$API_URL/instances/$student{{ STDID }}vmid?space=$space&location=$location&force=on\" \\\n",
    "-H \"Authorization: $ACCESS_TOKEN\" \\\n",
    "-H \"Content-Type: application/json\" |jq -r\n"
   ]
  },
  {
   "cell_type": "markdown",
   "metadata": {},
   "source": [
    "Note that we make use of the force option in the deletion API call. This option will make sure we delete the associated snapshots.\n",
    "\n",
    "Clones will need to be deleted in a seaprate API call.\n",
    "\n",
    "let's check by listing assocaited snaphots and clones:"
   ]
  },
  {
   "cell_type": "code",
   "execution_count": null,
   "metadata": {},
   "outputs": [],
   "source": [
    "echo \"Listing your snapshot(s)\"\n",
    "\n",
    "curl -s --request GET \"$API_URL/instances/$student{{ STDID }}vmid/snapshots?space=$space&location=$location\" \\\n",
    "-H \"Authorization: $ACCESS_TOKEN\" | jq -r"
   ]
  },
  {
   "cell_type": "markdown",
   "metadata": {},
   "source": [
    "We should not see associated snapshots anymore. But waht about clones ? "
   ]
  },
  {
   "cell_type": "code",
   "execution_count": null,
   "metadata": {},
   "outputs": [],
   "source": [
    "echo \"Listing your clone(s)\"\n",
    "\n",
    "curl -s -X GET \"$API_URL/instances/$student{{ STDID }}vmid/clone?space=$space&location=$location\"\n",
    "  -H \"Authorization: $ACCESS_TOKEN\" \\\n",
    "  -H \"Content-Type: application/json\" \\ | jq -r"
   ]
  },
  {
   "cell_type": "markdown",
   "metadata": {},
   "source": [
    "Let's delete now the remaining clone"
   ]
  },
  {
   "cell_type": "code",
   "execution_count": null,
   "metadata": {},
   "outputs": [],
   "source": [
    "echo \"Getting your Clone VM Id now\"\n",
    "\n",
    "clonestudent{{ STDID }}vmid=$(curl -s --request GET \"$API_URL/instances?space=$space&location=$location&max=25&name=clone-vm-student{{ STDID }}-api\" \\\n",
    "-H \"Authorization: $ACCESS_TOKEN\" |jq -r '.instances[0].id')\n",
    "\n",
    "\n",
    "echo \"your clonestudent{{ STDID }} vm id is \"$clonestudent{{ STDID }}vmid\n",
    "\n",
    "## Deleting instance\n",
    "echo \"Deleting your student{{ STDID }} clone instance now\"\n",
    "\n",
    "curl -s -X DELETE \"$API_URL/instances/$clonestudent{{ STDID }}vmid?space=$space&location=$location&force=on\" \\\n",
    "-H \"Authorization: $ACCESS_TOKEN\" \\\n",
    "-H \"Content-Type: application/json\" |jq -r"
   ]
  },
  {
   "cell_type": "code",
   "execution_count": null,
   "metadata": {},
   "outputs": [],
   "source": []
  },
  {
   "cell_type": "markdown",
   "metadata": {},
   "source": [
    "## Summary:\n",
    "In this lab, you managed to use the HPE GreenLake Private Cloud API to create your first snapshot and clone  before accessing the vm and deleting it."
   ]
  },
  {
   "cell_type": "markdown",
   "metadata": {},
   "source": [
    "<br><br>\n",
    "\n",
    "## <i class=\"fas fa-2x fa-map-marker-alt\" style=\"color:#008000;\"></i>&nbsp;&nbsp;Next Steps\n",
    "\n",
    "Conclusion"
   ]
  },
  {
   "cell_type": "markdown",
   "metadata": {},
   "source": [
    "</br>\n",
    " <a href=\"2-WKSHP-VMAAS-Instance.ipynb\" target=\"New\" title=\"Back: Authentification\"><button type=\"submit\"  class=\"btn btn-lg btn-block\" style=\"background-color:#008000;color:#fff;position:relative;width:10%; height: 30px;float: left;\"><b>Back</b></button></a>\n",
    " <a href=\"4-WKSHP-Conclusion.ipynb\" target=\"New\" title=\"Next:Conclusion\"><button type=\"submit\"  class=\"btn btn-lg btn-block\" style=\"background-color:#008000;color:#fff;position:relative;width:10%; height: 30px;float: right;\"><b>Next</b></button></a>\n"
   ]
  },
  {
   "cell_type": "markdown",
   "metadata": {},
   "source": [
    "<h2>Next&nbsp;&nbsp;&nbsp;&nbsp;<a href=\"3-WKSHP-VMAAS-Blueprint.ipynb#sc\" target=\"New\" title=\"Next: Tasks\"><i class=\"fas fa-chevron-circle-right\" style=\"color:#008000;\"></i></a></h2>"
   ]
  },
  {
   "cell_type": "code",
   "execution_count": null,
   "metadata": {},
   "outputs": [],
   "source": []
  }
 ],
 "metadata": {
  "kernelspec": {
   "display_name": "Bash",
   "language": "bash",
   "name": "bash"
  },
  "language_info": {
   "codemirror_mode": "shell",
   "file_extension": ".sh",
   "mimetype": "text/x-sh",
   "name": "bash"
  }
 },
 "nbformat": 4,
 "nbformat_minor": 4
}
