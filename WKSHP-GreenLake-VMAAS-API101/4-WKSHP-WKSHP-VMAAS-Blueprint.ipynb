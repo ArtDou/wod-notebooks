{
 "cells": [
  {
   "cell_type": "markdown",
   "metadata": {},
   "source": [
    "### what is a blueprint?\n",
    "\n",
    "A Blueprint is typically referred to as an Application Blueprint. It allows a user to define an application structure for easy reproducibility  and deployment into various environments. They can be used to mix and match various instance types to provision an application dependent on multiple layers of services. To consume a Blueprint, we navigate to Provisioning > Apps, and select the Blueprint you would like to provision.\n",
    "\n",
    "Application\n",
    "\n",
    "An Application is a collection of instances linked together via application tiers. Tier allow the user to define segregated sections of instances within an application. "
   ]
  },
  {
   "cell_type": "markdown",
   "metadata": {},
   "source": [
    "# Blueprints Deployment"
   ]
  },
  {
   "cell_type": "markdown",
   "metadata": {},
   "source": [
    "Blueprints are templates for creating apps. They are a set of instance configurations, organized by tier, and scoped by group, cloud and environment.\n",
    "\n",
    "A Blueprint may also be referred to as a App Template or appTemplate."
   ]
  },
  {
   "cell_type": "markdown",
   "metadata": {},
   "source": [
    "This lab will explains how to use HPE GreenLake Private Cloud portal to deploy multi tiered application using ansible playbook. Before we jump in let's spend a minute on understanding the architecture of tiered Application which will be used in this document. \n",
    "\n",
    "### A Quick Overview on Multi-Tiered Application\n",
    "This eShopOnContainers reference application is cross-platform at the server and client side. The architecture proposes a microservice oriented implementation with multiple autonomous microservices. This reference application includes three tiers namely Web Tier, App Tier and Database Tier as depicted in the below diagram. \n",
    "\n",
    "**Web Tier** - The web tier is the front end layer in this architecture and consists of the user interface. The user interface is accessible through web browser. Web Tier communicates with other layers through API calls.\n",
    "\n",
    "**App Tier** - The application tier contains the functional business logic which drives an application's core capabilities. For example, Identity services, Catalog services, Ordering services, etc...\n",
    "\n",
    "**Database Tier** - The database tier comprises of the databases and data access layer. For example, SQL Server, MongoDB, CosmosDB, etc.. Data is accessed by the application layer via API calls. \n",
    "\n",
    "![GreenLake-Central Blueprint1](Pictures/Blueprint1.png) "
   ]
  },
  {
   "cell_type": "markdown",
   "metadata": {},
   "source": [
    "Ansible playbooks to bring up this tiered eShop application are hosted at https://github.com/Thavamanirajasakthivel/ansible-examples/tree/master/ecommerce_application https://github.com/Thavamanirajasakthivel/eShopOnContainers . The repo contains playbooks to bring up each tier individually(database.yml, api.yml and web.yml) on Ubuntu16.04 instance. We will be using this as the reference playbooks to deploy an application in HPE GreenLake Private Cloud environment. "
   ]
  },
  {
   "cell_type": "markdown",
   "metadata": {},
   "source": [
    "### How to configure and use Ansible from HPE GreenLake Private Cloud\n",
    "Ansible requires access to port 22 on Linux and port 5985 on Windows to function. In many enterprise environments, these ports are blocked due to security policies , which makes ansible unusable. HPE GreenLake Private Cloud is able to get around this problem and make Ansible usable again in highly secure environments using Agent Command Bus feature.\n",
    "\n",
    "**Agent Command Bus** feature leverages the agent which uses port 443 so Ansible playbooks can still be executed. "
   ]
  },
  {
   "cell_type": "markdown",
   "metadata": {},
   "source": [
    "# Let's see if any blueprint is available to us."
   ]
  },
  {
   "cell_type": "code",
   "execution_count": 1,
   "metadata": {},
   "outputs": [
    {
     "name": "stdout",
     "output_type": "stream",
     "text": [
      "You are student{{ STDID }}\n",
      "Your Token is 2b4c5753-4351-4f71-8401-d818f6496b8d\n"
     ]
    }
   ],
   "source": [
    "##Initailizing Variables here\n",
    "ACCESS_TOKEN=\"paste your token here\"\n",
    "\n",
    "\n",
    "API_URL=\"5xqm8quc36ij6dsubflp8u81r5.privatecloud.greenlake.hpe.com\"\n",
    "\n",
    "echo \"You are student{{ STDID }}\"\n",
    "echo \"Your Token is $ACCESS_TOKEN\""
   ]
  },
  {
   "cell_type": "code",
   "execution_count": 2,
   "metadata": {},
   "outputs": [
    {
     "name": "stdout",
     "output_type": "stream",
     "text": [
      "  % Total    % Received % Xferd  Average Speed   Time    Time     Time  Current\n",
      "                                 Dload  Upload   Total   Spent    Left  Speed\n",
      "100    65    0    65    0     0     69      0 --:--:-- --:--:-- --:--:--    69\n",
      "\u001b[1;39m{\n",
      "  \u001b[0m\u001b[34;1m\"blueprints\"\u001b[0m\u001b[1;39m: \u001b[0m\u001b[1;39m[]\u001b[0m\u001b[1;39m,\n",
      "  \u001b[0m\u001b[34;1m\"meta\"\u001b[0m\u001b[1;39m: \u001b[0m\u001b[1;39m{\n",
      "    \u001b[0m\u001b[34;1m\"offset\"\u001b[0m\u001b[1;39m: \u001b[0m\u001b[0;39m0\u001b[0m\u001b[1;39m,\n",
      "    \u001b[0m\u001b[34;1m\"max\"\u001b[0m\u001b[1;39m: \u001b[0m\u001b[0;39m25\u001b[0m\u001b[1;39m,\n",
      "    \u001b[0m\u001b[34;1m\"size\"\u001b[0m\u001b[1;39m: \u001b[0m\u001b[0;39m0\u001b[0m\u001b[1;39m,\n",
      "    \u001b[0m\u001b[34;1m\"total\"\u001b[0m\u001b[1;39m: \u001b[0m\u001b[0;39m0\u001b[0m\u001b[1;39m\n",
      "  \u001b[1;39m}\u001b[0m\u001b[1;39m\n",
      "\u001b[1;39m}\u001b[0m\n"
     ]
    }
   ],
   "source": [
    "curl \"$API_URL/api/blueprints\" \\\n",
    "-H \"Authorization: BEARER $ACCESS_TOKEN\" |jq -r"
   ]
  },
  {
   "cell_type": "code",
   "execution_count": null,
   "metadata": {},
   "outputs": [],
   "source": []
  }
 ],
 "metadata": {
  "kernelspec": {
   "display_name": "Bash",
   "language": "bash",
   "name": "bash"
  },
  "language_info": {
   "codemirror_mode": "shell",
   "file_extension": ".sh",
   "mimetype": "text/x-sh",
   "name": "bash"
  }
 },
 "nbformat": 4,
 "nbformat_minor": 4
}
