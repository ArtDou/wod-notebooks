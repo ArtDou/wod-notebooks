{
 "cells": [
  {
   "cell_type": "markdown",
   "metadata": {},
   "source": [
    "# Tasks\n",
    "\n",
    "Provides API interfaces for managing the creation and modification of automation tasks. Tasks are used in workflows for automation. We will here go through the process of creating simple tasks. Workflows should be addressed later in an advanced GreenLake VMAAS API workshop.\n",
    "\n",
    "/api/tasks\n",
    "\n",
    "The above command returns JSON structured like this:\n",
    "\n",
    "{\n",
    "  \"tasks\": [\n",
    "     {\n",
    "      \"id\": 5,\n",
    "      \"accountId\": 1,\n",
    "      \"name\": \"aptitude upgrade\",\n",
    "      \"taskType\": {\n",
    "        \"id\": 1,\n",
    "        \"code\": \"script\",\n",
    "        \"name\": \"Shell Script\"\n",
    "      },\n",
    "      \"file\": {\n",
    "        \"id\": 1275,\n",
    "        \"sourceType\": \"local\",\n",
    "        \"contentRef\": null,\n",
    "        \"contentPath\": null,\n",
    "        \"repository\": null,\n",
    "        \"content\": \"apt-get upgrade -y\"\n",
    "      },\n",
    "      \"taskOptions\": {\n",
    "      }\n",
    "    },\n",
    "  ],\n",
    "  \"meta\": {\n",
    "    \"offset\": 0,\n",
    "    \"max\": 25,\n",
    "    \"size\": 1,\n",
    "    \"total\": 1\n",
    "  }\n",
    "}\n",
    "This endpoint retrieves all tasks.\n",
    "\n",
    "HTTP REQUEST\n",
    "curl GET  \"$API_URL/api/tasks"
   ]
  },
  {
   "cell_type": "markdown",
   "metadata": {},
   "source": [
    "## Task Creation\n",
    "\n",
    "In this first part, we will create two simple tasks:\n",
    "- 1st task to run uptime command on the VM\n",
    "\n",
    "- 2nd task to write a file on the file system. at the end of this lab, We will then make use of the snapshot feature to move back to the original state of the Virtual machine.\n",
    "\n",
    "\n",
    "HTTP REQUEST\n",
    "curl POST \"$API_URL/api/tasks\n",
    "\n",
    "JSON PARAMETERS\n",
    "\n",
    "|Parameter |   Default  | Description  |\n",
    "|---|---|---|\n",
    "|  name |   | A unique name for the task  |\n",
    "|  code |   |   | A unique code for the task\n",
    "| taskType.code  |   | The type of task  |\n",
    "|  taskOptions |   | Map of options specific to each type. eg. script  |\n",
    "|  resultType |   |   |\n",
    "|  executeTarget |   | The execution target. eg. local,remote,resource. The default value varies by task type.  |\n",
    "|  retryable | false  | If the task should be retried or not.  |\n",
    "|  retryCount |   | The number of times to retry.  |\n",
    "|  retryDelaySeconds |   | The delay, between retries.  |\n",
    "|  file |   | File, object specifying type and content, see File Object. This is required for task types that expect a script, having scriptable:true and an optionType of type:\"file-content\".  |"
   ]
  },
  {
   "cell_type": "code",
   "execution_count": null,
   "metadata": {},
   "outputs": [],
   "source": [
    "##Initailizing Variables here\n",
    "ACCESS_TOKEN=\"paste your token here\"\n",
    "\n",
    "\n",
    "API_URL=\"5xqm8quc36ij6dsubflp8u81r5.privatecloud.greenlake.hpe.com\"\n",
    "\n",
    "echo \"You are student{{ STDID }}\"\n",
    "echo \"Your Token is $ACCESS_TOKEN\""
   ]
  },
  {
   "cell_type": "markdown",
   "metadata": {},
   "source": [
    "### Let's Start by listing exinsting tasks if any...\n"
   ]
  },
  {
   "cell_type": "code",
   "execution_count": null,
   "metadata": {},
   "outputs": [],
   "source": [
    "curl \"$API_URL/api/tasks\" \\\n",
    "-H \"Authorization: BEARER $ACCESS_TOKEN\" |jq -r"
   ]
  },
  {
   "cell_type": "markdown",
   "metadata": {},
   "source": [
    "### Create now the 'Uptime Task'\n",
    "\n",
    "\n",
    "example:\n",
    "curl -XPOST \"$serverUrl/api/tasks\" \\\n",
    "  -H \"Authorization: BEARER $accessToken\" \\\n",
    "  -H \"Content-Type: application/json\" \\\n",
    "  -d '{\"task\": {\n",
    "    \"name\": \"cleanup tmp files\",\n",
    "    \"taskType\": {\n",
    "      \"code\": \"script\"\n",
    "    },\n",
    "    \"executeTarget\": \"resource\",\n",
    "    \"file\": {\n",
    "      \"sourceType\": \"local\",\n",
    "      \"content\": \"rm -rf /var/www/app1/tmp/*\\nrm -rf /var/www/app2/tmp/*\"\n",
    "    }\n",
    "  }}'"
   ]
  },
  {
   "cell_type": "code",
   "execution_count": null,
   "metadata": {},
   "outputs": [],
   "source": [
    "curl -s -X POST \"$API_URL/api/tasks\" \\\n",
    "  -H \"Authorization: BEARER $ACCESS_TOKEN\" \\\n",
    "  -H \"Content-Type: application/json\" \\\n",
    "  -d '{\"task\": {\n",
    "    \"name\": \"Uptime Command-student{{ STDID}}\",\n",
    "    \"taskType\": {\n",
    "      \"code\": \"script\"\n",
    "    },\n",
    "    \"executeTarget\": \"resource\",\n",
    "    \"file\": {\n",
    "      \"sourceType\": \"local\",\n",
    "      \"content\": \"uptime\"\n",
    "    }\n",
    "  }}'"
   ]
  },
  {
   "cell_type": "markdown",
   "metadata": {},
   "source": [
    "### Check Task is now listed."
   ]
  },
  {
   "cell_type": "code",
   "execution_count": null,
   "metadata": {},
   "outputs": [],
   "source": [
    "curl \"$API_URL/api/tasks\" \\\n",
    "-H \"Authorization: BEARER $ACCESS_TOKEN\" |jq -r"
   ]
  },
  {
   "cell_type": "markdown",
   "metadata": {},
   "source": [
    "Check now the id of the uptime task. We will need now to isolate it in order to manipulate the student{{ STDID }} uptime task."
   ]
  },
  {
   "cell_type": "code",
   "execution_count": null,
   "metadata": {},
   "outputs": [],
   "source": [
    "uptime-taskid-student{{ STDID }}=$(curl -s --location --request GET \"$API_URL/api/tasks\" \\\n",
    "-H \"Authorization: BEARER $ACCESS_TOKEN\" | jq -r |grep -B 2 -A 2 ''student'' |grep id |cut -d: -f 2 |cut -d, -f1\n",
    ")\n",
    "echo $uptime-taskid-student{{ STDID }}"
   ]
  },
  {
   "cell_type": "markdown",
   "metadata": {},
   "source": [
    "### Let's now execute the task on the instance we created earlier.\n",
    "\n",
    "\n",
    "example:\n",
    "curl -XPOST \"$serverUrl/api/tasks/5/execute\" \\\n",
    "  -H \"Authorization: BEARER $accessToken\" \\\n",
    "  -H \"Content-Type: application/json\" \\\n",
    "  -d '{\"job\":{\n",
    "    \"targetType\": \"instance\",\n",
    "    \"instances\": [1]\n",
    "  }}'"
   ]
  },
  {
   "cell_type": "code",
   "execution_count": null,
   "metadata": {},
   "outputs": [],
   "source": [
    "## Uptime Task execution Cell here\n",
    "\n",
    "curl -XPOST \"$API_URL/api/tasks/$uptime-taskid-student{{ STDID }}/execute\" \\\n",
    "  -H \"Authorization: BEARER $ACCESS_TOKEN\" \\\n",
    "  -H \"Content-Type: application/json\" \\\n",
    "  -d '{\"job\":{\n",
    "    \"targetType\": \"instance\",\n",
    "    \"instances\": [1]\n",
    "  }}'"
   ]
  },
  {
   "cell_type": "markdown",
   "metadata": {},
   "source": [
    "### Create now the 'File Creation Task'"
   ]
  },
  {
   "cell_type": "code",
   "execution_count": null,
   "metadata": {},
   "outputs": [],
   "source": [
    "##FileCreation Task creation Cell  here\n",
    "\n",
    "curl -XPOST \"$API_URL/api/tasks\" \\\n",
    "  -H \"Authorization: BEARER $ACCESS_TOKEN\" \\\n",
    "  -H \"Content-Type: application/json\" \\\n",
    "  -d '{\"task\": {\n",
    "    \"name\": \"FileCopy-student{{ STDID}}\",\n",
    "    \"taskType\": {\n",
    "      \"code\": \"script\"\n",
    "    },\n",
    "    \"executeTarget\": \"resource\",\n",
    "    \"file\": {\n",
    "      \"sourceType\": \"local\",\n",
    "      \"content\": \"echo > student{{STDID }}/tmp/student{{STDID }}.md\"\n",
    "    }\n",
    "  }}'"
   ]
  },
  {
   "cell_type": "markdown",
   "metadata": {},
   "source": [
    "### Check Task is now listed."
   ]
  },
  {
   "cell_type": "code",
   "execution_count": null,
   "metadata": {},
   "outputs": [],
   "source": [
    "curl \"$API_URL/api/tasks\" \\\n",
    "-H \"Authorization: BEARER $ACCESS_TOKEN\" |jq -r"
   ]
  },
  {
   "cell_type": "markdown",
   "metadata": {},
   "source": [
    "### Get Now the Task id to execute it."
   ]
  },
  {
   "cell_type": "code",
   "execution_count": null,
   "metadata": {},
   "outputs": [],
   "source": [
    "fc-taskid-student{{ STDID }}=$(curl -s --location --request GET \"$API_URL/api/tasks\" \\\n",
    "-H \"Authorization: BEARER $ACCESS_TOKEN\" | jq -r |grep -B 2 -A 2 ''student'' |grep id |cut -d: -f 2 |cut -d, -f1\n",
    ")\n",
    "echo $fc-taskid-student{{ STDID }}"
   ]
  },
  {
   "cell_type": "markdown",
   "metadata": {},
   "source": [
    "### Let's now execute the task on the instance we created earlier."
   ]
  },
  {
   "cell_type": "code",
   "execution_count": null,
   "metadata": {},
   "outputs": [],
   "source": [
    "## FileCreation Task execution Cell here\n",
    "\n",
    "curl -XPOST \"$API_URL/api/tasks/$fc-taskid-student{{ STDID }}/execute\" \\\n",
    "  -H \"Authorization: BEARER $ACCESS_TOKEN\" \\\n",
    "  -H \"Content-Type: application/json\" \\\n",
    "  -d '{\"job\":{\n",
    "    \"targetType\": \"instance\",\n",
    "    \"instances\": [1]\n",
    "  }}'"
   ]
  },
  {
   "cell_type": "markdown",
   "metadata": {},
   "source": [
    "### We have created an ls -al /tmp task to actually provide you with  a way to check the result of the previous task\n",
    "\n",
    "Please run it to make sure your File Creation Task completed correctly."
   ]
  },
  {
   "cell_type": "code",
   "execution_count": null,
   "metadata": {},
   "outputs": [],
   "source": [
    "## ls -al /tmp Task execution Cell here\n",
    "\n",
    "curl -XPOST \"$API_URL/api/tasks/7/execute\" \\\n",
    "  -H \"Authorization: BEARER $ACCESS_TOKEN\" \\\n",
    "  -H \"Content-Type: application/json\" \\\n",
    "  -d '{\"job\":{\n",
    "    \"targetType\": \"instance\",\n",
    "    \"instances\": [1]\n",
    "  }}'"
   ]
  },
  {
   "cell_type": "markdown",
   "metadata": {},
   "source": [
    "#### Summary:\n",
    "These were simple examples of tasks to get your familiarized with the underlying concepts. In a day to day operational mode, tasks can appear to be very useful."
   ]
  },
  {
   "cell_type": "markdown",
   "metadata": {},
   "source": [
    "### Deleting Uptime and FileCopy Tasks now\n",
    "\n",
    "\n",
    "example:\n",
    "curl -XDELETE \"$serverUrl/api/tasks/1\" \\\n",
    "  -H \"Authorization: BEARER $accessToken\""
   ]
  },
  {
   "cell_type": "code",
   "execution_count": null,
   "metadata": {},
   "outputs": [],
   "source": [
    "## Tasks Deletion Cell here\n",
    "\n",
    "## Uptime Task Deletion\n",
    "\n",
    "curl -XDELETE \"$API_URL/api/tasks/$uptime-taskid-student{{ STDID }}\" \\\n",
    "  -H \"Authorization: BEARER $ACCESS_TOKEN\" \\\n",
    "  \n",
    "## File Creation Task Deletion\n",
    "\n",
    "curl -XDELETE \"$API_URL/api/tasks/$fc-taskid-student{{ STDID }}\" \\\n",
    "-H \"Authorization: BEARER $ACCESS_TOKEN\" \\"
   ]
  },
  {
   "cell_type": "markdown",
   "metadata": {},
   "source": [
    "### Check Tasks are no longer listed"
   ]
  },
  {
   "cell_type": "code",
   "execution_count": null,
   "metadata": {},
   "outputs": [],
   "source": [
    "curl \"$API_URL/api/tasks\" \\\n",
    "-H \"Authorization: BEARER $ACCESS_TOKEN\" |jq -r"
   ]
  },
  {
   "cell_type": "markdown",
   "metadata": {},
   "source": [
    "## Deleting Instance here"
   ]
  },
  {
   "cell_type": "markdown",
   "metadata": {},
   "source": [
    "As we don't need the instance for the rest of the workshop, we will now delete it."
   ]
  },
  {
   "cell_type": "code",
   "execution_count": null,
   "metadata": {},
   "outputs": [],
   "source": [
    "##Getting Instance id\n",
    "\n",
    "student{{ STDID }}vmid=$(curl -s --location --request GET \"$API_URL/api/instances\" \\\n",
    "-H \"Authorization: BEARER $ACCESS_TOKEN\" |jq -r '.instances[0].id')\n",
    "echo $student{{ STDID }}vmid\n",
    "\n",
    "## Deleting instance\n",
    "\n",
    "curl -s -X --request POST \"$API_URL/api/instances/student{{ STDID }}vmid\" \\\n",
    "-H \"Authorization: BEARER $ACCESS_TOKEN\" \\\n",
    "-H \"Content-Type: application/json\" \\\n"
   ]
  },
  {
   "cell_type": "markdown",
   "metadata": {},
   "source": [
    "<br><br>\n",
    "\n",
    "## <i class=\"fas fa-2x fa-map-marker-alt\" style=\"color:#008000;\"></i>&nbsp;&nbsp;Next Steps\n",
    "\n",
    "Lab 3: Tasks"
   ]
  },
  {
   "cell_type": "markdown",
   "metadata": {},
   "source": [
    "</br>\n",
    " <a href=\"2-WKSHP-WKSHP-VMAAS-Instance.ipynb\" target=\"New\" title=\"Back: Instance Creation\"><button type=\"submit\"  class=\"btn btn-lg btn-block\" style=\"background-color:#008000;color:#fff;position:relative;width:10%; height: 30px;float: left;\"><b>Back</b></button></a>\n",
    " <a href=\"4-WKSHP-WKSHP-VMAAS-Blueprint.ipynb#sc\" target=\"New\" title=\"Next:Blueprint Deployment\"><button type=\"submit\"  class=\"btn btn-lg btn-block\" style=\"background-color:#008000;color:#fff;position:relative;width:10%; height: 30px;float: right;\"><b>Next</b></button></a>\n"
   ]
  },
  {
   "cell_type": "markdown",
   "metadata": {},
   "source": [
    "<h2>Next&nbsp;&nbsp;&nbsp;&nbsp;<a href=\"4-WKSHP-WKSHP-VMAAS-Blueprint.ipynb#sc\" target=\"New\" title=\"Next: Blueprint Deployment\"><i class=\"fas fa-chevron-circle-right\" style=\"color:#008000;\"></i></a></h2>"
   ]
  }
 ],
 "metadata": {
  "kernelspec": {
   "display_name": "Bash",
   "language": "bash",
   "name": "bash"
  },
  "language_info": {
   "codemirror_mode": "shell",
   "file_extension": ".sh",
   "mimetype": "text/x-sh",
   "name": "bash"
  }
 },
 "nbformat": 4,
 "nbformat_minor": 4
}
