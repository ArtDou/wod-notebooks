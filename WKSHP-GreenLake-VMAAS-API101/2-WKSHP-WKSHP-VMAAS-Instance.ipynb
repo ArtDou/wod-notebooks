{
 "cells": [
  {
   "cell_type": "markdown",
   "metadata": {},
   "source": [
    "# Provisioning\n",
    "\n",
    "## Instances\n",
    "Instances are sets of vms of various types that can be provisioned across the GreenLake for private cloud stack and a wide range of services like MySQL, Redis, ElasticSearch, PostgreSQL, Tomcat, nginx, Confluence, Jenkins, and more. There are a few important concept differentiators between what we call an instance and what amazon calls an instance. In GreenLake an instance can represent many vms that are of a set. For example. If you wanted to spin up a Mongo sharded replicaset, that requires 7 virtual machines. In GreenLake for private cloud we represent this as a singular instance with a specified layout and then represent all the associated services running within that virtual machine. The serverId represents the compute resource it was provisioned onto, (i.e. the virtual machine).\n",
    "\n",
    "Get all instances\n",
    "- GET /api/instances\n",
    "\n",
    "Get a specific instance\n",
    "- GET /api/instances/:id"
   ]
  },
  {
   "cell_type": "code",
   "execution_count": 1,
   "metadata": {},
   "outputs": [],
   "source": [
    "##Initailizing Variables here\n",
    "ACCESS_TOKEN=\"8d06730a-6478-403a-8c3e-837fd74c1b47\"\n",
    "#ACCESS_TOKEN=\"3f900cd0-d108-429a-88c3-592c713103fd\"\n",
    "\n",
    "API_URL=\"5xqm8quc36ij6dsubflp8u81r5.privatecloud.greenlake.hpe.com\""
   ]
  },
  {
   "cell_type": "code",
   "execution_count": null,
   "metadata": {},
   "outputs": [],
   "source": [
    "curl \"$API_URL/api/instances\" \\\n",
    "-H \"Authorization: BEARER $ACCESS_TOKEN\" |jq -r"
   ]
  },
  {
   "cell_type": "markdown",
   "metadata": {},
   "source": [
    "## Create now your first instance!\n",
    "\n",
    "You will deploy here a centos 7 VM named after your vm-studentname + date (\"name\": \"vm-student{{ STDID }}-$(date)\",)\n",
    "\n",
    "### Creating an instance\n",
    "- POST /api/instances\n",
    "\n",
    "Payload:\n",
    "{\n",
    "  \"zoneId\": \"{{cloudId}}\",\n",
    "  \"instance\": {\n",
    "    \"name\": \"vm-student{{ STDID }}-$(date)\",\n",
    "    \"cloud\": \"{{cloudName}}\",\n",
    "    \"site\": {\n",
    "      \"id\": \"{{groupId}}\"\n",
    "    },\n",
    "    \"type\": \"{{instanceTypeCode}}\",\n",
    "    \"instanceType\": {\n",
    "      \"code\": \"{{instanceTypeCode}}\"\n",
    "    },\n",
    "    \"layout\": {\n",
    "      \"id\": \"{{layoutId}}\"\n",
    "    },\n",
    "    \"plan\": {\n",
    "      \"id\": \"{{planId}}\"\n",
    "    }\n",
    "  },\n",
    "  \"config\": {\n",
    "    \"resourcePoolId\": \"{{resourcePoolId}}\",\n",
    "    \"noAgent\": \"off\"\n",
    "  },\n",
    "  \"volumes\": [\n",
    "    {\n",
    "      \"id\": -1,\n",
    "      \"rootVolume\": true,\n",
    "      \"name\": \"root\",\n",
    "      \"size\": 10,\n",
    "      \"sizeId\": null,\n",
    "      \"storageType\": \"{{STANDARD_STORAGE_TYPE_ID}}\",\n",
    "      \"datastoreId\": \"{{datastoreId}}\"\n",
    "    }\n",
    "  ],\n",
    "  \"networkInterfaces\": [\n",
    "    {\n",
    "      \"network\": {\n",
    "        \"id\": \"{{networkId}}\"\n",
    "      },\n",
    "      \"networkInterfaceTypeId\": \"{{NETWORK_INTERFACE_VMXNET3_ID}}\"\n",
    "    }\n",
    "  ]\n",
    "}"
   ]
  },
  {
   "cell_type": "code",
   "execution_count": null,
   "metadata": {},
   "outputs": [],
   "source": [
    "curl POST \"$API_URL/api/instances\" \\\n",
    "-H \"Authorization: BEARER $ACCESS_TOKEN\" |jq -r"
   ]
  },
  {
   "cell_type": "markdown",
   "metadata": {},
   "source": [
    "Once created and as for any Virtual machine, many operations are available to you:\n",
    "- Update\n",
    "- Stop\n",
    "- Start\n",
    "- Restart\n",
    "- Delete\n",
    "- Backup\n",
    "- Clone\n",
    "- Resize\n",
    "\n",
    "let's see these in details now."
   ]
  },
  {
   "cell_type": "markdown",
   "metadata": {},
   "source": [
    "### Updating an instance\n",
    "\n",
    "- PUT /api/instances/:id\n",
    "\n",
    "**Note: Site is alias of Group**\n",
    "\n",
    "- --name VALUE Name\n",
    "- --description VALUE Description\n",
    "- --environment VALUE Environment\n",
    "- --group GROUP Group Name or ID\n",
    "- --labels [LIST] Labels (keywords) in the format 'foo, bar'\n",
    "- --tags LIST Tags in the format 'name:value, name:value'. This will add and remove tags.\n",
    "- --add-tags TAGS Add Tags in the format 'name:value, name:value'. This will only add/update tags.\n",
    "- --remove-tags TAGS Remove Tags in the format 'name, name:value'. This removes tags, the :value component is optional and must match if passed.\n",
    "- --power-schedule-type ID Power Schedule Type ID\n",
    "- --owner USER Owner Username or ID\n",
    "\n"
   ]
  },
  {
   "cell_type": "code",
   "execution_count": null,
   "metadata": {},
   "outputs": [],
   "source": [
    "curl PUT \"$API_URL/api/instances\" \\\n",
    "-H \"Authorization: BEARER $ACCESS_TOKEN\" |jq -r"
   ]
  },
  {
   "cell_type": "markdown",
   "metadata": {},
   "source": [
    "### Stop an instance\n",
    "\n",
    "- PUT /api/instances/:id/stop?server=true&muteMonitoring=false\n",
    "\n",
    "- --mute-monitoring [on|off] Mute monitoring. Default is off.\n",
    "- -y, --yes Auto Confirm\n",
    "- -q, --quiet No Output, do not print to stdout"
   ]
  },
  {
   "cell_type": "code",
   "execution_count": null,
   "metadata": {},
   "outputs": [],
   "source": [
    "curl PUT \"$API_URL/api/instances/:id/stop?server=true&muteMonitoring=false\" \\\n",
    "-H \"Authorization: BEARER $ACCESS_TOKEN\" |jq -r"
   ]
  },
  {
   "cell_type": "markdown",
   "metadata": {},
   "source": [
    "### Start an instance\n",
    "\n",
    "- PUT /api/instances/:id/start?server=true\n",
    "\n",
    "- -y, --yes Auto Confirm\n",
    "- -q, --quiet No Output, do not print to stdout"
   ]
  },
  {
   "cell_type": "code",
   "execution_count": null,
   "metadata": {},
   "outputs": [],
   "source": [
    "curl PUT \"$API_URL/api/instances/:id/start?server=true&muteMonitoring=true\" \\\n",
    "-H \"Authorization: BEARER $ACCESS_TOKEN\" |jq -r"
   ]
  },
  {
   "cell_type": "markdown",
   "metadata": {},
   "source": [
    "### Restart an instance\n",
    "\n",
    "- PUT /api/instances/:id/restart?server=true&muteMonitoring=true\n",
    "\n",
    "- --mute-monitoring [on|off] Mute monitoring. Default is on.\n",
    "- -y, --yes Auto Confirm\n",
    "- -q, --quiet No Output, do not print to stdout"
   ]
  },
  {
   "cell_type": "code",
   "execution_count": null,
   "metadata": {},
   "outputs": [],
   "source": [
    "curl PUT \"$API_URL/api/instances/:id/restart?server=true&muteMonitoring=true\" \\\n",
    "-H \"Authorization: BEARER $ACCESS_TOKEN\" |jq -r"
   ]
  },
  {
   "cell_type": "markdown",
   "metadata": {},
   "source": [
    "### Backup an instance\n",
    "\n",
    "- PUT /api/instances/:id/backup\n",
    "\n",
    "- -y, --yes Auto Confirm"
   ]
  },
  {
   "cell_type": "code",
   "execution_count": null,
   "metadata": {},
   "outputs": [],
   "source": [
    "curl PUT \"$API_URL/api/instances/:id/backup\" \\\n",
    "-H \"Authorization: BEARER $ACCESS_TOKEN\" |jq -r"
   ]
  },
  {
   "cell_type": "markdown",
   "metadata": {},
   "source": [
    "### Clone an instance\n",
    "\n",
    "- PUT /api/instances/:id/clone\n"
   ]
  },
  {
   "cell_type": "code",
   "execution_count": null,
   "metadata": {},
   "outputs": [],
   "source": [
    "curl PUT \"$API_URL/api/instances/:id/clone\" \\\n",
    "-H \"Authorization: BEARER $ACCESS_TOKEN\" |jq -r"
   ]
  },
  {
   "cell_type": "markdown",
   "metadata": {},
   "source": [
    "### Resize an instance\n",
    "\n",
    "- PUT /api/instances/:id/resize\n",
    "\n",
    "Payload:\n",
    "\n",
    "{\n",
    "  \"instance\": {\n",
    "    \"id\": 482,\n",
    "    \"plan\": {\n",
    "      \"id\": 419\n",
    "    }\n",
    "  },\n",
    "  \"volumes\": [\n",
    "    {\n",
    "      \"id\": 643,\n",
    "      \"rootVolume\": true,\n",
    "      \"name\": \"Hard disk 1\",\n",
    "      \"size\": 10,\n",
    "      \"sizeId\": null,\n",
    "      \"storageType\": 1,\n",
    "      \"datastoreId\": \"auto\"\n",
    "    }\n",
    "  ],\n",
    "  \"deleteOriginalVolumes\": true\n",
    "}"
   ]
  },
  {
   "cell_type": "code",
   "execution_count": null,
   "metadata": {},
   "outputs": [],
   "source": []
  },
  {
   "cell_type": "markdown",
   "metadata": {},
   "source": [
    "let'see where we are now:\n",
    "list all that we created so far."
   ]
  },
  {
   "cell_type": "code",
   "execution_count": null,
   "metadata": {},
   "outputs": [],
   "source": [
    "curl \"$API_URL/api/instances\" \\\n",
    "-H \"Authorization: BEARER $ACCESS_TOKEN\" |jq -r"
   ]
  },
  {
   "cell_type": "markdown",
   "metadata": {},
   "source": [
    "### Delete an instance\n",
    "\n",
    "- DELETE /api/instances/:id"
   ]
  },
  {
   "cell_type": "markdown",
   "metadata": {},
   "source": [
    "What about accessing the vm now ? through ssh on port 10031  {{ SSHPORTID }} variable\n",
    "\n",
    "Let's get the details for our centos instance. An IP address might help to connect. Some crededntials too."
   ]
  },
  {
   "cell_type": "code",
   "execution_count": null,
   "metadata": {},
   "outputs": [],
   "source": [
    "ip='curl \"$API_URL/api/instances/:id\" \\\n",
    "-H \"Authorization: BEARER $ACCESS_TOKEN\"' |jq -r\n",
    "\n",
    "ssh $ip -u student{{ STDID}} -p stuDISCO2021"
   ]
  },
  {
   "cell_type": "markdown",
   "metadata": {},
   "source": [
    "<br><br>\n",
    "\n",
    "## <i class=\"fas fa-2x fa-map-marker-alt\" style=\"color:#008000;\"></i>&nbsp;&nbsp;Next Steps\n",
    "\n",
    "Lab 3: Tasks"
   ]
  },
  {
   "cell_type": "markdown",
   "metadata": {},
   "source": [
    "</br>\n",
    " <a href=\"1-WKSHP-VMAAS-Authentification.ipynb\" target=\"New\" title=\"Back: Authentification\"><button type=\"submit\"  class=\"btn btn-lg btn-block\" style=\"background-color:#008000;color:#fff;position:relative;width:10%; height: 30px;float: left;\"><b>Back</b></button></a>\n",
    " <a href=\"3-WKSHP-WKSHP-VMAAS-Tasks.ipynb#sc\" target=\"New\" title=\"Next:Tasks\"><button type=\"submit\"  class=\"btn btn-lg btn-block\" style=\"background-color:#008000;color:#fff;position:relative;width:10%; height: 30px;float: right;\"><b>Next</b></button></a>\n"
   ]
  },
  {
   "cell_type": "markdown",
   "metadata": {},
   "source": [
    "<h2>Next&nbsp;&nbsp;&nbsp;&nbsp;<a href=\"3-WKSHP-WKSHP-VMAAS-Tasks.ipynb#sc\" target=\"New\" title=\"Next: Tasks\"><i class=\"fas fa-chevron-circle-right\" style=\"color:#008000;\"></i></a></h2>"
   ]
  },
  {
   "cell_type": "code",
   "execution_count": null,
   "metadata": {},
   "outputs": [],
   "source": []
  }
 ],
 "metadata": {
  "kernelspec": {
   "display_name": "Bash",
   "language": "bash",
   "name": "bash"
  },
  "language_info": {
   "codemirror_mode": "shell",
   "file_extension": ".sh",
   "mimetype": "text/x-sh",
   "name": "bash"
  }
 },
 "nbformat": 4,
 "nbformat_minor": 4
}
