{
 "cells": [
  {
   "cell_type": "markdown",
   "metadata": {},
   "source": [
    "# Provisioning\n",
    "\n",
    "## Instances\n",
    "Instances are sets of vms of various types that can be provisioned across the GreenLake for private cloud stack and a wide range of services like MySQL, Redis, ElasticSearch, PostgreSQL, Tomcat, nginx, Confluence, Jenkins, and more. There are a few important concept differentiators between what we call an instance and what amazon calls an instance. In GreenLake an instance can represent many vms that are of a set. For example. If you wanted to spin up a Mongo sharded replicaset, that requires 7 virtual machines. In GreenLake for private cloud we represent this as a singular instance with a specified layout and then represent all the associated services running within that virtual machine. The serverId represents the compute resource it was provisioned onto, (i.e. the virtual machine).\n",
    "\n",
    "Get all instances\n",
    "- GET /api/instances\n",
    "\n",
    "Get a specific instance\n",
    "- GET /api/instances/:id"
   ]
  },
  {
   "cell_type": "markdown",
   "metadata": {},
   "source": [
    "Make sure to report your token here again in order to set the variable correctly and to execute the cell once updated."
   ]
  },
  {
   "cell_type": "code",
   "execution_count": null,
   "metadata": {},
   "outputs": [],
   "source": [
    "username=\"student{{ STDID }}\" \n",
    "\n",
    "\n",
    "##Initializing Variables here\n",
    "ACCESS_TOKEN=$(cat token.txt)\n",
    "echo \"your api token is: $ACCESS_TOKEN\"\n",
    "\n",
    "\n",
    "API_URL=\"https://client.greenlake.hpe.com/api/iac-vmaas/v1\"\n",
    "\n",
    "space=\"HPEDEV HackShack workshops\"\n",
    "location=\"HPE\"\n",
    "stdid={{ STDID }}"
   ]
  },
  {
   "cell_type": "markdown",
   "metadata": {},
   "source": [
    "Let's start by checking how many instances are running here"
   ]
  },
  {
   "cell_type": "code",
   "execution_count": null,
   "metadata": {},
   "outputs": [],
   "source": [
    "curl -i -X GET \\\n",
    "  '$API_URL/instances?space=\"$space\"&location=\"$location\"' \\\n",
    "  -H \"Authorization: $ACCESS_TOKEN\" |jq -r"
   ]
  },
  {
   "cell_type": "markdown",
   "metadata": {},
   "source": [
    "We will need the student group id as well, let 's get it as a variable now.\n"
   ]
  },
  {
   "cell_type": "code",
   "execution_count": null,
   "metadata": {},
   "outputs": [],
   "source": [
    "echo \"Getting your group Id now\"\n",
    "groupid=$(curl -s \"$API_URL/groups?space=\"$space\"&location=\"$location\"&name=student{{ STDID }}\" \\\n",
    "-H \"Authorization: $ACCESS_TOKEN\" |jq -r '.groups[].id')\n",
    "echo \"your student groupid is: $groupid\""
   ]
  },
  {
   "cell_type": "markdown",
   "metadata": {},
   "source": [
    "## Create now your first instance!\n",
    "\n",
    "You will deploy here a centos 7 VM named after your studentname (\"name\": \"api-vm-student{{ STDID }})\n",
    "\n",
    "### Creating an instance\n",
    "- POST /api/instances\n",
    "\n",
    "Payload: image  here\n"
   ]
  },
  {
   "cell_type": "code",
   "execution_count": null,
   "metadata": {},
   "outputs": [],
   "source": [
    "curl -i -X GET \\\n",
    "  '$API_UR/instances?space=\"$space\"&location=\"$location\"&max=25&offset=0&name=string&phrase=string&createdBy=string&showDeleted=false&instanceType=0&status=string&deleted=true&labels=string&tags=string' \\\n",
    "  -H \"Authorization: $ACCESS_TOKEN\"\n",
    "  \n",
    "  \n",
    "  \n",
    "curl -i -X POST \\\n",
    "  '$API_UR/instances?space=\"$space\"&location=\"$location\"' \\\n",
    "  -H \"Authorization: $ACCESS_TOKEN\" \\\n",
    "  -H 'Content-Type: application/json' \\\n",
    "  -d '{\n",
    "    \"zoneId\": 0,\n",
    "    \"instance\": {\n",
    "      \"name\": \"student{{ STDID}}-vm\",\n",
    "      \"site\": {\n",
    "        \"id\": $groupid\n",
    "      },\n",
    "      \"instanceType\": {\n",
    "        \"code\": \"vmware\"\n",
    "      },\n",
    "      \"layout\": {\n",
    "        \"id\": 0\n",
    "      },\n",
    "      \"plan\": {\n",
    "        \"id\": 0\n",
    "      },\n",
    "      \"instanceContext\": \"string\",\n",
    "      \"powerScheduleType\": 0,\n",
    "      \"shutdownDays\": 0,\n",
    "      \"expireDays\": 0,\n",
    "      \"environmentPrefix\": \"string\"\n",
    "    },\n",
    "    \"volumes\": [\n",
    "      {\n",
    "        \"id\": -1,\n",
    "        \"rootVolume\": true,\n",
    "        \"name\": \"root\",\n",
    "        \"size\": 0,\n",
    "        \"storageType\": 0,\n",
    "        \"datastoreId\": \"auto\"\n",
    "      }\n",
    "    ],\n",
    "    \"layoutSize\": 1,\n",
    "    \"networkInterfaces\": [\n",
    "      {\n",
    "        \"network\": {\n",
    "          \"id\": 0\n",
    "        },\n",
    "        \"networkInterfaceTypeId\": 0\n",
    "      }\n",
    "    ],\n",
    "    \"config\": {\n",
    "      \"template\": 0,\n",
    "      \"resourcePoolId\": \"string\",\n",
    "      \"noAgent\": false,\n",
    "      \"smbiosAssetTag\": null,\n",
    "      \"vmwareFolderId\": \"string\",\n",
    "      \"hostId\": null,\n",
    "      \"vmwareDomainName\": null,\n",
    "      \"vmwareCustomSpec\": null,\n",
    "      \"nestedVirtualization\": null,\n",
    "      \"createUser\": false,\n",
    "      \"customOptions\": {\n",
    "        \"<OptionTypeFieldNameForText/Password/Secret>\": \"string\",\n",
    "        \"<OptionTypeFieldNameForCheckBox>\": true,\n",
    "        \"<OptionTypeFieldNameForTypeAhead/SelectList>\": {\n",
    "          \"name\": \"string\",\n",
    "          \"value\": \"string\"\n",
    "        }\n",
    "      }\n",
    "    },\n",
    "    \"evars\": [\n",
    "      {\n",
    "        \"name\": \"string\",\n",
    "        \"value\": \"string\"\n",
    "      }\n",
    "    ],\n",
    "    \"tags\": [\n",
    "      {\n",
    "        \"name\": \"string\",\n",
    "        \"value\": \"string\"\n",
    "      }\n",
    "    ],\n",
    "    \"labels\": [\n",
    "      \"string\"\n",
    "    ],\n",
    "    \"workflow\": {\n",
    "      \"taskSetId\": 0\n",
    "    }\n",
    "  }'"
   ]
  },
  {
   "cell_type": "code",
   "execution_count": null,
   "metadata": {},
   "outputs": [],
   "source": [
    "curl -s -X --request POST \"$API_URL/api/instances\" \\\n",
    "-H \"Authorization: BEARER $ACCESS_TOKEN\" \\\n",
    "-H \"Content-Type: application/json\" \\\n",
    "--data-raw \"{ \"zoneId\": 1, \"instance\": { \"name\": \"vm-student{{ STDID }}-api\", \"site\": { \"id\": $groupid }, \"instanceType\": { \"code\": \"glhc-vanilla-centos\" }, \"layout\": { \"id\": 1159 }, \"plan\": { \"id\": 402 } }, \"volumes\": [ { \"name\": \"root\", \"size\": 15, \"datastoreId\": \"auto\" } ], \"networkInterfaces\": [ { \"network\": { \"id\": 7 }, \"networkInterfaceTypeId\": 4 } ], \"config\": { \"resourcePoolId\": 2 }, \"tags\": [ {\"name\": \"api-provisioned\", \"value\": \"True\"} ]  }\""
   ]
  },
  {
   "cell_type": "markdown",
   "metadata": {},
   "source": [
    "Once created and as for any Virtual machine, many operations are available to you:\n",
    "- Update\n",
    "- Stop\n",
    "- Start\n",
    "- Restart\n",
    "- Delete\n",
    "- Backup\n",
    "- Clone\n",
    "- Resize\n",
    "\n",
    "Let's see these in details now."
   ]
  },
  {
   "cell_type": "markdown",
   "metadata": {},
   "source": [
    "Let's now get the the VM id to be used later for managing it. We'll make it a variable for ease of use."
   ]
  },
  {
   "cell_type": "code",
   "execution_count": null,
   "metadata": {},
   "outputs": [],
   "source": [
    "student{{ STDID }}vmid=$(curl -s --location --request GET \"$API_URL/api/instances\" \\\n",
    "-H \"Authorization: BEARER $ACCESS_TOKEN\" |jq -r '.instances[0].id')\n",
    "\n",
    "\n",
    "echo $student{{ STDID }}vmid"
   ]
  },
  {
   "cell_type": "markdown",
   "metadata": {},
   "source": [
    "### Updating an instance\n",
    "\n",
    "- PUT /api/instances/:id\n",
    "\n",
    "**Note: Site is alias of Group**\n",
    "\n",
    "- --name VALUE Name\n",
    "- --description VALUE Description\n",
    "- --environment VALUE Environment\n",
    "- --group GROUP Group Name or ID\n",
    "- --labels [LIST] Labels (keywords) in the format 'foo, bar'\n",
    "- --tags LIST Tags in the format 'name:value, name:value'. This will add and remove tags.\n",
    "- --add-tags TAGS Add Tags in the format 'name:value, name:value'. This will only add/update tags.\n",
    "- --remove-tags TAGS Remove Tags in the format 'name, name:value'. This removes tags, the :value component is optional and must match if passed.\n",
    "- --power-schedule-type ID Power Schedule Type ID\n",
    "- --owner USER Owner Username or ID\n",
    "\n"
   ]
  },
  {
   "cell_type": "markdown",
   "metadata": {},
   "source": [
    "Here, we will simply update the description field:\n",
    "It should be set to null as we did not specify it at the instance creation time"
   ]
  },
  {
   "cell_type": "code",
   "execution_count": null,
   "metadata": {},
   "outputs": [],
   "source": [
    "curl -s --location --request GET \"$API_URL/api/instances/\" \\\n",
    "-H \"Authorization: BEARER $ACCESS_TOKEN\" | jq -r '.instances[0].description[0]'"
   ]
  },
  {
   "cell_type": "markdown",
   "metadata": {},
   "source": [
    "Let's Modify it now"
   ]
  },
  {
   "cell_type": "code",
   "execution_count": null,
   "metadata": {},
   "outputs": [],
   "source": [
    "curl -L -X PUT \"$API_URL/api/instances/$student{{ STDID }}vmid\" \\\n",
    "-H \"Authorization: Bearer $ACCESS_TOKEN \" \\\n",
    "-H 'Content-Type: application/json' \\\n",
    "--data-raw '{ \"instance\": {\n",
    "  \"description\": \"Description updated by API call by student{{ STDID}}\"\n",
    "  }}'"
   ]
  },
  {
   "cell_type": "markdown",
   "metadata": {},
   "source": [
    "### Let's check the difference now : Description field should no longer be null"
   ]
  },
  {
   "cell_type": "code",
   "execution_count": null,
   "metadata": {},
   "outputs": [],
   "source": [
    "curl -s --location --request GET \"$API_URL/api/instances/\" \\\n",
    "-H \"Authorization: BEARER $ACCESS_TOKEN\" | jq -r |grep description"
   ]
  },
  {
   "cell_type": "markdown",
   "metadata": {},
   "source": [
    "### Stop an instance\n",
    "\n",
    "- PUT /api/instances/:id/stop?server=true&muteMonitoring=false\n",
    "\n",
    "- --mute-monitoring [on|off] Mute monitoring. Default is off.\n",
    "- -y, --yes Auto Confirm\n",
    "- -q, --quiet No Output, do not print to stdout"
   ]
  },
  {
   "cell_type": "code",
   "execution_count": null,
   "metadata": {},
   "outputs": [],
   "source": [
    "curl -s --request PUT \"$API_URL/api/instances/$student{{ STDID }}vmid/stop?server=true&muteMonitoring=false\" \\\n",
    "-H \"Authorization: BEARER $ACCESS_TOKEN\" "
   ]
  },
  {
   "cell_type": "markdown",
   "metadata": {},
   "source": [
    "### Start an instance\n",
    "\n",
    "- PUT /api/instances/:id/start?server=true\n",
    "\n",
    "- -y, --yes Auto Confirm\n",
    "- -q, --quiet No Output, do not print to stdout"
   ]
  },
  {
   "cell_type": "code",
   "execution_count": null,
   "metadata": {},
   "outputs": [],
   "source": [
    "curl -s --request PUT \"$API_URL/api/instances/$student{{ STDID }}vmid/start?server=true&muteMonitoring=true\" \\\n",
    "-H \"Authorization: BEARER $ACCESS_TOKEN\""
   ]
  },
  {
   "cell_type": "markdown",
   "metadata": {},
   "source": [
    "### Restart an instance\n",
    "\n",
    "- PUT /api/instances/:id/restart?server=true&muteMonitoring=true\n",
    "\n",
    "- --mute-monitoring [on|off] Mute monitoring. Default is on.\n",
    "- -y, --yes Auto Confirm\n",
    "- -q, --quiet No Output, do not print to stdout"
   ]
  },
  {
   "cell_type": "code",
   "execution_count": null,
   "metadata": {},
   "outputs": [],
   "source": [
    "curl -s --request PUT \"$API_URL/api/instances/$student{{ STDID }}vmid/restart?server=true&muteMonitoring=true\" \\\n",
    "-H \"Authorization: BEARER $ACCESS_TOKEN\""
   ]
  },
  {
   "cell_type": "markdown",
   "metadata": {},
   "source": [
    "### Snapshot an instance   \n",
    "- PUT /api/instances/:id/snapshot\n",
    "-d '{snapshot}\n",
    "--name VALUE Name\n",
    "--description VALUE Description"
   ]
  },
  {
   "cell_type": "markdown",
   "metadata": {},
   "source": [
    "## Caution !!  The snapshot takes a few minutes to complete. Please be patient..."
   ]
  },
  {
   "cell_type": "code",
   "execution_count": null,
   "metadata": {},
   "outputs": [],
   "source": [
    "curl -s --request PUT \"$API_URL/api/instances/$student{{ STDID }}vmid/snapshot\" \\\n",
    "-H \"Authorization: BEARER $ACCESS_TOKEN\" \\\n",
    "-H \"Content-Type: application/json\" \\\n",
    "-d '{ \"snapshot\": { \"name\": \"api-vm-student{{ STDID }}-snap\", \"description\": \"A snapshot created via VMAAS API Call for student{{ STDID }} instance\" }}'"
   ]
  },
  {
   "cell_type": "markdown",
   "metadata": {},
   "source": [
    "### List now your Instance Snapshot\n",
    "- GET/api/instances/:id/snapshots\n"
   ]
  },
  {
   "cell_type": "code",
   "execution_count": null,
   "metadata": {},
   "outputs": [],
   "source": [
    "curl -s --request GET \"$API_URL/api/instances/$student{{ STDID }}vmid/snapshots\" \\\n",
    "-H \"Authorization: BEARER $ACCESS_TOKEN\" \\\n",
    "-H \"Content-Type: application/json\" \\"
   ]
  },
  {
   "cell_type": "markdown",
   "metadata": {},
   "source": [
    "### You can also clone or resize  an instance\n",
    "\n",
    "- PUT /api/instances/:id/clone\n",
    "\n",
    "- PUT /api/instances/:id/resize\n",
    "\n",
    "Payload:\n",
    "\n",
    "{\n",
    "  \"instance\": {\n",
    "    \"id\": 482,\n",
    "    \"plan\": {\n",
    "      \"id\": 419\n",
    "    }\n",
    "  },\n",
    "  \"volumes\": [\n",
    "    {\n",
    "      \"id\": 643,\n",
    "      \"rootVolume\": true,\n",
    "      \"name\": \"Hard disk 1\",\n",
    "      \"size\": 10,\n",
    "      \"sizeId\": null,\n",
    "      \"storageType\": 1,\n",
    "      \"datastoreId\": \"auto\"\n",
    "    }\n",
    "  ],\n",
    "  \"deleteOriginalVolumes\": true\n",
    "}"
   ]
  },
  {
   "cell_type": "markdown",
   "metadata": {},
   "source": [
    "### What about accessing the vm now ? \n",
    "Let's get the details for our centos instance. An IP address might help to connect. Some crededntials too."
   ]
  },
  {
   "cell_type": "code",
   "execution_count": null,
   "metadata": {},
   "outputs": [],
   "source": [
    "student{{ STDID }}vmip=$(curl -s --location --request GET \"$API_URL/api/instances/ \\\n",
    "-H \"Authorization: BEARER $ACCESS_TOKEN\" |jq -r '.instances[0].connectionInfo[0].ip')\n",
    "\n",
    "echo $student{{ STDID }}vmip"
   ]
  },
  {
   "cell_type": "markdown",
   "metadata": {},
   "source": [
    "#### Check if vm is reachable "
   ]
  },
  {
   "cell_type": "code",
   "execution_count": null,
   "metadata": {},
   "outputs": [],
   "source": [
    "ping $student{{ STDID }}vmip"
   ]
  },
  {
   "cell_type": "markdown",
   "metadata": {},
   "source": [
    "####  Connect now to the vm"
   ]
  },
  {
   "cell_type": "code",
   "execution_count": null,
   "metadata": {},
   "outputs": [],
   "source": [
    "ssh student1701@$student{{ STDID }}vmip"
   ]
  },
  {
   "cell_type": "markdown",
   "metadata": {},
   "source": [
    "## Let's do some Cleanup now\n",
    "\n",
    "use DELETE $serverUrl/api/instances/:id"
   ]
  },
  {
   "cell_type": "code",
   "execution_count": null,
   "metadata": {},
   "outputs": [],
   "source": [
    "curl -s --location --request DELETE \"$API_URL/api/instances/74\" \\\n",
    "-H \"Authorization: BEARER $ACCESS_TOKEN\""
   ]
  },
  {
   "cell_type": "markdown",
   "metadata": {},
   "source": [
    "## Summary:\n",
    "In this lab, you created your first instance leveraging the HPE GreenLake VMAAS API. You also managed to stop, start, restart this instance. You also created your first snapshot before accessing the vm."
   ]
  },
  {
   "cell_type": "markdown",
   "metadata": {},
   "source": [
    "<br><br>\n",
    "\n",
    "## <i class=\"fas fa-2x fa-map-marker-alt\" style=\"color:#008000;\"></i>&nbsp;&nbsp;Next Steps\n",
    "\n",
    "Lab 3: Tasks"
   ]
  },
  {
   "cell_type": "markdown",
   "metadata": {},
   "source": [
    "</br>\n",
    " <a href=\"1-WKSHP-VMAAS-Authentification.ipynb\" target=\"New\" title=\"Back: Authentification\"><button type=\"submit\"  class=\"btn btn-lg btn-block\" style=\"background-color:#008000;color:#fff;position:relative;width:10%; height: 30px;float: left;\"><b>Back</b></button></a>\n",
    " <a href=\"3-WKSHP-WKSHP-VMAAS-Tasks.ipynb#sc\" target=\"New\" title=\"Next:Tasks\"><button type=\"submit\"  class=\"btn btn-lg btn-block\" style=\"background-color:#008000;color:#fff;position:relative;width:10%; height: 30px;float: right;\"><b>Next</b></button></a>\n"
   ]
  },
  {
   "cell_type": "markdown",
   "metadata": {},
   "source": [
    "<h2>Next&nbsp;&nbsp;&nbsp;&nbsp;<a href=\"3-WKSHP-WKSHP-VMAAS-Tasks.ipynb#sc\" target=\"New\" title=\"Next: Tasks\"><i class=\"fas fa-chevron-circle-right\" style=\"color:#008000;\"></i></a></h2>"
   ]
  },
  {
   "cell_type": "code",
   "execution_count": null,
   "metadata": {},
   "outputs": [],
   "source": []
  }
 ],
 "metadata": {
  "kernelspec": {
   "display_name": "Bash",
   "language": "bash",
   "name": "bash"
  },
  "language_info": {
   "codemirror_mode": "shell",
   "file_extension": ".sh",
   "mimetype": "text/x-sh",
   "name": "bash"
  }
 },
 "nbformat": 4,
 "nbformat_minor": 4
}
