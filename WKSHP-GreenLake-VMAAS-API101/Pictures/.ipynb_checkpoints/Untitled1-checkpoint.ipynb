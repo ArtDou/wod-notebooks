{
 "cells": [
  {
   "cell_type": "code",
   "execution_count": null,
   "metadata": {},
   "outputs": [],
   "source": [
    "##Initailizing Variables here\n",
    "ACCESS_TOKEN=\"b427b4e0-84b2-4a98-a299-bec5d0620fd3\"\n",
    "#ACCESS_TOKEN=\"your token here\"\n",
    "\n",
    "API_URL=\"5xqm8quc36ij6dsubflp8u81r5.privatecloud.greenlake.hpe.com\"\n"
   ]
  },
  {
   "cell_type": "code",
   "execution_count": null,
   "metadata": {},
   "outputs": [],
   "source": [
    "### Create group for each student.\n",
    "for i in student{1704..1706}; do \n",
    "curl -L -X POST \"$API_URL/api/groups\" \\\n",
    "  -H \"Authorization: BEARER $ACCESS_TOKEN\" \\\n",
    "  -H \"Content-Type: application/json\" \\\n",
    "  --data-raw '{\"group\":{\n",
    "    \"name\": \"$(i)\",\n",
    "    \"description\": \"$(i)\"\n",
    "  }}';\n",
    "  done"
   ]
  },
  {
   "cell_type": "code",
   "execution_count": null,
   "metadata": {},
   "outputs": [],
   "source": []
  },
  {
   "cell_type": "code",
   "execution_count": null,
   "metadata": {},
   "outputs": [],
   "source": [
    "8805071e-b06d-496b-bece-0781b83c86b1"
   ]
  }
 ],
 "metadata": {
  "kernelspec": {
   "display_name": "Bash",
   "language": "bash",
   "name": "bash"
  },
  "language_info": {
   "codemirror_mode": "shell",
   "file_extension": ".sh",
   "mimetype": "text/x-sh",
   "name": "bash"
  }
 },
 "nbformat": 4,
 "nbformat_minor": 4
}
