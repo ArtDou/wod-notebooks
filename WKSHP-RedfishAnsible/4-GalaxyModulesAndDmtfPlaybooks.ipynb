{
 "cells": [
  {
   "cell_type": "markdown",
   "metadata": {},
   "source": [
    "# Ansible Galaxy Redfish collections"
   ]
  },
  {
   "cell_type": "markdown",
   "metadata": {},
   "source": [
    "Version 0.119"
   ]
  },
  {
   "cell_type": "markdown",
   "metadata": {},
   "source": [
    "## Introduction\n",
    "\n",
    "The Ansible Galaxy [community.general collection](https://galaxy.ansible.com/community/general) proposes three Redfish modules:\n",
    "  \n",
    "  * [Redfish info](https://docs.ansible.com/ansible/latest/collections/community/general/redfish_info_module.html) - Retrieves information like systems and sccounts inventories. The exhaustive list of possible commands is in the `CATEGORY_COMMANDS_ALL` array in the [module sources](https://github.com/ansible-collections/community.general/blob/main/plugins/modules/remote_management/redfish/redfish_info.py). \n",
    "  * [Redfish command](https://docs.ansible.com/ansible/latest/collections/community/general/redfish_command_module.html) - Performs `set` operations on log management, user management, and power operations (e.g. on, off, reboot, etc.). The exhaustive list of possible commands is in the `CATEGORY_COMMANDS_ALL` array in the [module sources](https://github.com/ansible-collections/community.general/blob/main/plugins/modules/remote_management/redfish/redfish_command.py) \n",
    "  * [Redfish config](https://docs.ansible.com/ansible/latest/collections/community/general/redfish_config_module.html) - Performs configuration operations on BIOS and other subsystems. The exhaustive list of possible commands is in the `CATEGORY_COMMANDS_ALL` array in the [module sources](https://github.com/ansible-collections/community.general/blob/main/plugins/modules/remote_management/redfish/redfish_config.py) \n",
    "  \n",
    "The above Ansible Redfish modules, are based upon the [redfish_utils.py](https://github.com/ansible-collections/community.general/blob/main/plugins/module_utils/redfish_utils.py) python utility module.\n",
    "\n",
    "\n",
    "Redfish Ansible Playbook examples using the above modules are present in the [DMTF Redfish-Ansible-Playbooks](https://github.com/DMTF/Redfish-Ansible-Playbooks) public GitHub repository.\n",
    "\n",
    "> **Note**: The Ansible Galaxy Redfish modules can be extended using the [DMTF](https://github.com/DMTF/Redfish-Ansible-Playbooks/blob/master/OEM_EXTENSIONS.md) Oem extensions instructions. This part is not covered in this workshop.\n"
   ]
  },
  {
   "cell_type": "markdown",
   "metadata": {},
   "source": [
    "## <a id = \"EnvironmentPreparation\">Environment preparation</a>\n",
    "\n",
    "The following cell sets environment variables and checks the connectivity toward the various BMCs used in this notebook."
   ]
  },
  {
   "cell_type": "code",
   "execution_count": null,
   "metadata": {},
   "outputs": [],
   "source": [
    "########## Environment preparation (Version: 0.132) ############\n",
    "\n",
    "# Set Student ID number\n",
    "stdid={{ STDID }}\n",
    "Id=$(id --user --name)\n",
    "NbId=4\n",
    "InvFile=${NbId}/hosts\n",
    "\n",
    "# location and ports variables\n",
    "IloSyBasePort={{ ILOSYBASEPORT }}\n",
    "let iLO5SimulatorBasePort=$IloSyBasePort\n",
    "let iLO5SimulatorPort=${iLO5SimulatorBasePort}+${stdid}\n",
    "\n",
    "iLO5SimulatorIP=ilo5simulators\n",
    "iLOSimulator=${iLO5SimulatorIP}:${iLO5SimulatorPort}\n",
    "iLO5SimulatorURI=https://${iLOSimulator}\n",
    "\n",
    "# Fake Credentials as we are testing against a BMC simulator\n",
    "OvSsoToken=\"FakeOvSsoToken\"\n",
    "\n",
    "# Miscellaneous\n",
    "WorkshopDir=$PWD\n",
    "HpePythonRedfishVenv=\"${NbId}/HpePythonRedfishVenv\"\n",
    "export PYTHONPATH=\"${WorkshopDir}/${NbId}/library/\"\n",
    "w=$(basename $PWD)\n",
    "\n",
    "alias ResetSimulators=\"../create-globalbmc.shc.x &>/dev/null; sleep 1\"\n",
    "\n",
    "# Verify we can reach the remote Bmcs on the right HTTPS ports. \n",
    "for bmc in iLO5Simulator ; do\n",
    "    ip=\"${bmc}IP\" ; port=$(echo ${bmc}Port)\n",
    "    nc -vz  $(eval echo \"\\$${ip}\") $(eval echo \"\\$${port}\") &>/dev/null && \n",
    "        echo -e \"\\n\\tGood News: $bmc is reachable\" \\\n",
    "        || echo \"WARNING: Problem reaching $bmc\"\n",
    "done\n",
    "\n",
    "\n",
    "# Create the Ansible inventory file\n",
    "cat > ${InvFile} << __EOF__\n",
    "[OneViewManagedBmcs]\n",
    "${iLO5SimulatorIP} ansible_port=${iLO5SimulatorPort}\n",
    "\n",
    "[OneViewManagedBmcs:vars]\n",
    "ansible_python_interpreter=${WorkshopDir}/${HpePythonRedfishVenv}/bin/python3\n",
    "ansible_search_path=${HpePythonRedfishVenv}\n",
    "\n",
    "# Below is a fake session token as we are testing against an iLO 5 simulator.\n",
    "# In real life, you should populate this variable with the token obtained\n",
    "# lab 1 of this workshop.\n",
    "token=\"${OvSsoToken}\"\n",
    "__EOF__\n"
   ]
  },
  {
   "cell_type": "markdown",
   "metadata": {},
   "source": [
    "## Virtual Python environment creation\n",
    "\n",
    "In order to completely isolate this notebook environment from other notebooks or student python environments, it is safer to create your dedicated Python virtual environment.\n",
    "\n",
    "> NOTE: This `Venv` creation can take up to **2 minutes**. Just wait until message `Finished creating Venv` is diplayed\n",
    "\n"
   ]
  },
  {
   "cell_type": "code",
   "execution_count": null,
   "metadata": {},
   "outputs": [],
   "source": [
    "# Create Virtual Python environment (Venv)\n",
    "[ -d ${HpePythonRedfishVenv} ] && rm -r ${HpePythonRedfishVenv} &>/dev/null \n",
    "python3 -m venv ${HpePythonRedfishVenv}                         &>/dev/null\n",
    "source ${HpePythonRedfishVenv}/bin/activate                     &>/dev/null\n",
    "PS1=\"[PEXP\\[\\]ECT_PROMPT>\"                                      # Avoid Venv long prompt messing up outputs\n",
    "\n",
    "# Install latest Ansible in the Venv\n",
    "pip install jmespath                                            &>/dev/null\n",
    "pip install ansible                                             &>/dev/null\n",
    "\n",
    "echo -e \"\\n\\n\\tFinished creating Venv\\n\\n\""
   ]
  },
  {
   "cell_type": "markdown",
   "metadata": {},
   "source": [
    "### <a id = \"iLO5SimulatorRestart\">Restart iLO 5 simulator</a>\n",
    "\n",
    "If you need or desire to restart your iLO 5 simulator to restart this workshop from scratch or for other reasons, run the following cell at any time."
   ]
  },
  {
   "cell_type": "code",
   "execution_count": null,
   "metadata": {},
   "outputs": [],
   "source": [
    "# iLO 5 Simulator restart\n",
    "ResetSimulators \n",
    "\n",
    "# Verify we can reach the remote Bmcs on the right HTTPS ports. \n",
    "for bmc in iLO5Simulator ; do\n",
    "    ip=\"${bmc}IP\" ; port=$(echo ${bmc}Port)\n",
    "    nc -vz  $(eval echo \"\\$${ip}\") $(eval echo \"\\$${port}\") &> /dev/null && \n",
    "        echo \"$bmc is reachable\" \\\n",
    "        || echo \"WARNING: Problem reaching $bmc\"\n",
    "done"
   ]
  },
  {
   "cell_type": "markdown",
   "metadata": {},
   "source": [
    "## Get and set Redfish properties using Ansible Galaxy collections\n",
    "\n",
    "This third way of using Ansible for Redfish tasks uses the `redfish_info` and `redfish_command` collections to get and set the Indicator LED of a Synergy compute node.\n",
    "\n",
    "Although the Redfish Ansible collections presented here are very handy in RedHat Tower and AWX environments, they don't offer (as of the writing of this notebook) the possibility to use session based authentication (i.e. OneView Token). \n",
    "\n",
    "Despite this limitation, it is importand to know the existence of those collection and to know that they can be extended using the  [DMTF instructions](https://github.com/DMTF/Redfish-Ansible-Playbooks/blob/master/OEM_EXTENSIONS.md).\n"
   ]
  },
  {
   "cell_type": "markdown",
   "metadata": {},
   "source": [
    "### Indicator LED \n",
    "\n",
    "The next cell launches an Ansible Playbook which has the same three sections as the previous plabooks:\n",
    "  * Get status of indicator LEDs \n",
    "  * Modify indicator LED(s) status\n",
    "  * Verify that the action was successul.\n",
    "\n",
    "\n",
    "TBD"
   ]
  },
  {
   "cell_type": "code",
   "execution_count": null,
   "metadata": {},
   "outputs": [],
   "source": [
    "# Set Indicator LED\n",
    "ansible-playbook -i ${InvFile} ${NbId}/SetIndicatorLEDUsingGalaxy.yml"
   ]
  },
  {
   "cell_type": "markdown",
   "metadata": {},
   "source": [
    "# ****  NEED To Decide wether the following is relevant in this workshop ****\n",
    "\n",
    "**Pro**: TBD\n",
    "**Cons**: TBD\n"
   ]
  },
  {
   "cell_type": "markdown",
   "metadata": {},
   "source": [
    "## Redfish info example: category Manager"
   ]
  },
  {
   "cell_type": "code",
   "execution_count": null,
   "metadata": {},
   "outputs": [],
   "source": [
    "# Get Virtual Media information\n",
    "ansible-playbook -i ${InvFile} ${NbId}/GetVirtualMediaInfo.yml"
   ]
  },
  {
   "cell_type": "markdown",
   "metadata": {},
   "source": [
    "## Insert Virtual Media"
   ]
  },
  {
   "cell_type": "code",
   "execution_count": null,
   "metadata": {},
   "outputs": [],
   "source": [
    "ansible-playbook -i ${InvFile} ${NbId}/InsertVirtualMedia.yml"
   ]
  },
  {
   "cell_type": "markdown",
   "metadata": {},
   "source": [
    "# ****  END of NEED To Decide wether the following is relevant in this workshop ****"
   ]
  },
  {
   "cell_type": "markdown",
   "metadata": {},
   "source": [
    "## Summary\n",
    "\n",
    "In this workshop, you TBD Go to the [Conclusion Notebook](5-Conclusion.ipynb) if you are finished."
   ]
  }
 ],
 "metadata": {
  "kernelspec": {
   "display_name": "Bash",
   "language": "bash",
   "name": "bash"
  },
  "language_info": {
   "codemirror_mode": "shell",
   "file_extension": ".sh",
   "mimetype": "text/x-sh",
   "name": "bash"
  }
 },
 "nbformat": 4,
 "nbformat_minor": 4
}
