{
 "cells": [
  {
   "cell_type": "markdown",
   "metadata": {},
   "source": [
    "# Ansible Galaxy Redfish collections"
   ]
  },
  {
   "cell_type": "markdown",
   "metadata": {},
   "source": [
    "Version 0.112"
   ]
  },
  {
   "cell_type": "markdown",
   "metadata": {},
   "source": [
    "## Introduction\n",
    "\n",
    "The Ansible [Galaxy community.general collection](https://galaxy.ansible.com/community/general) proposes three Redfish modules:\n",
    "  \n",
    "  * [Redfish info](https://docs.ansible.com/ansible/latest/collections/community/general/redfish_info_module.html) - Retrieves information like Systems inventory and Accounts inventory. The exhaustive list of possible commands is in the `CATEGORY_COMMANDS_ALL` array in the [module sources](https://github.com/ansible-collections/community.general/blob/main/plugins/modules/remote_management/redfish/redfish_info.py). \n",
    "  * [Redfish command](https://docs.ansible.com/ansible/latest/collections/community/general/redfish_command_module.html) - Performs `set` operations like log management, user management, and power operations (e.g. on, off, reboot, etc.) on the remote BMC. The exhaustive list of possible commands is in the `CATEGORY_COMMANDS_ALL` array in the [module sources](https://github.com/ansible-collections/community.general/blob/main/plugins/modules/remote_management/redfish/redfish_command.py) \n",
    "  * [Redfish config](https://docs.ansible.com/ansible/latest/collections/community/general/redfish_config_module.html) - Performs operations like setting the BIOS configuration. The exhaustive list of possible commands is in the `CATEGORY_COMMANDS_ALL` array in the [module sources](https://github.com/ansible-collections/community.general/blob/main/plugins/modules/remote_management/redfish/redfish_config.py) \n",
    "  \n",
    "The above Ansible Redfish modules, are based upon the [redfish_utils.py](https://github.com/ansible-collections/community.general/blob/main/plugins/module_utils/redfish_utils.py) python utility module.\n",
    "\n",
    "\n",
    "Redfish Ansible playbooks using the above modules are present in the [DMTF Redfish-Ansible-Playbooks](https://github.com/DMTF/Redfish-Ansible-Playbooks) public GitHub repository.\n",
    "\n",
    "> **Note**: Redfish OEM extension operations using the Ansible Galaxy modules can be performed using the [DMTF](https://github.com/DMTF/Redfish-Ansible-Playbooks/blob/master/OEM_EXTENSIONS.md) instructions\n"
   ]
  },
  {
   "cell_type": "markdown",
   "metadata": {},
   "source": [
    "## <a id = \"EnvironmentPreparation\">Environment preparation</a>\n",
    "\n",
    "The following cell sets environment variables and checks the connectivity toward the various BMCs used in this notebook."
   ]
  },
  {
   "cell_type": "code",
   "execution_count": null,
   "metadata": {},
   "outputs": [],
   "source": [
    "########## Environment preparation (Version: 0.12) ############\n",
    "\n",
    "# Set Student ID number\n",
    "stdid={{ STDID }}\n",
    "Id=$(id --user --name)\n",
    "NbId=4\n",
    "InvFile=${NbId}/hosts\n",
    "\n",
    "# location and ports variables\n",
    "IloSyBasePort={{ ILOSYBASEPORT }}\n",
    "let iLO5SimulatorBasePort=$IloSyBasePort\n",
    "let iLO5SimulatorPort=${iLO5SimulatorBasePort}+${stdid}\n",
    "\n",
    "iLO5SimulatorIP=ilo5simulators\n",
    "iLOSimulator=${iLO5SimulatorIP}:${iLO5SimulatorPort}\n",
    "iLO5SimulatorURI=https://${iLOSimulator}\n",
    "\n",
    "# Fake Credentials as we are testing against a BMC simulator\n",
    "OvSsoToken=\"FakeOvSsoToken\"\n",
    "\n",
    "# Miscellaneous\n",
    "WorkshopDir=$PWD\n",
    "HpePythonRedfishVenv=\"4/HpePythonRedfishVenv\"\n",
    "export PYTHONPATH=\"${WorkshopDir}/4/library/\"\n",
    "w=$(basename $PWD)\n",
    "\n",
    "alias ResetSimulators=\"../create-globalbmc.shc.x &>/dev/null\"\n",
    "\n",
    "# Verify we can reach the remote Bmcs on the right HTTPS ports. \n",
    "for bmc in iLO5Simulator ; do\n",
    "    ip=\"${bmc}IP\" ; port=$(echo ${bmc}Port)\n",
    "    nc -vz  $(eval echo \"\\$${ip}\") $(eval echo \"\\$${port}\") &>/dev/null && \n",
    "        echo \"Good News: $bmc is reachable\" \\\n",
    "        || echo \"WARNING: Problem reaching $bmc\"\n",
    "done\n",
    "\n",
    "\n",
    "# Create the Ansible inventory file\n",
    "cat > ${InvFile} << __EOF__\n",
    "[OneViewManagedBmcs]\n",
    "${iLO5SimulatorIP} ansible_port={{ ILOSYBASEPORT }}\n",
    "\n",
    "[OneViewManagedBmcs:vars]\n",
    "ansible_python_interpreter=${WorkshopDir}/${HpePythonRedfishVenv}/bin/python3\n",
    "ansible_search_path=${HpePythonRedfishVenv}\n",
    "# Below is a fake session token as we are testing against an iLO 5 simulator\n",
    "token=\"${OvSsoToken}\"\n",
    "username=\"student\"\n",
    "password=\"password\"\n",
    "__EOF__\n"
   ]
  },
  {
   "cell_type": "markdown",
   "metadata": {},
   "source": [
    "## TBD\n",
    "\n"
   ]
  },
  {
   "cell_type": "code",
   "execution_count": null,
   "metadata": {},
   "outputs": [],
   "source": [
    "# Create Virtual Python environment (Venv)\n",
    "[ -d ${HpePythonRedfishVenv} ] && rm -r ${HpePythonRedfishVenv} &>/dev/null \n",
    "python3 -m venv ${HpePythonRedfishVenv}                         &>/dev/null\n",
    "source ${HpePythonRedfishVenv}/bin/activate                     &>/dev/null\n",
    "\n",
    "# Populate Python Venv with the HPE python-ilorest-library\n",
    "pip install wheel                                               &>/dev/null\n",
    "pip install python-ilorest-library                              &>/dev/null\n",
    "\n",
    "# Install latest Ansible in the Venv\n",
    "pip install ansible                                             &>/dev/null\n",
    "\n",
    "echo -e \"\\n\\n\\tFinished creating Venv\\n\\n\""
   ]
  },
  {
   "cell_type": "markdown",
   "metadata": {},
   "source": [
    "## redfish_info example"
   ]
  },
  {
   "cell_type": "code",
   "execution_count": null,
   "metadata": {},
   "outputs": [],
   "source": [
    "ansible-playbook -i ${InvFile} ${NbId}/GetChassisInventory.yml"
   ]
  },
  {
   "cell_type": "markdown",
   "metadata": {},
   "source": [
    "## Redfish_command example"
   ]
  },
  {
   "cell_type": "code",
   "execution_count": null,
   "metadata": {},
   "outputs": [],
   "source": [
    "# Set Indicator LED\n",
    "ansible-playbook -i ${InvFile} ${NbId}/SetIndicatorLED.yml"
   ]
  },
  {
   "cell_type": "markdown",
   "metadata": {},
   "source": [
    "## Redfish info example: category Manager"
   ]
  },
  {
   "cell_type": "code",
   "execution_count": null,
   "metadata": {},
   "outputs": [],
   "source": [
    "# Get Virtual Media information\n",
    "ansible-playbook -i ${InvFile} ${NbId}/GetVirtualMediaInfo.yml"
   ]
  },
  {
   "cell_type": "markdown",
   "metadata": {},
   "source": [
    "## Insert Virtual Media"
   ]
  },
  {
   "cell_type": "code",
   "execution_count": null,
   "metadata": {},
   "outputs": [],
   "source": [
    "ansible-playbook -i ${InvFile} ${NbId}/InsertVirtualMedia.yml"
   ]
  },
  {
   "cell_type": "code",
   "execution_count": null,
   "metadata": {},
   "outputs": [],
   "source": [
    "ResetSimulators"
   ]
  }
 ],
 "metadata": {
  "kernelspec": {
   "display_name": "Bash",
   "language": "bash",
   "name": "bash"
  },
  "language_info": {
   "codemirror_mode": "shell",
   "file_extension": ".sh",
   "mimetype": "text/x-sh",
   "name": "bash"
  }
 },
 "nbformat": 4,
 "nbformat_minor": 4
}
