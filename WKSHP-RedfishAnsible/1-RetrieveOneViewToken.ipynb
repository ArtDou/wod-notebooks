{
 "cells": [
  {
   "cell_type": "markdown",
   "metadata": {},
   "source": [
    "# Notebook Title TBD\n",
    "\n",
    "Version 0.00001"
   ]
  },
  {
   "cell_type": "markdown",
   "metadata": {},
   "source": [
    "## Introduction \n",
    "\n",
    "TBD"
   ]
  },
  {
   "cell_type": "markdown",
   "metadata": {},
   "source": [
    "## <a id = \"EnvironmentPreparation\">Environment preparation</a>"
   ]
  },
  {
   "cell_type": "code",
   "execution_count": null,
   "metadata": {},
   "outputs": [],
   "source": [
    "########## Environment preparation ############\n",
    "\n",
    "# Set Student ID number\n",
    "stdid={{ STDID }}\n",
    "Id=$(id --user --name)\n",
    "\n",
    "# OneView variables\n",
    "OneViewSimulator=\"STA1-HPEOneView-DCS_5.40\"\n",
    "#OVVMSIMU1: \"STA1-HPEOneView-DCS_5.40\"\n",
    "\n",
    "OneViewSimulatorIP=\"16.31.86.247\"\n",
    "#OVVMSIMU1IP: \"16.31.86.247\"\n",
    "\n",
    "OneViewSimulatorName=\"ov31\"\n",
    "#OVVMSIMU1NAME: \"ov31\"\n",
    "\n",
    "OneViewSimulatorFQDN=\"ov31.etc.fr.comm.hpecorp.net\"\n",
    "#OVVMSIMU1FQDN: \"ov31.etc.fr.comm.hpecorp.net\"\n",
    "\n"
   ]
  },
  {
   "cell_type": "code",
   "execution_count": null,
   "metadata": {},
   "outputs": [],
   "source": []
  }
 ],
 "metadata": {
  "kernelspec": {
   "display_name": "Bash",
   "language": "bash",
   "name": "bash"
  },
  "language_info": {
   "codemirror_mode": "shell",
   "file_extension": ".sh",
   "mimetype": "text/x-sh",
   "name": "bash"
  }
 },
 "nbformat": 4,
 "nbformat_minor": 4
}
