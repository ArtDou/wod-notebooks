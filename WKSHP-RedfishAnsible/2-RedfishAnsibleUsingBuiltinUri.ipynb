{
 "cells": [
  {
   "cell_type": "markdown",
   "metadata": {},
   "source": [
    "# Redfish Ansible using builtin URI method\n"
   ]
  },
  {
   "cell_type": "markdown",
   "metadata": {},
   "source": [
    "Version 0.12"
   ]
  },
  {
   "cell_type": "markdown",
   "metadata": {},
   "source": [
    "## Introduction\n",
    "\n",
    "This Jupyter Notebook uses the Ansible builtin `uri` method for getting and setting parameters via the Redfish service of an iLO 5."
   ]
  },
  {
   "cell_type": "markdown",
   "metadata": {},
   "source": [
    "## <a id = \"EnvironmentPreparation\">Environment preparation</a>\n",
    "\n",
    "The following cell sets environment variables and checks the connectivity toward the various BMCs used in this notebook."
   ]
  },
  {
   "cell_type": "code",
   "execution_count": null,
   "metadata": {},
   "outputs": [],
   "source": [
    "########## Environment preparation (Version: 0.1) ############\n",
    "\n",
    "# Set Student ID number\n",
    "stdid={{ STDID }}\n",
    "Id=$(id --user --name)\n",
    "\n",
    "# location and ports variables\n",
    "IloSyBasePort={{ ILOSYBASEPORT }}\n",
    "let iLO5SimulatorBasePort=$IloSyBasePort\n",
    "let iLO5SimulatorPort=${iLO5SimulatorBasePort}+${stdid}\n",
    "let ilo5Port=443\n",
    "\n",
    "iLO5SimulatorIP=ilo5simulators\n",
    "iLOSimulator=${iLO5SimulatorIP}:${iLO5SimulatorPort}\n",
    "iLO5SimulatorURI=https://${iLOSimulator}\n",
    "\n",
    "ilo5IP=\"iLO5SimulatorIP\"\n",
    "ilo5=\"${ilo5IP}:${ilo5Port}\"\n",
    "ilo5URI=\"https://${ilo5}\"\n",
    "\n",
    "# Credentials\n",
    "User=\"student\"\n",
    "Password='P@ssw0rd!'\n",
    "\n",
    "# Miscellaneous\n",
    "#alias ResetIlo5Simulator=\"ssh rstsimul@${iLO5SimulatorIP} $Id $iLO5SimulatorBasePort\"\n",
    "w=$(basename $PWD)\n",
    "alias ResetSimulators=\"../create-globalbmc.shc.x &>/dev/null\"\n",
    "\n",
    "# Verify we can reach the remote Bmcs on the right HTTPS ports. \n",
    "for bmc in iLO5Simulator ; do\n",
    "    ip=\"${bmc}IP\" ; port=$(echo ${bmc}Port)\n",
    "    nc -vz  $(eval echo \"\\$${ip}\") $(eval echo \"\\$${port}\") &>/dev/null && \n",
    "        echo \"$bmc is reachable\" \\\n",
    "        || echo \"WARNING: Problem reaching $bmc\"\n",
    "done\n",
    "\n",
    "\n",
    "# Create Ansible inventory file\n",
    "cat >> hosts << __EOF__\n",
    "[OneViewManagedBmcs]\n",
    "ilo5simulators ansible_port={{ ILOSYBASEPORT }}\n",
    "\n",
    "__EOF__"
   ]
  },
  {
   "cell_type": "markdown",
   "metadata": {},
   "source": [
    "### <a id = \"iLO5SimulatorRestart\">Restart iLO 5 simulator</a>\n",
    "\n",
    "If you need or desire to restart your iLO 5 simulator to restart this workshop from scratch or for other reasons, run the following cell at any time."
   ]
  },
  {
   "cell_type": "code",
   "execution_count": null,
   "metadata": {},
   "outputs": [],
   "source": [
    "# iLO 5 Simulator restart\n",
    "ResetIlo5Simulator \n",
    "\n",
    "# Verify we can reach the remote Bmcs on the right HTTPS ports. \n",
    "for bmc in ilo5 OpenBmc iLO5Simulator ; do\n",
    "    ip=\"${bmc}IP\" ; port=$(echo ${bmc}Port)\n",
    "    nc -vz  $(eval echo \"\\$${ip}\") $(eval echo \"\\$${port}\") &> /dev/null && \n",
    "        echo \"$bmc is reachable\" \\\n",
    "        || echo \"WARNING: Problem reaching $bmc\"\n",
    "done"
   ]
  },
  {
   "cell_type": "markdown",
   "metadata": {},
   "source": [
    "## Get and Set Redfish properties using Ansible built-in uri module \n",
    "\n",
    "The following cells retrieves properties from hosts listed in the [hosts](hosts) file using the [ansible.builtin.uri](https://docs.ansible.com/ansible/latest/collections/ansible/builtin/uri_module.html) module."
   ]
  },
  {
   "cell_type": "markdown",
   "metadata": {},
   "source": [
    "### GET SSD Wear status"
   ]
  },
  {
   "cell_type": "code",
   "execution_count": null,
   "metadata": {},
   "outputs": [],
   "source": [
    "ansible-playbook -i hosts 2/GetWearStatusUsingBuiltInUri.yml"
   ]
  },
  {
   "cell_type": "markdown",
   "metadata": {},
   "source": [
    "### Change IndicatorLED status\n",
    "\n",
    "TBD"
   ]
  },
  {
   "cell_type": "code",
   "execution_count": null,
   "metadata": {},
   "outputs": [],
   "source": [
    "ansible-playbook -i hosts 2/SetIndicatorLEDUsingBuilInUri.yml"
   ]
  },
  {
   "cell_type": "markdown",
   "metadata": {},
   "source": [
    "# The following cells are not part of the Ansible Redfish Notebook\n",
    "\n",
    "## Just examples from the WKSHP-iloREST workshop"
   ]
  },
  {
   "cell_type": "markdown",
   "metadata": {},
   "source": [
    "### <a id = \"IndicatorLED\">Indicator LED</a>\n",
    "\n",
    "The chassis indicator LED corresponds to the blue LED that is used to identify the chassis in a rack of the datacenter."
   ]
  },
  {
   "cell_type": "code",
   "execution_count": null,
   "metadata": {},
   "outputs": [],
   "source": [
    "# Select data type\n",
    "ilorest select Chassis\n",
    "\n",
    "# Get property value\n",
    "IndicatorLED=$(ilorest get --json IndicatorLED | jq -r '.IndicatorLED')\n",
    "echo \"IndicatorLED=$IndicatorLED\"\n",
    "\n",
    "# Retrieve property info\n",
    "ilorest info IndicatorLED"
   ]
  },
  {
   "cell_type": "code",
   "execution_count": null,
   "metadata": {},
   "outputs": [],
   "source": [
    "# Refresh cache\n",
    "ilorest select Chassis --refresh\n",
    "\n",
    "# Change the indicator LED state\n",
    "LEDState=$(ilorest get IndicatorLED | cut -d= --field=2)\n",
    "echo -e \"LED State:$LEDState\\n\"  \n",
    "\n",
    "if [ \"$LEDState\" = \"Off\" ]; then\n",
    "    LEDState=\"Lit\"\n",
    "else\n",
    "    LEDState=\"Off\"\n",
    "fi\n",
    "\n",
    "# Change property and commit\n",
    "echo \"Changing IndicatorLED to $LEDState\"\n",
    "ilorest set IndicatorLED=\"$LEDState\" --commit\n",
    "echo\n",
    "\n",
    "# Validate property change\n",
    "ilorest get IndicatorLED"
   ]
  },
  {
   "cell_type": "markdown",
   "metadata": {},
   "source": [
    "### <a id = \"ChassisAssetTag\">Chassis Asset Tag</a>\n",
    "\n",
    "The Chassis `AssetTag` is different from the `ComputerSystem` [Asset Tag](#ComputerSystemAssetTag). "
   ]
  },
  {
   "cell_type": "code",
   "execution_count": null,
   "metadata": {},
   "outputs": [],
   "source": [
    "# Select data type\n",
    "ilorest select Chassis --refresh\n",
    "\n",
    "# Get property value\n",
    "ilorest get AssetTag"
   ]
  },
  {
   "cell_type": "code",
   "execution_count": null,
   "metadata": {},
   "outputs": [],
   "source": [
    "# Change the Chassis Asset Tag property\n",
    "ilorest set AssetTag=\"New Chassis Asset Tag\" --commit\n",
    "\n",
    "# Verify change\n",
    "ilorest get AssetTag"
   ]
  },
  {
   "cell_type": "markdown",
   "metadata": {},
   "source": [
    "<-- [Back to the list of examples](#BackToList) ; [Restart iLO 5 Simulator](#iLO5SimulatorRestart) -->"
   ]
  },
  {
   "cell_type": "markdown",
   "metadata": {},
   "source": [
    "<-- [Back to the list of examples](#BackToList) ; [Restart iLO 5 Simulator](#iLO5SimulatorRestart) -->"
   ]
  },
  {
   "cell_type": "markdown",
   "metadata": {},
   "source": [
    "<-- [Back to the list of examples](#BackToList) ; [Restart iLO 5 Simulator](#iLO5SimulatorRestart) -->"
   ]
  },
  {
   "cell_type": "markdown",
   "metadata": {},
   "source": [
    "### <a id = \"ManageBiosRbsuPassword\">Bios/RBSU Login password</a>"
   ]
  },
  {
   "cell_type": "code",
   "execution_count": null,
   "metadata": {},
   "outputs": [],
   "source": [
    "# Setting a password for the first time\n",
    "ilorest setpassword FirstTimePassword '\"\"'\n",
    "\n",
    "# Removing the Bios/RBSU password\n",
    "ilorest setpassword '\"\"' FirstTimePassowrd\n",
    "\n",
    "# No commit needed. No iLO nor system reset needed. \n",
    "ilorest status\n"
   ]
  },
  {
   "cell_type": "markdown",
   "metadata": {},
   "source": [
    "<-- [Back to the list of examples](#BackToList) ; [Restart iLO 5 Simulator](#iLO5SimulatorRestart) -->"
   ]
  },
  {
   "cell_type": "markdown",
   "metadata": {},
   "source": [
    "### <a id = \"ComputerSystemAssetTag\">ComputerSystem Asset Tag</a>\n",
    "\n",
    "The `ComputerSystem` Asset Tag is different from the `Chassis` [Asset Tag](#ChassisAssetTag)."
   ]
  },
  {
   "cell_type": "code",
   "execution_count": null,
   "metadata": {},
   "outputs": [],
   "source": [
    "# Select data type and clear cache\n",
    "ilorest select ComputerSystem. --refresh\n",
    "\n",
    "# Retrieve ComputerSystem Asset Tag\n",
    "ilorest get AssetTag\n",
    "\n",
    "# Change ComputerSystem Asset Tag\n",
    "ilorest set AssetTag=\"New ComputerSystem Asset Tag\" --commit\n",
    "\n",
    "# Verify change\n",
    "ilorest get AssetTag"
   ]
  },
  {
   "cell_type": "markdown",
   "metadata": {},
   "source": [
    "<-- [Back to the list of examples](#BackToList) ; [Restart iLO 5 Simulator](#iLO5SimulatorRestart) -->"
   ]
  },
  {
   "cell_type": "markdown",
   "metadata": {},
   "source": [
    "## Security\n",
    "\n",
    "### <a id = \"SecurityDashboard\">Security Dashboard</a>\n",
    "\n",
    "The following five examples retrieve different security dashboard properties.\n",
    "\n",
    "#### Overall security dashboard status\n",
    "\n",
    "Use keyword `Security Dashboard` or `SecurityDashboard` in the [API reference document](https://hewlettpackard.github.io/ilo-rest-api-docs/ilo5/#hpeilosecuritydashboard-v1_0_0-hpeilosecuritydashboard) to find the overall security dashboard data type."
   ]
  },
  {
   "cell_type": "code",
   "execution_count": null,
   "metadata": {},
   "outputs": [],
   "source": [
    "# Select data type\n",
    "ilorest select HpeiLOSecurityDashboard.\n",
    "\n",
    "# Retrieve overall security dashboard status \n",
    "ilorest get \n"
   ]
  },
  {
   "cell_type": "markdown",
   "metadata": {},
   "source": [
    "#### All Security parameters and properties in json format\n",
    "\n",
    "Use keyword `SecurityParam` to find the corresponding data type in the [API Reference Document](https://hewlettpackard.github.io/ilo-rest-api-docs/ilo5/#hpeilosecurityparam-v1_1_0-hpeilosecurityparam)"
   ]
  },
  {
   "cell_type": "code",
   "execution_count": null,
   "metadata": {},
   "outputs": [],
   "source": [
    "# Select data type\n",
    "ilorest select HpeiLOSecurityParam.\n",
    "\n",
    "# List security params in JSON format\n",
    "ilorest list --json"
   ]
  },
  {
   "cell_type": "markdown",
   "metadata": {},
   "source": [
    "#### List all security params at risk\n",
    "\n",
    "To retrieve this list you don't need to select the data type as it is already selected."
   ]
  },
  {
   "cell_type": "code",
   "execution_count": null,
   "metadata": {},
   "outputs": [],
   "source": [
    "ilorest list --filter SecurityStatus=\"Risk\""
   ]
  },
  {
   "cell_type": "markdown",
   "metadata": {},
   "source": [
    "#### Get specific security parameter properties"
   ]
  },
  {
   "cell_type": "code",
   "execution_count": null,
   "metadata": {},
   "outputs": [],
   "source": [
    "ilorest get --filter Name=\"Require Login for iLO RBSU\""
   ]
  },
  {
   "cell_type": "markdown",
   "metadata": {},
   "source": [
    "#### Get specific property of a specific security parameter"
   ]
  },
  {
   "cell_type": "code",
   "execution_count": null,
   "metadata": {},
   "outputs": [],
   "source": [
    "ilorest get Ignore --filter Name=\"Minimum Password Length\""
   ]
  },
  {
   "cell_type": "markdown",
   "metadata": {},
   "source": [
    "<-- [Back to the list of examples](#BackToList) ; [Restart iLO 5 Simulator](#iLO5SimulatorRestart) -->"
   ]
  },
  {
   "cell_type": "markdown",
   "metadata": {},
   "source": [
    "### <a id = \"iLOSecurityMode\">Security Mode/State</a>\n",
    "\n",
    "From the iLO 5 Graphical User Interface, in the `Security` --> `Encryption` menu, you can view and modify the `SecurityState` setting. This setting is part of the `HpeSecurityService` data type as mentioned in the [API Reference Document](https://hewlettpackard.github.io/ilo-rest-api-docs/ilo5/#securitystate)\n",
    "\n",
    ">NOTE: Software like the Smart Update Tool (`SUT`) may refer to this setting as `Security Mode` instead of `Security State`. \n",
    "\n",
    "#### Retrieve and modify the iLO 5 Security State setting\n",
    "\n",
    "The following cell retrieves all the properties of the `HpeSecurityService` and modifies the `SecurityState`. A similar change on a real iLO 5 triggers **automatically a reset** of the iLO. "
   ]
  },
  {
   "cell_type": "code",
   "execution_count": null,
   "metadata": {},
   "outputs": [],
   "source": [
    "# Select data type and refresh cache\n",
    "ilorest select HpeSecurityService. --refresh\n",
    "\n",
    "# Retrieve all Security Service paramters\n",
    "ilorest get --json\n",
    "\n",
    "# Modify Security State\n",
    "SecurityState=$(ilorest get SecurityState | cut --delimiter== --field=2)\n",
    "echo \n",
    "\n",
    "if [ \"$SecurityState\" = \"Production\" ]; then\n",
    "   echo \"Setting Security State to HighSecurity\"\n",
    "   ilorest set SecurityState=\"HighSecurity\" --commit\n",
    "else\n",
    "    echo \"Setting Security State to Production\"\n",
    "    ilorest set SecurityState=\"Production\" --commit\n",
    "fi\n",
    "\n",
    "echo\n",
    "ilorest get SecurityState "
   ]
  },
  {
   "cell_type": "markdown",
   "metadata": {},
   "source": [
    "<-- [Back to the list of examples](#BackToList) ; [Restart iLO 5 Simulator](#iLO5SimulatorRestart) -->"
   ]
  },
  {
   "cell_type": "markdown",
   "metadata": {},
   "source": [
    "### <a id = \"LoginSecurityBanner\">Login Security Banner</a>\n",
    "\n",
    "From the iLO 5 Graphical User Interface, in the `Security` --> `Login Security Banner` menu, you can enable/disable and customize the `LoginSecurityBanner` setting. This setting is part of the `HpeSecurityService` data type as mentioned in the [API Reference Document](https://hewlettpackard.github.io/ilo-rest-api-docs/ilo5/#loginsecuritybanner)\n",
    "\n",
    "#### Retrieve and modify the iLO 5 Security State setting\n",
    "\n",
    "The following cell modifies the state of the Security Login Banner and provides a message when enabled. You don't need to reset the iLO 5 to effectively modify this banner."
   ]
  },
  {
   "cell_type": "code",
   "execution_count": null,
   "metadata": {},
   "outputs": [],
   "source": [
    "# Select data type and refresh cache\n",
    "ilorest select HpeSecurityService. --refresh\n",
    "\n",
    "# Retrieve Login Security Banner settings\n",
    "ilorest get LoginSecurityBanner --json\n",
    "\n",
    "# Modify Login Security Banner settings\n",
    "LoginSecurityBanner=$(ilorest get LoginSecurityBanner/IsEnabled | cut --delimiter== --field=2)\n",
    "echo \n",
    "\n",
    "if [ $LoginSecurityBanner = False ]; then\n",
    "   echo \"Enabling Login Security Banner with a custom message\"\n",
    "   ilorest set LoginSecurityBanner/IsEnabled=True --commit\n",
    "   ilorest set LoginSecurityBanner/SecurityMessage=\"This is My Custom Security Message\" --commit\n",
    "else\n",
    "    echo \"Disabling Login Security Banner\"\n",
    "    # The following set command is not required with a real iLO 5. \n",
    "    # It's only there to get a \"realistic\" behavior of the simulator.\n",
    "    ilorest set LoginSecurityBanner/SecurityMessage=\"\" --commit\n",
    "    ilorest set LoginSecurityBanner/IsEnabled=False --commit\n",
    "fi\n",
    "\n",
    "echo\n",
    "ilorest get --json LoginSecurityBanner "
   ]
  },
  {
   "cell_type": "markdown",
   "metadata": {},
   "source": [
    "<-- [Environment Preparation](#EnvironmentPreparation) ; [List of examples](#BackToList) ; [Logout](#Logout) ; [Restart iLO 5 Simulator](#iLO5SimulatorRestart) -->"
   ]
  },
  {
   "cell_type": "markdown",
   "metadata": {},
   "source": [
    "## Bios"
   ]
  },
  {
   "cell_type": "markdown",
   "metadata": {},
   "source": [
    "### <a id = \"BiosSerialNumber\">Server Serial Number stored in BIOS</a>\n",
    "\n",
    "In a computer node, the Serial Number stored in the `Bios.` data type corresponds to the server mother board serial number. HPE requires to change this serial number in case of mother board replacement to match the chassis serial number. "
   ]
  },
  {
   "cell_type": "code",
   "execution_count": null,
   "metadata": {},
   "outputs": [],
   "source": [
    "# Select data type\n",
    "ilorest select Bios. --refresh\n",
    "echo\n",
    "\n",
    "# Make sure SN is read-write\n",
    "ilorest info Attributes/SerialNumber --latestschema\n",
    "echo\n",
    "\n",
    "# Get SerialNumber from Bios data type.\n",
    "ilorest get Attributes/SerialNumber\n",
    "\n",
    "echo \"Set new SN\"\n",
    "ilorest set Attributes/SerialNumber=\"NEWSN\" --commit\n",
    "\n",
    "# Reload a fresh simulator cache\n",
    "ilorest select Bios. --refresh\n",
    "echo \n",
    "\n",
    "# Validate the SN change\n",
    "ilorest get Attributes/SerialNumber\n"
   ]
  },
  {
   "cell_type": "markdown",
   "metadata": {},
   "source": [
    "<-- [Back to the list of examples](#BackToList) ; [Restart iLO 5 Simulator](#iLO5SimulatorRestart) -->"
   ]
  },
  {
   "cell_type": "markdown",
   "metadata": {},
   "source": [
    "## Summary\n",
    "\n",
    "In this workshop, you discovered several HPE iLOrest examples. Go to the [Conclusion Notebook](3-Conclusion.ipynb) if you are finished."
   ]
  }
 ],
 "metadata": {
  "kernelspec": {
   "display_name": "Bash",
   "language": "bash",
   "name": "bash"
  },
  "language_info": {
   "codemirror_mode": "shell",
   "file_extension": ".sh",
   "mimetype": "text/x-sh",
   "name": "bash"
  }
 },
 "nbformat": 4,
 "nbformat_minor": 4
}
