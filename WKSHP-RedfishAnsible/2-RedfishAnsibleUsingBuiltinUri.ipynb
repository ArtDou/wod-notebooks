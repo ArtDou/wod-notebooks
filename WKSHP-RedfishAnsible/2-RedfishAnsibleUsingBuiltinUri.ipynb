{
 "cells": [
  {
   "cell_type": "markdown",
   "metadata": {},
   "source": [
    "# Using the Ansible builtin URI method to query a Redfish service\n"
   ]
  },
  {
   "cell_type": "markdown",
   "metadata": {},
   "source": [
    "Version 0.14"
   ]
  },
  {
   "cell_type": "markdown",
   "metadata": {},
   "source": [
    "## Introduction\n",
    "\n",
    "This Jupyter Notebook uses the Ansible builtin `uri` method for getting and setting parameters in the Redfish service of an iLO 5."
   ]
  },
  {
   "cell_type": "markdown",
   "metadata": {},
   "source": [
    "## <a id = \"EnvironmentPreparation\">Environment preparation</a>\n",
    "\n",
    "The following cell sets environment variables and checks the connectivity toward the various BMCs used in this notebook."
   ]
  },
  {
   "cell_type": "code",
   "execution_count": null,
   "metadata": {},
   "outputs": [],
   "source": [
    "########## Environment preparation (Version: 0.1) ############\n",
    "\n",
    "# Set Student ID number\n",
    "stdid={{ STDID }}\n",
    "Id=$(id --user --name)\n",
    "\n",
    "# location and ports variables\n",
    "IloSyBasePort={{ ILOSYBASEPORT }}\n",
    "let iLO5SimulatorBasePort=$IloSyBasePort\n",
    "let iLO5SimulatorPort=${iLO5SimulatorBasePort}+${stdid}\n",
    "let ilo5Port=443\n",
    "\n",
    "iLO5SimulatorIP=ilo5simulators\n",
    "iLOSimulator=${iLO5SimulatorIP}:${iLO5SimulatorPort}\n",
    "iLO5SimulatorURI=https://${iLOSimulator}\n",
    "\n",
    "ilo5IP=\"iLO5SimulatorIP\"\n",
    "ilo5=\"${ilo5IP}:${ilo5Port}\"\n",
    "ilo5URI=\"https://${ilo5}\"\n",
    "\n",
    "# Credentials\n",
    "User=\"student\"\n",
    "Password='P@ssw0rd!'\n",
    "\n",
    "# Miscellaneous\n",
    "#alias ResetIlo5Simulator=\"ssh rstsimul@${iLO5SimulatorIP} $Id $iLO5SimulatorBasePort\"\n",
    "w=$(basename $PWD)\n",
    "alias ResetSimulators=\"../create-globalbmc.shc.x &>/dev/null\"\n",
    "\n",
    "# Verify we can reach the remote Bmcs on the right HTTPS ports. \n",
    "for bmc in iLO5Simulator ; do\n",
    "    ip=\"${bmc}IP\" ; port=$(echo ${bmc}Port)\n",
    "    nc -vz  $(eval echo \"\\$${ip}\") $(eval echo \"\\$${port}\") &>/dev/null && \n",
    "        echo \"$bmc is reachable\" \\\n",
    "        || echo \"WARNING: Problem reaching $bmc\"\n",
    "done\n",
    "\n",
    "\n",
    "# Create Ansible inventory file\n",
    "cat >> hosts << __EOF__\n",
    "[OneViewManagedBmcs]\n",
    "ilo5simulators ansible_port={{ ILOSYBASEPORT }}\n",
    "\n",
    "__EOF__"
   ]
  },
  {
   "cell_type": "markdown",
   "metadata": {},
   "source": [
    "### <a id = \"iLO5SimulatorRestart\">Restart iLO 5 simulator</a>\n",
    "\n",
    "If you need or desire to restart your iLO 5 simulator to restart this workshop from scratch or for other reasons, run the following cell at any time."
   ]
  },
  {
   "cell_type": "code",
   "execution_count": null,
   "metadata": {},
   "outputs": [],
   "source": [
    "# iLO 5 Simulator restart\n",
    "ResetIlo5Simulator \n",
    "\n",
    "# Verify we can reach the remote Bmcs on the right HTTPS ports. \n",
    "for bmc in ilo5 OpenBmc iLO5Simulator ; do\n",
    "    ip=\"${bmc}IP\" ; port=$(echo ${bmc}Port)\n",
    "    nc -vz  $(eval echo \"\\$${ip}\") $(eval echo \"\\$${port}\") &> /dev/null && \n",
    "        echo \"$bmc is reachable\" \\\n",
    "        || echo \"WARNING: Problem reaching $bmc\"\n",
    "done"
   ]
  },
  {
   "cell_type": "markdown",
   "metadata": {},
   "source": [
    "## Get and Set Redfish properties using Ansible built-in uri module \n",
    "\n",
    "The following cells retrieves properties from hosts listed in the [hosts](hosts) file using the [ansible.builtin.uri](https://docs.ansible.com/ansible/latest/collections/ansible/builtin/uri_module.html) module."
   ]
  },
  {
   "cell_type": "markdown",
   "metadata": {},
   "source": [
    "### GET SSD Wear status"
   ]
  },
  {
   "cell_type": "code",
   "execution_count": null,
   "metadata": {},
   "outputs": [],
   "source": [
    "ansible-playbook -i hosts 2/GetWearStatusUsingBuiltInUri.yml"
   ]
  },
  {
   "cell_type": "markdown",
   "metadata": {},
   "source": [
    "### Change IndicatorLED status\n",
    "\n",
    "TBD"
   ]
  },
  {
   "cell_type": "code",
   "execution_count": null,
   "metadata": {},
   "outputs": [],
   "source": [
    "ansible-playbook -i hosts 2/SetIndicatorLEDUsingBuilInUri.yml"
   ]
  },
  {
   "cell_type": "markdown",
   "metadata": {},
   "source": [
    "## Summary\n",
    "\n",
    "In this workshop, you TBD Go to the [Conclusion Notebook](3-Conclusion.ipynb) if you are finished."
   ]
  }
 ],
 "metadata": {
  "kernelspec": {
   "display_name": "Bash",
   "language": "bash",
   "name": "bash"
  },
  "language_info": {
   "codemirror_mode": "shell",
   "file_extension": ".sh",
   "mimetype": "text/x-sh",
   "name": "bash"
  }
 },
 "nbformat": 4,
 "nbformat_minor": 4
}
