{
 "cells": [
  {
   "cell_type": "markdown",
   "metadata": {},
   "source": [
    "# Use of the Ansible built-in URI method to query a Redfish service"
   ]
  },
  {
   "cell_type": "markdown",
   "metadata": {},
   "source": [
    "Version 0.153"
   ]
  },
  {
   "cell_type": "markdown",
   "metadata": {},
   "source": [
    "## Introduction\n",
    "\n",
    "This Jupyter Notebook uses the Ansible built-in [`uri`](https://docs.ansible.com/ansible/latest/collections/ansible/builtin/uri_module.html) method and an authentication token for getting and setting parameters of an iLO 5  Redfish service.\n",
    "\n",
    "The use case of this Notebook is to explain how you can get and set the properties of a OneView managed compute node without any additional iLO user than the built-in `_HPOneViewAdmin` user.\n",
    "\n",
    "In addition you will learn the basic methodology to discover Redfish resources instead of assuming their final location in the Redfish tree."
   ]
  },
  {
   "cell_type": "markdown",
   "metadata": {},
   "source": [
    "## <a id = \"EnvironmentPreparation\">Environment preparation</a>\n",
    "\n",
    "The following cell sets environment variables and checks the connectivity to your Synegy iLO 5 simulator."
   ]
  },
  {
   "cell_type": "code",
   "execution_count": null,
   "metadata": {},
   "outputs": [],
   "source": [
    "########## Environment preparation (Version: 0.132) ############\n",
    "\n",
    "# Set Student ID number\n",
    "stdid={{ STDID }}\n",
    "Id=$(id --user --name)\n",
    "NbId=2\n",
    "InvFile=${NbId}/hosts\n",
    "\n",
    "# location and ports variables\n",
    "IloSyBasePort={{ ILOSYBASEPORT }}\n",
    "let iLO5SimulatorBasePort=$IloSyBasePort\n",
    "let iLO5SimulatorPort=${iLO5SimulatorBasePort}+${stdid}\n",
    "\n",
    "iLO5SimulatorIP=ilo5simulators\n",
    "iLOSimulator=${iLO5SimulatorIP}:${iLO5SimulatorPort}\n",
    "iLO5SimulatorURI=https://${iLOSimulator}\n",
    "\n",
    "# Fake Credentials as we are testing against a BMC simulator\n",
    "OvSsoToken=\"FakeOvSsoToken\"\n",
    "\n",
    "# Miscellaneous\n",
    "WorkshopDir=$PWD\n",
    "HpePythonRedfishVenv=\"${NbId}/HpePythonRedfishVenv\"\n",
    "export PYTHONPATH=\"${WorkshopDir}/${NbId}/library/\"\n",
    "w=$(basename $PWD)\n",
    "\n",
    "alias ResetSimulators=\"../create-globalbmc.shc.x &>/dev/null ; sleep 1\"\n",
    "\n",
    "# Verify we can reach the remote Bmcs on the right HTTPS ports. \n",
    "for bmc in iLO5Simulator ; do\n",
    "    ip=\"${bmc}IP\" ; port=$(echo ${bmc}Port)\n",
    "    nc -vz  $(eval echo \"\\$${ip}\") $(eval echo \"\\$${port}\") &>/dev/null && \n",
    "        echo -e \"\\n\\tGood News: $bmc is reachable\" \\\n",
    "        || echo \"WARNING: Problem reaching $bmc\"\n",
    "done\n",
    "\n",
    "\n",
    "# Create the Ansible inventory file\n",
    "cat > ${InvFile} << __EOF__\n",
    "[OneViewManagedBmcs]\n",
    "${iLO5SimulatorIP} ansible_port=${iLO5SimulatorPort}\n",
    "\n",
    "[OneViewManagedBmcs:vars]\n",
    "ansible_python_interpreter=${WorkshopDir}/${HpePythonRedfishVenv}/bin/python3\n",
    "ansible_search_path=${HpePythonRedfishVenv}\n",
    "# Below is a fake session token as we are testing against an iLO 5 simulator\n",
    "token=\"${OvSsoToken}\"\n",
    "__EOF__\n"
   ]
  },
  {
   "cell_type": "markdown",
   "metadata": {},
   "source": [
    "## Virtual Python environment creation\n",
    "\n",
    "In order to completely isolate this notebook environment from other notebooks or student python environments, it is safer to create your dedicated Python virtual environment.\n",
    "\n",
    "> NOTE: This `Venv` creation can take up to **2 minutes**. Just wait until the message `Finished creating Venv` is diplayed"
   ]
  },
  {
   "cell_type": "code",
   "execution_count": null,
   "metadata": {},
   "outputs": [],
   "source": [
    "# Create Virtual Python environment (Venv)\n",
    "[ -d ${HpePythonRedfishVenv} ] && rm -r ${HpePythonRedfishVenv} &>/dev/null \n",
    "python3 -m venv ${HpePythonRedfishVenv}                         &>/dev/null\n",
    "source ${HpePythonRedfishVenv}/bin/activate                     &>/dev/null\n",
    "export PS1=\"[PEXP\\[\\]ECT_PROMPT>\"                               # Avoid Venv long prompt messing up outputs\n",
    "\n",
    "# Install latest Ansible in the Venv\n",
    "pip install jmespath                                            &>/dev/null\n",
    "pip install ansible                                             &>/dev/null\n",
    "\n",
    "echo -e \"\\n\\n\\tFinished creating Venv\\n\\n\""
   ]
  },
  {
   "cell_type": "markdown",
   "metadata": {},
   "source": [
    "### <a id = \"iLO5SimulatorRestart\">Restart iLO 5 simulator</a>\n",
    "\n",
    "If you need or desire to restart your iLO 5 simulator to restart this workshop from scratch or for other reasons, run the following cell at any time."
   ]
  },
  {
   "cell_type": "code",
   "execution_count": null,
   "metadata": {},
   "outputs": [],
   "source": [
    "# iLO 5 Simulator restart  (Version 0.1)\n",
    "ResetSimulators \n",
    "\n",
    "# Verify we can reach the remote Bmcs on the right HTTPS ports. \n",
    "for bmc in iLO5Simulator ; do\n",
    "    ip=\"${bmc}IP\" ; port=$(echo ${bmc}Port)\n",
    "    nc -vz  $(eval echo \"\\$${ip}\") $(eval echo \"\\$${port}\") &> /dev/null && \n",
    "        echo \"$bmc is reachable\" \\\n",
    "        || echo \"WARNING: Problem reaching $bmc\"\n",
    "done"
   ]
  },
  {
   "cell_type": "markdown",
   "metadata": {},
   "source": [
    "## Get and Set Redfish properties using Ansible built-in uri module \n",
    "\n",
    "In this section you will change the status of the Unit Identification light (UID, also called `IndicatorLED` in Redfish terminology) of compute nodes in order to facilitate their location in the Datacenter before maintenance. To make this exercise more realistic, you will automatically modify the enclosure UID/LED of these compute nodes if they are part of an enclosure/frame infrastructure.\n",
    "\n",
    "The `IndicatorLED` resource location is standardized by Redfish as part of the `Chassis` data type and documented in the [HPE Redfish API reference document](https://hewlettpackard.github.io/ilo-rest-api-docs/ilo5/#indicatorled):\n",
    "\n",
    "\n",
    "![IndicatorLED Chassis property](Pictures/IndicatorLEDProperty.png)\n",
    "\n",
    "\n",
    "The `Chassis` [data type](https://hewlettpackard.github.io/ilo-rest-api-docs/ilo5/#chassis-v1_6_0-chassis), as per Redfish, is located at `/redfish/v1/Chassis`. From this entry point you will retrieve the `{item}` list of each chassis composing this data type.\n",
    "\n",
    "In a Synergy compute node, this list is composed of two chassis: a chassis called `enclosurechassis` containing the properties of the frame enclosure, and a chassis called `1` for the compute node.\n",
    "\n",
    "> **NOTE**: The chassis names are not standadized by Redfish and may change over time.\n",
    "Moreover, this naming convention, is definitively different for Moonshot, Superdome and other vendors of blade computers. Hence, if you want your script to work against other Redfish implementations than ilO based servers, you need to discover each `{item}` in the `Chassis` collection instead of assuming it.\n",
    "\n",
    "![Chassis data type location](Pictures/ChassisDataType.png)\n"
   ]
  },
  {
   "cell_type": "markdown",
   "metadata": {},
   "source": [
    "### Show, modify and verify a Redfish property using Ansible uri\n",
    "\n",
    "The following cell discovers the `Chassis` collection of the nodes listed in the [hosts](hosts) inventory file created in the first cell of this notebook. Then, it prints selected properties of each member of the collection, including the location and the value of the `IndicatorLED`. \n",
    "\n",
    "The next tasks toggle the `IndicatorLED` value (`Off` - `Lit`) and apply the modification on each item of the collection. \n",
    "\n",
    "The last part of the playbook, validates the modification by retrieving again the `IndicatorLED` propety of each item of the chassis collection.\n",
    "\n",
    "All of the above is performed using the [ansible.builtin.uri](https://docs.ansible.com/ansible/latest/collections/ansible/builtin/uri_module.html) module and a (fake) OneView SSO token obtained in the previous notebook.\n",
    "\n"
   ]
  },
  {
   "cell_type": "markdown",
   "metadata": {},
   "source": [
    "A convenient way to study the playbook of the next cell is to open it in a different view in this pane. Right click on this Notebook tab name and select `New View for Notebook` to open a new view:\n",
    "<img src=\"Pictures/2-NewViewForNotebook.png\" align=middle alt=\"New View for Notebook\" height=30px />\n",
    "\n",
    "Then, click on this [file link](2/SetIndicatorLEDUsingBuiltInUri.yml).\n",
    "\n",
    "If you need more space, type `Ctrl-B` to hide the left pane. You can have it reappear by hitting `Ctrl-B` again."
   ]
  },
  {
   "cell_type": "code",
   "execution_count": null,
   "metadata": {},
   "outputs": [],
   "source": [
    "ansible-playbook -i ${InvFile} ${NbId}/SetIndicatorLEDUsingBuiltInUri.yml"
   ]
  },
  {
   "cell_type": "markdown",
   "metadata": {},
   "source": [
    "# ****  NEED To Decide wether the following is relevant in this workshop ****\n",
    "\n",
    "**Pro**: the Security Dashboard parameters is an HPE/Oem extension. This example can show how chiant it is to crawl and discover all of them using the Ansible `uri`\n",
    "\n",
    "**Cons**: May be too long for 105 minutes ? May be too long and too chiant to develop ?\n"
   ]
  },
  {
   "cell_type": "markdown",
   "metadata": {},
   "source": [
    "\n",
    "\n",
    "## Enforce or ignore items in the security dashboard\n",
    "\n",
    "The ilO 5 security dashboard lists the security parameters at risk. Each parameter can be enforced or ignored. OneView, as of the writing of this workshop, does not offer the possibility to modify those settings. \n",
    "\n",
    "In this paragraph, you will learn how to retrieve the status of all the security dasboard parameters and then enforce one of them TBD"
   ]
  },
  {
   "cell_type": "code",
   "execution_count": null,
   "metadata": {},
   "outputs": [],
   "source": [
    "ansible-playbook -i ${NbId}/hosts ${NbId}/GetSecurityParameters.yml"
   ]
  },
  {
   "cell_type": "markdown",
   "metadata": {},
   "source": [
    "### Set ignore = False\n",
    "\n",
    "In order to tbd"
   ]
  },
  {
   "cell_type": "code",
   "execution_count": null,
   "metadata": {},
   "outputs": [],
   "source": [
    "ansible-playbook -i ${NbId}/hosts ${NbId}/SetSecurityParamUsingBuilInUri.yml"
   ]
  },
  {
   "cell_type": "code",
   "execution_count": null,
   "metadata": {},
   "outputs": [],
   "source": []
  },
  {
   "cell_type": "markdown",
   "metadata": {},
   "source": [
    "# ****  END of NEED To Decide wether the following is relevant in this workshop ****"
   ]
  },
  {
   "cell_type": "markdown",
   "metadata": {},
   "source": [
    "## Summary\n",
    "\n",
    "In this workshop, you used the Ansible build-in `uri` module to get and set Redfish properties, using a OneView Single Sign On (fake) token and without assuming their location. \n",
    "\n",
    "\n",
    "Select the next [Notebook](3-RedfishAnsibleUsingHpePlaybooks.ipynb) to perform the same exercise with the HPE provided playbooks."
   ]
  }
 ],
 "metadata": {
  "kernelspec": {
   "display_name": "Bash",
   "language": "bash",
   "name": "bash"
  },
  "language_info": {
   "codemirror_mode": "shell",
   "file_extension": ".sh",
   "mimetype": "text/x-sh",
   "name": "bash"
  }
 },
 "nbformat": 4,
 "nbformat_minor": 4
}
