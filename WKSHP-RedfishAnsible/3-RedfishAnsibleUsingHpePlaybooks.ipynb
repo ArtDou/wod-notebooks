{
 "cells": [
  {
   "cell_type": "markdown",
   "metadata": {},
   "source": [
    "# HPE Redfish Ansible playbooks"
   ]
  },
  {
   "cell_type": "markdown",
   "metadata": {},
   "source": [
    "Version 0.116"
   ]
  },
  {
   "cell_type": "markdown",
   "metadata": {},
   "source": [
    "## Introduction\n",
    "\n",
    "The HPE Ansible Redfish [Gitub repository](https://github.com/HewlettPackard/ansible-ilorest-role) proposes several types of Ansible Redfish Playbook examples.\n",
    "\n",
    "In this Jupyter Notebook, you will study the Ansible Redfish playbooks based upon the HPE Redfish Python library [examples](https://github.com/HewlettPackard/python-ilorest-library/tree/master/examples/Redfish).\n",
    "\n",
    "TBD\n",
    "\n",
    "\n"
   ]
  },
  {
   "cell_type": "markdown",
   "metadata": {},
   "source": [
    "## <a id = \"EnvironmentPreparation\">Environment preparation</a>\n",
    "\n",
    "The following cell sets environment variables and checks the connectivity toward the various BMCs used in this notebook."
   ]
  },
  {
   "cell_type": "code",
   "execution_count": null,
   "metadata": {},
   "outputs": [],
   "source": [
    "########## Environment preparation (Version: 0.13) ############\n",
    "\n",
    "# Set Student ID number\n",
    "stdid={{ STDID }}\n",
    "Id=$(id --user --name)\n",
    "NbId=3\n",
    "InvFile=${NbId}/hosts\n",
    "\n",
    "# location and ports variables\n",
    "IloSyBasePort={{ ILOSYBASEPORT }}\n",
    "let iLO5SimulatorBasePort=$IloSyBasePort\n",
    "let iLO5SimulatorPort=${iLO5SimulatorBasePort}+${stdid}\n",
    "\n",
    "iLO5SimulatorIP=ilo5simulators\n",
    "iLOSimulator=${iLO5SimulatorIP}:${iLO5SimulatorPort}\n",
    "iLO5SimulatorURI=https://${iLOSimulator}\n",
    "\n",
    "# Fake Credentials as we are testing against a BMC simulator\n",
    "OvSsoToken=\"FakeOvSsoToken\"\n",
    "\n",
    "# Miscellaneous\n",
    "WorkshopDir=$PWD\n",
    "HpePythonRedfishVenv=\"${NbId}/HpePythonRedfishVenv\"\n",
    "export PYTHONPATH=\"${WorkshopDir}/${NbId}/library/\"\n",
    "w=$(basename $PWD)\n",
    "\n",
    "alias ResetSimulators=\"../create-globalbmc.shc.x &>/dev/null\"\n",
    "\n",
    "# Verify we can reach the remote Bmcs on the right HTTPS ports. \n",
    "for bmc in iLO5Simulator ; do\n",
    "    ip=\"${bmc}IP\" ; port=$(echo ${bmc}Port)\n",
    "    nc -vz  $(eval echo \"\\$${ip}\") $(eval echo \"\\$${port}\") &>/dev/null && \n",
    "        echo \"Good News: $bmc is reachable\" \\\n",
    "        || echo \"WARNING: Problem reaching $bmc\"\n",
    "done\n",
    "\n",
    "\n",
    "# Create the Ansible inventory file\n",
    "cat > ${InvFile} << __EOF__\n",
    "[OneViewManagedBmcs]\n",
    "${iLO5SimulatorIP} ansible_port={{ ILOSYBASEPORT }}\n",
    "\n",
    "[OneViewManagedBmcs:vars]\n",
    "ansible_python_interpreter=${WorkshopDir}/${HpePythonRedfishVenv}/bin/python3\n",
    "ansible_search_path=${HpePythonRedfishVenv}\n",
    "# Below is a fake session token as we are testing against an iLO 5 simulator\n",
    "token=\"${OvSsoToken}\"\n",
    "__EOF__\n"
   ]
  },
  {
   "cell_type": "markdown",
   "metadata": {},
   "source": [
    "## TBD"
   ]
  },
  {
   "cell_type": "code",
   "execution_count": null,
   "metadata": {},
   "outputs": [],
   "source": [
    "# Create Virtual Python environment (Venv)\n",
    "[ -d ${HpePythonRedfishVenv} ] && rm -r ${HpePythonRedfishVenv} &>/dev/null \n",
    "python3 -m venv ${HpePythonRedfishVenv}                         &>/dev/null\n",
    "source ${HpePythonRedfishVenv}/bin/activate                     &>/dev/null\n",
    "\n",
    "# Populate Python Venv with the HPE python-ilorest-library\n",
    "pip install wheel                                               &>/dev/null\n",
    "pip install python-ilorest-library                              &>/dev/null\n",
    "\n",
    "# Install latest Ansible in the Venv\n",
    "pip install ansible                                             &>/dev/null\n",
    "\n",
    "echo -e \"\\n\\n\\tFinished creating Venv\\n\\n\""
   ]
  },
  {
   "cell_type": "code",
   "execution_count": null,
   "metadata": {},
   "outputs": [],
   "source": [
    "# Retrieve Indicator LED status\n",
    "python3 ${NbId}/library/get_uid_light.py"
   ]
  },
  {
   "cell_type": "code",
   "execution_count": null,
   "metadata": {},
   "outputs": [],
   "source": [
    "# Launch Ansible Playbook to toggle Indicator LED\n",
    "ansible-playbook -i ${InvFile} ${NbId}/set_uid_light.yml"
   ]
  },
  {
   "cell_type": "code",
   "execution_count": null,
   "metadata": {},
   "outputs": [],
   "source": [
    "# Retrieve Indicator LED status\n",
    "python3 ${NbId}/library/get_uid_light.py"
   ]
  },
  {
   "cell_type": "markdown",
   "metadata": {},
   "source": [
    "## Reset iLO 5 simulator"
   ]
  },
  {
   "cell_type": "code",
   "execution_count": null,
   "metadata": {},
   "outputs": [],
   "source": [
    "ResetSimulators"
   ]
  },
  {
   "cell_type": "code",
   "execution_count": null,
   "metadata": {},
   "outputs": [],
   "source": []
  }
 ],
 "metadata": {
  "kernelspec": {
   "display_name": "Bash",
   "language": "bash",
   "name": "bash"
  },
  "language_info": {
   "codemirror_mode": "shell",
   "file_extension": ".sh",
   "mimetype": "text/x-sh",
   "name": "bash"
  }
 },
 "nbformat": 4,
 "nbformat_minor": 4
}
