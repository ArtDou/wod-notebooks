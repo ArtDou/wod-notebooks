{
 "cells": [
  {
   "cell_type": "markdown",
   "metadata": {},
   "source": [
    "# HPE Redfish Ansible playbooks"
   ]
  },
  {
   "cell_type": "markdown",
   "metadata": {},
   "source": [
    "Version 0.129"
   ]
  },
  {
   "cell_type": "markdown",
   "metadata": {},
   "source": [
    "## Introduction\n",
    "\n",
    "The goal of this notebook is to present another approach for creating Redfish Ansible Playbooks compared to the approach used in the previous notebook.\n",
    "\n",
    "The HPE Ansible Redfish [Gitub repository](https://github.com/HewlettPackard/ansible-ilorest-role) proposes three sets of Ansible Redfish Playbooks examples using:\n",
    "\n",
    "  * the iLOrest command\n",
    "  * the Redfish Galaxy collection\n",
    "  * Ansible modules derived from the [examples](https://github.com/HewlettPackard/python-ilorest-library/tree/master/examples/Redfish) of the `python-ilorest-library`.\n",
    "\n",
    "In this Jupyter Notebook, you will study an [Redfish Ansible Playbook](3/set_uid_light.yml) based upon the [`set_uid_light.py`](https://github.com/HewlettPackard/python-ilorest-library/tree/master/examples/Redfish/set_uid_light.py) example of the the HPE [`python-ilorest-library`](https://github.com/HewlettPackard/python-ilorest-library/tree/master/). This python example has been modified to become an [Ansible module](https://github.com/HewlettPackard/ansible-ilorest-role/blob/master/library/set_uid_light.py). "
   ]
  },
  {
   "cell_type": "markdown",
   "metadata": {},
   "source": [
    "## <a id = \"EnvironmentPreparation\">Environment preparation</a>\n",
    "\n",
    "The following cell sets environment variables and checks the connectivity toward the various BMCs used in this notebook."
   ]
  },
  {
   "cell_type": "code",
   "execution_count": null,
   "metadata": {},
   "outputs": [],
   "source": [
    "########## Environment preparation (Version: 0.132) ############\n",
    "\n",
    "# Set Student ID number\n",
    "stdid={{ STDID }}\n",
    "Id=$(id --user --name)\n",
    "NbId=3\n",
    "InvFile=${NbId}/hosts\n",
    "\n",
    "# location and ports variables\n",
    "IloSyBasePort={{ ILOSYBASEPORT }}\n",
    "let iLO5SimulatorBasePort=$IloSyBasePort\n",
    "let iLO5SimulatorPort=${iLO5SimulatorBasePort}+${stdid}\n",
    "\n",
    "iLO5SimulatorIP=ilo5simulators\n",
    "iLOSimulator=${iLO5SimulatorIP}:${iLO5SimulatorPort}\n",
    "iLO5SimulatorURI=https://${iLOSimulator}\n",
    "\n",
    "# Fake Credentials as we are testing against a BMC simulator\n",
    "OvSsoToken=\"FakeOvSsoToken\"\n",
    "\n",
    "# Miscellaneous\n",
    "WorkshopDir=$PWD\n",
    "HpePythonRedfishVenv=\"${NbId}/HpePythonRedfishVenv\"\n",
    "export PYTHONPATH=\"${WorkshopDir}/${NbId}/library/\"\n",
    "w=$(basename $PWD)\n",
    "\n",
    "alias ResetSimulators=\"../create-globalbmc.shc.x &>/dev/null; sleep 1\"\n",
    "\n",
    "# Verify we can reach the remote Bmcs on the right HTTPS ports. \n",
    "for bmc in iLO5Simulator ; do\n",
    "    ip=\"${bmc}IP\" ; port=$(echo ${bmc}Port)\n",
    "    nc -vz  $(eval echo \"\\$${ip}\") $(eval echo \"\\$${port}\") &>/dev/null && \n",
    "        echo -e \"\\n\\tGood News: $bmc is reachable\" \\\n",
    "        || echo \"WARNING: Problem reaching $bmc\"\n",
    "done\n",
    "\n",
    "\n",
    "# Create the Ansible inventory file\n",
    "cat > ${InvFile} << __EOF__\n",
    "[OneViewManagedBmcs]\n",
    "${iLO5SimulatorIP} ansible_port=${iLO5SimulatorPort}\n",
    "\n",
    "[OneViewManagedBmcs:vars]\n",
    "ansible_python_interpreter=${WorkshopDir}/${HpePythonRedfishVenv}/bin/python3\n",
    "ansible_search_path=${HpePythonRedfishVenv}\n",
    "\n",
    "# Below is a fake session token as we are testing against an iLO 5 simulator.\n",
    "# In real life, you should populate this variable with the token obtained\n",
    "# lab 1 of this workshop.\n",
    "token=\"${OvSsoToken}\"\n",
    "__EOF__\n"
   ]
  },
  {
   "cell_type": "markdown",
   "metadata": {},
   "source": [
    "## Virtual Python environment creation\n",
    "\n",
    "In order to completely isolate this notebook environment from other notebooks or student python environments, it is safer to create your dedicated Python virtual environment.\n",
    "\n",
    "> NOTE: This `Venv` creation can take up to **2 minutes**. Just wait until message `Finished creating Venv` is diplayed"
   ]
  },
  {
   "cell_type": "code",
   "execution_count": null,
   "metadata": {},
   "outputs": [],
   "source": [
    "# Create Virtual Python environment (Venv) [Version 0.111]\n",
    "[ -d ${HpePythonRedfishVenv} ] && rm -r ${HpePythonRedfishVenv} &>/dev/null \n",
    "python3 -m venv ${HpePythonRedfishVenv}                         &>/dev/null\n",
    "source ${HpePythonRedfishVenv}/bin/activate                     &>/dev/null\n",
    "PS1=\"[PEXP\\[\\]ECT_PROMPT>\"                                      # Avoid Venv long prompt messing up outputs\n",
    "\n",
    "# Populate Python Venv with the HPE python-ilorest-library\n",
    "pip install wheel                                               &>/dev/null\n",
    "pip install python-ilorest-library                              &>/dev/null\n",
    "\n",
    "# Install latest Ansible in the Venv\n",
    "pip install jmespath                                            &>/dev/null\n",
    "pip install ansible                                             &>/dev/null\n",
    "\n",
    "echo -e \"\\n\\n\\tFinished creating Venv\\n\\n\""
   ]
  },
  {
   "cell_type": "markdown",
   "metadata": {},
   "source": [
    "### <a id = \"iLO5SimulatorRestart\">Restart iLO 5 simulator</a>\n",
    "\n",
    "If you need or desire to restart your iLO 5 simulator to restart this workshop from scratch or for other reasons, run the following cell at any time."
   ]
  },
  {
   "cell_type": "code",
   "execution_count": null,
   "metadata": {},
   "outputs": [],
   "source": [
    "# iLO 5 Simulator restart\n",
    "ResetSimulators \n",
    "\n",
    "# Verify we can reach the remote Bmcs on the right HTTPS ports. \n",
    "for bmc in iLO5Simulator ; do\n",
    "    ip=\"${bmc}IP\" ; port=$(echo ${bmc}Port)\n",
    "    nc -vz  $(eval echo \"\\$${ip}\") $(eval echo \"\\$${port}\") &> /dev/null && \n",
    "        echo \"$bmc is reachable\" \\\n",
    "        || echo \"WARNING: Problem reaching $bmc\"\n",
    "done"
   ]
  },
  {
   "cell_type": "markdown",
   "metadata": {},
   "source": [
    "## Get and set Redfish properties using HPE's python-ilorest-library\n",
    "\n",
    "In the previous notebook, to discover the `Chassis` collection and the value of the indicator LEDs, you had to crawl the Redfish tree using Ansible and its built-in `uri` module.\n",
    "\n",
    "When using a custom Ansible module derived from a `python-ilorest-library` example, the Redfish tree crawling is performed inside the Ansible module. \n",
    "\n",
    "HPE `python-ilorest-library` has been loaded in the Python Venv of the second cell of this notebook. It will allow the creation of a redfish object containing authentication token as well as GET and SET methods.\n",
    "\n",
    "You will find your custom Ansible modules and other python files in your `library` sub-folder."
   ]
  },
  {
   "cell_type": "markdown",
   "metadata": {},
   "source": [
    "### Indicator LED\n",
    "\n",
    "TBD"
   ]
  },
  {
   "cell_type": "markdown",
   "metadata": {},
   "source": [
    "A convenient way to study the playbook of the next cell is to open it in a different view in this pane. Right click on this Notebook tab name and select `New View for Notebook` to open a new view:\n",
    "<img src=\"Pictures/3-NewViewForNotebook.png\" align=middle alt=\"New View for Notebook\" height=30px />\n",
    "\n",
    "Then, click on this [file link](3/SetIndicatorLEDUsingiLOrestLibrary.yml). You can study as well the Ansible Python module [source file](3/library/set_uid_light.py).\n",
    "\n",
    "If you need more space, type `Ctrl-B` to hide the left pane. You can have it reappear by hitting `Ctrl-B` again."
   ]
  },
  {
   "cell_type": "code",
   "execution_count": null,
   "metadata": {},
   "outputs": [],
   "source": [
    "# Launch Ansible Playbook to toggle Indicator LED\n",
    "ansible-playbook -i ${InvFile} ${NbId}/SetIndicatorLEDUsingiLOrestLibrary.yml"
   ]
  },
  {
   "cell_type": "markdown",
   "metadata": {},
   "source": [
    "## Summary\n",
    "\n",
    "In this workshop, you used an Ansible module created with the HPE `python-ilorest-library` to get and set the same Redfish resources as in previous notebook. The advantage of this method is to move the complexity of the Redfish tree crawling process into a python module that can use a dedicated Redfish library for authentication and error handling.\n",
    "\n",
    "You are now ready to go through the [next Notebook](4-GalaxyModulesAndDmtfPlaybooks.ipynb)."
   ]
  }
 ],
 "metadata": {
  "kernelspec": {
   "display_name": "Bash",
   "language": "bash",
   "name": "bash"
  },
  "language_info": {
   "codemirror_mode": "shell",
   "file_extension": ".sh",
   "mimetype": "text/x-sh",
   "name": "bash"
  }
 },
 "nbformat": 4,
 "nbformat_minor": 4
}
