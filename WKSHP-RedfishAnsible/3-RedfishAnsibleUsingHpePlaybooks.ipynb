{
 "cells": [
  {
   "cell_type": "markdown",
   "metadata": {},
   "source": [
    "# HPE Redfish Ansible playbooks"
   ]
  },
  {
   "cell_type": "markdown",
   "metadata": {},
   "source": [
    "Version 0.123"
   ]
  },
  {
   "cell_type": "markdown",
   "metadata": {},
   "source": [
    "## Introduction\n",
    "\n",
    "The goal of this notebook is to present another approach for creating Redfish Ansible Playbooks compared to the approach used in the previous notebooks.\n",
    "\n",
    "The HPE Ansible Redfish [Gitub repository](https://github.com/HewlettPackard/ansible-ilorest-role) proposes three sets of Ansible Redfish Playbooks examples using:\n",
    "\n",
    "  * the iLOrest command\n",
    "  * the Redfish Galaxy collection\n",
    "  * Ansible modules derived from the [examples](https://github.com/HewlettPackard/python-ilorest-library/tree/master/examples/Redfish) of the `python-ilorest-library`.\n",
    "\n",
    "In this Jupyter Notebook, you will study an [Ansible Redfish playbook](3/set_uid_light.yml) based upon the [`set_uid_light.py`](https://github.com/HewlettPackard/python-ilorest-library/tree/master/examples/Redfish/set_uid_light.py) example of the the HPE [`python-ilorest-library`](https://github.com/HewlettPackard/python-ilorest-library/tree/master/). This python example has been modified to become an [Ansible module](https://github.com/HewlettPackard/ansible-ilorest-role/blob/master/library/set_uid_light.py). "
   ]
  },
  {
   "cell_type": "markdown",
   "metadata": {},
   "source": [
    "## <a id = \"EnvironmentPreparation\">Environment preparation</a>\n",
    "\n",
    "The following cell sets environment variables and checks the connectivity toward the various BMCs used in this notebook."
   ]
  },
  {
   "cell_type": "code",
   "execution_count": null,
   "metadata": {},
   "outputs": [],
   "source": [
    "########## Environment preparation (Version: 0.132) ############\n",
    "\n",
    "# Set Student ID number\n",
    "stdid={{ STDID }}\n",
    "Id=$(id --user --name)\n",
    "NbId=3\n",
    "InvFile=${NbId}/hosts\n",
    "\n",
    "# location and ports variables\n",
    "IloSyBasePort={{ ILOSYBASEPORT }}\n",
    "let iLO5SimulatorBasePort=$IloSyBasePort\n",
    "let iLO5SimulatorPort=${iLO5SimulatorBasePort}+${stdid}\n",
    "\n",
    "iLO5SimulatorIP=ilo5simulators\n",
    "iLOSimulator=${iLO5SimulatorIP}:${iLO5SimulatorPort}\n",
    "iLO5SimulatorURI=https://${iLOSimulator}\n",
    "\n",
    "# Fake Credentials as we are testing against a BMC simulator\n",
    "OvSsoToken=\"FakeOvSsoToken\"\n",
    "\n",
    "# Miscellaneous\n",
    "WorkshopDir=$PWD\n",
    "HpePythonRedfishVenv=\"${NbId}/HpePythonRedfishVenv\"\n",
    "export PYTHONPATH=\"${WorkshopDir}/${NbId}/library/\"\n",
    "w=$(basename $PWD)\n",
    "\n",
    "alias ResetSimulators=\"../create-globalbmc.shc.x &>/dev/null; sleep 1\"\n",
    "\n",
    "# Verify we can reach the remote Bmcs on the right HTTPS ports. \n",
    "for bmc in iLO5Simulator ; do\n",
    "    ip=\"${bmc}IP\" ; port=$(echo ${bmc}Port)\n",
    "    nc -vz  $(eval echo \"\\$${ip}\") $(eval echo \"\\$${port}\") &>/dev/null && \n",
    "        echo -e \"\\n\\tGood News: $bmc is reachable\" \\\n",
    "        || echo \"WARNING: Problem reaching $bmc\"\n",
    "done\n",
    "\n",
    "\n",
    "# Create the Ansible inventory file\n",
    "cat > ${InvFile} << __EOF__\n",
    "[OneViewManagedBmcs]\n",
    "${iLO5SimulatorIP} ansible_port=${iLO5SimulatorPort}\n",
    "\n",
    "[OneViewManagedBmcs:vars]\n",
    "ansible_python_interpreter=${WorkshopDir}/${HpePythonRedfishVenv}/bin/python3\n",
    "ansible_search_path=${HpePythonRedfishVenv}\n",
    "\n",
    "# Below is a fake session token as we are testing against an iLO 5 simulator.\n",
    "# In real life, you should populate this variable with the token obtained\n",
    "# lab 1 of this workshop.\n",
    "token=\"${OvSsoToken}\"\n",
    "__EOF__\n"
   ]
  },
  {
   "cell_type": "markdown",
   "metadata": {},
   "source": [
    "## Virtual Python environment creation\n",
    "\n",
    "In order to completely isolate this notebook environment from other notebooks or student python environments, it is safer to create your dedicated Python virtual environment.\n",
    "\n",
    "> NOTE: This `Venv` creation can take up to **2 minutes**. Just wait until message `Finished creating Venv` is diplayed"
   ]
  },
  {
   "cell_type": "code",
   "execution_count": null,
   "metadata": {},
   "outputs": [],
   "source": [
    "# Create Virtual Python environment (Venv) [Version 0.111]\n",
    "[ -d ${HpePythonRedfishVenv} ] && rm -r ${HpePythonRedfishVenv} &>/dev/null \n",
    "python3 -m venv ${HpePythonRedfishVenv}                         &>/dev/null\n",
    "source ${HpePythonRedfishVenv}/bin/activate                     &>/dev/null\n",
    "PS1=\"[PEXP\\[\\]ECT_PROMPT>\"                                      # Avoid Venv long prompt messing up outputs\n",
    "\n",
    "# Populate Python Venv with the HPE python-ilorest-library\n",
    "pip install wheel                                               &>/dev/null\n",
    "pip install python-ilorest-library                              &>/dev/null\n",
    "\n",
    "# Install latest Ansible in the Venv\n",
    "pip install jmespath                                            &>/dev/null\n",
    "pip install ansible                                             &>/dev/null\n",
    "\n",
    "echo -e \"\\n\\n\\tFinished creating Venv\\n\\n\""
   ]
  },
  {
   "cell_type": "markdown",
   "metadata": {},
   "source": [
    "### <a id = \"iLO5SimulatorRestart\">Restart iLO 5 simulator</a>\n",
    "\n",
    "If you need or desire to restart your iLO 5 simulator to restart this workshop from scratch or for other reasons, run the following cell at any time."
   ]
  },
  {
   "cell_type": "code",
   "execution_count": null,
   "metadata": {},
   "outputs": [],
   "source": [
    "# iLO 5 Simulator restart\n",
    "ResetSimulators \n",
    "\n",
    "# Verify we can reach the remote Bmcs on the right HTTPS ports. \n",
    "for bmc in iLO5Simulator ; do\n",
    "    ip=\"${bmc}IP\" ; port=$(echo ${bmc}Port)\n",
    "    nc -vz  $(eval echo \"\\$${ip}\") $(eval echo \"\\$${port}\") &> /dev/null && \n",
    "        echo \"$bmc is reachable\" \\\n",
    "        || echo \"WARNING: Problem reaching $bmc\"\n",
    "done"
   ]
  },
  {
   "cell_type": "markdown",
   "metadata": {},
   "source": [
    "## Get and set Redfish properties using HPE's python-ilorest-library\n",
    "\n",
    "In the previous notebook, to discover the `Chassis` collection and the value of the indicator LEDs, you had to crawl the Redfish tree using Ansible and its built-in `uri` module.\n",
    "\n",
    "When using a custom Ansible module derived from a `python-ilorest-library` example, the Redfish tree crawling is performed inside the Ansible module. \n",
    "\n",
    ">**NOTE**: TBD Examples are not bullet proofed, they are just a proof of concept./TBD\n",
    "\n",
    "HPE `python-ilorest-library` has been loaded in the Python Venv of the second cell of this notebook. It will allow the creation of a redfish object containing authentication token as well as GET and SET methods.\n",
    "\n",
    "You will find your custom Ansible modules and other python files in your `library` sub-folder."
   ]
  },
  {
   "cell_type": "markdown",
   "metadata": {},
   "source": [
    "### Indicator LED\n",
    "\n",
    "TBD"
   ]
  },
  {
   "cell_type": "code",
   "execution_count": null,
   "metadata": {},
   "outputs": [],
   "source": [
    "# Launch Ansible Playbook to toggle Indicator LED\n",
    "ansible-playbook -i ${InvFile} ${NbId}/SetIndicatorLEDUsingiLOrestLibrary.yml"
   ]
  },
  {
   "cell_type": "markdown",
   "metadata": {},
   "source": [
    "# ****  NEED To Decide wether the following is relevant in this workshop ****\n",
    "\n",
    "**Pro**: the Security Dashboard parameters is an HPE/Oem extension. This example can show how chiant it is to crawl and discover all of them using the Ansible `uri`\n",
    "\n",
    "**Cons**: May be too long for 105 minutes ? May be too long and too chiant to develop ?\n"
   ]
  },
  {
   "cell_type": "markdown",
   "metadata": {},
   "source": [
    "\n",
    "\n",
    "## Example 2: GET and SET another TBD parameter\n",
    "\n",
    "TBD"
   ]
  },
  {
   "cell_type": "markdown",
   "metadata": {},
   "source": [
    "### Get Security params\n",
    "\n",
    "The following cell retrieves the list of all the security parameters present in the security dashboard of the iLO 5 Graphical User Interface as shown on this picture:\n",
    "\n",
    "<img src=\"Pictures/SecurityDashboard.png\" alt=\"iLO 5 Security Dashboard\" style=\"width: 700px;\" align=middle />\n",
    "\n",
    "To retrieve this list of security parameters and their properties, the [`get_security_params.yml`](3/get_security_params.yml) file calls the [`get_security_params.py`](3/library/get_security_params.py) Ansible module. This Ansible module has the same architecture as the examples published in the [HPE Redfish/Ansible](https://github.com/HewlettPackard/ansible-ilorest-role/tree/master/library) GitHub repository.\n",
    "\n",
    ">Note: The architecture of these HPE Ansible/Redfish modules is derived from the examples published in the [python-ilorest-library](https://github.com/HewlettPackard/python-ilorest-library/tree/master/examples/Redfish) GitHub repository.\n",
    "\n",
    "? do we need more explanation of this architecture and the Resource Directory flag ?\n"
   ]
  },
  {
   "cell_type": "code",
   "execution_count": null,
   "metadata": {},
   "outputs": [],
   "source": [
    "ansible-playbook -i ${NbId}/hosts ${NbId}/get_security_params.yml"
   ]
  },
  {
   "cell_type": "markdown",
   "metadata": {},
   "source": [
    "### Modify a security parameter property\n",
    "\n",
    "In the output of the above cell, some security parameters have their `Ignore` property set to set to `False` or `True`..... TBD\n",
    "\n",
    "The following cell runs the [`set_ignore_security_param`](3/set_ignore_security_param.yml) Ansible Playbook in order to TBD"
   ]
  },
  {
   "cell_type": "code",
   "execution_count": null,
   "metadata": {},
   "outputs": [],
   "source": [
    "ansible-playbook -i ${NbId}/hosts ${NbId}/set_ignore_security_param.yml\n",
    "\n",
    "ansible-playbook -i ${NbId}/hosts ${NbId}/get_security_params.yml"
   ]
  },
  {
   "cell_type": "code",
   "execution_count": null,
   "metadata": {},
   "outputs": [],
   "source": []
  },
  {
   "cell_type": "markdown",
   "metadata": {},
   "source": [
    "# ****  END of NEED To Decide wether the following is relevant in this workshop ****"
   ]
  },
  {
   "cell_type": "markdown",
   "metadata": {},
   "source": [
    "## Summary\n",
    "\n",
    "In this workshop, you TBD Go to the [Conclusion Notebook](3-Conclusion.ipynb) if you are finished."
   ]
  }
 ],
 "metadata": {
  "kernelspec": {
   "display_name": "Bash",
   "language": "bash",
   "name": "bash"
  },
  "language_info": {
   "codemirror_mode": "shell",
   "file_extension": ".sh",
   "mimetype": "text/x-sh",
   "name": "bash"
  }
 },
 "nbformat": 4,
 "nbformat_minor": 4
}
