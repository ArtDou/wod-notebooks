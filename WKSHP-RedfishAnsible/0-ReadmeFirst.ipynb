{
 "cells": [
  {
   "cell_type": "markdown",
   "metadata": {},
   "source": [
    "![HPE DEV Logo](Pictures/hpe-dev-logo.png)\n",
    "\n",
    "Powered by [HPE DEV Team](https://hpedev.io)\n",
    "\n",
    "Version 0.11\n",
    "\n",
    "# Introduction to Redfish Ansible playbooks\n",
    "\n",
    "[<img src=\"https://redfish.dmtf.org/sites/default/files/DMTF_Redfish_logo_R.jpg\" alt=\"Redfish Logo\" style=\"width: 125px;\"/>](https://redfish.dmtf.org/)&nbsp; &nbsp; &nbsp; &nbsp; &nbsp; &nbsp; &nbsp; &nbsp; &nbsp;[<img src=\"Pictures/logo_ansible.png\" alt=\"Ansible logo\" style=\"width: 90px;\" />](https://docs.ansible.com/)\n",
    "\n",
    "## Authors: [François Donzé](francois.donze@hpe.com), [Vincent Berger](vincent.berger@hpe.com)\n",
    "\n",
    "Feel free to watch Redfish related videos on [YouTube](https://www.youtube.com/channel/UCIZhrIYcNh3wHLiY4ola5ew) and read [blogs](https://developer.hpe.com/blog)\n",
    "\n",
    "\n",
    "\n",
    "## Handouts\n",
    "You can freely copy the Jupyter Notebooks used in this workshop, including their output, in order to practice back at your office at your own pace, leveraging a local installation of Jupyter Notebook on your laptop. To download the notebooks, right click on them in the left sidebar of this Jupyter window and select `Download`.\n",
    "\n",
    "- You can download the Jupyter Notebook application from [here](https://jupyter.org/install) \n",
    "- A Beginners Guide is also available [here](https://jupyter-notebook-beginner-guide.readthedocs.io/en/latest/what_is_jupyter.html)\n"
   ]
  },
  {
   "cell_type": "markdown",
   "metadata": {},
   "source": [
    "## Workshop goals\n",
    "\n",
    "The goal of this workshop is to present an overview of the management of HPE servers, including Synergy compute nodes, using Ansible and the Redfish API.\n",
    "\n",
    "You will able to perform several exercises using a OneView Data Center Simulator (DCS) and a Synergy 480 Gen10 Redfish simulator."
   ]
  },
  {
   "cell_type": "markdown",
   "metadata": {},
   "source": [
    "## Disclaimer\n",
    "TBD ?"
   ]
  },
  {
   "cell_type": "markdown",
   "metadata": {},
   "source": [
    "## Workshop infrastructure\n",
    "\n",
    "Each student has a dedicated [Jupyter](https://jupyter.org/) environment hosted by a Linux host that provides a set of [Jupyter Notebooks](https://jupyter-notebook-beginner-guide.readthedocs.io/en/latest/what_is_jupyter.html).\n",
    "\n",
    "The Jupyter Notebooks can access a dedicated [OpenBMC](https://www.openbmc.org/)  simulator and a [DMTF Redfish server]( https://github.com/DMTF/Redfish-Mockup-Server) populated with iLO 5 data. Those simulators have `GET` and `SET` methods. You can also access a shared [HPE iLO 5](http://hpe.com/info/ilo) in `GET` mode only.\n",
    "\n",
    "![ProgrammingRedfsihInfrastructureDescription](Pictures/ProgrammingRedfishInfraDescription.png)\n"
   ]
  },
  {
   "cell_type": "markdown",
   "metadata": {},
   "source": [
    "## Workshop description\n",
    "\n",
    "The material available in this workshop consists of the following Jupyter Notebooks. Double click on them sequentially in the left sidebar before reading or exectuting their content:\n",
    "\n",
    "- Introduction (this notebook)\n",
    "- [Lab 1](1-iloRestBasics.ipynb): iLOrest overview\n",
    "- [Lab 2](2-iloRestExamples.ipynb): library of iloREST examples\n",
    "- [Conclusion](3-Conclusion.ipynb)"
   ]
  }
 ],
 "metadata": {
  "kernelspec": {
   "display_name": "Python 3",
   "language": "python",
   "name": "python3"
  },
  "language_info": {
   "codemirror_mode": {
    "name": "ipython",
    "version": 3
   },
   "file_extension": ".py",
   "mimetype": "text/x-python",
   "name": "python",
   "nbconvert_exporter": "python",
   "pygments_lexer": "ipython3",
   "version": "3.8.5"
  }
 },
 "nbformat": 4,
 "nbformat_minor": 4
}
