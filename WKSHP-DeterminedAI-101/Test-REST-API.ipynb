{
 "cells": [
  {
   "cell_type": "code",
   "execution_count": 2,
   "id": "3e1561aa-2ed1-492c-a541-c49b602029be",
   "metadata": {},
   "outputs": [
    {
     "name": "stdout",
     "output_type": "stream",
     "text": [
      "{\"token\":\"v2.public.eyJpZCI6ODksInVzZXJfaWQiOjEsImV4cGlyeSI6IjIwMjItMDMtMjFUMTE6MTQ6MjQuODEzMzE0N1oifYaOgklvV0KcuNG9phyetdzZaPAqGh27at2I9sCzisqxmZnmN4DNAf-gW8YHlRceKrHgMiJja5YLoxZYaqqOaQQ.bnVsbA\",\"user\":{\"id\":1,\"username\":\"admin\",\"admin\":true,\"active\":true,\"agentUserGroup\":null}}"
     ]
    }
   ],
   "source": [
    "curl --location --request POST 'http://gateway2.etc.fr.comm.hpecorp.net:13047/api/v1/auth/login' \\\n",
    "--header 'Accept: application/json' \\\n",
    "--header 'Content-Type: application/json' \\\n",
    "--data-binary '{\n",
    "  \"username\": \"admin\",\n",
    "  \"password\": \"password123\"\n",
    "}'"
   ]
  },
  {
   "cell_type": "code",
   "execution_count": 16,
   "id": "fd900002-86a2-4554-b5d8-f27d8f8a22e4",
   "metadata": {},
   "outputs": [
    {
     "name": "stdout",
     "output_type": "stream",
     "text": [
      "v2.public.eyJpZCI6ODksInVzZXJfaWQiOjEsImV4cGlyeSI6IjIwMjItMDMtMjFUMTE6MTQ6MjQuODEzMzE0N1oifYaOgklvV0KcuNG9phyetdzZaPAqGh27at2I9sCzisqxmZnmN4DNAf-gW8YHlRceKrHgMiJja5YLoxZYaqqOaQQ.bnVsbA\n",
      "{\"error\":{\"code\":16,\"reason\":\"Unauthenticated\",\"error\":\"token missing\"}}\n"
     ]
    }
   ],
   "source": [
    "token=\"v2.public.eyJpZCI6ODksInVzZXJfaWQiOjEsImV4cGlyeSI6IjIwMjItMDMtMjFUMTE6MTQ6MjQuODEzMzE0N1oifYaOgklvV0KcuNG9phyetdzZaPAqGh27at2I9sCzisqxmZnmN4DNAf-gW8YHlRceKrHgMiJja5YLoxZYaqqOaQQ.bnVsbA\"\n",
    "echo $token\n",
    "#\n",
    "curl -H \"Bearer: ${token}\" -X GET \"http://gateway2.etc.fr.comm.hpecorp.net:13047/api/v1/auth/user\" "
   ]
  },
  {
   "cell_type": "code",
   "execution_count": 19,
   "id": "1439c636-980a-4913-911f-14a4e99b24ed",
   "metadata": {},
   "outputs": [
    {
     "name": "stdout",
     "output_type": "stream",
     "text": [
      "{\"error\":{\"code\":16,\"reason\":\"Unauthenticated\",\"error\":\"token missing\"}}\n"
     ]
    }
   ],
   "source": [
    "curl --location --request GET 'http://gateway2.etc.fr.comm.hpecorp.net:13047/api/v1/auth/user' \\\n",
    "--header 'Bearer: v2.public.eyJpZCI6ODksInVzZXJfaWQiOjEsImV4cGlyeSI6IjIwMjItMDMtMjFUMTE6MTQ6MjQuODEzMzE0N1oifYaOgklvV0KcuNG9phyetdzZaPAqGh27at2I9sCzisqxmZnmN4DNAf-gW8YHlRceKrHgMiJja5YLoxZYaqqOaQQ.bnVsbA'"
   ]
  },
  {
   "cell_type": "code",
   "execution_count": 9,
   "id": "fd76e3b3-86e1-424b-baaf-7b3f83256c70",
   "metadata": {},
   "outputs": [
    {
     "name": "stdout",
     "output_type": "stream",
     "text": [
      "{\"token\":\"v2.public.eyJpZCI6OTQsInVzZXJfaWQiOjEsImV4cGlyeSI6IjIwMjItMDMtMjFUMTQ6MTA6MTcuMDQ1ODgyNjgxWiJ9J6AglnwHwiPgmbkoPSiVN4P28Mg56DbIAoKGks6vDUFf1brScflOKXA_zJXqR_KPcAmPzGSkai9r_UngDyo6Cw.bnVsbA\",\"user\":{\"id\":1,\"username\":\"admin\",\"admin\":true,\"active\":true,\"agentUserGroup\":null}}"
     ]
    }
   ],
   "source": [
    "curl -X 'POST' \\\n",
    "  'http://gateway2.etc.fr.comm.hpecorp.net:13047/api/v1/auth/login' \\\n",
    "  -H 'accept: application/json' \\\n",
    "  -H 'Content-Type: application/json' \\\n",
    "  -d '{\n",
    "  \"username\": \"admin\",\n",
    "  \"password\": \"password123\"\n",
    "}'"
   ]
  },
  {
   "cell_type": "code",
   "execution_count": 10,
   "id": "121e2ef5-b8f2-4e0a-acd7-3b21dee3bec1",
   "metadata": {
    "tags": []
   },
   "outputs": [
    {
     "name": "stdout",
     "output_type": "stream",
     "text": [
      "{\"user\":{\"id\":1,\"username\":\"admin\",\"admin\":true,\"active\":true,\"agentUserGroup\":null}}"
     ]
    }
   ],
   "source": [
    "token=\"v2.public.eyJpZCI6OTQsInVzZXJfaWQiOjEsImV4cGlyeSI6IjIwMjItMDMtMjFUMTQ6MTA6MTcuMDQ1ODgyNjgxWiJ9J6AglnwHwiPgmbkoPSiVN4P28Mg56DbIAoKGks6vDUFf1brScflOKXA_zJXqR_KPcAmPzGSkai9r_UngDyo6Cw.bnVsbA\"\n",
    "curl -X 'GET' \\\n",
    "  'http://gateway2.etc.fr.comm.hpecorp.net:13047/api/v1/auth/user' \\\n",
    "  -H 'accept: application/json' \\\n",
    "  -H \"Authorization: Bearer $token\""
   ]
  },
  {
   "cell_type": "code",
   "execution_count": 11,
   "id": "45d7e9f9-6d87-4943-93f8-cbcb724f2b79",
   "metadata": {},
   "outputs": [
    {
     "name": "stdout",
     "output_type": "stream",
     "text": [
      "{}"
     ]
    }
   ],
   "source": [
    "curl -X 'POST' \\\n",
    "  'http://gateway2.etc.fr.comm.hpecorp.net:13047/api/v1/auth/logout' \\\n",
    "  -H 'accept: application/json' \\\n",
    "  -H \"Authorization: Bearer $token\""
   ]
  },
  {
   "cell_type": "code",
   "execution_count": 12,
   "id": "cec3c7fa-b2ce-4d62-8804-d37ef145c9d9",
   "metadata": {},
   "outputs": [
    {
     "name": "stdout",
     "output_type": "stream",
     "text": [
      "{\"token\":\"v2.public.eyJpZCI6OTUsInVzZXJfaWQiOjQsImV4cGlyeSI6IjIwMjItMDMtMjFUMTQ6MTE6NTMuNjAxNDE0NTQ1WiJ9sctWMrKcQJJXzcVEjyzFQUBvt24-j-X96o-IXIdzjOnKMdxW4qvxTutI9tB4Vfx7YkloG6rr_06QDd04v8hAAA.bnVsbA\",\"user\":{\"id\":4,\"username\":\"student900\",\"admin\":false,\"active\":true,\"agentUserGroup\":null}}"
     ]
    }
   ],
   "source": [
    "curl -X 'POST' \\\n",
    "  'http://gateway2.etc.fr.comm.hpecorp.net:13047/api/v1/auth/login' \\\n",
    "  -H 'accept: application/json' \\\n",
    "  -H 'Content-Type: application/json' \\\n",
    "  -d '{\n",
    "  \"username\": \"student900\",\n",
    "  \"password\": \"\"\n",
    "}'"
   ]
  },
  {
   "cell_type": "code",
   "execution_count": 13,
   "id": "cd3ee6af-c6c4-402c-8a91-0b0594a37add",
   "metadata": {},
   "outputs": [
    {
     "name": "stdout",
     "output_type": "stream",
     "text": [
      "{\"user\":{\"id\":4,\"username\":\"student900\",\"admin\":false,\"active\":true,\"agentUserGroup\":null}}"
     ]
    }
   ],
   "source": [
    "token=\"v2.public.eyJpZCI6OTUsInVzZXJfaWQiOjQsImV4cGlyeSI6IjIwMjItMDMtMjFUMTQ6MTE6NTMuNjAxNDE0NTQ1WiJ9sctWMrKcQJJXzcVEjyzFQUBvt24-j-X96o-IXIdzjOnKMdxW4qvxTutI9tB4Vfx7YkloG6rr_06QDd04v8hAAA.bnVsbA\"\n",
    "curl -X 'GET' \\\n",
    "  'http://gateway2.etc.fr.comm.hpecorp.net:13047/api/v1/auth/user' \\\n",
    "  -H 'accept: application/json' \\\n",
    "  -H \"Authorization: Bearer $token\""
   ]
  },
  {
   "cell_type": "code",
   "execution_count": 14,
   "id": "30a82598-86d2-4c4b-88d3-9b96182e86a9",
   "metadata": {},
   "outputs": [
    {
     "name": "stdout",
     "output_type": "stream",
     "text": [
      "{}"
     ]
    }
   ],
   "source": [
    "curl -X 'POST' \\\n",
    "  'http://gateway2.etc.fr.comm.hpecorp.net:13047/api/v1/auth/logout' \\\n",
    "  -H 'accept: application/json' \\\n",
    "  -H \"Authorization: Bearer $token\""
   ]
  },
  {
   "cell_type": "code",
   "execution_count": 15,
   "id": "0a7ebd78-ea13-42dd-90e7-bb9b8ca21e1e",
   "metadata": {},
   "outputs": [
    {
     "name": "stdout",
     "output_type": "stream",
     "text": [
      "{\"token\":\"v2.public.eyJpZCI6OTYsInVzZXJfaWQiOjEsImV4cGlyeSI6IjIwMjItMDMtMjFUMTQ6MTk6MzYuNzcwNDMxNTA4WiJ90Dset-0JfDlDqyFUv0WShrQEt3EaFElbVtNFUZ9dOzV5H6AGwKKx1vQQMfNftATTMYjaa71Z7caZlxNAZ-A6BA.bnVsbA\",\"user\":{\"id\":1,\"username\":\"admin\",\"admin\":true,\"active\":true,\"agentUserGroup\":null}}"
     ]
    }
   ],
   "source": [
    "#Login as admin user\n",
    "curl -X 'POST' \\\n",
    "  'http://gateway2.etc.fr.comm.hpecorp.net:13047/api/v1/auth/login' \\\n",
    "  -H 'accept: application/json' \\\n",
    "  -H 'Content-Type: application/json' \\\n",
    "  -d '{\n",
    "  \"username\": \"admin\",\n",
    "  \"password\": \"password123\"\n",
    "}'"
   ]
  },
  {
   "cell_type": "code",
   "execution_count": 16,
   "id": "b129d515-5af7-43a1-8230-8d22f8767ae6",
   "metadata": {},
   "outputs": [
    {
     "name": "stdout",
     "output_type": "stream",
     "text": [
      "{\"users\":[{\"id\":1,\"username\":\"admin\",\"admin\":true,\"active\":true,\"agentUserGroup\":null},{\"id\":2,\"username\":\"determined\",\"admin\":false,\"active\":true,\"agentUserGroup\":null},{\"id\":3,\"username\":\"student75\",\"admin\":false,\"active\":true,\"agentUserGroup\":null},{\"id\":4,\"username\":\"student900\",\"admin\":false,\"active\":true,\"agentUserGroup\":null}]}"
     ]
    }
   ],
   "source": [
    "# List the users\n",
    "token=\"v2.public.eyJpZCI6OTYsInVzZXJfaWQiOjEsImV4cGlyeSI6IjIwMjItMDMtMjFUMTQ6MTk6MzYuNzcwNDMxNTA4WiJ90Dset-0JfDlDqyFUv0WShrQEt3EaFElbVtNFUZ9dOzV5H6AGwKKx1vQQMfNftATTMYjaa71Z7caZlxNAZ-A6BA.bnVsbA\"\n",
    "curl -X 'GET' \\\n",
    "  'http://gateway2.etc.fr.comm.hpecorp.net:13047/api/v1/users' \\\n",
    "  -H 'accept: application/json' \\\n",
    "  -H \"Authorization: Bearer $token\""
   ]
  },
  {
   "cell_type": "code",
   "execution_count": 20,
   "id": "192e7251-bc20-40be-9373-a69a39b2c969",
   "metadata": {},
   "outputs": [
    {
     "name": "stdout",
     "output_type": "stream",
     "text": [
      "{\"user\":{\"id\":5,\"username\":\"testuser1\",\"admin\":false,\"active\":true,\"agentUserGroup\":null}}"
     ]
    }
   ],
   "source": [
    "# create a new user\n",
    "curl -X 'POST' \\\n",
    "  'http://gateway2.etc.fr.comm.hpecorp.net:13047/api/v1/users' \\\n",
    "  -H 'accept: application/json' \\\n",
    "  -H \"Authorization: Bearer $token\" \\\n",
    "  -d '{\n",
    "  \"user\": {\n",
    "    \"username\": \"testuser1\",\n",
    "    \"admin\": false,\n",
    "    \"active\": true\n",
    "   }\n",
    "}' "
   ]
  },
  {
   "cell_type": "code",
   "execution_count": 21,
   "id": "6e7b2aa4-c7a6-4a5f-960c-884adecf6ebd",
   "metadata": {},
   "outputs": [
    {
     "name": "stdout",
     "output_type": "stream",
     "text": [
      "{\"users\":[{\"id\":1,\"username\":\"admin\",\"admin\":true,\"active\":true,\"agentUserGroup\":null},{\"id\":2,\"username\":\"determined\",\"admin\":false,\"active\":true,\"agentUserGroup\":null},{\"id\":3,\"username\":\"student75\",\"admin\":false,\"active\":true,\"agentUserGroup\":null},{\"id\":4,\"username\":\"student900\",\"admin\":false,\"active\":true,\"agentUserGroup\":null},{\"id\":5,\"username\":\"testuser1\",\"admin\":false,\"active\":true,\"agentUserGroup\":null}]}"
     ]
    }
   ],
   "source": [
    "#list user\n",
    "curl -X 'GET' \\\n",
    "  'http://gateway2.etc.fr.comm.hpecorp.net:13047/api/v1/users' \\\n",
    "  -H 'accept: application/json' \\\n",
    "  -H \"Authorization: Bearer $token\""
   ]
  },
  {
   "cell_type": "code",
   "execution_count": null,
   "id": "1e9ff4b4-fdac-4174-932b-b07e3ad9d9dd",
   "metadata": {},
   "outputs": [],
   "source": []
  }
 ],
 "metadata": {
  "kernelspec": {
   "display_name": "Bash",
   "language": "bash",
   "name": "bash"
  },
  "language_info": {
   "codemirror_mode": "shell",
   "file_extension": ".sh",
   "mimetype": "text/x-sh",
   "name": "bash"
  }
 },
 "nbformat": 4,
 "nbformat_minor": 5
}
