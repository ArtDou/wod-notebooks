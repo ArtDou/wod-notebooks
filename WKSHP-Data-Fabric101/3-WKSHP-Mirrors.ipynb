{
 "cells": [
  {
   "cell_type": "markdown",
   "metadata": {},
   "source": [
    "\n",
    "# Lab 3: Using Mirror's Featuers\n",
    "## Using Mirror feature on volumes for disaster recovery or development use.\n",
    "\n",
    "### With Data Fabric Mirroring you can:\n",
    "\n",
    "- Mirror data from one cluster to another for disaster recovery (not showcased here today)\n",
    "- Mirror data localy on one cluster for recovery, development, testing or data validation needs.\n",
    "- Schedules mirrors or run them on demand.\n",
    "- Promote mirrors out of read-only mode to read-write\n",
    "\n",
    "<p align=\"center\">\n",
    "  <img src=\"Pictures/edf-mirror-overview.png\" width=\"600\" height=\"400\" alt=\"Data Fabric Snapshots\">                                                    \n",
    "  \n",
    "</p>"
   ]
  },
  {
   "cell_type": "code",
   "execution_count": null,
   "metadata": {},
   "outputs": [],
   "source": [
    "%login {{ hostvars[inventory_hostname]['IP-WKSHP-Data-Fabric101'] }}\n",
    "\n",
    "echo \"We are now connected to the appliance\"\n",
    "\n",
    "#\n",
    "# environment variables to be adjusted/verified by the student\n",
    "#these are ansible variables that are being replaced at the time of the deployment\n",
    "username=\"student{{ STDID }}\" # your Data Fabric login credentials - username  \n",
    "password=\"{{ PASSSTU }}\" # your Data Fabric login credentials - password - \n",
    "apiserver_host=\"{{ DATAFABRICAPISERVERIP }}\" # API Server for the Data Fabric Cluster\n",
    "ad_group=\"{{ DATAFABRICADGROUP }}\" # LDAP Domain Group for Data Fabric users\n",
    "vol_name=\"{{ DATAFABRICVOL }}\"   # suffix for student volume name\n",
    "src-mirrvol1=\"{{ DATAFABRICVOLSRCVOLNAME }}\" # suffix for student source mirror volume name\n",
    "dst-mirrvol1=\"{{ DATAFABRICVOLDSTVOLNAME }}\"  # suffix for student destination mirror volume name\n",
    "cluster_name=\"{{ DATAFABRICCLUSTERAME }}\"  # Data Fabric Cluster Name\n",
    "#\n",
    "# fixed environment variables setup by the HPE Data Fabrics Lab administrator - please DO NOT MODIFY!!\n",
    "#these are ansible variables that are being replaced at the time of the deplaoyment\n",
    "\n",
    "echo \"your operation context is:\" student{{ STDID }} \"with Password:\" {{ PASSSTU }}"
   ]
  },
  {
   "cell_type": "markdown",
   "metadata": {},
   "source": [
    "## 1. Creating a source volume that we will use to mirror from.\n",
    "\n",
    "#### Background:\n",
    "\n",
    "You have been given a user that is allowed to create and modify volumes on the cluster.  Data Fabric volumes can be mounted so they are accessable from NFS, HDFS or POSIX commands (like the bash kernel shell in these labs).  For security reasons, you can only mount volumes in the /user directory.\n",
    "\n",
    "Fist let's create a volume to create mirror's on:"
   ]
  },
  {
   "cell_type": "code",
   "execution_count": null,
   "metadata": {},
   "outputs": [],
   "source": [
    "curl -k -X POST 'https://{{ DATAFABRICAPISERVERIP }}:8443/rest/volume/create?name=student{{ STDID }}-{{ DATAFABRICVOLSRCVOLNAME }}&path=/user/student{{ STDID }}-{{ DATAFABRICVOLSRCVOLNAME }}' --user student{{ STDID }}:{{ PASSSTU }}"
   ]
  },
  {
   "cell_type": "markdown",
   "metadata": {},
   "source": [
    "## 2. Create a mirror volume from your source volume.\n",
    "\n",
    "Now let's create a local mirror volume from our source volume we made in the previous step:"
   ]
  },
  {
   "cell_type": "code",
   "execution_count": null,
   "metadata": {},
   "outputs": [],
   "source": [
    "curl -k -X POST 'https://{{ DATAFABRICAPISERVERIP }}:8443/rest/volume/create?name=student{{ STDID }}-{{ DATAFABRICVOLDSTVOLNAME }}&path=/user/student{{ STDID }}-{{ DATAFABRICVOLDSTVOLNAME }}&type=mirror&source=student{{ STDID }}-$src_vol_name@{{ DATAFABRICCLUSTERAME }}' --user student{{ STDID }}:{{ PASSSTU }}"
   ]
  },
  {
   "cell_type": "markdown",
   "metadata": {},
   "source": [
    "## 3. Create data within your source volume\n",
    "\n",
    "Now let's create some data in our source volume so we can verify that the mirror operation worked:"
   ]
  },
  {
   "cell_type": "code",
   "execution_count": null,
   "metadata": {},
   "outputs": [],
   "source": [
    "echo \"student{{ STDID }}-{{ DATAFABRICVOL }} source volume update $(date)\" >> /mapr/{{ DATAFABRICCLUSTERAME }}/user/student{{ STDID }}-{{ DATAFABRICVOLSRCVOLNAME }}/student{{ STDID }}-source-volume-file1\n",
    "ls /mapr/{{ DATAFABRICCLUSTERAME }}/user/student{{ STDID }}-{{ DATAFABRICVOLSRCVOLNAME }}\n",
    "cat /mapr/{{ DATAFABRICCLUSTERAME }}/user/student{{ STDID }}-{{ DATAFABRICVOLSRCVOLNAME }}/student{{ STDID }}-source-volume-file1"
   ]
  },
  {
   "cell_type": "markdown",
   "metadata": {},
   "source": [
    "## 4. Start the mirroring process\n",
    "\n",
    "By default a target or destination mirror volume is mounted as read-only (ro).  Also by default the mirror is not started until you manually start it or apply a schedule to the mirror.  In this example we will be starting it manually."
   ]
  },
  {
   "cell_type": "code",
   "execution_count": null,
   "metadata": {},
   "outputs": [],
   "source": [
    "curl -k -X POST 'https://{{ DATAFABRICAPISERVERIP }}:8443/rest/volume/mirror/start?name=student{{ STDID }}-{{ DATAFABRICVOLDSTVOLNAME }}' --user student{{ STDID }}:{{ PASSSTU }}"
   ]
  },
  {
   "cell_type": "markdown",
   "metadata": {},
   "source": [
    "This lab is a short term setup of managing data so we will not cover setting up schedules and applying them to snapshot's or to mirrors.  For more details on creating schedules see: [Creating Schedules on Ezmeral Data Fabric](https://docs.datafabric.hpe.com/62/ReferenceGuide/schedule.html)"
   ]
  },
  {
   "cell_type": "markdown",
   "metadata": {},
   "source": [
    "## 5. Verify your source data is now within your destination volume\n",
    "\n",
    "Now let's verify the data we wrote in our previous steps in our source volume is now in the destination volume and that our mirror operation we started worked:"
   ]
  },
  {
   "cell_type": "code",
   "execution_count": null,
   "metadata": {},
   "outputs": [],
   "source": [
    "ls /mapr/{{ DATAFABRICCLUSTERAME }}e/user/student{{ STDID }}-{{ DATAFABRICVOLDSTVOLNAME }}"
   ]
  },
  {
   "cell_type": "markdown",
   "metadata": {},
   "source": [
    "Now let's write some data to your new destination volume that was mirrored from the source volume:\n"
   ]
  },
  {
   "cell_type": "code",
   "execution_count": null,
   "metadata": {},
   "outputs": [],
   "source": [
    "echo \"student{{ STDID }}-{{ DATAFABRICVOL }} destination volume update $(date)\" >> /mapr/{{ DATAFABRICCLUSTERAME }}/user/student{{ STDID }}'-'{{ DATAFABRICVOLDSTVOLNAME }}/student{{ STDID }}'-'source-volume-file1\n",
    "ls /mapr/{{ DATAFABRICCLUSTERAME }}/user/student{{ STDID }}-{{ DATAFABRICVOLDSTVOLNAME }}\n",
    "cat /mapr/{{ DATAFABRICCLUSTERAME }}/user/student{{ STDID }}-{{ DATAFABRICVOLDSTVOLNAME }}/student{{ STDID }}-source-volume-file1"
   ]
  },
  {
   "cell_type": "markdown",
   "metadata": {},
   "source": [
    "Notice the error: \"Read-only file system\"\n",
    "This error is to be expected as by default destination volumes that are currently being mirrored are mounted in read-only mode (ro).\n",
    "Let's break the mirror and mount the volume in read-write (rw) mode:"
   ]
  },
  {
   "cell_type": "markdown",
   "metadata": {},
   "source": [
    "## 6. Promoting destinaation volumes to read-write\n",
    "\n",
    "First let's ensure the mirror process has stoped:"
   ]
  },
  {
   "cell_type": "code",
   "execution_count": null,
   "metadata": {},
   "outputs": [],
   "source": [
    "curl -k -X POST 'https://{{ DATAFABRICAPISERVERIP }}:8443/rest/volume/mirror/stop?name=student{{ STDID }}-{{ DATAFABRICVOLDSTVOLNAME }}' --user student{{ STDID }}:{{ PASSSTU }}"
   ]
  },
  {
   "cell_type": "markdown",
   "metadata": {},
   "source": [
    "Now we can change the volume mount to read-write:"
   ]
  },
  {
   "cell_type": "code",
   "execution_count": null,
   "metadata": {},
   "outputs": [],
   "source": [
    "curl -k -X POST 'https://{{ DATAFABRICAPISERVERIP }}:8443/rest/volume/modify?name=student{{ STDID }}-{{ DATAFABRICVOLDSTVOLNAME }}&type=rw' --user student{{ STDID }}:{{ PASSSTU }}"
   ]
  },
  {
   "cell_type": "markdown",
   "metadata": {},
   "source": [
    "Finally we can verify that the new destination volume has been mounted read-write (rw) by writing new data to it:"
   ]
  },
  {
   "cell_type": "code",
   "execution_count": null,
   "metadata": {},
   "outputs": [],
   "source": [
    "echo \"student{{ STDID }}-{{ DATAFABRICVOL }} destination volume update $(date)\" >> /mapr/{{ DATAFABRICCLUSTERAME }}/user/student{{ STDID }}-{{ DATAFABRICVOLDSTVOLNAME }}/student{{ STDID }}-source-volume-file1\n",
    "ls /mapr/{{ DATAFABRICCLUSTERAME }}/user/student{{ STDID }}-{{ DATAFABRICVOLDSTVOLNAME }}\n",
    "cat /mapr/{{ DATAFABRICCLUSTERAME }}/user/student{{ STDID }}-{{ DATAFABRICVOLDSTVOLNAME }}/student{{ STDID }}-source-volume-file1"
   ]
  },
  {
   "cell_type": "markdown",
   "metadata": {},
   "source": [
    "For additional information on using HPE Ezmeral Data Fabric Mirror's Features see: [Mirror Volumes](https://docs.datafabric.hpe.com/62/AdministratorGuide/MirrorVolumes-Mirroring.html)"
   ]
  },
  {
   "cell_type": "markdown",
   "metadata": {},
   "source": [
    "## Mirror's Summary\n",
    "\n",
    "In this example we:\n",
    "\n",
    "1. Created a new source volume\n",
    "2. Wrote data to it\n",
    "3. Setup a new destination mirror volume\n",
    "4. Started the mirror process on the destination volume.\n",
    "5. And then promoted that mirror to be it's own volume and wrote new data to it.\n",
    "\n",
    "# Using Access Security Settings and Policies  on your data\n",
    "You can now move to the conclusion of this workshop !\n",
    "\n",
    "* [Lab 4 - Using Access Security Settings and Policies](4-WKSHP-App-Security-Policies.ipynb)"
   ]
  },
  {
   "cell_type": "code",
   "execution_count": null,
   "metadata": {},
   "outputs": [],
   "source": []
  }
 ],
 "metadata": {
  "kernelspec": {
   "display_name": "SSH",
   "language": "bash",
   "name": "ssh"
  },
  "language_info": {
   "codemirror_mode": "shell",
   "file_extension": ".sh",
   "mimetype": "text/x-sh",
   "name": "ssh"
  }
 },
 "nbformat": 4,
 "nbformat_minor": 4
}
