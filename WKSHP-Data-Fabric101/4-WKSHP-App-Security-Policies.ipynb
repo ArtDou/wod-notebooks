{
 "cells": [
  {
   "cell_type": "markdown",
   "metadata": {},
   "source": [
    "\n",
    "# Lab 4: Using Access Security Settings and Policies \n",
    "## Applying Access Control Expressions (ACE) to Volumes Using ACE's and Global Security Policies \n",
    "\n",
    "## Security on Ezmeral Data Fabric.\n",
    "\n",
    "Security on the Ezmearl Data Fabric is applied at the Volume which can be applied to:\n",
    "\n",
    "- Directories and files\n",
    "- Tables (if you have the full features Ezmeral Data Fabric)\n",
    "- Streams (if you have the full features Ezmeral Data Fabric)\n",
    "\n",
    "Security can be applied in two ways:\n",
    "\n",
    "- On-demand per data type by creating an Access Control Experssion (ACE) and then applying that ACE as a security tag to the volume.\n",
    "- Or through a local or global policy management which creates a catalog of security tags that can then be applied to any data type.\n",
    "\n",
    "Below is an example we will be running through for this lab:\n",
    "\n",
    "<p align=\"center\">\n",
    "  <img src=\"Pictures/edf-sec-ace-example.png\" width=\"800\" height=\"600\" alt=\"Data Fabric Snapshots\">                                                    \n",
    "  \n",
    "</p>\n",
    "\n",
    "For more information on security features within the Ezmeral Data Fabric please see [Managing Security Policies](https://docs.datafabric.hpe.com/62/SecurityGuide/ManagingSecurityPolicies.html)"
   ]
  },
  {
   "cell_type": "code",
   "execution_count": null,
   "metadata": {},
   "outputs": [],
   "source": [
    "%login {{ hostvars[inventory_hostname]['IP-WKSHP-Data-Fabric101'] }}\n",
    "\n",
    "echo \"We are now connected to the appliance\"\n",
    "\n",
    "#\n",
    "# environment variables to be adjusted/verified by the student\n",
    "#these are ansible variables that are being replaced at the time of the deployment\n",
    "username=\"student{{ STDID }}\" # your Data Fabric login credentials - username  \n",
    "password=\"{{ PASSSTU }}\" # your Data Fabric login credentials - password - \n",
    "sec_username=\"sec-student{{ STDID }}\" # your Data Fabric login credentials - username  for security comparison\n",
    "sec-password=\"stuDISCO2020\"\n",
    "apiserver_host=\"{{ DATAFABRICAPISERVERIP }}\"\n",
    "ad_group=\"{{ DATAFABRICADGROUP }}\"  # LDAP Domain Group for Data Fabric users\n",
    "secvol_name=\"{{ DATAFABRICSECVOL }}\"  # suffix for student volume name used for security comparison / user access \n",
    "cluster_name=\"{{ DATAFABRICCLUSTERAME }}\"  # Data Fabric Cluster Name\n",
    "#\n",
    "# fixed environment variables setup by the HPE Data Fabrics Lab administrator - please DO NOT MODIFY!!\n",
    "#these are ansible variables that are being replaced at the time of the deplaoyment\n",
    "\n",
    "echo \"your operation context is:\" student{{ STDID }} \"with Password:\" {{ PASSSTU }}\n",
    "echo \"----\"\n",
    "echo \"your test user for applying security policy context is:\" sec-student{{ STDID }} \"with Password:\" $sec_password"
   ]
  },
  {
   "cell_type": "markdown",
   "metadata": {},
   "source": [
    "## 1. Create a volume that we can apply security policies.\n",
    "\n",
    "#### Background:\n",
    "\n",
    "You have been given a user that is allowed to create and modify volumes on the cluster and another user to test your security policies.  Data Fabric volumes can be mounted so they are accessable from NFS, HDFS or POSIX commands (like the bash kernel shell in these labs).  For security reasons, you can only mount volumes in the /user directory.\n",
    "\n",
    "To understand how an ACE works on a volume with files and directories first let's create a volume:"
   ]
  },
  {
   "cell_type": "code",
   "execution_count": null,
   "metadata": {},
   "outputs": [],
   "source": [
    "curl -k -X POST 'https://{{ DATAFABRICAPISERVERIP }}:8443/rest/volume/create?name=student{{ STDID }}-{{ DATAFABRICSECVOL }}&path=/user/student{{ STDID }}-{{ DATAFABRICSECVOL }}' --user student{{ STDID }}:{{ PASSSTU }}"
   ]
  },
  {
   "cell_type": "markdown",
   "metadata": {},
   "source": [
    "## 2. Test that both users can read/write data to the created volume\n",
    "\n",
    "- We will list out the files and create/append data to a file as the:"
   ]
  },
  {
   "cell_type": "code",
   "execution_count": null,
   "metadata": {},
   "outputs": [],
   "source": [
    "echo \"student{{ STDID }}-{{ DATAFABRICSECVOL }} security volume update $(date)\" >> /mapr/{{ DATAFABRICCLUSTERAME }}/user/student{{ STDID }}-{{ DATAFABRICSECVOL }}/student{{ STDID }}-security-volume-test1\n",
    "ls /mapr/{{ DATAFABRICCLUSTERAME }}/user/student{{ STDID }}-{{ DATAFABRICSECVOL }}\n",
    "cat /mapr/{{ DATAFABRICCLUSTERAME }}/user/student{{ STDID }}-{{ DATAFABRICSECVOL }}/student{{ STDID }}-security-volume-test1"
   ]
  },
  {
   "cell_type": "markdown",
   "metadata": {},
   "source": [
    "## 2. Modify a volume and apply a read Access Control Expression (ACE)\n",
    "\n",
    "A valid user or group must be present on your cluster or in your directory services.  In this case we will use the following user to apply a read only ACE to the volume:"
   ]
  },
  {
   "cell_type": "code",
   "execution_count": null,
   "metadata": {},
   "outputs": [],
   "source": [
    "echo sec-student{{ STDID }}"
   ]
  },
  {
   "cell_type": "code",
   "execution_count": null,
   "metadata": {},
   "outputs": [],
   "source": [
    "#echo \"$username'-'$vol_name security volume update $date\" >> /mapr/$cluster_name/user/$username'-'$vol_name/$username'-'security-volume-test1\n",
    "#ls /mapr/$cluster_name/user/$username'-'$vol_name\n",
    "#cat /mapr/$cluster_name/user/$username'-'$vol_name/$username'-'security-volume-test1\n",
    "su -c \"touch /mapr/mapr-cluster.etc.fr.comm.hpecorp.net/user/student1201-sec-vol1/student1201-security-volume-test1\" -s /bin/sh sec-student1201"
   ]
  },
  {
   "cell_type": "code",
   "execution_count": null,
   "metadata": {},
   "outputs": [],
   "source": [
    "#curl -k -X POST 'https://abc.sj.us:8443/rest/volume/modify?name=testVol&writeAce=g%3Agroup1%26%28%21u%3Auser1%7C%21r%3Arole1%29' --user mapr:mapr\n",
    "# 'g:group1&(!u:user1|!r:role1)'\n",
    "#readAce=u%3A'$sec_username'\n",
    "\n",
    "curl -k -X POST 'https://{{ DATAFABRICAPISERVERIP }}:8443/rest/volume/modify?name=student{{ STDID }}-{{ DATAFABRICSECVOL }}&readAce=u%3A sec-student{{ STDID }}' --user student{{ STDID }}:{{ PASSSTU }}"
   ]
  },
  {
   "cell_type": "markdown",
   "metadata": {},
   "source": [
    "## 2. To understand how an ACE works on a volume with files and directories first let's create a volume.\n",
    "\n"
   ]
  },
  {
   "cell_type": "markdown",
   "metadata": {},
   "source": [
    "\n",
    "## Now what?\n",
    "Congratulations! You have placed your first API calls using Postman and cURL. This simple API only accepted GET calls, so one might argue everything could have been handled by a standard browser. The advantage of using Postman is that you can save your calls and start building collections of API calls that are useful in your job. We used a very limited API to get the weather report in Paris, but the exact same technique (using Postman) could be applied with other REST APIs, such as the ones from HPE OneView, HPE SimpliVity or Redfish. \n",
    "\n",
    "\n",
    "# Time to wrap up\n",
    "You can now move to the conclusion of this workshop !\n",
    "\n",
    "* [Conclusion](2-WKSHP-Conclusion.ipynb)"
   ]
  }
 ],
 "metadata": {
  "kernelspec": {
   "display_name": "SSH",
   "language": "bash",
   "name": "ssh"
  },
  "language_info": {
   "codemirror_mode": "shell",
   "file_extension": ".sh",
   "mimetype": "text/x-sh",
   "name": "ssh"
  }
 },
 "nbformat": 4,
 "nbformat_minor": 4
}
