{
 "cells": [
  {
   "cell_type": "markdown",
   "metadata": {},
   "source": [
    "![HPEDEVlogo](Pictures/hpedevlogo-NB.JPG)                           \n",
    "\n",
    "# Welcome to the Hack Shack\n",
    "Powered by [HPE DEV Team](https://hpedev.io)\n",
    "\n",
    "<p align=\"center\">\n",
    "  <img src=\"Pictures/hackshackdisco.png\">                                                    \n",
    "  \n",
    "</p>\n",
    "\n",
    "# Workshops-on-Demand\n",
    "\n",
    "# Introduction to HPE Ezmeral Data Fabric 101 Workshop\n",
    "Willing to discover the insights of the Ezmeral Data Fabric filesystem? This workshop will help you to understand the basics of administrating the filesystem through a DevOps experience to:\n",
    "\n",
    "* Create/delete/update volumes and their respective features\n",
    "* Setup snapshots for business continued.\n",
    "* Setup mirrors for disaster recovery.\n",
    "* Learn to work with security policies and how apply them to your data.\n",
    "\n",
    "\n",
    "# Author: [Chad Smykay](mailto:chad.smykay@hpe.com)\n",
    "\n",
    "## Handouts\n",
    "You can freely copy the Jupyter Notebooks, including their output, in order to practice back at your office at your own pace, leveraging a local installation of Jupyter Notebook on your laptop.\n",
    "- You install the Jupyter Notebook application from [here](https://jupyter.org/install). \n",
    "- A Beginners Guide is also available [here](https://jupyter-notebook-beginner-guide.readthedocs.io/en/latest/what_is_jupyter.html)\n",
    "\n",
    "\n",
    "## Lab flow\n",
    "HackShack Workshops are delivered through a central point that allows a portable, dynamic version of the lab guides. Rather than using standard PDF files which always end in copy / paste errors from the lab guide into the TS sessions, this year we decided to innovate and introduce a brand-new infrastructure. We will leverage a JupyterHub server on which all the different lab guides will be stored in a notebook format (*.ipynb).\n",
    "\n",
    "\n",
    "Enjoy the labs ! :-)\n",
    "\n",
    "\n",
    "## Workflow\n",
    "\n",
    "### Lab 1: Create/delete/update volumes and their respective features\n",
    "Description: In this section, we’ll go through creating volumes and modifying attributes to them.\n",
    "* [Lab 1](1-WKSHP-Create-Update-Delete.ipynb)\n",
    "\n",
    "### Lab 2: Setup snapshots for business continuity.\n",
    "Description: In this section, we’ll go creating snapshots for business continuity.\n",
    "* [Lab 2](2-WKSHP-Snapshots.ipynb)\n",
    "\n",
    "### Lab 3: Setup mirrors for disaster recovery.\n",
    "Description: In this section, we’ll go through some of ...\n",
    "* [Lab 3](3-WKSHP-Mirrors.ipynb)\n",
    "\n",
    "### Lab 4: Apply security policies to your data\n",
    "Description: In this section, we’ll go through applying several security concepts to volume and data.\n",
    "* [Lab 4](4-WKSHP-App-Security-Policies.ipynb)\n",
    "\n",
    "### Conclusion\n",
    "\n",
    "* [Conclusion](5-WKSHP-Conclusion.ipynb)\n",
    "\n",
    "# Thank you!\n",
    "![grommet.JPG](Pictures/grommet.JPG)"
   ]
  },
  {
   "cell_type": "code",
   "execution_count": null,
   "metadata": {},
   "outputs": [],
   "source": []
  },
  {
   "cell_type": "code",
   "execution_count": null,
   "metadata": {},
   "outputs": [],
   "source": []
  }
 ],
 "metadata": {
  "kernelspec": {
   "display_name": "Python 3",
   "language": "python",
   "name": "python3"
  },
  "language_info": {
   "codemirror_mode": {
    "name": "ipython",
    "version": 3
   },
   "file_extension": ".py",
   "mimetype": "text/x-python",
   "name": "python",
   "nbconvert_exporter": "python",
   "pygments_lexer": "ipython3",
   "version": "3.8.5"
  }
 },
 "nbformat": 4,
 "nbformat_minor": 4
}
