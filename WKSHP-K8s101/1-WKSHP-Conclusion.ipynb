{
 "cells": [
  {
   "cell_type": "markdown",
   "metadata": {},
   "source": [
    "![HPEDEVlogo](Pictures/hpedevlogo-NB.JPG)\n",
    "\n",
    "# Thank you for visiting the Hack Shack\n",
    "\n",
    "Powered by [HPE DEV Team](hpedev.io)\n",
    "\n",
    "\n",
    "# Conclusion\n",
    "\n",
    "During this workshop, you have discovered the basics Kubernetes. You have been able to deploy, scale, update your containerized application and even debug it!\n",
    "\n",
    "Congratulations!\n",
    "\n",
    "\n",
    "# Final steps\n",
    "Please take a moment to fill out our [survey]({{ SURVEYURL }}).\n",
    "\n",
    "And make sure you use File -> Log Out menu to terminate your workshop session.\n",
    "\n",
    "# Thank you\n",
    "![ThankYou](Pictures/grommet.JPG)"
   ]
  },
  {
   "cell_type": "code",
   "execution_count": null,
   "metadata": {},
   "outputs": [],
   "source": []
  }
 ],
 "metadata": {
  "kernelspec": {
   "display_name": "Bash",
   "language": "bash",
   "name": "bash"
  },
  "language_info": {
   "codemirror_mode": "shell",
   "file_extension": ".sh",
   "mimetype": "text/x-sh",
   "name": "bash"
  }
 },
 "nbformat": 4,
 "nbformat_minor": 4
}
