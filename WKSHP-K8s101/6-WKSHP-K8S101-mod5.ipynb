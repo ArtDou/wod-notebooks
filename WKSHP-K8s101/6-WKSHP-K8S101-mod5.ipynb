{
 "cells": [
  {
   "cell_type": "markdown",
   "metadata": {},
   "source": [
    "# Module 5: Scale up your app\n",
    "\n",
    "### Objectives\n",
    "\n",
    "* Scale an app using kubectl.\n",
    "\n",
    "### Scaling an application\n",
    "\n",
    "In the previous modules we created a [Deployment](https://kubernetes.io/docs/concepts/workloads/controllers/deployment/), and then exposed it publicly via a [Service](https://kubernetes.io/docs/concepts/services-networking/service/). The Deployment created only one Pod for running our application. When traffic increases, we will need to scale the application to keep up with user demand.\n",
    "\n",
    "**Scaling** is accomplished by changing the number of replicas in a Deployment\n",
    "\n",
    ">You can create from the start a Deployment with multiple instances using the --replicas parameter for the kubectl create deployment command\n",
    "\n",
    "\n",
    "## Scaling overview\n",
    "\n",
    "<div><img src=\"https://d33wubrfki0l68.cloudfront.net/043eb67914e9474e30a303553d5a4c6c7301f378/0d8f6/docs/tutorials/kubernetes-basics/public/images/module_05_scaling1.svg\" width=\"400\">\n",
    "<img src=\"https://d33wubrfki0l68.cloudfront.net/30f75140a581110443397192d70a4cdb37df7bfc/b5f56/docs/tutorials/kubernetes-basics/public/images/module_05_scaling2.svg\" width=\"400\">\n",
    "</div>\n",
    "\n",
    "\n",
    "Scaling out a Deployment will ensure new Pods are created and scheduled to Nodes with available resources. Scaling will increase the number of Pods to the new desired state. Kubernetes also supports [autoscaling](https://kubernetes.io/docs/user-guide/horizontal-pod-autoscaling/) of Pods, but it is outside of the scope of this tutorial. Scaling to zero is also possible, and it will terminate all Pods of the specified Deployment.\n",
    "\n",
    "Running multiple instances of an application will require a way to distribute the traffic to all of them. Services have an integrated load-balancer that will distribute network traffic to all Pods of an exposed Deployment. Services will monitor continuously the running Pods using endpoints, to ensure the traffic is sent only to available Pods.\n",
    "\n",
    "> Scaling is accomplished by changing the number of replicas in a Deployment.\n",
    "\n",
    "\n",
    "\n",
    "Once you have multiple instances of an Application running, you would be able to do Rolling updates without downtime. We'll cover that in the next module. Now, let's go and scale our application."
   ]
  },
  {
   "cell_type": "markdown",
   "metadata": {},
   "source": [
    "### Lab 5 - Scaling up your app\n",
    "#### Step 1 of 3: Scaling a deployment\n",
    "\n",
    "To list your deployments use the get deployments command: kubectl get deployments"
   ]
  },
  {
   "cell_type": "code",
   "execution_count": 3,
   "metadata": {},
   "outputs": [
    {
     "name": "stdout",
     "output_type": "stream",
     "text": [
      "NAME                              READY   UP-TO-DATE   AVAILABLE   AGE\n",
      "kubernetes-bootcamp-student1125   1/1     1            1           5d21h\n"
     ]
    }
   ],
   "source": [
    "studentId=$(grep hpecp-user $HOME/.kube/config | cut -d= -f2)\n",
    "POD_NAME=$(kubectl get pods -o go-template --template '{{range .items}}{{.metadata.name}}{{\"\\n\"}}{{end}}' | grep $studentId) \n",
    "port=$(expr $(echo ${studentId} | tr -cd '[[:digit:]]') + 8000)\n",
    "\n",
    "kubectl get deployments \n"
   ]
  },
  {
   "cell_type": "markdown",
   "metadata": {},
   "source": [
    "The output should be similar to:\n",
    "\n",
    "````\n",
    "NAME                  READY   UP-TO-DATE   AVAILABLE   AGE\n",
    "kubernetes-bootcamp   1/1     1            1           11m\n",
    "````\n",
    "\n",
    "- *NAME* lists the names of the Deployments in the cluster.\n",
    "- *READY* shows the ratio of CURRENT/DESIRED replicas\n",
    "- *UP-TO-DATE* displays the number of replicas that have been updated to achieve the desired state.\n",
    "- *AVAILABLE* displays how many replicas of the application are available to your users.\n",
    "- *AGE* displays the amount of time that the application has been running.\n",
    "\n",
    "To see the ReplicaSet created by the Deployment, run kubectl get rs\n",
    "\n"
   ]
  },
  {
   "cell_type": "code",
   "execution_count": 4,
   "metadata": {},
   "outputs": [
    {
     "name": "stdout",
     "output_type": "stream",
     "text": [
      "NAME                                         DESIRED   CURRENT   READY   AGE\n",
      "kubernetes-bootcamp-student1125-55cc476c66   1         1         1       5d21h\n"
     ]
    }
   ],
   "source": [
    "kubectl get rs"
   ]
  },
  {
   "cell_type": "markdown",
   "metadata": {},
   "source": [
    "Notice that the name of the ReplicaSet is always formatted as [DEPLOYMENT-NAME]-[RANDOM-STRING]. The random string is randomly generated and uses the pod-template-hash as a seed.\n",
    "\n",
    "Two important columns of this command are:\n",
    "\n",
    "- *DESIRED* displays the desired number of replicas of the application, which you define when you create the Deployment. This is the desired state.\n",
    "- *CURRENT* displays how many replicas are currently running.\n",
    "\n",
    "Next, let’s scale the Deployment to 4 replicas. We’ll use the kubectl scale command, followed by the deployment type, name and desired number of instances:"
   ]
  },
  {
   "cell_type": "code",
   "execution_count": 5,
   "metadata": {},
   "outputs": [
    {
     "name": "stdout",
     "output_type": "stream",
     "text": [
      "deployment.apps/kubernetes-bootcamp-student1125 scaled\n"
     ]
    }
   ],
   "source": [
    "kubectl scale deployments/kubernetes-bootcamp-$studentId --replicas=4"
   ]
  },
  {
   "cell_type": "markdown",
   "metadata": {},
   "source": [
    "To list your Deployments once again, use get deployments:"
   ]
  },
  {
   "cell_type": "code",
   "execution_count": 6,
   "metadata": {},
   "outputs": [
    {
     "name": "stdout",
     "output_type": "stream",
     "text": [
      "NAME                              READY   UP-TO-DATE   AVAILABLE   AGE\n",
      "kubernetes-bootcamp-student1125   4/4     4            4           5d21h\n"
     ]
    }
   ],
   "source": [
    "kubectl get deployments"
   ]
  },
  {
   "cell_type": "markdown",
   "metadata": {},
   "source": [
    "The change was applied, and we have 4 instances of the application available. Next, let’s check if the number of Pods changed:"
   ]
  },
  {
   "cell_type": "code",
   "execution_count": 9,
   "metadata": {},
   "outputs": [
    {
     "name": "stdout",
     "output_type": "stream",
     "text": [
      "NAME                                               READY   STATUS    RESTARTS   AGE     IP             NODE                               NOMINATED NODE   READINESS GATES\n",
      "kubernetes-bootcamp-student1125-55cc476c66-gjdr4   1/1     Running   0          5d21h   10.192.0.144   worker27.etc.fr.comm.hpecorp.net   <none>           <none>\n",
      "kubernetes-bootcamp-student1125-55cc476c66-nwvh2   1/1     Running   0          103s    10.192.1.11    worker28.etc.fr.comm.hpecorp.net   <none>           <none>\n",
      "kubernetes-bootcamp-student1125-55cc476c66-t6hgq   1/1     Running   0          103s    10.192.0.149   worker27.etc.fr.comm.hpecorp.net   <none>           <none>\n",
      "kubernetes-bootcamp-student1125-55cc476c66-zqjk5   1/1     Running   0          103s    10.192.1.12    worker28.etc.fr.comm.hpecorp.net   <none>           <none>\n"
     ]
    }
   ],
   "source": [
    "kubectl get pods -o wide"
   ]
  },
  {
   "cell_type": "markdown",
   "metadata": {},
   "source": [
    "There are 4 Pods now, with different IP addresses. The change was registered in the Deployment events log. To check that, use the describe command:"
   ]
  },
  {
   "cell_type": "code",
   "execution_count": 10,
   "metadata": {},
   "outputs": [
    {
     "name": "stdout",
     "output_type": "stream",
     "text": [
      "Name:                   kubernetes-bootcamp-student1125\n",
      "Namespace:              k8shacktenant\n",
      "CreationTimestamp:      Thu, 28 Jan 2021 12:45:22 +0000\n",
      "Labels:                 app=kubernetes-bootcamp-student1125\n",
      "Annotations:            deployment.kubernetes.io/revision: 1\n",
      "Selector:               app=kubernetes-bootcamp-student1125\n",
      "Replicas:               4 desired | 4 updated | 4 total | 4 available | 0 unavailable\n",
      "StrategyType:           RollingUpdate\n",
      "MinReadySeconds:        0\n",
      "RollingUpdateStrategy:  25% max unavailable, 25% max surge\n",
      "Pod Template:\n",
      "  Labels:  app=kubernetes-bootcamp-student1125\n",
      "  Containers:\n",
      "   kubernetes-bootcamp:\n",
      "    Image:        gcr.io/google-samples/kubernetes-bootcamp:v1\n",
      "    Port:         <none>\n",
      "    Host Port:    <none>\n",
      "    Environment:  <none>\n",
      "    Mounts:       <none>\n",
      "  Volumes:        <none>\n",
      "Conditions:\n",
      "  Type           Status  Reason\n",
      "  ----           ------  ------\n",
      "  Progressing    True    NewReplicaSetAvailable\n",
      "  Available      True    MinimumReplicasAvailable\n",
      "OldReplicaSets:  <none>\n",
      "NewReplicaSet:   kubernetes-bootcamp-student1125-55cc476c66 (4/4 replicas created)\n",
      "Events:\n",
      "  Type    Reason             Age   From                   Message\n",
      "  ----    ------             ----  ----                   -------\n",
      "  Normal  ScalingReplicaSet  87s   deployment-controller  Scaled up replica set kubernetes-bootcamp-student1125-55cc476c66 to 4\n"
     ]
    }
   ],
   "source": [
    "kubectl describe deployments/kubernetes-bootcamp-$studentId"
   ]
  },
  {
   "cell_type": "markdown",
   "metadata": {},
   "source": [
    "You can also view in the output of this command that there are 4 replicas now.\n",
    "\n",
    "#### Step 2 of 3: Load Balancing\n",
    "\n",
    "Let’s check that the Service is load-balancing the traffic. To find out the exposed IP and Port we can use the describe service as we learned in the previous Module:"
   ]
  },
  {
   "cell_type": "code",
   "execution_count": null,
   "metadata": {},
   "outputs": [],
   "source": [
    "kubectl expose deployment/kubernetes-bootcamp-$studentId --type=\"NodePort\" --port 8080"
   ]
  },
  {
   "cell_type": "code",
   "execution_count": 15,
   "metadata": {},
   "outputs": [
    {
     "name": "stdout",
     "output_type": "stream",
     "text": [
      "Name:                     kubernetes-bootcamp-student1125\n",
      "Namespace:                k8shacktenant\n",
      "Labels:                   app=kubernetes-bootcamp-student1125\n",
      "Annotations:              <none>\n",
      "Selector:                 app=kubernetes-bootcamp-student1125\n",
      "Type:                     NodePort\n",
      "IP:                       10.107.67.230\n",
      "Port:                     <unset>  8080/TCP\n",
      "TargetPort:               8080/TCP\n",
      "NodePort:                 <unset>  32574/TCP\n",
      "Endpoints:                10.192.0.144:8080,10.192.0.149:8080,10.192.1.11:8080 + 1 more...\n",
      "Session Affinity:         None\n",
      "External Traffic Policy:  Cluster\n",
      "Events:                   <none>\n"
     ]
    }
   ],
   "source": [
    "kubectl describe service/kubernetes-bootcamp-$studentId  "
   ]
  },
  {
   "cell_type": "markdown",
   "metadata": {},
   "source": [
    "Create an environment variable called NODE_PORT that has the value of the Node port assigned.\n",
    "And another one that compute NODE_NAME from a  `kubectl describe pods ` command. "
   ]
  },
  {
   "cell_type": "code",
   "execution_count": 49,
   "metadata": {},
   "outputs": [
    {
     "name": "stdout",
     "output_type": "stream",
     "text": [
      "NODE_PORT=32574\n",
      "NODE_NAME=worker27.etc.fr.comm.hpecorp.net\n"
     ]
    }
   ],
   "source": [
    "NODE_PORT=$(kubectl get services/kubernetes-bootcamp-$studentId -o go-template='{{(index .spec.ports 0).nodePort}}')\n",
    "echo NODE_PORT=$NODE_PORT\n",
    "NODE_NAME=$(kubectl describe pods $POD_NAME | grep Node:)\n",
    "NODE_NAME=${NODE_NAME#Node:} \n",
    "NODE_NAME=${NODE_NAME%/*} \n",
    "NODE_NAME=$(echo $NODE_NAME | xargs)\n",
    "echo NODE_NAME=$NODE_NAME\n"
   ]
  },
  {
   "cell_type": "markdown",
   "metadata": {},
   "source": [
    "Next, we’ll do a `curl` to the exposed IP and port. Execute the command multiple times:\n",
    "\n",
    "> To execute a multiple times, use CTRL-Enter while positioned on that cell."
   ]
  },
  {
   "cell_type": "code",
   "execution_count": 59,
   "metadata": {},
   "outputs": [
    {
     "name": "stdout",
     "output_type": "stream",
     "text": [
      "Hello Kubernetes bootcamp! | Running on: kubernetes-bootcamp-student1125-55cc476c66-gjdr4 | v=1\n"
     ]
    }
   ],
   "source": [
    "curl http://$NODE_NAME:$NODE_PORT"
   ]
  },
  {
   "cell_type": "markdown",
   "metadata": {},
   "source": [
    "We hit a different Pod with every request. This demonstrates that the load-balancing is working.\n",
    "\n",
    "#### Step 3 of 3: Deleting a service\n",
    "\n",
    "To delete Services you can use the `delete service` command. Labels can be used also here:"
   ]
  },
  {
   "cell_type": "code",
   "execution_count": 60,
   "metadata": {},
   "outputs": [
    {
     "name": "stdout",
     "output_type": "stream",
     "text": [
      "service \"kubernetes-bootcamp-student1125\" deleted\n"
     ]
    }
   ],
   "source": [
    "kubectl delete service -l app=kubernetes-bootcamp-$studentId"
   ]
  },
  {
   "cell_type": "markdown",
   "metadata": {},
   "source": [
    "Confirm that the service is gone:"
   ]
  },
  {
   "cell_type": "code",
   "execution_count": 61,
   "metadata": {},
   "outputs": [
    {
     "name": "stdout",
     "output_type": "stream",
     "text": [
      "No resources found in k8shacktenant namespace.\n"
     ]
    },
    {
     "ename": "",
     "evalue": "1",
     "output_type": "error",
     "traceback": []
    }
   ],
   "source": [
    "kubectl get services | grep $studentId"
   ]
  },
  {
   "cell_type": "markdown",
   "metadata": {},
   "source": [
    "This confirms that our Service was removed. To confirm that route is not exposed anymore you can curl the previously exposed IP and port:"
   ]
  },
  {
   "cell_type": "code",
   "execution_count": 62,
   "metadata": {},
   "outputs": [
    {
     "name": "stdout",
     "output_type": "stream",
     "text": [
      "curl: (7) Failed to connect to worker27.etc.fr.comm.hpecorp.net port 32574: Connection refused\n"
     ]
    },
    {
     "ename": "",
     "evalue": "7",
     "output_type": "error",
     "traceback": []
    }
   ],
   "source": [
    "curl http://$NODE_NAME:$NODE_PORT"
   ]
  },
  {
   "cell_type": "markdown",
   "metadata": {},
   "source": [
    "This proves that the app is not reachable anymore from outside of the cluster. You can confirm that the app is still running with a curl inside the pod:"
   ]
  },
  {
   "cell_type": "code",
   "execution_count": 63,
   "metadata": {},
   "outputs": [
    {
     "name": "stdout",
     "output_type": "stream",
     "text": [
      "Hello Kubernetes bootcamp! | Running on: kubernetes-bootcamp-student1125-55cc476c66-gjdr4 | v=1\n"
     ]
    }
   ],
   "source": [
    "kubectl exec $POD_NAME -- curl -s localhost:8080"
   ]
  },
  {
   "cell_type": "markdown",
   "metadata": {},
   "source": [
    "We see here that the application is up. This is because the Deployment is managing the application. To shut down the application, you would need to delete the Deployment as well.\n"
   ]
  },
  {
   "cell_type": "markdown",
   "metadata": {},
   "source": [
    "This terminates module 5. Let's continue with [module 6, Update your app](./7-WKSHP-K8S101-mod6.ipynb)."
   ]
  },
  {
   "cell_type": "code",
   "execution_count": null,
   "metadata": {},
   "outputs": [],
   "source": []
  }
 ],
 "metadata": {
  "kernelspec": {
   "display_name": "Bash",
   "language": "bash",
   "name": "bash"
  },
  "language_info": {
   "codemirror_mode": "shell",
   "file_extension": ".sh",
   "mimetype": "text/x-sh",
   "name": "bash"
  }
 },
 "nbformat": 4,
 "nbformat_minor": 4
}
