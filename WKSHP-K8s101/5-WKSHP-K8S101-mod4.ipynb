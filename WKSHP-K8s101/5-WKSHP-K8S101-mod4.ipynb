{
 "cells": [
  {
   "cell_type": "markdown",
   "metadata": {},
   "source": [
    "# Module 4: Using a Service to Expose Your App\n",
    "\n",
    "## Objectives\n",
    "\n",
    "* Learn about a Service in Kubernetes\n",
    "* Understand how labels and LabelSelector objects relate to a Service\n",
    "* Expose an application outside a Kubernetes cluster using a Service\n",
    "\n",
    "## Overview of Kubernetes Services\n",
    "\n",
    "Kubernetes [Pods](https://kubernetes.io/docs/concepts/workloads/pods/) are mortal. Pods in fact have a [lifecycle](https://kubernetes.io/docs/concepts/workloads/pods/pod-lifecycle/). When a worker node dies, the Pods running on the Node are also lost. A [ReplicaSet](https://kubernetes.io/docs/concepts/workloads/controllers/replicaset/) might then dynamically drive the cluster back to desired state via creation of new Pods to keep your application running. As another example, consider an image-processing backend with 3 replicas. Those replicas are exchangeable; the front-end system should not care about backend replicas or even if a Pod is lost and recreated. That said, each Pod in a Kubernetes cluster has a unique IP address, even Pods on the same Node, so there needs to be a way of automatically reconciling changes among Pods so that your applications continue to function.\n",
    "\n",
    "A Service in Kubernetes is an abstraction which defines a logical set of Pods and a policy by which to access them. Services enable a loose coupling between dependent Pods. A Service is defined using YAML [(preferred)](https://kubernetes.io/docs/concepts/configuration/overview/#general-configuration-tips) or JSON, like all Kubernetes objects. The set of Pods targeted by a Service is usually determined by a *LabelSelector* (see below for why you might want a Service without including `selector` in the spec).\n",
    "\n",
    "Although each Pod has a unique IP address, those IPs are not exposed outside the cluster without a Service. Services allow your applications to receive traffic. Services can be exposed in different ways by specifying a `type` in the ServiceSpec:\n",
    "\n",
    "* *ClusterIP* (default) - Exposes the Service on an internal IP in the cluster. This type makes the Service only reachable from within the cluster.\n",
    "* *NodePort* - Exposes the Service on the same port of each selected Node in the cluster using NAT. Makes a Service accessible from outside the cluster using `<NodeIP>:<NodePort>`. Superset of ClusterIP.\n",
    "* *LoadBalancer* - Creates an external load balancer in the current cloud (if supported) and assigns a fixed, external IP to the Service. Superset of NodePort.\n",
    "* *ExternalName* - Exposes the Service using an arbitrary name (specified by `externalName` in the spec) by returning a CNAME record with the name. No proxy is used. This type requires v1.7 or higher of `kube-dns`.\n",
    "\n",
    "More information about the different types of Services can be found in the [Using Source IP](https://kubernetes.io/docs/tutorials/services/source-ip/) tutorial. Also see [Connecting Applications with Services](https://kubernetes.io/docs/concepts/services-networking/connect-applications-service).\n",
    "\n",
    "Additionally, note that there are some use cases with Services that involve not defining `selector` in the spec. A Service created without `selector` will also not create the corresponding Endpoints object. This allows users to manually map a Service to specific endpoints. Another possibility why there may be no selector is you are strictly using `type: ExternalName`.\n",
    "\n",
    ">A Kubernetes Service is an abstraction layer which defines a logical set of Pods and enables external traffic exposure, load balancing and service discovery for those Pods.*\n",
    "\n",
    "### Services and Labels\n",
    "\n",
    "<img src=\"https://d33wubrfki0l68.cloudfront.net/cc38b0f3c0fd94e66495e3a4198f2096cdecd3d5/ace10/docs/tutorials/kubernetes-basics/public/images/module_04_services.svg\" width=400>\n",
    "\n",
    "A Service routes traffic across a set of Pods. Services are the abstraction that allow pods to die and replicate in Kubernetes without impacting your application. Discovery and routing among dependent Pods (such as the frontend and backend components in an application) is handled by Kubernetes Services.\n",
    "\n",
    "Services match a set of Pods using [labels and selectors](https://kubernetes.io/docs/concepts/overview/working-with-objects/labels), a grouping primitive that allows logical operation on objects in Kubernetes. Labels are key/value pairs attached to objects and can be used in any number of ways:\n",
    "\n",
    "* Designate objects for development, test, and production\n",
    "* Embed version tags\n",
    "* Classify an object using tags\n",
    "\n",
    "<img src=\"https://d33wubrfki0l68.cloudfront.net/b964c59cdc1979dd4e1904c25f43745564ef6bee/f3351/docs/tutorials/kubernetes-basics/public/images/module_04_labels.svg\" width=400>\n",
    "\n",
    "\n",
    "Labels can be attached to objects at creation time or later on. They can be modified at any time. Let's expose our application now using a Service and apply some labels."
   ]
  },
  {
   "cell_type": "markdown",
   "metadata": {},
   "source": [
    "### Lab 4 - Explose your app publicly\n",
    "#### Step 1 of 2: Create a new service\n",
    "\n",
    "Let’s verify that our application is running. We’ll use the kubectl get command and look for existing Pods:"
   ]
  },
  {
   "cell_type": "code",
   "execution_count": 49,
   "metadata": {},
   "outputs": [
    {
     "name": "stdout",
     "output_type": "stream",
     "text": [
      "NAME                                               READY   STATUS    RESTARTS   AGE\n",
      "kubernetes-bootcamp-student1125-55cc476c66-gjdr4   1/1     Running   0          5d4h\n"
     ]
    }
   ],
   "source": [
    "studentId=$(grep hpecp-user $HOME/.kube/config | cut -d= -f2)\n",
    "POD_NAME=$(kubectl get pods -o go-template --template '{{range .items}}{{.metadata.name}}{{\"\\n\"}}{{end}}' | grep $studentId) \n",
    "port=$(expr $(echo ${studentId} | tr -cd '[[:digit:]]') + 8000)\n",
    "kubectl get pods $POD_NAME"
   ]
  },
  {
   "cell_type": "markdown",
   "metadata": {},
   "source": [
    "Next, let’s list the current Services from our cluster:"
   ]
  },
  {
   "cell_type": "code",
   "execution_count": 50,
   "metadata": {},
   "outputs": [
    {
     "name": "stdout",
     "output_type": "stream",
     "text": [
      "kubernetes-bootcamp-student1125   NodePort    10.107.42.35    <none>        8080:32236/TCP   16m\n"
     ]
    }
   ],
   "source": [
    "kubectl get services | grep $studentId"
   ]
  },
  {
   "cell_type": "markdown",
   "metadata": {},
   "source": [
    "There is no service yet. To create a new service and expose it to external traffic we’ll use the expose command with NodePort as parameter."
   ]
  },
  {
   "cell_type": "code",
   "execution_count": 33,
   "metadata": {},
   "outputs": [
    {
     "name": "stdout",
     "output_type": "stream",
     "text": [
      "service/kubernetes-bootcamp-student1125 exposed\n"
     ]
    }
   ],
   "source": [
    "kubectl expose deployment/kubernetes-bootcamp-$studentId --type=\"NodePort\" --port 8080"
   ]
  },
  {
   "cell_type": "markdown",
   "metadata": {},
   "source": [
    "Let’s run again the get services command:"
   ]
  },
  {
   "cell_type": "code",
   "execution_count": 51,
   "metadata": {},
   "outputs": [
    {
     "name": "stdout",
     "output_type": "stream",
     "text": [
      "kubernetes-bootcamp-student1125   NodePort    10.107.42.35    <none>        8080:32236/TCP   16m\n"
     ]
    }
   ],
   "source": [
    "kubectl get services"
   ]
  },
  {
   "cell_type": "markdown",
   "metadata": {},
   "source": [
    "We have now a running Service called kubernetes-bootcamp-studentId. Here we see that the Service received a unique cluster-IP, an internal port and an external-IP (the IP of the Node).\n",
    "\n",
    "To find out what port was opened externally (by the NodePort option) we’ll run the describe service command:"
   ]
  },
  {
   "cell_type": "code",
   "execution_count": 52,
   "metadata": {},
   "outputs": [
    {
     "name": "stdout",
     "output_type": "stream",
     "text": [
      "Name:                     kubernetes-bootcamp-student1125\n",
      "Namespace:                k8shacktenant\n",
      "Labels:                   app=kubernetes-bootcamp-student1125\n",
      "Annotations:              <none>\n",
      "Selector:                 app=kubernetes-bootcamp-student1125\n",
      "Type:                     NodePort\n",
      "IP:                       10.107.42.35\n",
      "Port:                     <unset>  8080/TCP\n",
      "TargetPort:               8080/TCP\n",
      "NodePort:                 <unset>  32236/TCP\n",
      "Endpoints:                10.192.0.144:8080\n",
      "Session Affinity:         None\n",
      "External Traffic Policy:  Cluster\n",
      "Events:                   <none>\n"
     ]
    }
   ],
   "source": [
    "kubectl describe services/kubernetes-bootcamp-$studentId"
   ]
  },
  {
   "cell_type": "markdown",
   "metadata": {},
   "source": [
    "Create an environment variable called NODE_PORT that has the value of the Node port assigned.\n",
    "And another one that compute NODE_NAME from a  `kubectl describe pods ` command. "
   ]
  },
  {
   "cell_type": "code",
   "execution_count": 120,
   "metadata": {},
   "outputs": [
    {
     "name": "stdout",
     "output_type": "stream",
     "text": [
      "NODE_PORT=32236\n",
      "NODE_NAME=worker27.etc.fr.comm.hpecorp.net\n"
     ]
    }
   ],
   "source": [
    "NODE_PORT=$(kubectl get services/kubernetes-bootcamp-$studentId -o go-template='{{(index .spec.ports 0).nodePort}}')\n",
    "echo NODE_PORT=$NODE_PORT\n",
    "NODE_NAME=$(kubectl describe pods $POD_NAME | grep Node:)\n",
    "NODE_NAME=${NODE_NAME#Node:} \n",
    "NODE_NAME=${NODE_NAME%/*} \n",
    "NODE_NAME=$(echo $NODE_NAME | xargs)\n",
    "echo NODE_NAME=$NODE_NAME\n"
   ]
  },
  {
   "cell_type": "markdown",
   "metadata": {},
   "source": [
    "We can now call the service to show that it's exposed. "
   ]
  },
  {
   "cell_type": "code",
   "execution_count": 122,
   "metadata": {},
   "outputs": [
    {
     "name": "stdout",
     "output_type": "stream",
     "text": [
      "Hello Kubernetes bootcamp! | Running on: kubernetes-bootcamp-student1125-55cc476c66-gjdr4 | v=1\n"
     ]
    }
   ],
   "source": [
    "curl http://$NODE_NAME:$NODE_PORT"
   ]
  },
  {
   "cell_type": "markdown",
   "metadata": {},
   "source": [
    ">The service is exposed through any node from the cluster. You can try this with any of the worker node name part of your cluster, retrieved with ` kubectl get nodes `"
   ]
  },
  {
   "cell_type": "markdown",
   "metadata": {},
   "source": [
    "#### Step 2 of 2: Using labels\n",
    "\n",
    "The Deployment created automatically a label for our Pod. With ` describe deployment ` command you can see the name of the labels:"
   ]
  },
  {
   "cell_type": "code",
   "execution_count": 133,
   "metadata": {},
   "outputs": [
    {
     "name": "stdout",
     "output_type": "stream",
     "text": [
      "Name:                   kubernetes-bootcamp-student1125\n",
      "Namespace:              k8shacktenant\n",
      "CreationTimestamp:      Thu, 28 Jan 2021 12:45:22 +0000\n",
      "Labels:                 app=kubernetes-bootcamp-student1125\n",
      "Annotations:            deployment.kubernetes.io/revision: 1\n",
      "Selector:               app=kubernetes-bootcamp-student1125\n",
      "Replicas:               1 desired | 1 updated | 1 total | 1 available | 0 unavailable\n",
      "StrategyType:           RollingUpdate\n",
      "MinReadySeconds:        0\n",
      "RollingUpdateStrategy:  25% max unavailable, 25% max surge\n",
      "Pod Template:\n",
      "  Labels:  app=kubernetes-bootcamp-student1125\n",
      "  Containers:\n",
      "   kubernetes-bootcamp:\n",
      "    Image:        gcr.io/google-samples/kubernetes-bootcamp:v1\n",
      "    Port:         <none>\n",
      "    Host Port:    <none>\n",
      "    Environment:  <none>\n",
      "    Mounts:       <none>\n",
      "  Volumes:        <none>\n",
      "Conditions:\n",
      "  Type           Status  Reason\n",
      "  ----           ------  ------\n",
      "  Available      True    MinimumReplicasAvailable\n",
      "  Progressing    True    NewReplicaSetAvailable\n",
      "OldReplicaSets:  <none>\n",
      "NewReplicaSet:   kubernetes-bootcamp-student1125-55cc476c66 (1/1 replicas created)\n",
      "Events:          <none>\n"
     ]
    }
   ],
   "source": [
    "kubectl describe deployment kubernetes-bootcamp-$studentId"
   ]
  },
  {
   "cell_type": "markdown",
   "metadata": {},
   "source": [
    "Let’s use this label to query our list of Pods. We’ll use the kubectl get pods command with -l as a parameter, followed by the label values:"
   ]
  },
  {
   "cell_type": "code",
   "execution_count": 134,
   "metadata": {},
   "outputs": [
    {
     "name": "stdout",
     "output_type": "stream",
     "text": [
      "NAME                                               READY   STATUS    RESTARTS   AGE\n",
      "kubernetes-bootcamp-student1125-55cc476c66-gjdr4   1/1     Running   0          5d20h\n"
     ]
    }
   ],
   "source": [
    "kubectl get pods -l app=kubernetes-bootcamp-$studentId"
   ]
  },
  {
   "cell_type": "markdown",
   "metadata": {},
   "source": [
    "You can do the same to list the existing services:"
   ]
  },
  {
   "cell_type": "code",
   "execution_count": 127,
   "metadata": {},
   "outputs": [
    {
     "name": "stdout",
     "output_type": "stream",
     "text": [
      "NAME                              TYPE       CLUSTER-IP     EXTERNAL-IP   PORT(S)          AGE\n",
      "kubernetes-bootcamp-student1125   NodePort   10.107.42.35   <none>        8080:32236/TCP   16h\n"
     ]
    }
   ],
   "source": [
    "kubectl get services -l app=kubernetes-bootcamp-$studentId"
   ]
  },
  {
   "cell_type": "markdown",
   "metadata": {},
   "source": [
    "To apply a new label we use the label command followed by the object type, object name and the new label:"
   ]
  },
  {
   "cell_type": "code",
   "execution_count": 129,
   "metadata": {},
   "outputs": [
    {
     "name": "stdout",
     "output_type": "stream",
     "text": [
      "pod/kubernetes-bootcamp-student1125-55cc476c66-gjdr4 labeled\n"
     ]
    }
   ],
   "source": [
    "kubectl label pod $POD_NAME version=v1"
   ]
  },
  {
   "cell_type": "markdown",
   "metadata": {},
   "source": [
    "This will apply a new label to our Pod (we pinned the application version to the Pod), and we can check it with the describe pod command:"
   ]
  },
  {
   "cell_type": "code",
   "execution_count": 130,
   "metadata": {},
   "outputs": [
    {
     "name": "stdout",
     "output_type": "stream",
     "text": [
      "Name:         kubernetes-bootcamp-student1125-55cc476c66-gjdr4\n",
      "Namespace:    k8shacktenant\n",
      "Priority:     0\n",
      "Node:         worker27.etc.fr.comm.hpecorp.net/16.31.84.69\n",
      "Start Time:   Thu, 28 Jan 2021 12:44:08 +0000\n",
      "Labels:       app=kubernetes-bootcamp-student1125\n",
      "              pod-template-hash=55cc476c66\n",
      "              version=v1\n",
      "Annotations:  cni.projectcalico.org/podIP: 10.192.0.144/32\n",
      "              cni.projectcalico.org/podIPs: 10.192.0.144/32\n",
      "              kubernetes.io/psp: hcp-psp-privileged\n",
      "Status:       Running\n",
      "IP:           10.192.0.144\n",
      "IPs:\n",
      "  IP:           10.192.0.144\n",
      "Controlled By:  ReplicaSet/kubernetes-bootcamp-student1125-55cc476c66\n",
      "Containers:\n",
      "  kubernetes-bootcamp:\n",
      "    Container ID:   docker://2e564c56b2147258c943d83cc6783e74be1e72aa365f84b541d5948c6557235a\n",
      "    Image:          gcr.io/google-samples/kubernetes-bootcamp:v1\n",
      "    Image ID:       docker-pullable://gcr.io/google-samples/kubernetes-bootcamp@sha256:0d6b8ee63bb57c5f5b6156f446b3bc3b3c143d233037f3a2f00e279c8fcc64af\n",
      "    Port:           <none>\n",
      "    Host Port:      <none>\n",
      "    State:          Running\n",
      "      Started:      Thu, 28 Jan 2021 12:44:10 +0000\n",
      "    Ready:          True\n",
      "    Restart Count:  0\n",
      "    Environment:    <none>\n",
      "    Mounts:\n",
      "      /var/run/secrets/kubernetes.io/serviceaccount from default-token-zx4gf (ro)\n",
      "Conditions:\n",
      "  Type              Status\n",
      "  Initialized       True \n",
      "  Ready             True \n",
      "  ContainersReady   True \n",
      "  PodScheduled      True \n",
      "Volumes:\n",
      "  default-token-zx4gf:\n",
      "    Type:        Secret (a volume populated by a Secret)\n",
      "    SecretName:  default-token-zx4gf\n",
      "    Optional:    false\n",
      "QoS Class:       BestEffort\n",
      "Node-Selectors:  <none>\n",
      "Tolerations:     node.kubernetes.io/not-ready:NoExecute op=Exists for 300s\n",
      "                 node.kubernetes.io/unreachable:NoExecute op=Exists for 300s\n",
      "Events:          <none>\n"
     ]
    }
   ],
   "source": [
    "kubectl describe pods $POD_NAME"
   ]
  },
  {
   "cell_type": "markdown",
   "metadata": {},
   "source": [
    "We see here that the label is attached now to our Pod. And we can query now the list of pods using the new label:"
   ]
  },
  {
   "cell_type": "code",
   "execution_count": 135,
   "metadata": {},
   "outputs": [
    {
     "name": "stdout",
     "output_type": "stream",
     "text": [
      "NAME                                               READY   STATUS    RESTARTS   AGE\n",
      "kubernetes-bootcamp-student1125-55cc476c66-gjdr4   1/1     Running   0          5d20h\n"
     ]
    }
   ],
   "source": [
    "kubectl get pods -l version=v1"
   ]
  },
  {
   "cell_type": "markdown",
   "metadata": {},
   "source": [
    "This terminates module 4. Let's continue with [module 5, Scale up your app](./6-WKSHP-K8S101-mod5.ipynb)."
   ]
  },
  {
   "cell_type": "code",
   "execution_count": null,
   "metadata": {},
   "outputs": [],
   "source": []
  }
 ],
 "metadata": {
  "kernelspec": {
   "display_name": "Bash",
   "language": "bash",
   "name": "bash"
  },
  "language_info": {
   "codemirror_mode": "shell",
   "file_extension": ".sh",
   "mimetype": "text/x-sh",
   "name": "bash"
  }
 },
 "nbformat": 4,
 "nbformat_minor": 4
}
