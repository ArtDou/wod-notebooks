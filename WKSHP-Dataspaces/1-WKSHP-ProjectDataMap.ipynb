{
 "cells": [
  {
   "cell_type": "markdown",
   "metadata": {},
   "source": [
    "\n",
    "# Finding the data you didn't know you needed\n",
    "## Overview\n",
    "In this workshop, you’ll get to see how Project Data Map can help you discover new and meaningful datasets that enhance your model building experience, all whilst keeping track of the datasets you know and love, so next time you don’t have to go digging through old notebooks to find them! You’ll even learn how you can share them with your classmates or trade them for valuable tokens!\n",
    "\n",
    "## Architecture\n",
    "the following lab could run from your laptop or from binder but we adapted it to fit in our overall workshop infrastructure.\n",
    "We are using a vm appliance serving one docker container (containing the labs) per student.\n",
    "\n",
    "![WOD-infra](Pictures/wod-docker-infra.png)\n",
    "\n",
    "\n",
    "you will be moving to a second jupyter notebook environment right now using the link provided below."
   ]
  },
  {
   "cell_type": "markdown",
   "metadata": {},
   "source": [
    "## Let us start the lab now!\n",
    "\n",
    "Click the following link to run the [Project Data Map lab](http://{{ JPHOSTEXT }}:{{ DATASPACESPORT }}?token={{ PASSSTU }})\n",
    "\n",
    "Click the following link to access the [Project Data Map Web UI](http://{{ JPHOSTEXT }}:{{ DATASPACESPORT2 }})\n",
    "\n",
    "## Now what?\n",
    "Congratulations! You have now completed this workshop!\n",
    "\n",
    "## Feedback\n",
    "\n",
    "If after following this workshop you feel that the objectives haven't been achieved, please [email me](mailto:glyn.bowdenw@hpe.com) with your feedback.\n",
    "\n",
    "\n",
    "# Time to wrap up\n",
    "You can now move to the conclusion of this workshop !\n",
    "\n",
    "* [Conclusion](2-WKSHP-Conclusion.ipynb)"
   ]
  },
  {
   "cell_type": "code",
   "execution_count": null,
   "metadata": {},
   "outputs": [],
   "source": []
  }
 ],
 "metadata": {
  "kernelspec": {
   "display_name": "Bash",
   "language": "bash",
   "name": "bash"
  },
  "language_info": {
   "codemirror_mode": "shell",
   "file_extension": ".sh",
   "mimetype": "text/x-sh",
   "name": "bash"
  }
 },
 "nbformat": 4,
 "nbformat_minor": 4
}
