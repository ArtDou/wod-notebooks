{
 "cells": [
  {
   "cell_type": "code",
   "execution_count": 2,
   "id": "8d05084f-740e-4e91-ace6-9e05b948b27b",
   "metadata": {},
   "outputs": [
    {
     "name": "stdout",
     "output_type": "stream",
     "text": [
      "PING localhost (127.0.0.1) 56(84) bytes of data.\n",
      "64 bytes from localhost (127.0.0.1): icmp_seq=1 ttl=64 time=0.036 ms\n",
      "64 bytes from localhost (127.0.0.1): icmp_seq=2 ttl=64 time=0.030 ms\n",
      "64 bytes from localhost (127.0.0.1): icmp_seq=3 ttl=64 time=0.033 ms\n",
      "64 bytes from localhost (127.0.0.1): icmp_seq=4 ttl=64 time=0.030 ms\n",
      "\n",
      "--- localhost ping statistics ---\n",
      "4 packets transmitted, 4 received, 0% packet loss, time 3052ms\n",
      "rtt min/avg/max/mdev = 0.030/0.032/0.036/0.002 ms\n"
     ]
    }
   ],
   "source": [
    "ping localhost\n"
   ]
  },
  {
   "cell_type": "code",
   "execution_count": null,
   "id": "a91cc3d7-2401-4a09-a1e4-b8d87e7421a6",
   "metadata": {},
   "outputs": [],
   "source": []
  }
 ],
 "metadata": {
  "kernelspec": {
   "display_name": "Bash",
   "language": "bash",
   "name": "bash"
  },
  "language_info": {
   "codemirror_mode": "shell",
   "file_extension": ".sh",
   "mimetype": "text/x-sh",
   "name": "bash"
  }
 },
 "nbformat": 4,
 "nbformat_minor": 5
}
