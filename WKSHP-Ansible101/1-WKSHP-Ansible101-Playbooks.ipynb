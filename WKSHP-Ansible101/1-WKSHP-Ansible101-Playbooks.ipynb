{
 "cells": [
  {
   "cell_type": "markdown",
   "metadata": {},
   "source": [
    "### Lab 1: Inventory, Playbooks, and Tasks\n",
    "\n",
    "## Working with inventory\n",
    "\n",
    "[From Ansible Doc](https://docs.ansible.com/ansible/latest/user_guide/playbooks_intro.html)\n",
    "\n",
    "I have a list of servers and devices I want to automate. How do I create inventory to track them?\n",
    "I use cloud services and constantly have servers and devices starting and stopping. How do I track them using dynamic inventory?\n",
    "I want to automate specific sub-sets of my inventory. How do I use patterns?\n",
    "\n",
    "Ansible works against multiple managed nodes or “hosts” in your infrastructure at the same time, using a list or group of lists known as inventory. Once your inventory is defined, you use patterns to select the hosts or groups you want Ansible to run against.\n",
    "\n",
    "The default location for inventory is a file called `/etc/ansible/hosts`. You can specify a different inventory file at the command line using the -i <path> option. You can also use multiple inventory files at the same time as described in Using multiple inventory sources, and/or pull inventory from dynamic or cloud sources or different formats (YAML, ini, and so on), as described in Working with dynamic inventory. Introduced in version 2.4, Ansible has Inventory plugins to make this flexible and customizable.\n",
    "\n",
    "\n",
    "## Modules and Commands\n",
    "    \n",
    "Ansible works by connecting to your nodes and pushing out scripts called “[Ansible modules](https://docs.ansible.com/ansible/2.9/modules/list_of_all_modules.html)” to them. Most modules accept parameters that describe the desired state of the system. Ansible then executes these modules (over SSH by default), and removes them when finished. Your library of modules can reside on any machine, and there are no servers, daemons, or databases required.\n",
    "\n",
    "You can write your own modules, though you should first consider whether you should. Typically you’ll work with your favorite terminal program, a text editor, and probably a version control system to keep track of changes to your content. You may write specialized modules in any language that can return JSON (Ruby, Python, bash, and so on).\n",
    "\n",
    "Take a look now at some of the modules HPE provides to System Admins:\n",
    "* [HPE Alletra 9000 and HPE Primera and HPE 3PAR Modules for Ansible](https://github.com/HewlettPackard/hpe3par_ansible_module)\n",
    "* [Ansible Modules for HPE SimpliVity](https://github.com/HewlettPackard/simplivity-ansible)\n"
   ]
  },
  {
   "cell_type": "markdown",
   "metadata": {},
   "source": [
    "Runs the ping module using Ansible to test that Ansible engine works as expected\n",
    "\n",
    "Press shift-enter to run the task."
   ]
  },
  {
   "cell_type": "code",
   "execution_count": null,
   "metadata": {},
   "outputs": [],
   "source": [
    "ansible localhost -m ping"
   ]
  },
  {
   "cell_type": "markdown",
   "metadata": {},
   "source": [
    "Ansible ad hoc commands are one-liners designed to achieve a very specific task they are like quick snippets and your compact swiss army knife when you want to do a quick task across multiple machines.\n",
    "\n",
    "To put simply, Ansible ad hoc commands are one-liner Linux shell commands and playbooks are like a shell script, a collective of many commands with logic.\n",
    "\n",
    "Ansible ad hoc commands come handy when you want to perform a quick task."
   ]
  },
  {
   "cell_type": "markdown",
   "metadata": {},
   "source": [
    "Now check uptime command"
   ]
  },
  {
   "cell_type": "code",
   "execution_count": null,
   "metadata": {},
   "outputs": [],
   "source": [
    "ansible localhost -a uptime"
   ]
  },
  {
   "cell_type": "markdown",
   "metadata": {},
   "source": [
    "as you could have already figured out -m is the module and -a should contain the command it should run which goes as an argument to command and shell."
   ]
  },
  {
   "cell_type": "markdown",
   "metadata": {},
   "source": [
    "A simple example to sync content of your current student directory with a remote system"
   ]
  },
  {
   "cell_type": "markdown",
   "metadata": {
    "tags": []
   },
   "source": [
    "# Hello World for Ansible Jupyter Notebook\n",
    "\n",
    "## Tasks \n",
    "    \n",
    "[From Ansible Doc](https://docs.ansible.com/ansible/latest/user_guide/playbooks_intro.html)\n",
    "\n",
    "By default, Ansible executes each task in order, one at a time, against all machines matched by the host pattern. Each task executes a module with specific arguments. When a task has executed on all target machines, Ansible moves on to the next task. You can use strategies to change this default behavior. Within each play, Ansible applies the same task directives to all hosts. If a task fails on a host, Ansible takes that host out of the rotation for the rest of the playbook.\n",
    "\n",
    "When you run a playbook, Ansible returns information about connections, the name lines of all your plays and tasks, whether each task has succeeded or failed on each machine, and whether each task has made a change on each machine. At the bottom of the playbook execution, Ansible provides a summary of the nodes that were targeted and how they performed. General failures and fatal “unreachable” communication attempts are kept separate in the counts.\n",
    "\n",
    "* Runs a play with a single ping task\n",
    "* One yaml to rule them all\n",
    "* but there is a better way , that we'll see in a moment\n",
    "\n",
    "\n",
    "* Press shift-enter twice to run the play and the task\n",
    "\n",
    "\n",
    "## Playbooks\n",
    "\n",
    "\n",
    "Ansible Playbooks offer a repeatable, re-usable, simple configuration management and multi-machine deployment system, one that is well suited to deploying complex applications. If you need to execute a task with Ansible more than once, write a playbook and put it under source control. Then you can use the playbook to push out new configuration or confirm the configuration of remote systems. The playbooks in the [ansible-examples repository](https://github.com/ansible/ansible-examples) illustrate many useful techniques. You may want to look at these in another tab as you read the documentation. This is where Ansible starts to get most interesting.\n",
    "\n",
    "Playbooks can:\n",
    "\n",
    "* declare configurations\n",
    "* orchestrate steps of any manual ordered process, on multiple sets of machines, in a defined order\n",
    "* launch tasks synchronously or asynchronously\n",
    "\n",
    "Ansible’s approach to orchestration is one of finely-tuned simplicity, as we believe your automation code should make perfect sense to you years down the road and there should be very little to remember about special syntax or features.\n",
    "\n",
    "A playbook contains a list of tasks  (plays) in an order they should get executed against a set of hosts or a single host based on the configuration specified.  Playbooks are text files written in YAML, in an easy human-readable syntax having the following constraints:\n",
    "\n",
    "* start with three dashes (---)\n",
    "* A proper indentation using spaces and not tabs!\n",
    " \n",
    "\n",
    "You can consider ansible ad-hoc commands as shell commands and a playbook as a shell script. In this Shell script analogy, many shell commands put together in the form of shell script to perform a set of tasks and they also give us benefits like conditional statements, loops, functions etc.\n",
    "Likewise, Ansible Playbooks are a group of ad-hoc commands with additional programming elements like loops, iterations, conditionals etc.\n",
    "\n",
    "Here’s what a simple playbook looks like:\n",
    "\n",
    "```\n",
    "---\n",
    "- hosts: webservers\n",
    "  serial: 5 # update 5 machines at a time\n",
    "  roles:\n",
    "  - common\n",
    "  - webapp\n",
    "\n",
    "- hosts: content_servers\n",
    "  roles:\n",
    "  - common\n",
    "  - content\n",
    "```  "
   ]
  },
  {
   "cell_type": "code",
   "execution_count": null,
   "metadata": {},
   "outputs": [],
   "source": [
    "cat > test.yml << EOF\n",
    "- hosts: localhost\n",
    "  gather_facts: false\n",
    "  tasks:  \n",
    "    - name: ping\n",
    "      ping:\n",
    "EOF\n",
    "echo \"########################\"\n",
    "echo \"test.yml file created\"\n",
    "echo \"########################\"\n",
    "echo \" \"\n",
    "echo \" \"\n",
    "cat test.yml"
   ]
  },
  {
   "cell_type": "code",
   "execution_count": null,
   "metadata": {},
   "outputs": [],
   "source": [
    "ansible-playbook test.yml"
   ]
  },
  {
   "cell_type": "markdown",
   "metadata": {},
   "source": [
    "# Hello World Playbook With Inventory and task split\n",
    "\n",
    "* Defines an inventory:  a distant Virtual Machine is available for you to test on\n",
    "* Defines a play\n",
    "* Defines a task\n",
    "\n",
    "* Press shift-enter three times to run the play and the task"
   ]
  },
  {
   "cell_type": "markdown",
   "metadata": {},
   "source": [
    "## Inventory\n",
    "By default, Ansible represents the machines it manages in a file (INI format) that puts all of your managed machines in groups of your own choosing.\n",
    "To add new machines, there is no additional SSL signing server involved, so there’s never any hassle deciding why a particular machine didn’t get linked up due to obscure NTP or DNS issues.\n",
    "If there’s another source of truth in your infrastructure, Ansible can also connect to that. Ansible can draw inventory, group, and variable information from sources like EC2, Rackspace, OpenStack, and more.\n",
    "\n",
    "Once inventory hosts are listed, variables can be assigned to them in simple text files (in a subdirectory called ‘group_vars/’ or ‘host_vars/’ or directly in the inventory file.\n",
    "Or, as already mentioned, use a dynamic inventory to pull your inventory from data sources like EC2, Rackspace, or OpenStack.\n",
    "\n",
    "The default inventory file is known as the hosts file and is located in the `/etc/ansible` directory. This is where all the managed remote nodes are specified. Ansible also gives you the flexibility to create a custom inventory file at your preferred location on your control node to suit your preferences. This is ideal when you have a complex environment and need to segregate your managed nodes into separate inventory files instead of having them all in the hosts file.\n",
    "\n",
    "Here’s what a plain text inventory file looks like:\n",
    "```\n",
    "[webservers]\n",
    "www1.example.com\n",
    "www2.example.com\n",
    "\n",
    "[dbservers]\n",
    "db0.example.com\n",
    "db1.example.com\n",
    "```\n",
    "\n",
    "to say it bluntly: Inventory allows you to group machines to apply treatments on."
   ]
  },
  {
   "cell_type": "code",
   "execution_count": null,
   "metadata": {},
   "outputs": [],
   "source": [
    "# Define an inventory:\n",
    "\n",
    "cat > inventory <<EOF\n",
    "[target]\n",
    "{{  hostvars[inventory_hostname]['IP-WKSHP-Ansible101'] }}\n",
    "EOF\n",
    "echo \"########################\"\n",
    "echo \"inventory file created\"\n",
    "echo \"########################\"\n",
    "echo \" \"\n",
    "echo \" \"\n",
    "echo \" \"\n",
    "\n",
    "cat inventory"
   ]
  },
  {
   "cell_type": "code",
   "execution_count": null,
   "metadata": {},
   "outputs": [],
   "source": [
    "# Define a task\n",
    "\n",
    "cat > play.yml << EOF\n",
    "- hosts: target\n",
    "  gather_facts: false\n",
    "  tasks:\n",
    "    - name: test\n",
    "      ping:\n",
    "EOF\n",
    "\n",
    "echo \"########################\"\n",
    "echo \"task file created\"\n",
    "echo \"########################\"\n",
    "echo \" \"\n",
    "echo \" \"\n",
    "echo \" \""
   ]
  },
  {
   "cell_type": "code",
   "execution_count": null,
   "metadata": {},
   "outputs": [],
   "source": [
    "ansible-playbook -i inventory play.yml"
   ]
  },
  {
   "cell_type": "markdown",
   "metadata": {},
   "source": [
    "# Hello World Playbook With Inventory\n",
    " \n",
    "* Defines an inventory\n",
    "* Defines a play\n",
    "* Defines a task\n",
    "\n",
    "* Press shift-enter four times to run the play and task"
   ]
  },
  {
   "cell_type": "markdown",
   "metadata": {},
   "source": [
    "## Task\n",
    "The units of action in Ansible. You can execute a single task once with an ad hoc command\n",
    "\n",
    "the following play contains only one task named test. This task performs a ping.\n",
    "\n",
    "As you can see we set the gather_facts module parameter to false. Why ? \n",
    "The gather_facts module from the Ansible playbook runs the setup module by default at the start of each playbook to gather the facts about remote hosts. Ansible facts are the host-specific system data and properties to which you connect. A fact can be the IP address, BIOS information, a system's software information, and even hardware information. Ansible facts help the admin to manage the hosts based on their current condition rather than taking the actions directly without having any info about the system's health."
   ]
  },
  {
   "cell_type": "code",
   "execution_count": null,
   "metadata": {},
   "outputs": [],
   "source": [
    "# Define a play with a task\n",
    "\n",
    "cat > play.yml << EOF\n",
    "- hosts: target\n",
    "  gather_facts: false\n",
    "  tasks:\n",
    "    - name: test\n",
    "      ping:\n",
    "EOF\n",
    "\n",
    "echo \"########################\"\n",
    "echo \"play file created\"\n",
    "echo \"########################\"\n",
    "echo \" \"\n",
    "echo \" \""
   ]
  },
  {
   "cell_type": "code",
   "execution_count": null,
   "metadata": {},
   "outputs": [],
   "source": [
    "# execute the play"
   ]
  },
  {
   "cell_type": "code",
   "execution_count": null,
   "metadata": {},
   "outputs": [],
   "source": [
    "ansible-playbook -i inventory play.yml"
   ]
  },
  {
   "cell_type": "markdown",
   "metadata": {},
   "source": [
    "Now let's modify the inventory to target two machines at once."
   ]
  },
  {
   "cell_type": "code",
   "execution_count": null,
   "metadata": {},
   "outputs": [],
   "source": [
    "# Appending the inventory:\n",
    "\n",
    "cat >> inventory <<EOF\n",
    "127.0.0.1\n",
    "EOF\n",
    "\n",
    "echo \"########################\"\n",
    "echo \"inventory file appended\"\n",
    "echo \"########################\"\n",
    "echo \" \"\n",
    "echo \" \"\n",
    "\n",
    "cat inventory"
   ]
  },
  {
   "cell_type": "markdown",
   "metadata": {},
   "source": [
    "We now have one group named target that contains two items. We could have many more groups and items;\n",
    "As an example, HPE Helion Openstack setup was heavily using ansible playbooks to define the different components of the solutions and their roles and specifications. The inventory would list all the different groups of servers:\n",
    "* Deployer\n",
    "* Control Plane\n",
    "* RabbitMQ Cluster\n",
    "* DB Cluster\n",
    "* Monitoring Cluster\n",
    "...."
   ]
  },
  {
   "cell_type": "markdown",
   "metadata": {},
   "source": [
    "Execute the play once more"
   ]
  },
  {
   "cell_type": "code",
   "execution_count": null,
   "metadata": {},
   "outputs": [],
   "source": [
    "ansible-playbook -i inventory play.yml"
   ]
  },
  {
   "cell_type": "markdown",
   "metadata": {},
   "source": [
    "## Collections\n",
    "[Collections](https://docs.ansible.com/ansible/latest/collections/index.html) are a distribution format for Ansible content. You can package and distribute playbooks, roles, modules, and plugins using collections. A typical collection addresses a set of related use cases. For example, the HPE OneView collection automates management of HPE OneView instances.\n",
    "\n",
    "* [Ansible Collection for HPE OneView](https://github.com/HewlettPackard/oneview-ansible-collection)\n",
    "\n",
    "You can create a collection and publish it to Ansible Galaxy or to a private Automation Hub instance. \n",
    "\n",
    "* [posix Collection](https://docs.ansible.com/ansible/latest/collections/ansible/posix/index.html)"
   ]
  },
  {
   "cell_type": "markdown",
   "metadata": {},
   "source": [
    "#### Ansible Posix collection Installation"
   ]
  },
  {
   "cell_type": "code",
   "execution_count": null,
   "metadata": {},
   "outputs": [],
   "source": [
    "ansible-galaxy collection install ansible.posix"
   ]
  },
  {
   "cell_type": "code",
   "execution_count": null,
   "metadata": {},
   "outputs": [],
   "source": [
    "# Define a task\n",
    "\n",
    "cat > sync.yml << EOF\n",
    "- hosts: {{  hostvars[inventory_hostname]['IP-WKSHP-Ansible101'] }}\n",
    "  gather_facts: false\n",
    "  tasks:\n",
    "    - name: Synchro\n",
    "      ansible.posix.synchronize:\n",
    "        src: .\n",
    "        dest: .\n",
    "EOF\n",
    "\n",
    "echo \"########################\"\n",
    "echo \"task file created\"\n",
    "echo \"########################\"\n",
    "echo \" \"\n",
    "echo \" \"\n",
    "echo \" \""
   ]
  },
  {
   "cell_type": "markdown",
   "metadata": {},
   "source": [
    "#### let's check before"
   ]
  },
  {
   "cell_type": "code",
   "execution_count": null,
   "metadata": {},
   "outputs": [],
   "source": [
    "ssh {{  hostvars[inventory_hostname]['IP-WKSHP-Ansible101'] }} ls -al /student/student{{ STDID }}/"
   ]
  },
  {
   "cell_type": "code",
   "execution_count": null,
   "metadata": {},
   "outputs": [],
   "source": [
    "ansible-playbook -i inventory sync.yml"
   ]
  },
  {
   "cell_type": "markdown",
   "metadata": {},
   "source": [
    "#### let's check the result now"
   ]
  },
  {
   "cell_type": "code",
   "execution_count": null,
   "metadata": {},
   "outputs": [],
   "source": [
    "ssh {{  hostvars[inventory_hostname]['IP-WKSHP-Ansible101'] }} ls -al /student/student{{ STDID }}/"
   ]
  },
  {
   "cell_type": "markdown",
   "metadata": {},
   "source": [
    "## Summary:\n",
    "In this lab, we discovered tasks, playbooks and inventory that allows operators to interact with system(s).\n",
    "Let's now move on to the next topic templates and variables\n",
    "\n",
    "\n",
    "\n",
    "## Important Take away:\n",
    "A play is an ordered set of tasks which should be run against hosts selected from your inventory.\n",
    "\n",
    "A playbook is a text file that contains a list of one or more plays to run in order.\n",
    "\n",
    "* [Lab 2](2-WKSHP-Ansible101-Templates.ipynb)"
   ]
  }
 ],
 "metadata": {
  "kernelspec": {
   "display_name": "Bash",
   "language": "bash",
   "name": "bash"
  },
  "language_info": {
   "codemirror_mode": "shell",
   "file_extension": ".sh",
   "mimetype": "text/x-sh",
   "name": "bash"
  }
 },
 "nbformat": 4,
 "nbformat_minor": 4
}
