{
 "cells": [
  {
   "cell_type": "markdown",
   "metadata": {},
   "source": [
    "![HPEDEVlogo](Pictures/hpedevlogo-NB.JPG)         ![Ansible](Pictures/Ansiblelogo.png)\n",
    "\n",
    "# Thank you for visiting the Hack Shack\n",
    "\n",
    "Powered by [HPE DEV Team](hpedev.io)\n",
    "\n",
    "\n",
    "# Conclusion\n",
    "\n",
    "In the following workshop, you have learned about the Ansible Basics. From discovering the basics of ansible architecture to proper bash commands examples , you had the opportunity to discover simple yet efficient ways to automate your infrastructure.\n",
    "\n",
    "Please review our workshop catalog for hands-on experience with Ansible:\n",
    "\n",
    "[Using the iLO Redfish API with Ansible and OneView](https://developer.hpe.com/hackshack/workshop/23)\n",
    "\n",
    "Congratulations!\n",
    "\n",
    "# Final steps\n",
    "Please take a moment to fill out our [survey]({{ SURVEYURL }}).\n",
    "\n",
    "And make sure you use File -> Log Out menu to terminate your workshop session.\n",
    "\n",
    "# Thank you\n",
    "![ThankYou](Pictures/grommet.JPG)"
   ]
  },
  {
   "cell_type": "code",
   "execution_count": null,
   "metadata": {},
   "outputs": [],
   "source": []
  }
 ],
 "metadata": {
  "kernelspec": {
   "display_name": "Bash",
   "language": "bash",
   "name": "bash"
  },
  "language_info": {
   "codemirror_mode": "shell",
   "file_extension": ".sh",
   "mimetype": "text/x-sh",
   "name": "bash"
  }
 },
 "nbformat": 4,
 "nbformat_minor": 4
}
