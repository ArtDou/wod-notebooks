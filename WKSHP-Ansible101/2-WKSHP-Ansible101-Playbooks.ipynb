{
 "cells": [
  {
   "cell_type": "markdown",
   "metadata": {},
   "source": [
    "### Lab 2: Inventory, Playbooks, and Tasks\n",
    "\n",
    "# Working with inventory\n",
    "\n",
    "[From Ansible Doc](https://docs.ansible.com/ansible/latest/user_guide/playbooks_intro.html)\n",
    "\n",
    "I have a list of servers and devices I want to automate. How do I create inventory to track them?\n",
    "I use cloud services and constantly have servers and devices starting and stopping. How do I track them using dynamic inventory?\n",
    "I want to automate specific sub-sets of my inventory. How do I use patterns?\n",
    "\n",
    "Ansible works against multiple managed nodes or “hosts” in your infrastructure at the same time, using a list or group of lists known as inventory. Once your inventory is defined, you use patterns to select the hosts or groups you want Ansible to run against.\n",
    "\n",
    "The default location for inventory is a file called /etc/ansible/hosts. You can specify a different inventory file at the command line using the -i <path> option. You can also use multiple inventory files at the same time as described in Using multiple inventory sources, and/or pull inventory from dynamic or cloud sources or different formats (YAML, ini, and so on), as described in Working with dynamic inventory. Introduced in version 2.4, Ansible has Inventory plugins to make this flexible and customizable.\n",
    "\n",
    "In our case: We are leveraging the Ansible Jupyter Kernel present on our jupyterhub server. Therefore, the target will be the jupyterhub server in all the labs, with the execption of the last one that will leverage proper based Bash ansible commands on a remote target.\n",
    "\n",
    "Ansible Playbooks offer a repeatable, re-usable, simple configuration management and multi-machine deployment system, one that is well suited to deploying complex applications. If you need to execute a task with Ansible more than once, write a playbook and put it under source control. Then you can use the playbook to push out new configuration or confirm the configuration of remote systems. The playbooks in the ansible-examples repository illustrate many useful techniques. You may want to look at these in another tab as you read the documentation.\n",
    "\n",
    "Playbooks can:\n",
    "\n",
    "* declare configurations\n",
    "* orchestrate steps of any manual ordered process, on multiple sets of machines, in a defined order\n",
    "* launch tasks synchronously or asynchronously\n",
    "    \n",
    "    \n",
    "\n",
    "# Hello World for Ansible Jupyter Kernel\n",
    "\n",
    "## Tasks:  \n",
    "    \n",
    "[From Ansible Doc](https://docs.ansible.com/ansible/latest/user_guide/playbooks_intro.html)\n",
    "\n",
    "By default, Ansible executes each task in order, one at a time, against all machines matched by the host pattern. Each task executes a module with specific arguments. When a task has executed on all target machines, Ansible moves on to the next task. You can use strategies to change this default behavior. Within each play, Ansible applies the same task directives to all hosts. If a task fails on a host, Ansible takes that host out of the rotation for the rest of the playbook.\n",
    "\n",
    "When you run a playbook, Ansible returns information about connections, the name lines of all your plays and tasks, whether each task has succeeded or failed on each machine, and whether each task has made a change on each machine. At the bottom of the playbook execution, Ansible provides a summary of the nodes that were targeted and how they performed. General failures and fatal “unreachable” communication attempts are kept separate in the counts.\n"
   ]
  },
  {
   "cell_type": "markdown",
   "metadata": {},
   "source": [
    "Runs a task using Ansible.\n",
    "\n",
    "Press shift-enter to run the task.\n",
    "\n",
    "Press shift-tab to get task docs.  Press the ^ icon to expand the docs."
   ]
  },
  {
   "cell_type": "code",
   "execution_count": 1,
   "metadata": {},
   "outputs": [
    {
     "name": "stdout",
     "output_type": "stream",
     "text": [
      "TASK [debug] *******************************************************************\n",
      "ok: [localhost] => {\n",
      "    \"msg\": \"Hello world!\"\n",
      "}\n"
     ]
    }
   ],
   "source": [
    "debug:"
   ]
  },
  {
   "cell_type": "code",
   "execution_count": 3,
   "metadata": {},
   "outputs": [],
   "source": [
    "ping:localhost"
   ]
  },
  {
   "cell_type": "markdown",
   "metadata": {},
   "source": [
    "# Hello World for Ansible Jupyter Notebook\n",
    "\n",
    "* Runs a playbook with a single ping task\n",
    "* Press shift-enter twice to run the play and the task"
   ]
  },
  {
   "cell_type": "code",
   "execution_count": 4,
   "metadata": {},
   "outputs": [
    {
     "name": "stdout",
     "output_type": "stream",
     "text": [
      "\n"
     ]
    }
   ],
   "source": [
    "#play\n",
    "name: hello world\n",
    "hosts: localhost\n",
    "gather_facts: false"
   ]
  },
  {
   "cell_type": "code",
   "execution_count": 5,
   "metadata": {},
   "outputs": [
    {
     "name": "stdout",
     "output_type": "stream",
     "text": [
      "TASK [debug] *******************************************************************\n",
      "ok: [localhost] => {\n",
      "    \"msg\": \"Hello world!\"\n",
      "}\n"
     ]
    }
   ],
   "source": [
    "#task\n",
    "debug:"
   ]
  },
  {
   "cell_type": "code",
   "execution_count": 6,
   "metadata": {},
   "outputs": [
    {
     "name": "stdout",
     "output_type": "stream",
     "text": [
      "TASK [ping] ********************************************************************\n",
      "{'counter': 28,\n",
      " 'end_line': 28,\n",
      " 'event': 'verbose',\n",
      " 'runner_ident': 'b15aa0d1-d472-4734-be84-11f6fdcbb842',\n",
      " 'start_line': 27,\n",
      " 'stdout': '\\x1b[0;35m[DEPRECATION WARNING]: Distribution Ubuntu 20.04 on host '\n",
      "           'localhost should use \\x1b[0m',\n",
      " 'uuid': '5bf15b6e-03ae-4998-a995-eceaaed7c691'}\n",
      "{'counter': 29,\n",
      " 'end_line': 29,\n",
      " 'event': 'verbose',\n",
      " 'runner_ident': 'b15aa0d1-d472-4734-be84-11f6fdcbb842',\n",
      " 'start_line': 28,\n",
      " 'stdout': '\\x1b[0;35m/usr/bin/python3, but is using /usr/bin/python for '\n",
      "           'backward compatibility with \\x1b[0m',\n",
      " 'uuid': '839447cc-1f35-4078-8106-9b5123bf9eca'}\n",
      "{'counter': 30,\n",
      " 'end_line': 30,\n",
      " 'event': 'verbose',\n",
      " 'runner_ident': 'b15aa0d1-d472-4734-be84-11f6fdcbb842',\n",
      " 'start_line': 29,\n",
      " 'stdout': '\\x1b[0;35mprior Ansible releases. A future Ansible release will '\n",
      "           'default to using the \\x1b[0m',\n",
      " 'uuid': 'bcae5308-ca1c-4cee-a1c3-bd74b1fec373'}\n",
      "{'counter': 31,\n",
      " 'end_line': 31,\n",
      " 'event': 'verbose',\n",
      " 'runner_ident': 'b15aa0d1-d472-4734-be84-11f6fdcbb842',\n",
      " 'start_line': 30,\n",
      " 'stdout': '\\x1b[0;35mdiscovered platform python for this host. See '\n",
      "           'https://docs.ansible.com/ansible/\\x1b[0m',\n",
      " 'uuid': '7a1709fe-ac02-4e3f-9c4c-bae7d7b6ea97'}\n",
      "{'counter': 32,\n",
      " 'end_line': 32,\n",
      " 'event': 'verbose',\n",
      " 'runner_ident': 'b15aa0d1-d472-4734-be84-11f6fdcbb842',\n",
      " 'start_line': 31,\n",
      " 'stdout': '\\x1b[0;35m2.10/reference_appendices/interpreter_discovery.html for '\n",
      "           'more information. This\\x1b[0m',\n",
      " 'uuid': 'e94956ee-0872-453f-a515-c24683ecc835'}\n",
      "{'counter': 33,\n",
      " 'end_line': 33,\n",
      " 'event': 'verbose',\n",
      " 'runner_ident': 'b15aa0d1-d472-4734-be84-11f6fdcbb842',\n",
      " 'start_line': 32,\n",
      " 'stdout': '\\x1b[0;35m feature will be removed in version 2.12. Deprecation '\n",
      "           'warnings can be disabled \\x1b[0m',\n",
      " 'uuid': 'ed161cb4-7347-4907-a686-71f4331d2ff7'}\n",
      "{'counter': 34,\n",
      " 'end_line': 34,\n",
      " 'event': 'verbose',\n",
      " 'runner_ident': 'b15aa0d1-d472-4734-be84-11f6fdcbb842',\n",
      " 'start_line': 33,\n",
      " 'stdout': '\\x1b[0;35mby setting deprecation_warnings=False in '\n",
      "           'ansible.cfg.\\x1b[0m',\n",
      " 'uuid': 'fa9cc3ef-4455-46ac-b1f5-8acbe78cbd20'}\n",
      "ok: [localhost] => {\n",
      "    \"ansible_facts\": {\n",
      "        \"discovered_interpreter_python\": \"/usr/bin/python\"\n",
      "    },\n",
      "    \"deprecations\": [\n",
      "        {\n",
      "            \"msg\": \"Distribution Ubuntu 20.04 on host localhost should use /usr/bin/python3, but is using /usr/bin/python for backward compatibility with prior Ansible releases. A future Ansible release will default to using the discovered platform python for this host. See https://docs.ansible.com/ansible/2.10/reference_appendices/interpreter_discovery.html for more information\",\n",
      "            \"version\": \"2.12\"\n",
      "        }\n",
      "    ],\n",
      "    \"ping\": \"pong\"\n",
      "}\n"
     ]
    }
   ],
   "source": [
    "#task\n",
    "ping:"
   ]
  },
  {
   "cell_type": "markdown",
   "metadata": {},
   "source": [
    "# Hello World Playbook With Inventory for Ansible Jupyter Kernel\n",
    "\n",
    "* Defines an inventory\n",
    "* Defines a play\n",
    "* Defines a task\n",
    "\n",
    "* Press shift-enter three times to run the play and the task"
   ]
  },
  {
   "cell_type": "code",
   "execution_count": 7,
   "metadata": {},
   "outputs": [],
   "source": [
    "#inventory\n",
    "[all]\n",
    "localhost"
   ]
  },
  {
   "cell_type": "code",
   "execution_count": 8,
   "metadata": {},
   "outputs": [
    {
     "name": "stdout",
     "output_type": "stream",
     "text": [
      "\n"
     ]
    }
   ],
   "source": [
    "#play\n",
    "name: hello world\n",
    "hosts: localhost\n",
    "gather_facts: false"
   ]
  },
  {
   "cell_type": "code",
   "execution_count": 9,
   "metadata": {},
   "outputs": [
    {
     "name": "stdout",
     "output_type": "stream",
     "text": [
      "TASK [debug] *******************************************************************\n",
      "ok: [localhost] => {\n",
      "    \"msg\": \"Hello world!\"\n",
      "}\n"
     ]
    }
   ],
   "source": [
    "#task\n",
    "debug:"
   ]
  },
  {
   "cell_type": "markdown",
   "metadata": {},
   "source": [
    "# Hello World Playbook With Inventory and Ansible.cfg\n",
    "* Defines an ansible.cfg \n",
    "* Defines an inventory\n",
    "* Defines a play\n",
    "* Defines a task\n",
    "\n",
    "* Press shift-enter four times to run the play and task"
   ]
  },
  {
   "cell_type": "code",
   "execution_count": 10,
   "metadata": {},
   "outputs": [],
   "source": [
    "#ansible.cfg\n",
    "[defaults]\n",
    "host_key_checking=False"
   ]
  },
  {
   "cell_type": "code",
   "execution_count": 11,
   "metadata": {},
   "outputs": [],
   "source": [
    "#inventory\n",
    "[all]\n",
    "localhost ansible_connection=local"
   ]
  },
  {
   "cell_type": "code",
   "execution_count": 12,
   "metadata": {},
   "outputs": [
    {
     "name": "stdout",
     "output_type": "stream",
     "text": [
      "\n"
     ]
    }
   ],
   "source": [
    "#play\n",
    "name: hello world\n",
    "hosts: localhost\n",
    "gather_facts: false"
   ]
  },
  {
   "cell_type": "code",
   "execution_count": 13,
   "metadata": {},
   "outputs": [
    {
     "name": "stdout",
     "output_type": "stream",
     "text": [
      "TASK [ping] ********************************************************************\n",
      "{'counter': 15,\n",
      " 'end_line': 14,\n",
      " 'event': 'verbose',\n",
      " 'runner_ident': 'b15aa0d1-d472-4734-be84-11f6fdcbb842',\n",
      " 'start_line': 13,\n",
      " 'stdout': '\\x1b[0;35m[DEPRECATION WARNING]: Distribution Ubuntu 20.04 on host '\n",
      "           'localhost should use \\x1b[0m',\n",
      " 'uuid': '30d9e097-c7de-4cf3-a8ff-cd828dd04263'}\n",
      "{'counter': 16,\n",
      " 'end_line': 15,\n",
      " 'event': 'verbose',\n",
      " 'runner_ident': 'b15aa0d1-d472-4734-be84-11f6fdcbb842',\n",
      " 'start_line': 14,\n",
      " 'stdout': '\\x1b[0;35m/usr/bin/python3, but is using /usr/bin/python for '\n",
      "           'backward compatibility with \\x1b[0m',\n",
      " 'uuid': '7e5a0afb-87c0-43c3-a5d3-053acbd2e1bf'}\n",
      "{'counter': 17,\n",
      " 'end_line': 16,\n",
      " 'event': 'verbose',\n",
      " 'runner_ident': 'b15aa0d1-d472-4734-be84-11f6fdcbb842',\n",
      " 'start_line': 15,\n",
      " 'stdout': '\\x1b[0;35mprior Ansible releases. A future Ansible release will '\n",
      "           'default to using the \\x1b[0m',\n",
      " 'uuid': '7ebf00a2-9036-4538-9728-8d61a412cccb'}\n",
      "{'counter': 18,\n",
      " 'end_line': 17,\n",
      " 'event': 'verbose',\n",
      " 'runner_ident': 'b15aa0d1-d472-4734-be84-11f6fdcbb842',\n",
      " 'start_line': 16,\n",
      " 'stdout': '\\x1b[0;35mdiscovered platform python for this host. See '\n",
      "           'https://docs.ansible.com/ansible/\\x1b[0m',\n",
      " 'uuid': '7af17d6f-36ba-40ce-91b1-f635a282be44'}\n",
      "{'counter': 19,\n",
      " 'end_line': 18,\n",
      " 'event': 'verbose',\n",
      " 'runner_ident': 'b15aa0d1-d472-4734-be84-11f6fdcbb842',\n",
      " 'start_line': 17,\n",
      " 'stdout': '\\x1b[0;35m2.10/reference_appendices/interpreter_discovery.html for '\n",
      "           'more information. This\\x1b[0m',\n",
      " 'uuid': '94e914d5-8a7c-41b6-a331-5b7411927c05'}\n",
      "{'counter': 20,\n",
      " 'end_line': 19,\n",
      " 'event': 'verbose',\n",
      " 'runner_ident': 'b15aa0d1-d472-4734-be84-11f6fdcbb842',\n",
      " 'start_line': 18,\n",
      " 'stdout': '\\x1b[0;35m feature will be removed in version 2.12. Deprecation '\n",
      "           'warnings can be disabled \\x1b[0m',\n",
      " 'uuid': '912b3be5-7b08-417e-b21a-d476d6f1818c'}\n",
      "{'counter': 21,\n",
      " 'end_line': 20,\n",
      " 'event': 'verbose',\n",
      " 'runner_ident': 'b15aa0d1-d472-4734-be84-11f6fdcbb842',\n",
      " 'start_line': 19,\n",
      " 'stdout': '\\x1b[0;35mby setting deprecation_warnings=False in '\n",
      "           'ansible.cfg.\\x1b[0m',\n",
      " 'uuid': '173a83f6-860b-4b7f-9f88-7299e99f7f8f'}\n",
      "ok: [localhost] => {\n",
      "    \"ansible_facts\": {\n",
      "        \"discovered_interpreter_python\": \"/usr/bin/python\"\n",
      "    },\n",
      "    \"deprecations\": [\n",
      "        {\n",
      "            \"msg\": \"Distribution Ubuntu 20.04 on host localhost should use /usr/bin/python3, but is using /usr/bin/python for backward compatibility with prior Ansible releases. A future Ansible release will default to using the discovered platform python for this host. See https://docs.ansible.com/ansible/2.10/reference_appendices/interpreter_discovery.html for more information\",\n",
      "            \"version\": \"2.12\"\n",
      "        }\n",
      "    ],\n",
      "    \"ping\": \"pong\"\n",
      "}\n"
     ]
    }
   ],
   "source": [
    "ping:"
   ]
  },
  {
   "cell_type": "markdown",
   "metadata": {},
   "source": [
    "## Summary:\n",
    "In this lab, we discovered tasks, playbooks and inventory that allows operators to interact with system(s).\n",
    "Let's now move on to the next topic templates and variables\n",
    "\n",
    "* [Lab 3](3-WKSHP-Ansible101-Templates.ipynb)"
   ]
  }
 ],
 "metadata": {
  "kernelspec": {
   "display_name": "Ansible",
   "language": "ansible",
   "name": "ansible"
  },
  "language_info": {
   "codemirror_mode": "yaml",
   "file_extension": ".yml",
   "mimetype": "text/yaml",
   "name": "ansible"
  }
 },
 "nbformat": 4,
 "nbformat_minor": 4
}
