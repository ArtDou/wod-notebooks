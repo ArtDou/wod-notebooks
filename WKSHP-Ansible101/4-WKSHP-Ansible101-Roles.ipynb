{
 "cells": [
  {
   "cell_type": "markdown",
   "metadata": {},
   "source": [
    "# Includes a role in a play using the roles list"
   ]
  },
  {
   "cell_type": "markdown",
   "metadata": {},
   "source": [
    "Roles let you automatically load related vars, files, tasks, handlers, and other Ansible artifacts based on a known file structure. After you group your content in roles, you can easily reuse them and share them with other users.\n",
    "\n",
    "By default Ansible will look in each directory within a role for a main.yml file for relevant content (also main.yaml and main):\n",
    "\n",
    "![AnsibleRole](Pictures/ansible101-2.PNG) \n",
    "\n",
    "\n",
    "* tasks/main.yml - the main list of tasks that the role executes.\n",
    "\n",
    "* handlers/main.yml - handlers, which may be used within or outside this role.\n",
    "\n",
    "* library/my_module.py - modules, which may be used within this role (see Embedding modules and plugins in roles for more information).\n",
    "\n",
    "* defaults/main.yml - default variables for the role (see Using Variables for more information). These variables have the lowest priority of any variables available, and can be easily overridden by any other variable, including inventory variables.\n",
    "\n",
    "* vars/main.yml - other variables for the role (see Using Variables for more information).\n",
    "\n",
    "* files/main.yml - files that the role deploys.\n",
    "\n",
    "* templates/main.yml - templates that the role deploys.\n",
    "\n",
    "* meta/main.yml - metadata for the role, including role dependencies.\n",
    "\n",
    "An Ansible role has a defined directory structure with seven main standard directories. You must include at least one of these directories in each role. You can omit any directories the role does not use.\n",
    "You can read more about the roles and directory structure in detail from the [Ansible Doc](https://docs.ansible.com/ansible/latest/user_guide/playbooks_reuse_roles.html)\n",
    "\n",
    "\n",
    "In the following lab, we will leverage the different work we did previously  and organize them into a role called 'Lab'\n",
    "\n",
    "this role will reuse the different actions we performed earlier."
   ]
  },
  {
   "cell_type": "markdown",
   "metadata": {},
   "source": [
    "### Before we start: a simple exercice for you. Take a minute to create and execute a playbook that will delete the txt files we have created in the previous lab. \n",
    "Use the next two empty cells to achieve this.\n",
    "\n",
    "A solution is provided to you at the bottom of this page..."
   ]
  },
  {
   "cell_type": "code",
   "execution_count": null,
   "metadata": {},
   "outputs": [],
   "source": []
  },
  {
   "cell_type": "code",
   "execution_count": null,
   "metadata": {},
   "outputs": [],
   "source": []
  },
  {
   "cell_type": "markdown",
   "metadata": {},
   "source": [
    "Let's start by creating a folder for our role and name Lab"
   ]
  },
  {
   "cell_type": "code",
   "execution_count": null,
   "metadata": {},
   "outputs": [],
   "source": [
    "mkdir -p roles/Lab"
   ]
  },
  {
   "cell_type": "markdown",
   "metadata": {},
   "source": [
    "Now, we will start by transferring the existing template Folder into it."
   ]
  },
  {
   "cell_type": "code",
   "execution_count": null,
   "metadata": {},
   "outputs": [],
   "source": [
    "cp -R templates roles/Lab/"
   ]
  },
  {
   "cell_type": "markdown",
   "metadata": {},
   "source": [
    "We will use the task play3.yml for this role under a newly created folder named tasks"
   ]
  },
  {
   "cell_type": "code",
   "execution_count": null,
   "metadata": {},
   "outputs": [],
   "source": [
    "mkdir -p roles/Lab/tasks\n",
    "cp play3.yml roles/Lab/tasks/main.yml"
   ]
  },
  {
   "cell_type": "markdown",
   "metadata": {},
   "source": [
    "## Now please edit the /Lab/tasks/main.yml file to remove the first three lines and correct indentations\n",
    "\n",
    "Why ? \n",
    "the task when used in a role does not need to include target nor gather-facts\n",
    "\n"
   ]
  },
  {
   "cell_type": "markdown",
   "metadata": {},
   "source": [
    "### Definition Handlers"
   ]
  },
  {
   "cell_type": "code",
   "execution_count": null,
   "metadata": {},
   "outputs": [],
   "source": [
    "## define handlers\n",
    "\n",
    "mkdir -p roles/Lab/handlers\n",
    "\n",
    "cp result2.yml roles/Lab/handlers/main.yml"
   ]
  },
  {
   "cell_type": "markdown",
   "metadata": {},
   "source": [
    "## Now please edit the /Lab/handlers/main.yml file to remove the first three lines and correct indentations\n",
    "\n",
    "Why ? \n",
    "the task when used in a role does not need to include target nor gather-facts"
   ]
  },
  {
   "cell_type": "markdown",
   "metadata": {
    "tags": []
   },
   "source": [
    "### Vars"
   ]
  },
  {
   "cell_type": "code",
   "execution_count": null,
   "metadata": {},
   "outputs": [],
   "source": [
    "# Define Vars\n",
    "mkdir -p roles/Lab/defaults\n",
    "\n",
    "cp -r vars/* roles/Lab/defaults/"
   ]
  },
  {
   "cell_type": "markdown",
   "metadata": {},
   "source": [
    "### All together now!"
   ]
  },
  {
   "cell_type": "code",
   "execution_count": null,
   "metadata": {},
   "outputs": [],
   "source": [
    "# Define a role\n",
    "\n",
    "cat > Lab.yml << EOF\n",
    "---\n",
    "- hosts: target\n",
    "  roles:\n",
    "    - Lab\n",
    "EOF\n",
    "\n",
    "echo \"########################\"\n",
    "echo \"role.yml file created\"\n",
    "echo \"########################\"\n",
    "echo \" \"\n",
    "echo \" \"\n",
    "cat Lab.yml"
   ]
  },
  {
   "cell_type": "markdown",
   "metadata": {},
   "source": [
    "### Moment of truth?"
   ]
  },
  {
   "cell_type": "code",
   "execution_count": null,
   "metadata": {},
   "outputs": [],
   "source": [
    "ansible-playbook -i inventory Lab.yml"
   ]
  },
  {
   "cell_type": "markdown",
   "metadata": {},
   "source": [
    "And Check result using one last result3.yml play"
   ]
  },
  {
   "cell_type": "code",
   "execution_count": null,
   "metadata": {},
   "outputs": [],
   "source": [
    "# Define a play\n",
    "\n",
    "cat > result3.yml << EOF\n",
    "- hosts: target\n",
    "  gather_facts: true\n",
    "  tasks:\n",
    "    - name: Check result for each host \n",
    "      command: cat /student/student{{ STDID }}/student{{ STDID }}-lab3.3.txt\n",
    "      register: res\n",
    "\n",
    "    - debug:\n",
    "        msg=\"{{ res.stdout_lines }}\"\n",
    "\n",
    "EOF\n",
    "\n",
    "echo \"########################\"\n",
    "echo \"result3.yml file created\"\n",
    "echo \"########################\"\n",
    "echo \" \"\n",
    "echo \" \""
   ]
  },
  {
   "cell_type": "code",
   "execution_count": null,
   "metadata": {},
   "outputs": [],
   "source": [
    "ansible-playbook -i inventory result3.yml"
   ]
  },
  {
   "cell_type": "markdown",
   "metadata": {},
   "source": [
    "### Congratulations!!  you managed to create your first role."
   ]
  },
  {
   "cell_type": "markdown",
   "metadata": {},
   "source": [
    "## Summary:\n",
    "In this lab, we created our first role levraging the work we did in the previous labs..\n",
    "Time to conclude? Let us head for the conclusion then !\n",
    "\n",
    "* [Conclusion](5-WKSHP-Conclusion.ipynb)"
   ]
  },
  {
   "cell_type": "markdown",
   "metadata": {},
   "source": [
    "### Cleanup Txt files Solution below\n",
    "* <span style=\"color:green\">#### Cleanup Txt yml files below</span>."
   ]
  },
  {
   "cell_type": "code",
   "execution_count": null,
   "metadata": {},
   "outputs": [],
   "source": [
    "cat > play42.yml << EOF\n",
    "- hosts: target\n",
    "  gather_facts: false\n",
    "  tasks:\n",
    "    - name: Ansible delete multiple files\n",
    "      file:\n",
    "        path: \"/student/student{{ STDID }}/{{ '{{' }} item {{ '}}' }}\"\n",
    "        state: absent\n",
    "      with_items:\n",
    "        - student{{ STDID }}-lab3.2.txt\n",
    "        - student{{ STDID }}-lab3.3.txt\n",
    "EOF\n",
    "\n",
    "echo \"########################\"\n",
    "echo \"play4.yml file created\"\n",
    "echo \"########################\"\n",
    "echo \" \"\n",
    "echo \" \""
   ]
  },
  {
   "cell_type": "code",
   "execution_count": null,
   "metadata": {},
   "outputs": [],
   "source": [
    "ansible-playbook -i inventory play42.yml"
   ]
  },
  {
   "cell_type": "markdown",
   "metadata": {},
   "source": [
    "### yml files edition Solution below"
   ]
  },
  {
   "cell_type": "markdown",
   "metadata": {},
   "source": [
    "tasks/main.yml\n",
    "* <span style=\"color:green\">#### Correct version below</span>."
   ]
  },
  {
   "cell_type": "code",
   "execution_count": null,
   "metadata": {},
   "outputs": [],
   "source": [
    "---\n",
    "- include_vars: vars/variables_local.yml\n",
    "- name: Template a file to lab3.3.txt\n",
    "  template:\n",
    "    src: templates/lab3.3.txt.j2\n",
    "    dest: /student/student{{ STDID }}/student{{ STDID }}-lab3.3.txt\n",
    "    mode: '0644'\n"
   ]
  },
  {
   "cell_type": "markdown",
   "metadata": {},
   "source": [
    "handlers/main.yml\n",
    "* <span style=\"color:green\">#### Correct version below</span>."
   ]
  },
  {
   "cell_type": "code",
   "execution_count": null,
   "metadata": {},
   "outputs": [],
   "source": [
    "---\n",
    "- name: Check result for each host \n",
    "  command: cat /student/student{{ STDID }}/student{{ STDID }}-lab3.3.txt\n",
    "  register: res\n",
    "\n",
    "- debug:\n",
    "    msg=\"{{ res.stdout_lines }}\""
   ]
  }
 ],
 "metadata": {
  "kernelspec": {
   "display_name": "Bash",
   "language": "bash",
   "name": "bash"
  },
  "language_info": {
   "codemirror_mode": "shell",
   "file_extension": ".sh",
   "mimetype": "text/x-sh",
   "name": "bash"
  }
 },
 "nbformat": 4,
 "nbformat_minor": 4
}
