{
 "cells": [
  {
   "cell_type": "markdown",
   "metadata": {},
   "source": [
    "# Includes a role in a play using the roles list"
   ]
  },
  {
   "cell_type": "markdown",
   "metadata": {},
   "source": [
    "Roles let you automatically load related vars, files, tasks, handlers, and other Ansible artifacts based on a known file structure. After you group your content in roles, you can easily reuse them and share them with other users.\n",
    "\n",
    "By default Ansible will look in each directory within a role for a main.yml file for relevant content (also main.yaml and main):\n",
    "\n",
    "![AnsibleRole](Pictures/ansible101-2.PNG) \n",
    "\n",
    "\n",
    "* tasks/main.yml - the main list of tasks that the role executes.\n",
    "\n",
    "* handlers/main.yml - handlers, which may be used within or outside this role.\n",
    "\n",
    "* library/my_module.py - modules, which may be used within this role (see Embedding modules and plugins in roles for more information).\n",
    "\n",
    "* defaults/main.yml - default variables for the role (see Using Variables for more information). These variables have the lowest priority of any variables available, and can be easily overridden by any other variable, including inventory variables.\n",
    "\n",
    "* vars/main.yml - other variables for the role (see Using Variables for more information).\n",
    "\n",
    "* files/main.yml - files that the role deploys.\n",
    "\n",
    "* templates/main.yml - templates that the role deploys.\n",
    "\n",
    "* meta/main.yml - metadata for the role, including role dependencies.\n",
    "\n",
    "An Ansible role has a defined directory structure with seven main standard directories. You must include at least one of these directories in each role. You can omit any directories the role does not use.\n",
    "You can read more about the roles and directory structure in detail from the [Ansible Doc](https://docs.ansible.com/ansible/latest/user_guide/playbooks_reuse_roles.html)\n",
    "\n",
    "\n",
    "In the following lab, we will leverage the different work we did previously  and organize them into a role called 'Lab'\n",
    "\n",
    "this role will reuse the different actions we performed earlier."
   ]
  },
  {
   "cell_type": "markdown",
   "metadata": {},
   "source": [
    "Let's start by creating a folder for our role and name Lab"
   ]
  },
  {
   "cell_type": "code",
   "execution_count": null,
   "metadata": {},
   "outputs": [],
   "source": [
    "mkdir roles/Lab"
   ]
  },
  {
   "cell_type": "markdown",
   "metadata": {},
   "source": [
    "Now, we will start by transferring the existing template Folder into it."
   ]
  },
  {
   "cell_type": "code",
   "execution_count": null,
   "metadata": {},
   "outputs": [],
   "source": [
    "cp -R templates roles/Lab/"
   ]
  },
  {
   "cell_type": "markdown",
   "metadata": {},
   "source": [
    "We will use the task play3.yml for this role under a newly created folder named tasks"
   ]
  },
  {
   "cell_type": "code",
   "execution_count": null,
   "metadata": {},
   "outputs": [],
   "source": [
    "mkdir roles/Lab/tasks\n",
    "cp play3.yml roles/Lab/tasks/main.yml"
   ]
  },
  {
   "cell_type": "markdown",
   "metadata": {},
   "source": [
    "### Definition Handlers"
   ]
  },
  {
   "cell_type": "code",
   "execution_count": null,
   "metadata": {},
   "outputs": [],
   "source": [
    "handlers\n",
    "\n",
    "mkdir roles/Lab/handlers\n",
    "\n",
    "cp result2.yml roles/Lab/handlers/main.yml"
   ]
  },
  {
   "cell_type": "markdown",
   "metadata": {},
   "source": [
    "### Vars"
   ]
  },
  {
   "cell_type": "code",
   "execution_count": null,
   "metadata": {},
   "outputs": [],
   "source": [
    "cp -r vars/* roles/Lab/defaults/"
   ]
  },
  {
   "cell_type": "markdown",
   "metadata": {},
   "source": [
    "### All together now!"
   ]
  },
  {
   "cell_type": "code",
   "execution_count": null,
   "metadata": {},
   "outputs": [],
   "source": [
    "# Define a role\n",
    "\n",
    "cat > Lab.yml << EOF\n",
    "---\n",
    "- hosts: target\n",
    " gather_facts: no\n",
    " roles:\n",
    " - Lab"
   ]
  },
  {
   "cell_type": "markdown",
   "metadata": {},
   "source": [
    "### Moment of truth?"
   ]
  },
  {
   "cell_type": "code",
   "execution_count": null,
   "metadata": {},
   "outputs": [],
   "source": [
    "ansible-playbook -i inventory Lab.yml"
   ]
  },
  {
   "cell_type": "markdown",
   "metadata": {},
   "source": [
    "### Congratulations!!  you managed to create your first role."
   ]
  },
  {
   "cell_type": "markdown",
   "metadata": {},
   "source": [
    "## Summary:\n",
    "In this lab, we created our first role levraging the work we did in the previous labs..\n",
    "Time to conclude? Let us head for the conclusion then !\n",
    "\n",
    "* [Conclusion](5-WKSHP-Conclusion.ipynb)"
   ]
  }
 ],
 "metadata": {
  "kernelspec": {
   "display_name": "Ansible",
   "language": "ansible",
   "name": "ansible"
  },
  "language_info": {
   "codemirror_mode": "yaml",
   "file_extension": ".yml",
   "mimetype": "text/yaml",
   "name": "ansible"
  }
 },
 "nbformat": 4,
 "nbformat_minor": 4
}
