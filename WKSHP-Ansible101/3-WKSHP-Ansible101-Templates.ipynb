{
 "cells": [
  {
   "cell_type": "markdown",
   "metadata": {},
   "source": [
    "### Lab 3:  Variables and Templates\n",
    "\n",
    "\n",
    "[From Ansible doc](https://docs.ansible.com/ansible/latest/user_guide/playbooks_variables.html#define-variables-in-inventory)\n",
    "\n",
    "Using Variables\n",
    "Ansible uses variables to manage differences between systems. With Ansible, you can execute tasks and playbooks on multiple different systems with a single command. To represent the variations among those different systems, you can create variables with standard YAML syntax, including lists and dictionaries. You can define these variables in your playbooks, in your inventory, in re-usable files or roles, or at the command line. You can also create variables during a playbook run by registering the return value or values of a task as a new variable.\n",
    "\n",
    "After you create variables, either by defining them in a file, passing them at the command line, or registering the return value or values of a task as a new variable, you can use those variables in module arguments, in conditional “when” statements, in templates, and in loops. [The ansible-examples github repository](https://github.com/ansible/ansible-examples) contains many examples of using variables in Ansible.\n",
    "\n",
    "Once you understand the concepts and examples on this page, read about Ansible facts, which are variables you retrieve from remote systems. With Ansible you can retrieve or discover certain variables containing information about your remote systems or about Ansible itself. Variables related to remote systems are called facts. With facts, you can use the behavior or state of one system as configuration on other systems. For example, you can use the IP address of one system as a configuration value on another system. Variables related to Ansible are called magic variables."
   ]
  },
  {
   "cell_type": "markdown",
   "metadata": {},
   "source": [
    "## Creating valid variable names\n",
    "Not all strings are valid Ansible variable names. A variable name can only include letters, numbers, and underscores. Python keywords or playbook keywords are not valid variable names. A variable name cannot begin with a number.\n",
    "\n",
    "Variable names can begin with an underscore. In many programming languages, variables that begin with an underscore are private. This is not true in Ansible. Variables that begin with an underscore are treated exactly the same as any other variable. Do not rely on this convention for privacy or security.\n",
    "\n",
    "[Defining Variables](https://docs.ansible.com/ansible/latest/user_guide/playbooks_variables.html#define-variables-in-inventory)"
   ]
  },
  {
   "cell_type": "markdown",
   "metadata": {},
   "source": [
    "## Variables"
   ]
  },
  {
   "cell_type": "markdown",
   "metadata": {},
   "source": [
    "For this lab, we will leverage simple variables to be later used in a task. The task will append some content to a file and substitute the relevant variables."
   ]
  },
  {
   "cell_type": "markdown",
   "metadata": {},
   "source": [
    "### Start by defining the variable files:\n",
    "\n",
    "<span style=\"color:red\">#### Update the relevant field in the variables_local.yml file definition by editing the  next cell</span>.\n"
   ]
  },
  {
   "cell_type": "code",
   "execution_count": null,
   "metadata": {},
   "outputs": [],
   "source": [
    "# Define the local and target variable files:\n",
    "mkdir -p vars\n",
    "cat > vars/variables_local.yml <<EOF\n",
    "LABSTUDENTNAME: \"INPUT YOUR NAME\"\n",
    "LABSTUDENTID: \"{{ STDID }}\"\n",
    "LABLOCATION:  \"INPUT YOUR COUNTRY\"\n",
    "EOF\n",
    "\n",
    "cat > vars/variables_target.yml <<EOF\n",
    "LABSTUDENTNAME: \"APOLLO\"\n",
    "LABSTUDENTID: \"11\"\n",
    "LABLOCATION: \"THE MOON\"\n",
    "EOF\n",
    "\n",
    "\n",
    "echo \"########################\"\n",
    "echo \"variable files created\"\n",
    "echo \"########################\"\n",
    "echo \" \"\n",
    "echo \" \""
   ]
  },
  {
   "cell_type": "markdown",
   "metadata": {},
   "source": [
    "#### Now create the playbook with the task"
   ]
  },
  {
   "cell_type": "code",
   "execution_count": null,
   "metadata": {},
   "outputs": [],
   "source": [
    "# we use the existing invetory file :  no need to regenerate it\n",
    "\n",
    "# Define a play\n",
    "\n",
    "cat > play1.yml << EOF\n",
    "- hosts: localhost\n",
    "  gather_facts: true\n",
    "  tasks:\n",
    "    - include_vars: vars/variables_local.yml\n",
    "    - name: Adapt lab3.1.txt file\n",
    "      blockinfile:\n",
    "        create: yes\n",
    "        path: /student/student{{ STDID }}/student{{ STDID }}-lab3.1.txt\n",
    "        block: |\n",
    "          ##############################################################################################################################################################################\n",
    "          # This file was generated by the [Ansible 101 {{ BRANDINGWOD }} Workshop-on-Demand](https://developer.hpe.com/hackshack/workshop/31) lab3 for {{ '{{' }} LABSTUDENTNAME {{ '}}' }} with id {{ '{{' }} LABSTUDENTID {{ '}}' }}  running from {{ '{{' }} hostvars[inventory_hostname]['ansible_facts']['nodename'] {{ '}}' }}\n",
    "          ##############################################################################################################################################################################\n",
    "EOF\n",
    "\n",
    "echo \"########################\"\n",
    "echo \"play1.yml file created\"\n",
    "echo \"########################\"\n",
    "echo \" \"\n",
    "echo \" \""
   ]
  },
  {
   "cell_type": "markdown",
   "metadata": {},
   "source": [
    "Now let's execute the playbook on the inventory file we have defined earlier.\n",
    "\n",
    "You will note that for now, the task is targetting the localhost only. The point is to show the principle here."
   ]
  },
  {
   "cell_type": "code",
   "execution_count": null,
   "metadata": {},
   "outputs": [],
   "source": [
    "ansible-playbook -i inventory play1.yml"
   ]
  },
  {
   "cell_type": "markdown",
   "metadata": {},
   "source": [
    "### Now take a look at the result"
   ]
  },
  {
   "cell_type": "code",
   "execution_count": null,
   "metadata": {},
   "outputs": [],
   "source": [
    "cat /student/student{{ STDID }}/student{{ STDID }}-lab3.1.txt"
   ]
  },
  {
   "cell_type": "markdown",
   "metadata": {},
   "source": [
    "## Templates"
   ]
  },
  {
   "cell_type": "markdown",
   "metadata": {},
   "source": [
    "In this part, we will leverage a template file (jinja Template with j2 extension) that will be used to create the final file.\n",
    "\n",
    "We will then introduce conditions to alter the content of the file depending on the target. We will use the [ansible template module](https://docs.ansible.com/ansible/latest/collections/ansible/builtin/template_module.html) to achieve this"
   ]
  },
  {
   "cell_type": "code",
   "execution_count": null,
   "metadata": {},
   "outputs": [],
   "source": [
    "# Define a play\n",
    "\n",
    "cat > play2.yml << EOF\n",
    "- hosts: target\n",
    "  gather_facts: true\n",
    "  tasks:\n",
    "    - include_vars: vars/variables_local.yml\n",
    "    - name: Template a file to lab3.2.txt\n",
    "      template:\n",
    "        src: templates/lab3.2.txt.j2\n",
    "        dest: /student/student{{ STDID }}/student{{ STDID }}-lab3.2.txt\n",
    "        mode: '0644'\n",
    "EOF\n",
    "\n",
    "echo \"########################\"\n",
    "echo \"play2.yml file created\"\n",
    "echo \"########################\"\n",
    "echo \" \"\n",
    "echo \" \""
   ]
  },
  {
   "cell_type": "markdown",
   "metadata": {},
   "source": [
    "Let's look at the jinja template now:"
   ]
  },
  {
   "cell_type": "code",
   "execution_count": null,
   "metadata": {},
   "outputs": [],
   "source": [
    "cat templates/lab3.2.txt.j2"
   ]
  },
  {
   "cell_type": "markdown",
   "metadata": {},
   "source": [
    "### Execute the play now"
   ]
  },
  {
   "cell_type": "code",
   "execution_count": null,
   "metadata": {},
   "outputs": [],
   "source": [
    "ansible-playbook -i inventory play2.yml"
   ]
  },
  {
   "cell_type": "markdown",
   "metadata": {},
   "source": [
    "### Let's look at the results"
   ]
  },
  {
   "cell_type": "code",
   "execution_count": null,
   "metadata": {},
   "outputs": [],
   "source": [
    "cat /student/student{{ STDID }}/student{{ STDID }}-lab3.2.txt\n",
    "ssh {{  hostvars[inventory_hostname]['IP-WKSHP-Ansible101'] }} cat /student/student{{ STDID }}/student{{ STDID }}-lab3.2.txt"
   ]
  },
  {
   "cell_type": "markdown",
   "metadata": {},
   "source": [
    "### What about making it into a playbook for next use in ansible?"
   ]
  },
  {
   "cell_type": "code",
   "execution_count": null,
   "metadata": {},
   "outputs": [],
   "source": [
    "# Define a play\n",
    "\n",
    "cat > result.yml << EOF\n",
    "- hosts: target\n",
    "  gather_facts: true\n",
    "  tasks:\n",
    "    - name: Check result for each host \n",
    "      command: cat /student/student{{ STDID }}/student{{ STDID }}-lab3.2.txt\n",
    "      register: res\n",
    "      \n",
    "    - debug:\n",
    "        msg=\"{{ '{{' }} res.stdout_lines {{ '}}' }}\"\n",
    "\n",
    "EOF\n",
    "\n",
    "echo \"########################\"\n",
    "echo \"result.yml file created\"\n",
    "echo \"########################\"\n",
    "echo \" \"\n",
    "echo \" \""
   ]
  },
  {
   "cell_type": "markdown",
   "metadata": {},
   "source": [
    "### Let's check again"
   ]
  },
  {
   "cell_type": "code",
   "execution_count": null,
   "metadata": {},
   "outputs": [],
   "source": [
    "ansible-playbook -i inventory result.yml"
   ]
  },
  {
   "cell_type": "markdown",
   "metadata": {},
   "source": [
    "## Conditions\n",
    "\n",
    "Use the when condition to control whether a task or role runs or is skipped. This is normally used to change play behavior based on facts from the destination system.\n",
    "\n",
    "In our case, we will use the when condition on the targets to modify the content of the file based on variables set upper."
   ]
  },
  {
   "cell_type": "code",
   "execution_count": null,
   "metadata": {},
   "outputs": [],
   "source": [
    "# Define a play\n",
    "\n",
    "cat > play3.yml << EOF\n",
    "- hosts: target\n",
    "  gather_facts: true\n",
    "  tasks:\n",
    "    - include_vars: vars/variables_local.yml\n",
    "      when:  hostvars[inventory_hostname]['inventory_hostname']  == \"127.0.0.1\"\n",
    "    - include_vars: vars/variables_target.yml\n",
    "      when:  hostvars[inventory_hostname]['inventory_hostname']  != \"127.0.0.1\"\n",
    "      \n",
    "    - name: Template a file to lab3.3.txt\n",
    "      template:\n",
    "        src: templates/lab3.3.txt.j2\n",
    "        dest: /student/student{{ STDID }}/student{{ STDID }}-lab3.3.txt\n",
    "        mode: '0644'\n",
    "EOF\n",
    "\n",
    "echo \"########################\"\n",
    "echo \"play3.yml file created\"\n",
    "echo \"########################\"\n",
    "echo \" \"\n",
    "echo \" \""
   ]
  },
  {
   "cell_type": "markdown",
   "metadata": {},
   "source": [
    "Check the jinja template now"
   ]
  },
  {
   "cell_type": "code",
   "execution_count": null,
   "metadata": {},
   "outputs": [],
   "source": [
    "cat templates/lab3.3.txt.j2"
   ]
  },
  {
   "cell_type": "markdown",
   "metadata": {},
   "source": [
    "### Execute Now"
   ]
  },
  {
   "cell_type": "code",
   "execution_count": null,
   "metadata": {},
   "outputs": [],
   "source": [
    "ansible-playbook -i inventory play3.yml"
   ]
  },
  {
   "cell_type": "markdown",
   "metadata": {},
   "source": [
    "### And Check result using another result.yml play"
   ]
  },
  {
   "cell_type": "code",
   "execution_count": null,
   "metadata": {},
   "outputs": [],
   "source": [
    "# Define a play\n",
    "\n",
    "cat > result2.yml << EOF\n",
    "- hosts: target\n",
    "  gather_facts: true\n",
    "  tasks:\n",
    "    - name: Check result for each host \n",
    "      command: cat /student/student{{ STDID }}/student{{ STDID }}-lab3.3.txt\n",
    "      register: res\n",
    "\n",
    "    - debug:\n",
    "        msg=\"{{ '{{' }} res.stdout_lines {{ '}}' }}\"\n",
    "\n",
    "\n",
    "EOF\n",
    "\n",
    "echo \"########################\"\n",
    "echo \"result2.yml file created\"\n",
    "echo \"########################\"\n",
    "echo \" \"\n",
    "echo \" \""
   ]
  },
  {
   "cell_type": "code",
   "execution_count": null,
   "metadata": {},
   "outputs": [],
   "source": [
    "ansible-playbook -i inventory result2.yml"
   ]
  },
  {
   "cell_type": "markdown",
   "metadata": {},
   "source": [
    "Let's see now a simple condition usecase leveraging the Operating System condition :  when Ubuntu do this and when Centos, do that."
   ]
  },
  {
   "cell_type": "code",
   "execution_count": null,
   "metadata": {},
   "outputs": [],
   "source": [
    "# Define a play\n",
    "\n",
    "cat > play3.1.yml << EOF\n",
    "- hosts: target\n",
    "  gather_facts: true\n",
    "  tasks:\n",
    "  - name: \"get curl package version\"\n",
    "    shell: rpm -q curl\n",
    "    when: (ansible_distribution == \"CentOS\")\n",
    "    register: curlc_version  \n",
    "\n",
    "  - name: \"get wget package version\"\n",
    "    shell: dpkg -s curl | grep Version\n",
    "    when: (ansible_distribution == \"Ubuntu\")\n",
    "    register: curlu_version  \n",
    "\n",
    "  - name: \"print curl version Centos\"\n",
    "    when: (ansible_distribution == \"CentOS\")\n",
    "    debug:\n",
    "      var: curlc_version.stdout\n",
    "\n",
    "  - name: \"print curl version Ubuntu\"\n",
    "    when: (ansible_distribution == \"Ubuntu\")\n",
    "    debug:\n",
    "      var: curlu_version.stdout\n",
    "EOF\n",
    "  \n",
    "echo \"########################\"\n",
    "echo \"play3.1.yml file created\"\n",
    "echo \"########################\"\n",
    "echo \" \"\n",
    "echo \" \""
   ]
  },
  {
   "cell_type": "markdown",
   "metadata": {},
   "source": [
    "### Execute Now"
   ]
  },
  {
   "cell_type": "code",
   "execution_count": null,
   "metadata": {},
   "outputs": [],
   "source": [
    "ansible-playbook -i inventory play3.1.yml"
   ]
  },
  {
   "cell_type": "markdown",
   "metadata": {},
   "source": [
    "## What about looping now?\n",
    "\n",
    "How about retrieving a serie of cover books from a publicly available API ? \n",
    "The API endpoiint will be the following: https://gutendex.com/books/\n",
    "\n",
    "\n",
    "The playbook is defined as follows:\n",
    "* We start by defining min max for the range of book covers we want to retrieve\n",
    "* We leverage the loop feature to:\n",
    " * Retrieve book covers using the range from the API url \" - name: \"get online infos for books\"\n",
    " * Extract using jq parsing the url of each covers and store them in a table | jq -r '.formats  | to_entries | .[] | select(.key==\"image/jpeg\").value'\n",
    " * Finally retrieve the picture from the url and copy it into the Pictures folder. \n",
    " \n",
    " \n",
    "### You can edit the playbook to change the BOOKMIN And BOOKMAX variables"
   ]
  },
  {
   "cell_type": "code",
   "execution_count": null,
   "metadata": {},
   "outputs": [],
   "source": [
    "# Define a play\n",
    "\n",
    "# Now looping to get the cover images from selected books in BOOKMIN AND BOOKMAX range.\n",
    "\n",
    "\n",
    "\n",
    "# Set Book id Range you want to retrieve\n",
    "\n",
    "\n",
    "cat > play3.2.yml << EOF\n",
    "- hosts: localhost\n",
    "  gather_facts: false\n",
    "  tasks:\n",
    "  - name: Define BOOKMIN\n",
    "    set_fact:\n",
    "      BOOKMIN: 20\n",
    "    when: BOOKMIN is not defined\n",
    "\n",
    "  - name: Define BOOKMAX\n",
    "    set_fact:\n",
    "      BOOKMAX: 25\n",
    "    when: BOOKMAX is not defined\n",
    "    \n",
    "  - name: \"get online infos for books\"\n",
    "    shell: curl -s https://gutendex.com/books/{{ '{{' }} item {{ '}}' }}/ | jq -r '.formats  | to_entries | .[] | select(.key==\"image/jpeg\").value'\n",
    "    register: books_cover\n",
    "    loop: \"{{ '{{' }} range( BOOKMIN|int, BOOKMAX|int )|list {{ '}}' }}\"\n",
    "  \n",
    "#  - name: debug\n",
    "#    debug:\n",
    "#      var: books_cover.results\n",
    "      \n",
    "  - name: \"store covers in pictures folder\"\n",
    "    command: \"curl -sS -o ./Pictures/{{ '{{' }} item.stdout | basename {{ '{{' }} {{ '{{' }} item.stdout {{ '{{' }}\"\n",
    "    loop: \"{{ '{{' }} books_cover.results {{ '{{' }}\"\n",
    "  \n",
    "EOF\n",
    "  \n",
    "echo \"########################\"\n",
    "echo \"play3.2.yml file created\"\n",
    "echo \"########################\"\n",
    "echo \" \"\n",
    "echo \" \""
   ]
  },
  {
   "cell_type": "markdown",
   "metadata": {},
   "source": [
    "## Please now check that the Pictures folder contain the result of the playbook"
   ]
  },
  {
   "cell_type": "markdown",
   "metadata": {},
   "source": [
    "## Vault and Secret ??\n",
    "Ansible handles secrets using a feature called Vault.\n",
    "Vault lets you encrypt any of your .yml files, but typically you would apply it to files containing variable definitions, then use the variables’ values as needed elsewhere.\n",
    "\n",
    "Vault provides subcommands that let you encrypt a file in place, decrypt a file in place, edit a file that’s encrypted in one step, etc.\n",
    "\n",
    "When ansible is running your playbook or whatever, any time it comes across a .yml file that appears to be encrypted, it will decrypt it (in memory) and use the decrypted contents, fairly transparently. You can have as many of your files encrypted as you want.\n",
    "\n",
    "As part of the workshop you were allocated with a student id and a password.\n",
    "You are student{{ STDID }} and your password is {{ PASSSTU }}\n",
    "\n",
    "We also provide your student with a dedicated url http:{{ JPHOSTEXT }}:{{ hostvars[inventory_hostname]['HTTPPORT-WKSHP-Ansible101'] }}/student{{ STDID }}\n",
    "By default, the page is only accessible to your student along with its provided credenti\n",
    "So as an example, why couldn't we encryt your student password ? \n",
    "\n",
    "* Let's start by creating a vault secret\n",
    "* let's encrypt a variable and store in a yml file\n",
    "* include the yml file in a playbook to benefit from the encrypted variable\n",
    "* use the encrypted variable in playbook"
   ]
  },
  {
   "cell_type": "markdown",
   "metadata": {},
   "source": [
    "# The website provides a generic url publicly available at http:{{ JPHOSTEXT }}:{{ hostvars[inventory_hostname]['HTTPPORT-WKSHP-Ansible101'] }}\n",
    "\n",
    "Then your student has its own private zone under its student id folder. lease , check now the availability of your  private page now using a simple curl command. The page is password protected  and can only be opened with your own student credentials."
   ]
  },
  {
   "cell_type": "code",
   "execution_count": null,
   "metadata": {},
   "outputs": [],
   "source": [
    "curl --user student{{ STDID }}:{{ PASSSTU }} {{ JPHOSTEXT }}:{{ hostvars[inventory_hostname]['HTTPPORT-WKSHP-Ansible101'] }}/student{{ STDID }}/"
   ]
  },
  {
   "cell_type": "markdown",
   "metadata": {},
   "source": [
    "This works great but as you can see, the password is provide in clear text in the command. Ansible provides us with a secure way  to connect to the same page leveraging ansible vault secret."
   ]
  },
  {
   "cell_type": "code",
   "execution_count": null,
   "metadata": {},
   "outputs": [],
   "source": [
    "# let's create a ply to check the default url\n",
    "cat > play3.3.yml << EOF\n",
    "- hosts: localhost\n",
    "  gather_facts: false\n",
    "  tasks:  \n",
    "    - name: Check that you can connect (GET) to the default page and it returns a status 200\n",
    "      uri:\n",
    "        url: http://{{ JPHOSTEXT }}:{{ hostvars[inventory_hostname]['HTTPPORT-WKSHP-Ansible101'] }}\n",
    "EOF\n",
    "echo \"########################\"\n",
    "echo \"play3.3.yml file created\"\n",
    "echo \"########################\"\n",
    "echo \" \"\n",
    "echo \" \""
   ]
  },
  {
   "cell_type": "code",
   "execution_count": null,
   "metadata": {},
   "outputs": [],
   "source": [
    "ansible-playbook play3.3.yml"
   ]
  },
  {
   "cell_type": "code",
   "execution_count": null,
   "metadata": {},
   "outputs": [],
   "source": [
    "# Create  your vault secret Now\n",
    "ansible-vault encrypt_string --vault-password-file vault_secret {{ PASSSTU }} --name \"'WEBLOGIN'\" >> \"var.yml"
   ]
  },
  {
   "cell_type": "code",
   "execution_count": null,
   "metadata": {},
   "outputs": [],
   "source": [
    "# Now reach out the Web page with your login password\n",
    "# let's create a ply to check the default url\n",
    "cat > play3.4.yml << EOF\n",
    "- hosts: localhost\n",
    "  gather_facts: false\n",
    "  include: var.yml\n",
    "  tasks:  \n",
    "    - name: Check that you can connect (POST) to your private page and it returns a status\n",
    "      uri:\n",
    "        url: http://{{ JPHOSTEXT }}:{{ hostvars[inventory_hostname]['HTTPPORT-WKSHP-Ansible101'] }}/student{{ STDID }}/\n",
    "        user: student{{ STDID }}\n",
    "        password: {{ '{{' }} WEBLOGIN {{ '}}' }}\n",
    "        method: POST\n",
    "        force_basic_auth: yes\n",
    "        status_code: 201\n",
    "EOF\n",
    "echo \"########################\"\n",
    "echo \"play3.4.yml file created\"\n",
    "echo \"########################\"\n",
    "echo \" \"\n",
    "echo \" \""
   ]
  },
  {
   "cell_type": "code",
   "execution_count": null,
   "metadata": {},
   "outputs": [],
   "source": [
    "# Now perform the same action using curl and a ansible variable (Encrypted)"
   ]
  },
  {
   "cell_type": "code",
   "execution_count": null,
   "metadata": {},
   "outputs": [],
   "source": [
    "ansible-playbook play3.4.yml"
   ]
  },
  {
   "cell_type": "markdown",
   "metadata": {},
   "source": [
    "## Summary:\n",
    "In this lab, we discovered variables and templates, conditions, loop and vault secret.\n",
    "Let's now move on to the next topic: Roles.\n",
    "\n",
    "* [Lab 4](4-WKSHP-Ansible101-Roles.ipynb)"
   ]
  }
 ],
 "metadata": {
  "kernelspec": {
   "display_name": "Bash",
   "language": "bash",
   "name": "bash"
  },
  "language_info": {
   "codemirror_mode": "shell",
   "file_extension": ".sh",
   "mimetype": "text/x-sh",
   "name": "bash"
  }
 },
 "nbformat": 4,
 "nbformat_minor": 4
}
