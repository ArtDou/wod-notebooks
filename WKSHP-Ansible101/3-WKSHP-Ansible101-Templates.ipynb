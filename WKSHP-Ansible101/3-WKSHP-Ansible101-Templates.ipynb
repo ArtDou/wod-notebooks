{
 "cells": [
  {
   "cell_type": "markdown",
   "metadata": {},
   "source": [
    "### Lab 3: Variables and templates\n",
    "\n",
    "\n",
    "[From Ansible doc](https://docs.ansible.com/ansible/latest/user_guide/playbooks_variables.html#define-variables-in-inventory)\n",
    "\n",
    "Using Variables\n",
    "Ansible uses variables to manage differences between systems. With Ansible, you can execute tasks and playbooks on multiple different systems with a single command. To represent the variations among those different systems, you can create variables with standard YAML syntax, including lists and dictionaries. You can define these variables in your playbooks, in your inventory, in re-usable files or roles, or at the command line. You can also create variables during a playbook run by registering the return value or values of a task as a new variable.\n",
    "\n",
    "After you create variables, either by defining them in a file, passing them at the command line, or registering the return value or values of a task as a new variable, you can use those variables in module arguments, in conditional “when” statements, in templates, and in loops. [The ansible-examples github repository](https://github.com/ansible/ansible-examples) contains many examples of using variables in Ansible.\n",
    "\n",
    "Once you understand the concepts and examples on this page, read about Ansible facts, which are variables you retrieve from remote systems. With Ansible you can retrieve or discover certain variables containing information about your remote systems or about Ansible itself. Variables related to remote systems are called facts. With facts, you can use the behavior or state of one system as configuration on other systems. For example, you can use the IP address of one system as a configuration value on another system. Variables related to Ansible are called magic variables."
   ]
  },
  {
   "cell_type": "markdown",
   "metadata": {},
   "source": [
    "## Creating valid variable names\n",
    "Not all strings are valid Ansible variable names. A variable name can only include letters, numbers, and underscores. Python keywords or playbook keywords are not valid variable names. A variable name cannot begin with a number.\n",
    "\n",
    "Variable names can begin with an underscore. In many programming languages, variables that begin with an underscore are private. This is not true in Ansible. Variables that begin with an underscore are treated exactly the same as any other variable. Do not rely on this convention for privacy or security.\n",
    "\n",
    "[Defining Variables](https://docs.ansible.com/ansible/latest/user_guide/playbooks_variables.html#define-variables-in-inventory)"
   ]
  },
  {
   "cell_type": "markdown",
   "metadata": {},
   "source": [
    "## Variables"
   ]
  },
  {
   "cell_type": "code",
   "execution_count": 1,
   "metadata": {},
   "outputs": [],
   "source": [
    "#ansible.cfg\n",
    "[defaults]\n",
    "host_key_checking=False"
   ]
  },
  {
   "cell_type": "code",
   "execution_count": 2,
   "metadata": {},
   "outputs": [],
   "source": [
    "#inventory\n",
    "[all]\n",
    "localhost ansible_connection=local"
   ]
  },
  {
   "cell_type": "code",
   "execution_count": 3,
   "metadata": {},
   "outputs": [],
   "source": [
    "#vars example_vars\n",
    "message: hello vars"
   ]
  },
  {
   "cell_type": "code",
   "execution_count": 4,
   "metadata": {},
   "outputs": [
    {
     "name": "stdout",
     "output_type": "stream",
     "text": [
      "\n"
     ]
    }
   ],
   "source": [
    "#play\n",
    "name: hello world\n",
    "hosts: localhost\n",
    "gather_facts: false\n",
    "vars_files:\n",
    "    - example_vars"
   ]
  },
  {
   "cell_type": "code",
   "execution_count": 5,
   "metadata": {},
   "outputs": [
    {
     "name": "stdout",
     "output_type": "stream",
     "text": [
      "TASK [debug] *******************************************************************\n",
      "ok: [localhost] => {\n",
      "    \"msg\": \"hello vars\"\n",
      "}\n"
     ]
    }
   ],
   "source": [
    "#task\n",
    "debug:\n",
    " msg: \"{{message}}\""
   ]
  },
  {
   "cell_type": "markdown",
   "metadata": {},
   "source": [
    "## Templates"
   ]
  },
  {
   "cell_type": "code",
   "execution_count": 6,
   "metadata": {},
   "outputs": [],
   "source": [
    "#ansible.cfg\n",
    "[defaults]\n",
    "host_key_checking=False"
   ]
  },
  {
   "cell_type": "code",
   "execution_count": 7,
   "metadata": {},
   "outputs": [],
   "source": [
    "#inventory\n",
    "[all]\n",
    "localhost ansible_connection=local"
   ]
  },
  {
   "cell_type": "code",
   "execution_count": 12,
   "metadata": {},
   "outputs": [],
   "source": [
    "#vars example_vars\n",
    "message: hello from template"
   ]
  },
  {
   "cell_type": "code",
   "execution_count": 13,
   "metadata": {},
   "outputs": [],
   "source": [
    "#template hello.j2\n",
    "{{message}} "
   ]
  },
  {
   "cell_type": "code",
   "execution_count": 14,
   "metadata": {},
   "outputs": [
    {
     "name": "stdout",
     "output_type": "stream",
     "text": [
      "\n"
     ]
    }
   ],
   "source": [
    "#play\n",
    "name: hello world\n",
    "hosts: localhost\n",
    "gather_facts: false\n",
    "vars_files:\n",
    "    - example_vars"
   ]
  },
  {
   "cell_type": "code",
   "execution_count": 15,
   "metadata": {},
   "outputs": [
    {
     "name": "stdout",
     "output_type": "stream",
     "text": [
      "TASK [template] ****************************************************************\n",
      "{'counter': 15,\n",
      " 'end_line': 14,\n",
      " 'event': 'verbose',\n",
      " 'runner_ident': '957c3409-8c98-4579-9fc7-f377d7be878b',\n",
      " 'start_line': 13,\n",
      " 'stdout': '\\x1b[0;35m[DEPRECATION WARNING]: Distribution Ubuntu 20.04 on host '\n",
      "           'localhost should use \\x1b[0m',\n",
      " 'uuid': 'fb0e77ed-2a18-4ab9-89a8-9c0679b488f6'}\n",
      "{'counter': 16,\n",
      " 'end_line': 15,\n",
      " 'event': 'verbose',\n",
      " 'runner_ident': '957c3409-8c98-4579-9fc7-f377d7be878b',\n",
      " 'start_line': 14,\n",
      " 'stdout': '\\x1b[0;35m/usr/bin/python3, but is using /usr/bin/python for '\n",
      "           'backward compatibility with \\x1b[0m',\n",
      " 'uuid': '1be4536b-06d8-4cb7-a71b-5a3e698e5436'}\n",
      "{'counter': 17,\n",
      " 'end_line': 16,\n",
      " 'event': 'verbose',\n",
      " 'runner_ident': '957c3409-8c98-4579-9fc7-f377d7be878b',\n",
      " 'start_line': 15,\n",
      " 'stdout': '\\x1b[0;35mprior Ansible releases. A future Ansible release will '\n",
      "           'default to using the \\x1b[0m',\n",
      " 'uuid': '96ac48e3-a8b6-46db-b403-0653f4a5e6a7'}\n",
      "{'counter': 18,\n",
      " 'end_line': 17,\n",
      " 'event': 'verbose',\n",
      " 'runner_ident': '957c3409-8c98-4579-9fc7-f377d7be878b',\n",
      " 'start_line': 16,\n",
      " 'stdout': '\\x1b[0;35mdiscovered platform python for this host. See '\n",
      "           'https://docs.ansible.com/ansible/\\x1b[0m',\n",
      " 'uuid': 'afd4395e-efff-4812-8490-3495c5cc272b'}\n",
      "{'counter': 19,\n",
      " 'end_line': 18,\n",
      " 'event': 'verbose',\n",
      " 'runner_ident': '957c3409-8c98-4579-9fc7-f377d7be878b',\n",
      " 'start_line': 17,\n",
      " 'stdout': '\\x1b[0;35m2.10/reference_appendices/interpreter_discovery.html for '\n",
      "           'more information. This\\x1b[0m',\n",
      " 'uuid': '94b6ba29-ef47-429b-b586-33329d1809dd'}\n",
      "{'counter': 20,\n",
      " 'end_line': 19,\n",
      " 'event': 'verbose',\n",
      " 'runner_ident': '957c3409-8c98-4579-9fc7-f377d7be878b',\n",
      " 'start_line': 18,\n",
      " 'stdout': '\\x1b[0;35m feature will be removed in version 2.12. Deprecation '\n",
      "           'warnings can be disabled \\x1b[0m',\n",
      " 'uuid': '0a58b85c-49d5-4e5a-a824-c797d3de6b30'}\n",
      "{'counter': 21,\n",
      " 'end_line': 20,\n",
      " 'event': 'verbose',\n",
      " 'runner_ident': '957c3409-8c98-4579-9fc7-f377d7be878b',\n",
      " 'start_line': 19,\n",
      " 'stdout': '\\x1b[0;35mby setting deprecation_warnings=False in '\n",
      "           'ansible.cfg.\\x1b[0m',\n",
      " 'uuid': 'a2e77277-471c-49e7-bd5b-bb2990e34dbf'}\n",
      "changed: [localhost] => {\n",
      "    \"ansible_facts\": {\n",
      "        \"discovered_interpreter_python\": \"/usr/bin/python\"\n",
      "    },\n",
      "    \"checksum\": \"0a82a60ff55d93919952ab6faeb2b024d3120584\",\n",
      "    \"deprecations\": [\n",
      "        {\n",
      "            \"msg\": \"Distribution Ubuntu 20.04 on host localhost should use /usr/bin/python3, but is using /usr/bin/python for backward compatibility with prior Ansible releases. A future Ansible release will default to using the discovered platform python for this host. See https://docs.ansible.com/ansible/2.10/reference_appendices/interpreter_discovery.html for more information\",\n",
      "            \"version\": \"2.12\"\n",
      "        }\n",
      "    ],\n",
      "    \"dest\": \"/tmp/hello\",\n",
      "    \"diff\": [],\n",
      "    \"gid\": 1000,\n",
      "    \"group\": \"jupyter\",\n",
      "    \"md5sum\": \"fe06f4341cda849034312386cc154981\",\n",
      "    \"mode\": \"0664\",\n",
      "    \"owner\": \"jupyter\",\n",
      "    \"size\": 19,\n",
      "    \"src\": \"/home/jupyter/.ansible/tmp/ansible-tmp-1642426377.8961923-146823-63182754515163/source\",\n",
      "    \"state\": \"file\",\n",
      "    \"uid\": 1000\n",
      "}\n"
     ]
    }
   ],
   "source": [
    "template:\n",
    "    src: hello.j2\n",
    "    dest: /tmp/hello"
   ]
  },
  {
   "cell_type": "code",
   "execution_count": 16,
   "metadata": {},
   "outputs": [
    {
     "name": "stdout",
     "output_type": "stream",
     "text": [
      "TASK [shell] *******************************************************************\n",
      "changed: [localhost] => {\n",
      "    \"cmd\": \"cat /tmp/hello\",\n",
      "    \"delta\": \"0:00:00.045899\",\n",
      "    \"end\": \"2022-01-17 13:33:13.300550\",\n",
      "    \"rc\": 0,\n",
      "    \"start\": \"2022-01-17 13:33:13.254651\",\n",
      "    \"stderr\": \"\",\n",
      "    \"stderr_lines\": [],\n",
      "    \"stdout\": \"[see below]\",\n",
      "    \"stdout_lines\": \"[removed for clarity]\"\n",
      "}\n",
      "\n",
      "[localhost] stdout:\n",
      "hello from template\n"
     ]
    }
   ],
   "source": [
    "shell: cat /tmp/hello\n",
    "register: output"
   ]
  },
  {
   "cell_type": "code",
   "execution_count": 17,
   "metadata": {},
   "outputs": [
    {
     "name": "stdout",
     "output_type": "stream",
     "text": [
      "TASK [debug] *******************************************************************\n",
      "ok: [localhost] => {\n",
      "    \"output.stdout\": \"hello from template\"\n",
      "}\n"
     ]
    }
   ],
   "source": [
    "debug:\n",
    "    var: output.stdout"
   ]
  },
  {
   "cell_type": "markdown",
   "metadata": {},
   "source": [
    "## Summary:\n",
    "In this lab, we discovered variabls and templates.\n",
    "Let's now move on to the next topic: Roles and vaults.\n",
    "\n",
    "* [Lab 4](4-WKSHP-Ansible101-Roles.ipynb)"
   ]
  },
  {
   "cell_type": "code",
   "execution_count": null,
   "metadata": {},
   "outputs": [],
   "source": []
  }
 ],
 "metadata": {
  "kernelspec": {
   "display_name": "Ansible",
   "language": "ansible",
   "name": "ansible"
  },
  "language_info": {
   "codemirror_mode": "yaml",
   "file_extension": ".yml",
   "mimetype": "text/yaml",
   "name": "ansible"
  }
 },
 "nbformat": 4,
 "nbformat_minor": 4
}
