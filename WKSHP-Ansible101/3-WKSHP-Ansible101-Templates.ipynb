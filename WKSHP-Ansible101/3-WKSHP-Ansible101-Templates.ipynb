{
 "cells": [
  {
   "cell_type": "markdown",
   "metadata": {},
   "source": [
    "### Lab 3:  Variables and Templates\n",
    "\n",
    "\n",
    "[From Ansible doc](https://docs.ansible.com/ansible/latest/user_guide/playbooks_variables.html#define-variables-in-inventory)\n",
    "\n",
    "Using Variables\n",
    "Ansible uses variables to manage differences between systems. With Ansible, you can execute tasks and playbooks on multiple different systems with a single command. To represent the variations among those different systems, you can create variables with standard YAML syntax, including lists and dictionaries. You can define these variables in your playbooks, in your inventory, in re-usable files or roles, or at the command line. You can also create variables during a playbook run by registering the return value or values of a task as a new variable.\n",
    "\n",
    "After you create variables, either by defining them in a file, passing them at the command line, or registering the return value or values of a task as a new variable, you can use those variables in module arguments, in conditional “when” statements, in templates, and in loops. [The ansible-examples github repository](https://github.com/ansible/ansible-examples) contains many examples of using variables in Ansible.\n",
    "\n",
    "Once you understand the concepts and examples on this page, read about Ansible facts, which are variables you retrieve from remote systems. With Ansible you can retrieve or discover certain variables containing information about your remote systems or about Ansible itself. Variables related to remote systems are called facts. With facts, you can use the behavior or state of one system as configuration on other systems. For example, you can use the IP address of one system as a configuration value on another system. Variables related to Ansible are called magic variables."
   ]
  },
  {
   "cell_type": "markdown",
   "metadata": {},
   "source": [
    "## Creating valid variable names\n",
    "Not all strings are valid Ansible variable names. A variable name can only include letters, numbers, and underscores. Python keywords or playbook keywords are not valid variable names. A variable name cannot begin with a number.\n",
    "\n",
    "Variable names can begin with an underscore. In many programming languages, variables that begin with an underscore are private. This is not true in Ansible. Variables that begin with an underscore are treated exactly the same as any other variable. Do not rely on this convention for privacy or security.\n",
    "\n",
    "[Defining Variables](https://docs.ansible.com/ansible/latest/user_guide/playbooks_variables.html#define-variables-in-inventory)"
   ]
  },
  {
   "cell_type": "markdown",
   "metadata": {},
   "source": [
    "## Variables"
   ]
  },
  {
   "cell_type": "markdown",
   "metadata": {},
   "source": [
    "For this lab, we will leverage simple variables to be later used in a task. The task will append some content to a file and substitute the relevant variables."
   ]
  },
  {
   "cell_type": "markdown",
   "metadata": {},
   "source": [
    "### Start by defining the variable files:\n",
    "\n",
    "<span style=\"color:red\">#### Update the relevant field in the variables_local.yml file definition by editing the  next cell</span>.\n"
   ]
  },
  {
   "cell_type": "code",
   "execution_count": null,
   "metadata": {},
   "outputs": [],
   "source": [
    "# Define the local and target variable files:\n",
    "mkdir -p vars\n",
    "cat > vars/variables_local.yml <<EOF\n",
    "LABSTUDENTNAME: \"INPUT YOUR NAME HERE\"\n",
    "LABSTUDENTID: \"{{ STDID }}\"\n",
    "LABLOCATION:  \"INPUT YOUR COUNTRY\"\n",
    "EOF\n",
    "\n",
    "cat > vars/variables_target.yml <<EOF\n",
    "LABSTUDENTNAME: \"APOLLO\"\n",
    "LABSTUDENTID: \"11\"\n",
    "LABLOCATION: \"THE MOON\"\n",
    "EOF\n",
    "\n",
    "\n",
    "echo \"########################\"\n",
    "echo \"variable files created\"\n",
    "echo \"########################\"\n",
    "echo \" \"\n",
    "echo \" \""
   ]
  },
  {
   "cell_type": "markdown",
   "metadata": {},
   "source": [
    "#### Now create the playbook with the task"
   ]
  },
  {
   "cell_type": "code",
   "execution_count": null,
   "metadata": {},
   "outputs": [],
   "source": [
    "# we use the existing invetory file :  no need to regenerate it\n",
    "\n",
    "# Define a play\n",
    "\n",
    "cat > play1.yml << EOF\n",
    "- hosts: localhost\n",
    "  gather_facts: true\n",
    "  tasks:\n",
    "    - include_vars: vars/variables_local.yml\n",
    "    - name: Adapt lab3.1.txt file\n",
    "      blockinfile:\n",
    "        create: yes\n",
    "        path: /student/student{{ STDID }}/student{{ STDID }}-lab3.1.txt\n",
    "        block: |\n",
    "          ##############################################################################################################################################################################\n",
    "          # This file was generated by the Ansible101 HPE DEV Worshop-on-Demand lab3 for {{ '{{' }} LABSTUDENTNAME {{ '}}' }} with id {{ '{{' }} LABSTUDENTID {{ '}}' }}  running from {{ '{{' }} hostvars[inventory_hostname]['ansible_facts']['nodename'] {{ '}}' }}\n",
    "          ##############################################################################################################################################################################\n",
    "EOF\n",
    "\n",
    "echo \"########################\"\n",
    "echo \"play1.yml file created\"\n",
    "echo \"########################\"\n",
    "echo \" \"\n",
    "echo \" \""
   ]
  },
  {
   "cell_type": "markdown",
   "metadata": {},
   "source": [
    "Now let's execute the playbook on the inventory file we have defined earlier.\n",
    "\n",
    "You will note that for now, the task is targetting the localhost only. The point is to show the principle here."
   ]
  },
  {
   "cell_type": "code",
   "execution_count": null,
   "metadata": {},
   "outputs": [],
   "source": [
    "ansible-playbook -i inventory play1.yml"
   ]
  },
  {
   "cell_type": "markdown",
   "metadata": {},
   "source": [
    "### Now take a look at the result"
   ]
  },
  {
   "cell_type": "code",
   "execution_count": null,
   "metadata": {},
   "outputs": [],
   "source": [
    "cat /student/student{{ STDID }}/student{{ STDID }}-lab3.1.txt"
   ]
  },
  {
   "cell_type": "markdown",
   "metadata": {},
   "source": [
    "## Templates"
   ]
  },
  {
   "cell_type": "markdown",
   "metadata": {},
   "source": [
    "In this part, we will leverage a template file (jinja Template with j2 extension) that will be used to create the final file.\n",
    "\n",
    "We will then introduce conditions to alter the content of the file depending on the target. We will use the [ansible template module](https://docs.ansible.com/ansible/latest/collections/ansible/builtin/template_module.html) to achieve this"
   ]
  },
  {
   "cell_type": "code",
   "execution_count": null,
   "metadata": {},
   "outputs": [],
   "source": [
    "# Define a play\n",
    "\n",
    "cat > play2.yml << EOF\n",
    "- hosts: target\n",
    "  gather_facts: true\n",
    "  tasks:\n",
    "    - include_vars: vars/variables_local.yml\n",
    "    - name: Template a file to lab3.2.txt\n",
    "      template:\n",
    "        src: templates/lab3.2.txt.j2\n",
    "        dest: /student/student{{ STDID }}/student{{ STDID }}-lab3.2.txt\n",
    "        mode: '0644'\n",
    "EOF\n",
    "\n",
    "echo \"########################\"\n",
    "echo \"play2.yml file created\"\n",
    "echo \"########################\"\n",
    "echo \" \"\n",
    "echo \" \""
   ]
  },
  {
   "cell_type": "markdown",
   "metadata": {},
   "source": [
    "Let's look at the jinja template now:"
   ]
  },
  {
   "cell_type": "code",
   "execution_count": null,
   "metadata": {},
   "outputs": [],
   "source": [
    "cat templates/lab3.2.txt.j2"
   ]
  },
  {
   "cell_type": "markdown",
   "metadata": {},
   "source": [
    "### Execute the play now"
   ]
  },
  {
   "cell_type": "code",
   "execution_count": null,
   "metadata": {},
   "outputs": [],
   "source": [
    "ansible-playbook -i inventory play2.yml"
   ]
  },
  {
   "cell_type": "markdown",
   "metadata": {},
   "source": [
    "### Let's look at the results"
   ]
  },
  {
   "cell_type": "code",
   "execution_count": null,
   "metadata": {},
   "outputs": [],
   "source": [
    "cat /student/student{{ STDID }}/student{{ STDID }}-lab3.2.txt\n",
    "ssh {{  hostvars[inventory_hostname]['IP-WKSHP-Ansible101'] }} cat /student/student{{ STDID }}/student{{ STDID }}-lab3.2.txt"
   ]
  },
  {
   "cell_type": "markdown",
   "metadata": {},
   "source": [
    "### What about  making it into a playbook for next use and leverage loops in ansible?"
   ]
  },
  {
   "cell_type": "code",
   "execution_count": null,
   "metadata": {},
   "outputs": [],
   "source": [
    "# Define a play\n",
    "\n",
    "cat > result.yml << EOF\n",
    "- hosts: target\n",
    "  gather_facts: true\n",
    "  tasks:\n",
    "    - name: Check result for each host \n",
    "      command: cat /student/student{{ STDID }}/student{{ STDID }}-lab3.2.txt\n",
    "      register: res\n",
    "      with_items: \"{{ '{{' }} groups['all'] {{ '}}' }}\"\n",
    "\n",
    "    - name: Printing output\n",
    "      shell: echo \"{{ '{{' }} item.stdout {{ '}}' }}\"\n",
    "      with_items: \"{{ '{{' }} res.results {{ '}}' }}\"\n",
    "      loop_control:\n",
    "        label: \"{{ '{{' }} item.stdout {{ '}}' }}\"\n",
    "EOF\n",
    "\n",
    "echo \"########################\"\n",
    "echo \"result.yml file created\"\n",
    "echo \"########################\"\n",
    "echo \" \"\n",
    "echo \" \""
   ]
  },
  {
   "cell_type": "markdown",
   "metadata": {},
   "source": [
    "### Let's check again"
   ]
  },
  {
   "cell_type": "code",
   "execution_count": null,
   "metadata": {},
   "outputs": [],
   "source": [
    "ansible-playbook -i inventory result.yml"
   ]
  },
  {
   "cell_type": "markdown",
   "metadata": {},
   "source": [
    "## Conditions\n",
    "\n",
    "Use the when condition to control whether a task or role runs or is skipped. This is normally used to change play behavior based on facts from the destination system.\n",
    "\n",
    "In our case, we will use the when condition on the targets to modify the content of the file based on variables set upper."
   ]
  },
  {
   "cell_type": "code",
   "execution_count": null,
   "metadata": {},
   "outputs": [],
   "source": [
    "# Define a play\n",
    "\n",
    "cat > play3.yml << EOF\n",
    "- hosts: target\n",
    "  gather_facts: true\n",
    "  tasks:\n",
    "    - include_vars: vars/variables_local.yml\n",
    "    - name: Template a file to lab3.3.txt\n",
    "      template:\n",
    "        src: templates/lab3.3.txt.j2\n",
    "        dest: /student/student{{ STDID }}/student{{ STDID }}-lab3.3.txt\n",
    "        mode: '0644'\n",
    "EOF\n",
    "\n",
    "echo \"########################\"\n",
    "echo \"play3.yml file created\"\n",
    "echo \"########################\"\n",
    "echo \" \"\n",
    "echo \" \""
   ]
  },
  {
   "cell_type": "markdown",
   "metadata": {},
   "source": [
    "Check the jinja template now"
   ]
  },
  {
   "cell_type": "code",
   "execution_count": null,
   "metadata": {},
   "outputs": [],
   "source": [
    "cat templates/lab3.3.txt.j2"
   ]
  },
  {
   "cell_type": "markdown",
   "metadata": {},
   "source": [
    "### Execute Now"
   ]
  },
  {
   "cell_type": "code",
   "execution_count": null,
   "metadata": {},
   "outputs": [],
   "source": [
    "ansible-playbook -i inventory play3.yml"
   ]
  },
  {
   "cell_type": "markdown",
   "metadata": {},
   "source": [
    "### And Check result using another result.yml play"
   ]
  },
  {
   "cell_type": "code",
   "execution_count": null,
   "metadata": {},
   "outputs": [],
   "source": [
    "# Define a play\n",
    "\n",
    "cat > result2.yml << EOF\n",
    "- hosts: target\n",
    "  gather_facts: true\n",
    "  tasks:\n",
    "    - name: Check result for each host \n",
    "      command: cat /student/student{{ STDID }}/student{{ STDID }}-lab3.3.txt\n",
    "      register: res\n",
    "      with_items: \"{{ '{{' }} groups['all'] {{ '}}' }}\"\n",
    "\n",
    "    - name: Printing output\n",
    "      shell: echo \"{{ '{{' }} item.stdout {{ '}}' }}\"\n",
    "      with_items: \"{{ '{{' }} res.results {{ '}}' }}\"\n",
    "      loop_control:\n",
    "        label: \"{{ '{{' }} item.stdout {{ '}}' }}\"\n",
    "EOF\n",
    "\n",
    "echo \"########################\"\n",
    "echo \"result2.yml file created\"\n",
    "echo \"########################\"\n",
    "echo \" \"\n",
    "echo \" \""
   ]
  },
  {
   "cell_type": "code",
   "execution_count": null,
   "metadata": {},
   "outputs": [],
   "source": [
    "ansible-playbook -i inventory result2.yml"
   ]
  },
  {
   "cell_type": "markdown",
   "metadata": {},
   "source": [
    "## Summary:\n",
    "In this lab, we discovered variables and templates.\n",
    "Let's now move on to the next topic: Roles.\n",
    "\n",
    "* [Lab 4](4-WKSHP-Ansible101-Roles.ipynb)"
   ]
  }
 ],
 "metadata": {
  "kernelspec": {
   "display_name": "Bash",
   "language": "bash",
   "name": "bash"
  },
  "language_info": {
   "codemirror_mode": "shell",
   "file_extension": ".sh",
   "mimetype": "text/x-sh",
   "name": "bash"
  }
 },
 "nbformat": 4,
 "nbformat_minor": 4
}
