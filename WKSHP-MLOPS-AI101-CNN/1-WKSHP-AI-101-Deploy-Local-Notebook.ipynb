{
 "cells": [
  {
   "cell_type": "markdown",
   "metadata": {},
   "source": [
    "# AI 101 - Lab 1\n",
    "## Deploy a local Jupyter Notebook cluster on HPE Ezmeral Container Platform"
   ]
  },
  {
   "cell_type": "markdown",
   "metadata": {},
   "source": [
    "### **Lab workflow:**\n",
    "\n",
    "In this lab:\n",
    "\n",
    "1. As tenant user, you will deploy a local Jupyter Notebook application KubeDirector cluster on HPE Ezmeral Container Platform and use it as a code sandbox to get started with Deep Learning Neural Network model.\n",
    "\n",
    "2. You will then access your local Jupyter Notebook web UI via the gateway network service port to run the AI 101 hands-on workshop and dive into the typical data scientist work to devlop a deep learning model."
   ]
  },
  {
   "cell_type": "markdown",
   "metadata": {},
   "source": [
    "#### Initialize the environment:\n",
    "\n",
    "Let's first define the environment variables needed to execute this lab part."
   ]
  },
  {
   "cell_type": "code",
   "execution_count": null,
   "metadata": {},
   "outputs": [],
   "source": [
    "#\n",
    "# environment variables to be verified by the student\n",
    "#\n",
    "studentId=\"student{{ STDID }}\" # your Jupyter Notebook student Identifier (i.e.: student<xx>)\n",
    "username=\"student{{ STDID }}\" # your HPE ECP tenant login credentials - username \n",
    "password=\"{{ PASSSTU }}\" # your HPE ECP tenant login credentials - password - Please replace with password provided in your registration\n",
    "\n",
    "tenantname=\"K8sMLTenant\" #case sensitive\n",
    "#\n",
    "# fixed environment variables setup by the HPE ECP lab administrator - Please DO NOT MODIFY!!\n",
    "#\n",
    "gateway_host=\"{{ HPEECPGWNAME }}\"\n",
    "controller_endpoint=\"${gateway_host}:8080\"\n",
    "Internet_access=\"{{ JPHOSTEXT }}\"\n",
    "\n",
    "gateway_host=\"gateway2.etc.fr.comm.hpecorp.net\"\n",
    "controller_endpoint=\"${gateway_host}:8080\"\n",
    "Internet_access=\"notebooks.hpedev.io\"\n",
    "\n",
    "clusterName=\"jupyter-notebook-${studentId}\"\n",
    "JupyterNotebookApp=\"cr-cluster-jupyter-notebook.yaml\" # the Jupyter Notebook KD App manifest you will deploy to build your model\n",
    "sc_secret=\"sc-secret-AI101-students.yaml\"\n",
    "\n",
    "echo \"your operation context is:\" $username \"on tenant\" $tenantname \n",
    "echo \"your REST API endpoint is:\" $controller_endpoint"
   ]
  },
  {
   "cell_type": "markdown",
   "metadata": {},
   "source": [
    "#### Authenticate as a tenant user in the specified tenant:"
   ]
  },
  {
   "cell_type": "code",
   "execution_count": null,
   "metadata": {},
   "outputs": [],
   "source": [
    "sessionlocation=$(curl -k -i -s --request POST \"https://${controller_endpoint}/api/v2/session\" \\\n",
    "--header 'Accept: application/json' \\\n",
    "--header 'Content-Type: application/json' \\\n",
    "--data-raw '{\n",
    "\"name\": \"'\"$username\"'\",\n",
    "\"password\": \"'\"$password\"'\",\n",
    "\"tenant_name\": \"'\"$tenantname\"'\"\n",
    "}' | grep Location | awk '{print $2}' | tr -d '\\r') #we remove any cr that might exist\n",
    "echo \"This is your session location: \" $sessionlocation\n",
    "SessionId=$(echo $sessionlocation | cut -d'/' -f 5) # extract sessionId for later, for logout\n",
    "echo \"This is your session_Id:\" $SessionId"
   ]
  },
  {
   "cell_type": "markdown",
   "metadata": {},
   "source": [
    "#### Get the Kubeconfig file for your tenant working context:"
   ]
  },
  {
   "cell_type": "code",
   "execution_count": null,
   "metadata": {},
   "outputs": [],
   "source": [
    "mkdir -p ~/.kube\n",
    "ls ~/.kube\n",
    "rm -f ~/.kube/config\n",
    "curl -k -s --request GET \"https://${controller_endpoint}/api/v2/k8skubeconfig\" \\\n",
    "--header \"X-BDS-SESSION: $sessionlocation\" \\\n",
    "--header 'Accept: application/json' \\\n",
    "--header 'Content-Type: application/json' > ~/.kube/config\n",
    "#\n",
    "echo \"Kubeconfig file fetched. Your current Kubernetes working context is: \"\n",
    "kubectl config current-context"
   ]
  },
  {
   "cell_type": "markdown",
   "metadata": {},
   "source": [
    "## Deploying your local Jupyter Notebook cluster"
   ]
  },
  {
   "cell_type": "markdown",
   "metadata": {},
   "source": [
    "#### Deploy an instance of the Jupyter Notebook KubeDirector application:\n",
    "You will deploy an instance of the **jupyter-notebook** KubeDirector application (kdapp) with the Training cluster _Connection_ by creating a KubeDirector virtual cluster (kdcluster). A kdcluster identifies the desired kdapp and specifies runtime configuration parameters, such as the size and resource requirements of the virtual cluster. \n",
    "\n",
    "> **Note:** _The Jupyter-Notebook kdapp includes the open source Machine learning toolkits, software libraries and frameworks for developing and training models such as TensorFlow, scikit-learn, keras, XGBoost, matplotlib, Jupyter Notebook, Numpy, Scipy, Pandas..._\n",
    "\n",
    "Like any other containerized application deployment on Kubernetes, the K8s API call requires the kubectl operation type (create or apply) and the application manifest (a YAML file that describes the attributes of the application).  \n",
    "\n",
    "As you are all sharing the same tenant context and Kubernetes cluster resources, let's make sure your application deployment name will be unique among the tenant users. Here we replace the string \"example\" with your \"studentId\" in the application manifest file."
   ]
  },
  {
   "cell_type": "markdown",
   "metadata": {},
   "source": [
    "> **Note:** _one of the most interesting parts of the kdcluster spec is the **Connections** stanza (a related group of attributes), which identifies other resources of interest to that kdcluster. Here, you attach your local Jupyter Notebook cluster to two secrets: \n",
    "a secret that identifies the values for the source control repository from which to pull files (that is the AI-101 notebook and associated files) when attached to the local Jupyter Notebook cluster. \n",
    "Another secret that contains the values for external Ezmeral Container Platform's LDAP/AD authentication._ "
   ]
  },
  {
   "cell_type": "code",
   "execution_count": null,
   "metadata": {},
   "outputs": [],
   "source": [
    "kubectl apply -f $sc_secret\n",
    "kubectl apply -f $JupyterNotebookApp"
   ]
  },
  {
   "cell_type": "markdown",
   "metadata": {},
   "source": [
    "After a few seconds, you should get the response message to your K8s API request: *kubedirectorcluster/Your-instance-name created*.  \n",
    "\n",
    "In the next steps, you will use kubectl commands in the context of your tenant user account and get the Notebook service endpoint with token-based authorization to connect to it."
   ]
  },
  {
   "cell_type": "markdown",
   "metadata": {},
   "source": [
    "## Check the deployment status of the local Jupyter Notebook cluster"
   ]
  },
  {
   "cell_type": "markdown",
   "metadata": {},
   "source": [
    "After creating the instance of the KubeDirector Application, you can use the `kubectl describe kdcluster` command below to observe its status and the standard Kubernetes resources that compose the application virtual cluster (statefulsets, pods, services, persistent volume claim if any), as well as any events logged against it.\n",
    "\n",
    "The virtual cluster status indicates its overall \"state\" (top-level property of the status object). It should have a value of **\"configured\"**. \n",
    "\n",
    "> **Note:** _The first time a virtual cluster of a given KubeDirector Application type is created, it may take some minutes to reach its **\"configured\"** state, as the relevant Docker image must be downloaded and imported._ "
   ]
  },
  {
   "cell_type": "markdown",
   "metadata": {},
   "source": [
    "**Repeat the command below until the kdcluster is in state \"configured\"**"
   ]
  },
  {
   "cell_type": "code",
   "execution_count": null,
   "metadata": {},
   "outputs": [],
   "source": [
    "kubectl describe kdcluster $clusterName"
   ]
  },
  {
   "cell_type": "markdown",
   "metadata": {},
   "source": [
    "## Get the local Jupyter Notebook service endpoint"
   ]
  },
  {
   "cell_type": "code",
   "execution_count": null,
   "metadata": {},
   "outputs": [],
   "source": [
    "#\n",
    "# Getting the service endpoint URL:\n",
    "#\n",
    "JupyterAppURL=$(kubectl describe service -l  kubedirector.hpe.com/kdcluster=${clusterName} | grep gateway/8000 | awk '{print $2}')\n",
    "JupyterAppPort=$(echo $JupyterAppURL | cut -d':' -f 2) # extract the gateway re-mapped port value.\n",
    "myJupyterApp_endpoint=\"https://$gateway_host:$JupyterAppPort\"\n",
    "#echo \"Your application service endpoint re-mapped port is: \"$JupyterAppPort\n",
    "#echo \"Your Intranet application service endpoint is: \"$myJupyterApp_endpoint\n",
    "echo \"Your Jupyter Notebook service endpoint URL is: https://\"$Internet_access:$JupyterAppPort\n",
    "#"
   ]
  },
  {
   "cell_type": "markdown",
   "metadata": {},
   "source": [
    "## Connect to your local Jupyter Notebook web UI\n",
    "Click the service endpoint URL above to connect to your Jupyter Notebook server.\n",
    "This opens a Jupyter Notebook login screen in a new browser tab. Login using your jupyterHub account username and password provided to you in the registration email. And enjoy the AI 101 hands-on workshop!"
   ]
  },
  {
   "cell_type": "markdown",
   "metadata": {},
   "source": [
    "### **Time to go through some cleanup**"
   ]
  },
  {
   "cell_type": "markdown",
   "metadata": {},
   "source": [
    "Delete your secret and your local Jupyter Notebook cluster"
   ]
  },
  {
   "cell_type": "code",
   "execution_count": null,
   "metadata": {},
   "outputs": [],
   "source": [
    "kubectl delete -f $sc_secret\n",
    "kubectl delete -f $JupyterNotebookApp"
   ]
  },
  {
   "cell_type": "code",
   "execution_count": null,
   "metadata": {},
   "outputs": [],
   "source": [
    "curl -k -i -s --request DELETE \"https://${controller_endpoint}/api/v2/session/${SessionId}\" \\\n",
    "--header \"X-BDS-SESSION: $sessionlocation\" \\\n",
    "--header 'Accept: application/json' \\\n",
    "--header 'Content-Type: application/json'"
   ]
  },
  {
   "cell_type": "markdown",
   "metadata": {},
   "source": [
    "Thank you!!!"
   ]
  }
 ],
 "metadata": {
  "kernelspec": {
   "display_name": "Bash",
   "language": "bash",
   "name": "bash"
  },
  "language_info": {
   "codemirror_mode": "shell",
   "file_extension": ".sh",
   "mimetype": "text/x-sh",
   "name": "bash"
  }
 },
 "nbformat": 4,
 "nbformat_minor": 4
}
