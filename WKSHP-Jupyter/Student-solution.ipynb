{
 "cells": [
  {
   "cell_type": "code",
   "execution_count": 1,
   "metadata": {},
   "outputs": [
    {
     "name": "stdout",
     "output_type": "stream",
     "text": [
      "Hello World!\n"
     ]
    }
   ],
   "source": [
    "print('Hello World!')"
   ]
  },
  {
   "cell_type": "markdown",
   "metadata": {},
   "source": [
    "# This is a great Workshop!\n",
    "## HPE DEV Team Rocks\n",
    "### I love this devtalk!"
   ]
  },
  {
   "cell_type": "markdown",
   "metadata": {},
   "source": [
    "1. Step1: To Create a List:\n",
    "* You need a list of items\n",
    " * Action A\n",
    " * Action B\n",
    " * Action C\n",
    " \n",
    "2. Step2: To Bold a text:\n",
    "* You need to enclose text between * *\n",
    " * Example 1 : **This is easy**\n",
    " \n",
    "3. Step3: To emphasize a text:\n",
    "* You need to  enclose text between \" \"\n",
    " * Example 2 : ` So easy isn't it ? `"
   ]
  },
  {
   "cell_type": "markdown",
   "metadata": {},
   "source": [
    "![](Pictures/question.jpg)\n",
    "\n",
    "\n",
    "How many workshops are [curently running](https://hackshackchallenge.hpedev.io:8080/app/kibana#/dashboard/cbb14e20-ba31-11ea-8b5f-c3835c01cb95?_g=(filters:!(),refreshInterval:(pause:!t,value:0),time:(from:'2021-03-01T05:11:52.971Z',to:now))&_a=(description:'',filters:!(('$state':(store:appState),meta:(alias:'*',disabled:!f,index:'981263c0-ba30-11ea-8b5f-c3835c01cb95',key:query,negate:!f,type:custom,value:'%7B%22bool%22:%7B%22must%22:%5B%5D,%22filter%22:%5B%7B%22match_all%22:%7B%7D%7D%5D,%22should%22:%5B%5D,%22must_not%22:%5B%5D%7D%7D'),query:(bool:(filter:!((match_all:())),must:!(),must_not:!(),should:!())))),fullScreenMode:!f,options:(hidePanelTitles:!f,useMargins:!t),query:(language:kuery,query:''),timeRestore:!t,title:'Workshop-on-demand%20Dashboard',viewMode:view)) on our [Workshops-on-Demand platform](https://hackshack.hpedev.io/workshops) ? "
   ]
  },
  {
   "cell_type": "code",
   "execution_count": null,
   "metadata": {},
   "outputs": [],
   "source": [
    "import os, binascii\n",
    "def sum(x,y):\n",
    "  return x+y"
   ]
  },
  {
   "cell_type": "code",
   "execution_count": null,
   "metadata": {},
   "outputs": [],
   "source": []
  }
 ],
 "metadata": {
  "kernelspec": {
   "display_name": "Python 3",
   "language": "python",
   "name": "python3"
  },
  "language_info": {
   "codemirror_mode": {
    "name": "ipython",
    "version": 3
   },
   "file_extension": ".py",
   "mimetype": "text/x-python",
   "name": "python",
   "nbconvert_exporter": "python",
   "pygments_lexer": "ipython3",
   "version": "3.8.5"
  }
 },
 "nbformat": 4,
 "nbformat_minor": 4
}
