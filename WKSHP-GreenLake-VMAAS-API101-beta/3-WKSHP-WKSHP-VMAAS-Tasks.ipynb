{
 "cells": [
  {
   "cell_type": "markdown",
   "metadata": {},
   "source": [
    "# Tasks\n",
    "\n",
    "Provides API interfaces for managing the creation and modification of automation tasks. Tasks are used in workflows for automation. We will here go through the process of creating simple tasks. Workflows should be addressed later in an advanced GreenLake VMAAS API workshop.\n",
    "\n",
    "/api/tasks\n",
    "\n",
    "The above command returns JSON structured like this:\n",
    "\n",
    "{\n",
    "  \"tasks\": [\n",
    "     {\n",
    "      \"id\": 5,\n",
    "      \"accountId\": 1,\n",
    "      \"name\": \"aptitude upgrade\",\n",
    "      \"taskType\": {\n",
    "        \"id\": 1,\n",
    "        \"code\": \"script\",\n",
    "        \"name\": \"Shell Script\"\n",
    "      },\n",
    "      \"file\": {\n",
    "        \"id\": 1275,\n",
    "        \"sourceType\": \"local\",\n",
    "        \"contentRef\": null,\n",
    "        \"contentPath\": null,\n",
    "        \"repository\": null,\n",
    "        \"content\": \"apt-get upgrade -y\"\n",
    "      },\n",
    "      \"taskOptions\": {\n",
    "      }\n",
    "    },\n",
    "  ],\n",
    "  \"meta\": {\n",
    "    \"offset\": 0,\n",
    "    \"max\": 25,\n",
    "    \"size\": 1,\n",
    "    \"total\": 1\n",
    "  }\n",
    "}\n",
    "This endpoint retrieves all tasks.\n",
    "\n",
    "HTTP REQUEST\n",
    "curl GET  \"$API_URL/api/tasks"
   ]
  },
  {
   "cell_type": "markdown",
   "metadata": {},
   "source": [
    "## Task Creation\n",
    "\n",
    "In this first part, we will create two simple tasks:\n",
    "- 1st task to run uptime command on the VM\n",
    "\n",
    "- 2nd task to write a file on the file system. at the end of this lab, We will then make use of the snapshot feature to move back to the original state of the Virtual machine.\n",
    "\n",
    "\n",
    "HTTP REQUEST\n",
    "curl POST \"$API_URL/api/tasks\n",
    "\n",
    "JSON PARAMETERS\n",
    "\n",
    "|Parameter |   Default  | Description  |\n",
    "|---|---|---|\n",
    "|  name |   | A unique name for the task  |\n",
    "|  code |   |   | A unique code for the task\n",
    "| taskType.code  |   | The type of task  |\n",
    "|  taskOptions |   | Map of options specific to each type. eg. script  |\n",
    "|  resultType |   |   |\n",
    "|  executeTarget |   | The execution target. eg. local,remote,resource. The default value varies by task type.  |\n",
    "|  retryable | false  | If the task should be retried or not.  |\n",
    "|  retryCount |   | The number of times to retry.  |\n",
    "|  retryDelaySeconds |   | The delay, between retries.  |\n",
    "|  file |   | File, object specifying type and content, see File Object. This is required for task types that expect a script, having scriptable:true and an optionType of type:\"file-content\".  |"
   ]
  },
  {
   "cell_type": "code",
   "execution_count": null,
   "metadata": {},
   "outputs": [],
   "source": [
    "##Initailizing Variables here\n",
    "ACCESS_TOKEN=\"8d06730a-6478-403a-8c3e-837fd74c1b47\"\n",
    "#ACCESS_TOKEN=\"3f900cd0-d108-429a-88c3-592c713103fd\"\n",
    "\n",
    "API_URL=\"5xqm8quc36ij6dsubflp8u81r5.privatecloud.greenlake.hpe.com\""
   ]
  },
  {
   "cell_type": "markdown",
   "metadata": {},
   "source": [
    "### Create now the 'Uptime Task'\n",
    "\n",
    "\n",
    "example:\n",
    "curl -XPOST \"$serverUrl/api/tasks\" \\\n",
    "  -H \"Authorization: BEARER $accessToken\" \\\n",
    "  -H \"Content-Type: application/json\" \\\n",
    "  -d '{\"task\": {\n",
    "    \"name\": \"cleanup tmp files\",\n",
    "    \"taskType\": {\n",
    "      \"code\": \"script\"\n",
    "    },\n",
    "    \"executeTarget\": \"resource\",\n",
    "    \"file\": {\n",
    "      \"sourceType\": \"local\",\n",
    "      \"content\": \"rm -rf /var/www/app1/tmp/*\\nrm -rf /var/www/app2/tmp/*\"\n",
    "    }\n",
    "  }}'"
   ]
  },
  {
   "cell_type": "code",
   "execution_count": null,
   "metadata": {},
   "outputs": [],
   "source": [
    "curl -XPOST \"$API_URL/api/tasks\" \\\n",
    "  -H \"Authorization: BEARER $ACCESS_TOKEN\" \\\n",
    "  -H \"Content-Type: application/json\" \\\n",
    "  -d '{\"task\": {\n",
    "    \"name\": \"Uptime Command\",\n",
    "    \"taskType\": {\n",
    "      \"code\": \"script\"\n",
    "    },\n",
    "    \"executeTarget\": \"resource\",\n",
    "    \"file\": {\n",
    "      \"sourceType\": \"local\",\n",
    "      \"content\": \"uptime\"\n",
    "    }\n",
    "  }}'"
   ]
  },
  {
   "cell_type": "code",
   "execution_count": null,
   "metadata": {},
   "outputs": [],
   "source": [
    "curl -XPOST \"$API_URL/api/tasks\" \\\n",
    "  -H \"Authorization: BEARER $ACCESS_TOKEN\" \\\n",
    "  -H \"Content-Type: application/json\" \\\n",
    "  -d '{\"task\": {\n",
    "    \"name\": \"ls /tmp Command\",\n",
    "    \"taskType\": {\n",
    "      \"code\": \"script\"\n",
    "    },\n",
    "    \"executeTarget\": \"resource\",\n",
    "    \"file\": {\n",
    "      \"sourceType\": \"local\",\n",
    "      \"content\": \"ls -al /tmp\"\n",
    "    }\n",
    "  }}'"
   ]
  },
  {
   "cell_type": "markdown",
   "metadata": {},
   "source": [
    "### Check Task is now listed."
   ]
  },
  {
   "cell_type": "code",
   "execution_count": null,
   "metadata": {},
   "outputs": [],
   "source": [
    "curl \"$API_URL/api/tasks\" \\\n",
    "-H \"Authorization: BEARER $ACCESS_TOKEN\" |jq -r"
   ]
  },
  {
   "cell_type": "markdown",
   "metadata": {},
   "source": [
    "Check now the id of the uptime task. It should be 6. if not make sure to update the task execution cell with the correct one.\n",
    "Please also check the instance id from the previous lab."
   ]
  },
  {
   "cell_type": "markdown",
   "metadata": {},
   "source": [
    "### Let's now execute the task on the instance we created earlier.\n",
    "\n",
    "\n",
    "example:\n",
    "curl -XPOST \"$serverUrl/api/tasks/5/execute\" \\\n",
    "  -H \"Authorization: BEARER $accessToken\" \\\n",
    "  -H \"Content-Type: application/json\" \\\n",
    "  -d '{\"job\":{\n",
    "    \"targetType\": \"instance\",\n",
    "    \"instances\": [1]\n",
    "  }}'"
   ]
  },
  {
   "cell_type": "code",
   "execution_count": null,
   "metadata": {},
   "outputs": [],
   "source": [
    "## Uptime Task execution Cell here\n",
    "\n",
    "curl -XPOST \"$API_URL/api/tasks/6/execute\" \\\n",
    "  -H \"Authorization: BEARER $ACCESS_TOKEN\" \\\n",
    "  -H \"Content-Type: application/json\" \\\n",
    "  -d '{\"job\":{\n",
    "    \"targetType\": \"instance\",\n",
    "    \"instances\": [1]\n",
    "  }}'"
   ]
  },
  {
   "cell_type": "markdown",
   "metadata": {},
   "source": [
    "### Create now the 'Filecopy Task'"
   ]
  },
  {
   "cell_type": "code",
   "execution_count": null,
   "metadata": {},
   "outputs": [],
   "source": [
    "##FileCopy Task creation Cell  here\n",
    "\n",
    "curl -XPOST \"$API_URL/api/tasks\" \\\n",
    "  -H \"Authorization: BEARER $ACCESS_TOKEN\" \\\n",
    "  -H \"Content-Type: application/json\" \\\n",
    "  -d '{\"task\": {\n",
    "    \"name\": \"FileCreation\",\n",
    "    \"taskType\": {\n",
    "      \"code\": \"script\"\n",
    "    },\n",
    "    \"executeTarget\": \"resource\",\n",
    "    \"file\": {\n",
    "      \"sourceType\": \"local\",\n",
    "      \"content\": \"echo > student {{STDID }}-$(date)/tmp/student {{STDID }}.md\"\n",
    "    }\n",
    "  }}'"
   ]
  },
  {
   "cell_type": "markdown",
   "metadata": {},
   "source": [
    "### Check Task is now listed."
   ]
  },
  {
   "cell_type": "code",
   "execution_count": null,
   "metadata": {},
   "outputs": [],
   "source": [
    "curl \"$API_URL/api/tasks\" \\\n",
    "-H \"Authorization: BEARER $ACCESS_TOKEN\" |jq -r"
   ]
  },
  {
   "cell_type": "markdown",
   "metadata": {},
   "source": [
    "### Let's now execute the task on the instance we created earlier."
   ]
  },
  {
   "cell_type": "code",
   "execution_count": null,
   "metadata": {},
   "outputs": [],
   "source": [
    "## FileCreation Task execution Cell here\n",
    "\n",
    "curl -XPOST \"$API_URL/api/tasks/8/execute\" \\\n",
    "  -H \"Authorization: BEARER $ACCESS_TOKEN\" \\\n",
    "  -H \"Content-Type: application/json\" \\\n",
    "  -d '{\"job\":{\n",
    "    \"targetType\": \"instance\",\n",
    "    \"instances\": [1]\n",
    "  }}'"
   ]
  },
  {
   "cell_type": "markdown",
   "metadata": {},
   "source": [
    "### We have created an ls -al /tmp task to actually provide you with  a way to chaeck the result of the previous task\n",
    "\n",
    "Please run it to make sure your File Creation Task completed correctly."
   ]
  },
  {
   "cell_type": "code",
   "execution_count": null,
   "metadata": {},
   "outputs": [],
   "source": [
    "## ls -al /tmp Task execution Cell here\n",
    "\n",
    "curl -XPOST \"$API_URL/api/tasks/7/execute\" \\\n",
    "  -H \"Authorization: BEARER $ACCESS_TOKEN\" \\\n",
    "  -H \"Content-Type: application/json\" \\\n",
    "  -d '{\"job\":{\n",
    "    \"targetType\": \"instance\",\n",
    "    \"instances\": [1]\n",
    "  }}'"
   ]
  },
  {
   "cell_type": "markdown",
   "metadata": {},
   "source": [
    "### Deleting Uptime and FileCopy Tasks now\n",
    "\n",
    "\n",
    "example:\n",
    "curl -XDELETE \"$serverUrl/api/tasks/1\" \\\n",
    "  -H \"Authorization: BEARER $accessToken\""
   ]
  },
  {
   "cell_type": "code",
   "execution_count": null,
   "metadata": {},
   "outputs": [],
   "source": [
    "## Tasks Deletion Cell here\n",
    "\n",
    "curl -XDELETE \"$API_URL/api/tasks/6\" \\\n",
    "  -H \"Authorization: BEARER $ACCESS_TOKEN\" \\\n",
    "\n",
    "curl -XDELETE \"$API_URL/api/tasks/6\" \\\n",
    "  -H \"Authorization: BEARER $ACCESS_TOKEN\" \\"
   ]
  },
  {
   "cell_type": "markdown",
   "metadata": {},
   "source": [
    "### Check Tasks are no longer listed"
   ]
  },
  {
   "cell_type": "code",
   "execution_count": null,
   "metadata": {},
   "outputs": [],
   "source": [
    "curl \"$API_URL/api/tasks\" \\\n",
    "-H \"Authorization: BEARER $ACCESS_TOKEN\" |jq -r"
   ]
  },
  {
   "cell_type": "markdown",
   "metadata": {},
   "source": [
    "<br><br>\n",
    "\n",
    "## <i class=\"fas fa-2x fa-map-marker-alt\" style=\"color:#008000;\"></i>&nbsp;&nbsp;Next Steps\n",
    "\n",
    "Lab 3: Tasks"
   ]
  },
  {
   "cell_type": "markdown",
   "metadata": {},
   "source": [
    "</br>\n",
    " <a href=\"2-WKSHP-WKSHP-VMAAS-Instance.ipynb\" target=\"New\" title=\"Back: Instance Creation\"><button type=\"submit\"  class=\"btn btn-lg btn-block\" style=\"background-color:#008000;color:#fff;position:relative;width:10%; height: 30px;float: left;\"><b>Back</b></button></a>\n",
    " <a href=\"4-WKSHP-WKSHP-VMAAS-Blueprint.ipynb#sc\" target=\"New\" title=\"Next:Blueprint Deployment\"><button type=\"submit\"  class=\"btn btn-lg btn-block\" style=\"background-color:#008000;color:#fff;position:relative;width:10%; height: 30px;float: right;\"><b>Next</b></button></a>\n"
   ]
  },
  {
   "cell_type": "markdown",
   "metadata": {},
   "source": [
    "<h2>Next&nbsp;&nbsp;&nbsp;&nbsp;<a href=\"4-WKSHP-WKSHP-VMAAS-Blueprint.ipynb#sc\" target=\"New\" title=\"Next: Blueprint Deployment\"><i class=\"fas fa-chevron-circle-right\" style=\"color:#008000;\"></i></a></h2>"
   ]
  }
 ],
 "metadata": {
  "kernelspec": {
   "display_name": "Bash",
   "language": "bash",
   "name": "bash"
  },
  "language_info": {
   "codemirror_mode": "shell",
   "file_extension": ".sh",
   "mimetype": "text/x-sh",
   "name": "bash"
  }
 },
 "nbformat": 4,
 "nbformat_minor": 4
}
