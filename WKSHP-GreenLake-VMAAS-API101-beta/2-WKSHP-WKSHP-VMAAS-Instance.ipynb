{
 "cells": [
  {
   "cell_type": "markdown",
   "metadata": {},
   "source": [
    "# Provisioning\n",
    "\n",
    "## Instances\n",
    "Instances are sets of vms of various types that can be provisioned across the GreenLake for private cloud stack and a wide range of services like MySQL, Redis, ElasticSearch, PostgreSQL, Tomcat, nginx, Confluence, Jenkins, and more. There are a few important concept differentiators between what we call an instance and what amazon calls an instance. In GreenLake an instance can represent many vms that are of a set. For example. If you wanted to spin up a Mongo sharded replicaset, that requires 7 virtual machines. In GreenLake for private cloud we represent this as a singular instance with a specified layout and then represent all the associated services running within that virtual machine. The serverId represents the compute resource it was provisioned onto, (i.e. the virtual machine).\n",
    "\n",
    "Get all instances\n",
    "- GET /api/instances\n",
    "\n",
    "Get a specific instance\n",
    "- GET /api/instances/:id"
   ]
  },
  {
   "cell_type": "code",
   "execution_count": null,
   "metadata": {},
   "outputs": [],
   "source": []
  },
  {
   "cell_type": "code",
   "execution_count": 1,
   "metadata": {},
   "outputs": [],
   "source": [
    "username=\"student{{ STDID }}\" \n",
    "password=\"{{ PASSSTU }}\"\n",
    "\n",
    "##Initailizing Variables here\n",
    "ACCESS_TOKEN=\"2b4c5753-4351-4f71-8401-d818f6496b8d\"\n",
    "#ACCESS_TOKEN=\"3f900cd0-d108-429a-88c3-592c713103fd\"\n",
    "\n",
    "API_URL=\"5xqm8quc36ij6dsubflp8u81r5.privatecloud.greenlake.hpe.com\""
   ]
  },
  {
   "cell_type": "code",
   "execution_count": 2,
   "metadata": {},
   "outputs": [
    {
     "name": "stdout",
     "output_type": "stream",
     "text": [
      "  % Total    % Received % Xferd  Average Speed   Time    Time     Time  Current\n",
      "                                 Dload  Upload   Total   Spent    Left  Speed\n",
      "100    64    0    64    0     0    116      0 --:--:-- --:--:-- --:--:--   116\n",
      "\u001b[1;39m{\n",
      "  \u001b[0m\u001b[34;1m\"instances\"\u001b[0m\u001b[1;39m: \u001b[0m\u001b[1;39m[]\u001b[0m\u001b[1;39m,\n",
      "  \u001b[0m\u001b[34;1m\"meta\"\u001b[0m\u001b[1;39m: \u001b[0m\u001b[1;39m{\n",
      "    \u001b[0m\u001b[34;1m\"offset\"\u001b[0m\u001b[1;39m: \u001b[0m\u001b[0;39m0\u001b[0m\u001b[1;39m,\n",
      "    \u001b[0m\u001b[34;1m\"max\"\u001b[0m\u001b[1;39m: \u001b[0m\u001b[0;39m25\u001b[0m\u001b[1;39m,\n",
      "    \u001b[0m\u001b[34;1m\"size\"\u001b[0m\u001b[1;39m: \u001b[0m\u001b[0;39m0\u001b[0m\u001b[1;39m,\n",
      "    \u001b[0m\u001b[34;1m\"total\"\u001b[0m\u001b[1;39m: \u001b[0m\u001b[0;39m0\u001b[0m\u001b[1;39m\n",
      "  \u001b[1;39m}\u001b[0m\u001b[1;39m\n",
      "\u001b[1;39m}\u001b[0m\n"
     ]
    }
   ],
   "source": [
    "curl \"$API_URL/api/instances\" \\\n",
    "-H \"Authorization: BEARER $ACCESS_TOKEN\" |jq -r"
   ]
  },
  {
   "cell_type": "markdown",
   "metadata": {},
   "source": [
    "## Create now your first instance!\n",
    "\n",
    "You will deploy here a centos 7 VM named after your vm-studentname (\"name\": \"api-vm-student{{ STDID }})\n",
    "\n",
    "### Creating an instance\n",
    "- POST /api/instances\n",
    "\n",
    "Payload:\n",
    "{\n",
    "  \"zoneId\": \"{{cloudId}}\",\n",
    "  \"instance\": {\n",
    "    \"name\": \"vm-student{{ STDID }}-$(date)\",\n",
    "    \"cloud\": \"{{cloudName}}\",\n",
    "    \"site\": {\n",
    "      \"id\": \"{{groupId}}\"\n",
    "    },\n",
    "    \"type\": \"{{instanceTypeCode}}\",\n",
    "    \"instanceType\": {\n",
    "      \"code\": \"{{instanceTypeCode}}\"\n",
    "    },\n",
    "    \"layout\": {\n",
    "      \"id\": \"{{layoutId}}\"\n",
    "    },\n",
    "    \"plan\": {\n",
    "      \"id\": \"{{planId}}\"\n",
    "    }\n",
    "  },\n",
    "  \"config\": {\n",
    "    \"resourcePoolId\": \"{{resourcePoolId}}\",\n",
    "    \"noAgent\": \"off\"\n",
    "  },\n",
    "  \"volumes\": [\n",
    "    {\n",
    "      \"id\": -1,\n",
    "      \"rootVolume\": true,\n",
    "      \"name\": \"root\",\n",
    "      \"size\": 10,\n",
    "      \"sizeId\": null,\n",
    "      \"storageType\": \"{{STANDARD_STORAGE_TYPE_ID}}\",\n",
    "      \"datastoreId\": \"{{datastoreId}}\"\n",
    "    }\n",
    "  ],\n",
    "  \"networkInterfaces\": [\n",
    "    {\n",
    "      \"network\": {\n",
    "        \"id\": \"{{networkId}}\"\n",
    "      },\n",
    "      \"networkInterfaceTypeId\": \"{{NETWORK_INTERFACE_VMXNET3_ID}}\"\n",
    "    }\n",
    "  ]\n",
    "}"
   ]
  },
  {
   "cell_type": "code",
   "execution_count": 8,
   "metadata": {},
   "outputs": [
    {
     "name": "stdout",
     "output_type": "stream",
     "text": [
      "HTTP/1.1 400 \n",
      "\u001b[1mDate\u001b[0m: Wed, 09 Jun 2021 12:45:05 GMT\n",
      "\u001b[1mContent-Type\u001b[0m: application/json;charset=UTF-8\n",
      "\u001b[1mTransfer-Encoding\u001b[0m: chunked\n",
      "\u001b[1mConnection\u001b[0m: keep-alive\n",
      "\u001b[1mSet-Cookie\u001b[0m: XSRF-TOKEN=a76c0971-b1df-4065-93de-c6e5f1185229; Path=/; HttpOnly\n",
      "\u001b[1mStrict-Transport-Security\u001b[0m: max-age=31536000\n",
      "\u001b[1mExpires\u001b[0m: -1\n",
      "\u001b[1mCache-Control\u001b[0m: no-cache, no-store\n",
      "\u001b[1mPragma\u001b[0m: no-cache\n",
      "\u001b[1mContent-Security-Policy\u001b[0m: default-src 'self' 'unsafe-inline' https://www.gstatic.com *.githubusercontent.com data: blob: ws: wss:; script-src 'self' 'unsafe-inline' https://www.gstatic.com\n",
      "\u001b[1mX-Content-Type-Options\u001b[0m: nosniff\n",
      "\u001b[1mReferrer-Policy\u001b[0m: same-origin\n",
      "\u001b[1mFeature-Policy\u001b[0m: vibrate 'none' ; microphone 'none' ; camera 'none' ; gyroscope 'none' ; magnetometer 'none' ; geolocation 'none' ; midi 'self' ; notifications 'self' ; push 'self' ; sync-xhr 'self'\n",
      "\u001b[1mSet-Cookie\u001b[0m: JSESSIONID=9CE25804911EF57585BBC9DEC3F88016; Path=/; Secure; HttpOnly\n",
      "\u001b[1mContent-Language\u001b[0m: en-US\n",
      "\u001b[1mAccess-Control-Allow-Origin\u001b[0m: *\n",
      "\u001b[1mAccess-Control-Allow-Credentials\u001b[0m: true\n",
      "\n",
      "{\"errors\":{\"layout\":\"Layout not found with id 1159\"},\"success\":false}"
     ]
    }
   ],
   "source": [
    "curl -i --request POST \"$API_URL/api/instances\" \\\n",
    "-H \"Authorization: BEARER $ACCESS_TOKEN\" \\\n",
    "-H \"Content-Type: application/json\" \\\n",
    "--data-raw \"{ \"zoneId\": 1, \"instance\": { \"name\": \"api-vm-student1701\", \"site\": { \"id\": 3 }, \"instanceType\": { \"code\": \"CentOS\" }, \"layout\": { \"id\": 1159 }, \"plan\": { \"id\": 449 } }, \"volumes\": [ { \"name\": \"root\", \"size\": 15, \"datastoreId\": \"auto\" } ], \"networkInterfaces\": [ { \"network\": { \"id\": 10 }, \"networkInterfaceTypeId\": 4 } ], \"config\": { \"resourcePoolId\": resgroup-40 }, \"tags\": [ {\"name\": \"api-provisioned\", \"value\": \"True\"} ], \"taskSetId\": 14 }\""
   ]
  },
  {
   "cell_type": "markdown",
   "metadata": {},
   "source": [
    "Once created and as for any Virtual machine, many operations are available to you:\n",
    "- Update\n",
    "- Stop\n",
    "- Start\n",
    "- Restart\n",
    "- Delete\n",
    "- Backup\n",
    "- Clone\n",
    "- Resize\n",
    "\n",
    "let's see these in details now."
   ]
  },
  {
   "cell_type": "markdown",
   "metadata": {},
   "source": [
    "### Updating an instance\n",
    "\n",
    "- PUT /api/instances/:id\n",
    "\n",
    "**Note: Site is alias of Group**\n",
    "\n",
    "- --name VALUE Name\n",
    "- --description VALUE Description\n",
    "- --environment VALUE Environment\n",
    "- --group GROUP Group Name or ID\n",
    "- --labels [LIST] Labels (keywords) in the format 'foo, bar'\n",
    "- --tags LIST Tags in the format 'name:value, name:value'. This will add and remove tags.\n",
    "- --add-tags TAGS Add Tags in the format 'name:value, name:value'. This will only add/update tags.\n",
    "- --remove-tags TAGS Remove Tags in the format 'name, name:value'. This removes tags, the :value component is optional and must match if passed.\n",
    "- --power-schedule-type ID Power Schedule Type ID\n",
    "- --owner USER Owner Username or ID\n",
    "\n"
   ]
  },
  {
   "cell_type": "code",
   "execution_count": null,
   "metadata": {},
   "outputs": [],
   "source": [
    "curl PUT \"$API_URL/api/instances\" \\\n",
    "-H \"Authorization: BEARER $ACCESS_TOKEN\" |jq -r"
   ]
  },
  {
   "cell_type": "markdown",
   "metadata": {},
   "source": [
    "### Stop an instance\n",
    "\n",
    "- PUT /api/instances/:id/stop?server=true&muteMonitoring=false\n",
    "\n",
    "- --mute-monitoring [on|off] Mute monitoring. Default is off.\n",
    "- -y, --yes Auto Confirm\n",
    "- -q, --quiet No Output, do not print to stdout"
   ]
  },
  {
   "cell_type": "code",
   "execution_count": null,
   "metadata": {},
   "outputs": [],
   "source": [
    "curl PUT \"$API_URL/api/instances/:id/stop?server=true&muteMonitoring=false\" \\\n",
    "-H \"Authorization: BEARER $ACCESS_TOKEN\" |jq -r"
   ]
  },
  {
   "cell_type": "markdown",
   "metadata": {},
   "source": [
    "### Start an instance\n",
    "\n",
    "- PUT /api/instances/:id/start?server=true\n",
    "\n",
    "- -y, --yes Auto Confirm\n",
    "- -q, --quiet No Output, do not print to stdout"
   ]
  },
  {
   "cell_type": "code",
   "execution_count": null,
   "metadata": {},
   "outputs": [],
   "source": [
    "curl PUT \"$API_URL/api/instances/:id/start?server=true&muteMonitoring=true\" \\\n",
    "-H \"Authorization: BEARER $ACCESS_TOKEN\" |jq -r"
   ]
  },
  {
   "cell_type": "markdown",
   "metadata": {},
   "source": [
    "### Restart an instance\n",
    "\n",
    "- PUT /api/instances/:id/restart?server=true&muteMonitoring=true\n",
    "\n",
    "- --mute-monitoring [on|off] Mute monitoring. Default is on.\n",
    "- -y, --yes Auto Confirm\n",
    "- -q, --quiet No Output, do not print to stdout"
   ]
  },
  {
   "cell_type": "code",
   "execution_count": null,
   "metadata": {},
   "outputs": [],
   "source": [
    "curl PUT \"$API_URL/api/instances/:id/restart?server=true&muteMonitoring=true\" \\\n",
    "-H \"Authorization: BEARER $ACCESS_TOKEN\" |jq -r"
   ]
  },
  {
   "cell_type": "markdown",
   "metadata": {},
   "source": [
    "### Backup an instance\n",
    "\n",
    "- PUT /api/instances/:id/backup\n",
    "\n",
    "- -y, --yes Auto Confirm"
   ]
  },
  {
   "cell_type": "code",
   "execution_count": null,
   "metadata": {},
   "outputs": [],
   "source": [
    "curl PUT \"$API_URL/api/instances/:id/backup\" \\\n",
    "-H \"Authorization: BEARER $ACCESS_TOKEN\" |jq -r"
   ]
  },
  {
   "cell_type": "markdown",
   "metadata": {},
   "source": [
    "### Clone an instance\n",
    "\n",
    "- PUT /api/instances/:id/clone\n"
   ]
  },
  {
   "cell_type": "code",
   "execution_count": null,
   "metadata": {},
   "outputs": [],
   "source": [
    "curl PUT \"$API_URL/api/instances/:id/clone\" \\\n",
    "-H \"Authorization: BEARER $ACCESS_TOKEN\" |jq -r"
   ]
  },
  {
   "cell_type": "markdown",
   "metadata": {},
   "source": [
    "### Resize an instance\n",
    "\n",
    "- PUT /api/instances/:id/resize\n",
    "\n",
    "Payload:\n",
    "\n",
    "{\n",
    "  \"instance\": {\n",
    "    \"id\": 482,\n",
    "    \"plan\": {\n",
    "      \"id\": 419\n",
    "    }\n",
    "  },\n",
    "  \"volumes\": [\n",
    "    {\n",
    "      \"id\": 643,\n",
    "      \"rootVolume\": true,\n",
    "      \"name\": \"Hard disk 1\",\n",
    "      \"size\": 10,\n",
    "      \"sizeId\": null,\n",
    "      \"storageType\": 1,\n",
    "      \"datastoreId\": \"auto\"\n",
    "    }\n",
    "  ],\n",
    "  \"deleteOriginalVolumes\": true\n",
    "}"
   ]
  },
  {
   "cell_type": "code",
   "execution_count": null,
   "metadata": {},
   "outputs": [],
   "source": []
  },
  {
   "cell_type": "markdown",
   "metadata": {},
   "source": [
    "let'see where we are now:\n",
    "list all that we created so far."
   ]
  },
  {
   "cell_type": "code",
   "execution_count": null,
   "metadata": {},
   "outputs": [],
   "source": [
    "curl \"$API_URL/api/instances\" \\\n",
    "-H \"Authorization: BEARER $ACCESS_TOKEN\" |jq -r"
   ]
  },
  {
   "cell_type": "markdown",
   "metadata": {},
   "source": [
    "### Delete an instance\n",
    "\n",
    "- DELETE /api/instances/:id"
   ]
  },
  {
   "cell_type": "markdown",
   "metadata": {},
   "source": [
    "What about accessing the vm now ? through ssh on port 10031  {{ SSHPORTID }} variable\n",
    "\n",
    "Let's get the details for our centos instance. An IP address might help to connect. Some crededntials too."
   ]
  },
  {
   "cell_type": "code",
   "execution_count": null,
   "metadata": {},
   "outputs": [],
   "source": [
    "ip='curl \"$API_URL/api/instances/:id\" \\\n",
    "-H \"Authorization: BEARER $ACCESS_TOKEN\"' |jq -r\n",
    "\n",
    "ssh $ip -u student{{ STDID}} -p stuDISCO2021"
   ]
  },
  {
   "cell_type": "markdown",
   "metadata": {},
   "source": [
    "<br><br>\n",
    "\n",
    "## <i class=\"fas fa-2x fa-map-marker-alt\" style=\"color:#008000;\"></i>&nbsp;&nbsp;Next Steps\n",
    "\n",
    "Lab 3: Tasks"
   ]
  },
  {
   "cell_type": "markdown",
   "metadata": {},
   "source": [
    "</br>\n",
    " <a href=\"1-WKSHP-VMAAS-Authentification.ipynb\" target=\"New\" title=\"Back: Authentification\"><button type=\"submit\"  class=\"btn btn-lg btn-block\" style=\"background-color:#008000;color:#fff;position:relative;width:10%; height: 30px;float: left;\"><b>Back</b></button></a>\n",
    " <a href=\"3-WKSHP-WKSHP-VMAAS-Tasks.ipynb#sc\" target=\"New\" title=\"Next:Tasks\"><button type=\"submit\"  class=\"btn btn-lg btn-block\" style=\"background-color:#008000;color:#fff;position:relative;width:10%; height: 30px;float: right;\"><b>Next</b></button></a>\n"
   ]
  },
  {
   "cell_type": "markdown",
   "metadata": {},
   "source": [
    "<h2>Next&nbsp;&nbsp;&nbsp;&nbsp;<a href=\"3-WKSHP-WKSHP-VMAAS-Tasks.ipynb#sc\" target=\"New\" title=\"Next: Tasks\"><i class=\"fas fa-chevron-circle-right\" style=\"color:#008000;\"></i></a></h2>"
   ]
  },
  {
   "cell_type": "code",
   "execution_count": null,
   "metadata": {},
   "outputs": [],
   "source": []
  }
 ],
 "metadata": {
  "kernelspec": {
   "display_name": "Bash",
   "language": "bash",
   "name": "bash"
  },
  "language_info": {
   "codemirror_mode": "shell",
   "file_extension": ".sh",
   "mimetype": "text/x-sh",
   "name": "bash"
  }
 },
 "nbformat": 4,
 "nbformat_minor": 4
}
