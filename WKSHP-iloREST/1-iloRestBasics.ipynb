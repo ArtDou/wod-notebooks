{
 "cells": [
  {
   "cell_type": "markdown",
   "metadata": {},
   "source": [
    "# iLOrest: the HPE Redfish swiss knife\n",
    "\n",
    "Version 0.44"
   ]
  },
  {
   "cell_type": "markdown",
   "metadata": {},
   "source": [
    "## What is iLOrest?\n",
    "\n",
    "  * Command line Redfish client primarily designed to managed HPE iLO 4 and iLO 5 based servers\n",
    "  * Python oriented\n",
    "  * Sources on GitHub ([python-redfish-utility](https://github.com/HewlettPackard/python-redfish-utility))\n",
    "  * [Packaged binaries](https://github.com/HewlettPackard/python-redfish-utility/releases/latest) available for several Operating Environments (.deb, .rpm, .msi and .pkg)\n",
    "  * Windows and RPM packages available on [HPE Customer Support Center](http://hpe.com/info/resttool)"
   ]
  },
  {
   "cell_type": "markdown",
   "metadata": {},
   "source": [
    "### Extreme flexibility\n",
    "\n",
    "  * Interactive mode allows you to save and load settings from a file with command completion (tab key) and command recall (up and down arrows)\n",
    "  * Script mode: easy integration with bash, PowerShell or DOS\n",
    "  * File-based mode: allows you to save, customize and then deploy settings\n",
    "  * Extensible (See [tutorial video](https://www.youtube.com/watch?v=CGl8DsYTdQo))\n",
    "  * In-band and out-of-band management\n",
    "  * Useful for debugging python and PowerShell scripts\n",
    "  * Rich eco-system with [videos](https://www.youtube.com/playlist?list=PLmYBqUM74OygZjhoZMEZmMP50Od8EfaW8) and [articles](https://developer.hpe.com/blog)"
   ]
  },
  {
   "cell_type": "markdown",
   "metadata": {},
   "source": [
    "## Interactive Out-of-Band mode demo\n",
    "\n",
    "<img src=\"Pictures/OutOfBandManagement.png\" alt=\"Out-Of-Band management\" style=\"with: 125px;\"/>\n",
    "\n",
    "### Command completion and recall with help description\n",
    "\n",
    "Open a `Terminal` from a Jupyter Launcher\n",
    "<img src=\"Pictures/LauncherIcon.png\" style=\"display:inline;width=55px;height=25px\"/>\n",
    "and issue the following commands. To ease this exercise, you can open a New View for this Notebook by right clicking on its tabulation: \n",
    "<img src=\"Pictures/NotebookNewView.png\" style=\"display:inline;width=55px;height=25px\"/>\n",
    "\n",
    "```bash\n",
    "\n",
    "# Invoke iLOrest with no arguments\n",
    "ilorest \n",
    "\n",
    "# Type beginning of command and hit the Tab key to complete the command\n",
    "ilorest > he (tab)\n",
    "\n",
    "# Recall help command with up-arrow\n",
    "\n",
    "# login remote iLO as user student. If password is not suppplied, iLOrest asks for password in hidden text.\n",
    "iLOrest > login ilo5 -u student\n",
    "password: P@ssw0rd!\n",
    "``` "
   ]
  },
  {
   "cell_type": "markdown",
   "metadata": {},
   "source": [
    "### Data/Resource Types\n",
    "\n",
    "Redfish resources are associated with a data type. The list of all iLO 5 data types can be retrieved with the `types` command. Each data type and its content is present in the [API Reference document](https://hewlettpackard.github.io/ilo-rest-api-docs/ilo5/#resource-definitions).\n",
    "\n",
    "```bash\n",
    "# List all data types\n",
    "iLOrest > types\n",
    "```\n",
    "\n",
    "Data types with prefix `Hpe` are Oem/Hpe specific types. Others are standard Redfish types. The following cell lists all data types present in the Redfish service, selects the `Bios` data type and show all the resources associated to that type.\n"
   ]
  },
  {
   "cell_type": "markdown",
   "metadata": {},
   "source": [
    "```bash\n",
    "# Select the Bios type\n",
    "iLOrest > select Bio(Tab)\n",
    "\n",
    "# View selected type\n",
    "iLOrest > select\n",
    "\n",
    "# Show resources associated to the selected type \n",
    "iLOrest > get\n",
    "\n",
    "# Retrieve reseources from another type in json format\n",
    "iLOrest > get --json --select Manager.\n",
    "\n",
    "# Logout: close session and remove cache\n",
    "iLOrest > logout\n",
    "iLOrest > exit\n",
    "```"
   ]
  },
  {
   "cell_type": "markdown",
   "metadata": {},
   "source": [
    "### In-Band management demo: Modification of a BIOS attribute\n",
    "\n",
    "<img src=\"Pictures/InBandManagement.png\" alt=\"In-Band management\" style=\"with: 125px;\"/>\n",
    "\n",
    "> **NOTE**: Only a privilege instructor can perform the following commands\n",
    "\n",
    "```bash\n",
    "ssh root@ilo5server\n",
    "\n",
    "# When logged as root, no need to provide credentials\n",
    "ilorest login\n",
    "\n",
    "# Retrieve and modify Bios parameter\n",
    "ilorest get AdminName --select Bios.\n",
    "ilorest set AdminName=\"John Deuf\" \n",
    "ilorest status --json    # Useful for rawpatch command\n",
    "\n",
    "# Commit modification\n",
    "ilorest commit\n",
    "\n",
    "# Reset cache and view modification\n",
    "ilorest select Bios. --refresh\n",
    "ilorest get AdminName\n",
    "\n",
    "# Logout (complete cache removal)\n",
    "ilorest logout\n",
    " \n",
    "```"
   ]
  },
  {
   "cell_type": "markdown",
   "metadata": {},
   "source": [
    "## Script mode examples\n",
    "\n",
    "### Environment preparation\n",
    "\n",
    "The following cell sets environment variables and checks the connectivity toward the various BMCs used in this notebook."
   ]
  },
  {
   "cell_type": "code",
   "execution_count": 1,
   "metadata": {},
   "outputs": [
    {
     "name": "stdout",
     "output_type": "stream",
     "text": [
      "ilo5 is reachable\n",
      "WARNING: Problem reaching OpenBmc\n",
      "iLO5Simulator is reachable\n"
     ]
    }
   ],
   "source": [
    "########## Environment preparation ((Version: 0.2)) ############\n",
    "\n",
    "# Set Student ID number\n",
    "Stud=00\n",
    "\n",
    "# location and ports variables\n",
    "let OpenBmcPort=44000+${Stud}\n",
    "let iLO5SimulatorPort=45000+${Stud}\n",
    "let ilo5Port=443\n",
    "\n",
    "CacheDir=\"${PWD}/iLOrestCache\"\n",
    "LogDir=\"${PWD}\"\n",
    "LogFile=\"${LogDir}/iLOrest.log\"\n",
    "\n",
    "iLO5SimulatorIP=ilo5simulators\n",
    "iLOSimulator=${iLO5SimulatorIP}:${iLO5SimulatorPort}\n",
    "iLO5SimulatorURI=https://${iLOSimulator}\n",
    "\n",
    "OpenBmcIP=openbmcsimulators\n",
    "OpenBmc=\"${OpenBmcIP}:${OpenBmcPort}\"\n",
    "OpenBmcURI=\"https://${OpenBmc}\"\n",
    "\n",
    "\n",
    "ilo5IP=\"ilo5\"\n",
    "#ilo5=\"${ilo5IP}:${ilo5Port}\"\n",
    "ilo5=\"${ilo5IP}\"\n",
    "ilo5URI=\"https://${ilo5}\"\n",
    "\n",
    "# Credentials\n",
    "User=\"student\"\n",
    "Password='P@ssw0rd!'\n",
    "\n",
    "# Miscellaneous\n",
    "alias ilorest=\"ilorest --nologo --cache-dir=${CacheDir} --logdir=${LogDir}\"\n",
    "ilorest logout &>/dev/null # Clear cache\n",
    "\n",
    "\n",
    "# Verify we can reach the remote Bmcs on the right HTTPS ports. \n",
    "for bmc in ilo5 OpenBmc iLO5Simulator ; do\n",
    "    ip=\"${bmc}IP\" ; port=$(echo ${bmc}Port)\n",
    "    nc -vz  $(eval echo \"\\$${ip}\") $(eval echo \"\\$${port}\")  &> /dev/null && \n",
    "        echo \"$bmc is reachable\" \\\n",
    "        || echo \"WARNING: Problem reaching $bmc\"\n",
    "done"
   ]
  },
  {
   "cell_type": "markdown",
   "metadata": {},
   "source": [
    "###  Log into a real iLO 5 to populate the cache directory\n",
    "\n",
    "iLOrest populates a cache directory during the execution of the `login` command just after a successul authentication. However the DMTF Redfish simulator used in this workshop does not implement authentication and returns an error to the `login` command preventing iLOrest to populate its cache.\n",
    "\n",
    "To overcome this problem you will first log into a physical iLO 5 and then hack the cache to make it point the DMTF iLO 5 simulator."
   ]
  },
  {
   "cell_type": "code",
   "execution_count": 2,
   "metadata": {},
   "outputs": [
    {
     "name": "stdout",
     "output_type": "stream",
     "text": [
      "Discovering data...Done\n",
      "    \"url\": \"https://ilo5\", \n",
      "Logging session out.\n",
      "    \"url\": \"https://ilo5simulators:45000\", \n"
     ]
    }
   ],
   "source": [
    "ilorest login $ilo5 -u $User -p $Password\n",
    "head ${CacheDir}/cache/* | grep url | sort -u                     # extract URL target in cache\n",
    "\n",
    "# Copy cache in a safe location before logging out to\n",
    "# minimize opened sessions. iLO 5 is limited to 15 concurrent\n",
    "# sessions. \n",
    "mv ${CacheDir}/cache{,-bck}\n",
    "ilorest logout\n",
    "\n",
    "# Move back the cache\n",
    "mv ${CacheDir}/cache{-bck,}\n",
    "\n",
    "# Redirect cache to point to the iLO 5 Simulator\n",
    "sed -i \"s.${ilo5URI}.${iLO5SimulatorURI}.\" ${CacheDir}/cache/*\n",
    "head ${CacheDir}/cache/* | grep url | sort -u                     # extract URL target in cache"
   ]
  },
  {
   "cell_type": "markdown",
   "metadata": {},
   "source": [
    "## Get multiple properties with single request\n",
    "\n",
    "The following request retrives all firmware versions and description with a single command. Note that DMTF includes computer firmware in the `SoftwareInventory` collection.\n",
    "\n",
    "> **NOTE**: iLOrest versions 3.0, 3.1.0 and 3.1.1 return an `ERROR: list index out of range` message."
   ]
  },
  {
   "cell_type": "code",
   "execution_count": null,
   "metadata": {},
   "outputs": [],
   "source": [
    "ilorest --version\n",
    "\n",
    "ilorest get Name Version --select SoftwareInventory"
   ]
  },
  {
   "cell_type": "markdown",
   "metadata": {},
   "source": [
    "### Change iLO time zone\n",
    "\n",
    "Searching for keywords `time zone` or `timezone` in the [API Reference document](https://hewlettpackard.github.io/ilo-rest-api-docs/ilo5/) leads to **two** properties. A BIOS and an iLO related property. We will focus on the [iLO property](https://hewlettpackard.github.io/ilo-rest-api-docs/ilo5/#timezone).\n",
    "\n",
    "The iLO `TimeZone` property is associated to the `HpeiLODateTime` type. The next cells selects this data type and then modify it."
   ]
  },
  {
   "cell_type": "code",
   "execution_count": 4,
   "metadata": {},
   "outputs": [
    {
     "name": "stdout",
     "output_type": "stream",
     "text": [
      "{\n",
      "  \"ConfigurationSettings\": \"Current\", \n",
      "  \"DateTime\": \"2020-12-14T14:00:43Z\", \n",
      "  \"NTPServers\": [\n",
      "    \"\", \n",
      "    \"\"\n",
      "  ], \n",
      "  \"PropagateTimeToHost\": false, \n",
      "  \"StaticNTPServers\": [\n",
      "    \"0.0.0.0\", \n",
      "    \"0.0.0.0\"\n",
      "  ], \n",
      "  \"TimeZone\": {\n",
      "    \"Index\": 15, \n",
      "    \"UtcOffset\": \"+00:00\", \n",
      "    \"Value\": \"GMT-0\"\n",
      "  }, \n",
      "  \"TimeZoneList\": [\n",
      "    {\n",
      "      \"Index\": 0, \n",
      "      \"UtcOffset\": \"-12:00\", \n",
      "      \"Value\": \"GMT+12:00\"\n",
      "    }, \n",
      "    {\n",
      "      \"Index\": 1, \n",
      "      \"UtcOffset\": \"-11:00\", \n",
      "      \"Value\": \"SST+11:00\"\n",
      "    }, \n",
      "    {\n",
      "      \"Index\": 2, \n",
      "      \"UtcOffset\": \"-10:00\", \n",
      "      \"Value\": \"HST+10:00\"\n",
      "    }, \n",
      "    {\n",
      "      \"Index\": 3, \n",
      "      \"UtcOffset\": \"-09:30\", \n",
      "      \"Value\": \"MART+9:30\"\n",
      "    }, \n",
      "    {\n",
      "      \"Index\": 4, \n",
      "      \"UtcOffset\": \"-09:00\", \n",
      "      \"Value\": \"AKST+9:00AKDT+08:00:00,M3.2.0/02:00:00,M11.1.0/02:00:00\"\n",
      "    }, \n",
      "    {\n",
      "      \"Index\": 5, \n",
      "      \"UtcOffset\": \"-08:00\", \n",
      "      \"Value\": \"PST+8:00PDT+07:00:00,M3.2.0/02:00:00,M11.1.0/02:00:00\"\n",
      "    }, \n",
      "    {\n",
      "      \"Index\": 6, \n",
      "      \"UtcOffset\": \"-07:00\", \n",
      "      \"Value\": \"MST+7:00MDT+06:00:00,M3.2.0/02:00:00,M11.1.0/02:00:00\"\n",
      "    }, \n",
      "    {\n",
      "      \"Index\": 7, \n",
      "      \"UtcOffset\": \"-06:00\", \n",
      "      \"Value\": \"CST+6:00CDT+05:00:00,M3.2.0/02:00:00,M11.1.0/02:00:00\"\n",
      "    }, \n",
      "    {\n",
      "      \"Index\": 8, \n",
      "      \"UtcOffset\": \"-05:00\", \n",
      "      \"Value\": \"EST+5:00EDT+04:00:00,M3.2.0/02:00:00,M11.1.0/02:00:00\"\n",
      "    }, \n",
      "    {\n",
      "      \"Index\": 9, \n",
      "      \"UtcOffset\": \"-04:00\", \n",
      "      \"Value\": \"VET+4:00\"\n",
      "    }, \n",
      "    {\n",
      "      \"Index\": 10, \n",
      "      \"UtcOffset\": \"-04:00\", \n",
      "      \"Value\": \"AST+4:00ADT+03:00:00,M3.2.0/02:00:00,M11.1.0/02:00:00\"\n",
      "    }, \n",
      "    {\n",
      "      \"Index\": 11, \n",
      "      \"UtcOffset\": \"-03:30\", \n",
      "      \"Value\": \"NST+3:30NDT+02:30:00,M3.2.0/02:00:00,M11.1.0/02:00:00\"\n",
      "    }, \n",
      "    {\n",
      "      \"Index\": 12, \n",
      "      \"UtcOffset\": \"-03:00\", \n",
      "      \"Value\": \"ART+3:00\"\n",
      "    }, \n",
      "    {\n",
      "      \"Index\": 13, \n",
      "      \"UtcOffset\": \"-02:00\", \n",
      "      \"Value\": \"GST+2:00\"\n",
      "    }, \n",
      "    {\n",
      "      \"Index\": 14, \n",
      "      \"UtcOffset\": \"-01:00\", \n",
      "      \"Value\": \"CVT+1:00\"\n",
      "    }, \n",
      "    {\n",
      "      \"Index\": 15, \n",
      "      \"UtcOffset\": \"+00:00\", \n",
      "      \"Value\": \"GMT-0\"\n",
      "    }, \n",
      "    {\n",
      "      \"Index\": 16, \n",
      "      \"UtcOffset\": \"+01:00\", \n",
      "      \"Value\": \"CET-1:00CEST-02:00:00,M3.5.0/01:00:00,M10.5.0/01:00:00\"\n",
      "    }, \n",
      "    {\n",
      "      \"Index\": 17, \n",
      "      \"UtcOffset\": \"+02:00\", \n",
      "      \"Value\": \"EET-2:00EEST-03:00:00,M3.5.0/01:00:00,M10.5.0/01:00:00\"\n",
      "    }, \n",
      "    {\n",
      "      \"Index\": 18, \n",
      "      \"UtcOffset\": \"+03:00\", \n",
      "      \"Value\": \"AST-3:00\"\n",
      "    }, \n",
      "    {\n",
      "      \"Index\": 19, \n",
      "      \"UtcOffset\": \"+03:30\", \n",
      "      \"Value\": \"IRST-3:30IRDT-04:30:00,80/00:00:00,264/00:00:00\"\n",
      "    }, \n",
      "    {\n",
      "      \"Index\": 20, \n",
      "      \"UtcOffset\": \"+04:00\", \n",
      "      \"Value\": \"GST-4:00\"\n",
      "    }, \n",
      "    {\n",
      "      \"Index\": 21, \n",
      "      \"UtcOffset\": \"+04:30\", \n",
      "      \"Value\": \"AFT-4:30\"\n",
      "    }, \n",
      "    {\n",
      "      \"Index\": 22, \n",
      "      \"UtcOffset\": \"+05:00\", \n",
      "      \"Value\": \"YEKT-5:00\"\n",
      "    }, \n",
      "    {\n",
      "      \"Index\": 23, \n",
      "      \"UtcOffset\": \"+05:30\", \n",
      "      \"Value\": \"IST-5:30\"\n",
      "    }, \n",
      "    {\n",
      "      \"Index\": 24, \n",
      "      \"UtcOffset\": \"+05:45\", \n",
      "      \"Value\": \"NPT-5:45\"\n",
      "    }, \n",
      "    {\n",
      "      \"Index\": 25, \n",
      "      \"UtcOffset\": \"+06:00\", \n",
      "      \"Value\": \"ALMT-6:00\"\n",
      "    }, \n",
      "    {\n",
      "      \"Index\": 26, \n",
      "      \"UtcOffset\": \"+06:30\", \n",
      "      \"Value\": \"MMT-6:30\"\n",
      "    }, \n",
      "    {\n",
      "      \"Index\": 27, \n",
      "      \"UtcOffset\": \"+07:00\", \n",
      "      \"Value\": \"ICT-7:00\"\n",
      "    }, \n",
      "    {\n",
      "      \"Index\": 28, \n",
      "      \"UtcOffset\": \"+08:00\", \n",
      "      \"Value\": \"CST-8:00\"\n",
      "    }, \n",
      "    {\n",
      "      \"Index\": 29, \n",
      "      \"UtcOffset\": \"+08:45\", \n",
      "      \"Value\": \"ACWST-08:45\"\n",
      "    }, \n",
      "    {\n",
      "      \"Index\": 30, \n",
      "      \"UtcOffset\": \"+09:00\", \n",
      "      \"Value\": \"JST-9:00\"\n",
      "    }, \n",
      "    {\n",
      "      \"Index\": 31, \n",
      "      \"UtcOffset\": \"+09:30\", \n",
      "      \"Value\": \"ACST-9:30ACDT-10:30:00,M10.1.0/02:00:00,M4.1.0/02:00:00\"\n",
      "    }, \n",
      "    {\n",
      "      \"Index\": 32, \n",
      "      \"UtcOffset\": \"+10:00\", \n",
      "      \"Value\": \"AEST-10:00AEDT-11:00:00,M10.1.0/02:00:00,M4.1.0/02:00:00\"\n",
      "    }, \n",
      "    {\n",
      "      \"Index\": 33, \n",
      "      \"UtcOffset\": \"+10:30\", \n",
      "      \"Value\": \"LHST-10:30LHDT11:00\"\n",
      "    }, \n",
      "    {\n",
      "      \"Index\": 34, \n",
      "      \"UtcOffset\": \"+10:45\", \n",
      "      \"Value\": \"CHAST-10:45CHADT-11:45\"\n",
      "    }, \n",
      "    {\n",
      "      \"Index\": 35, \n",
      "      \"UtcOffset\": \"+11:00\", \n",
      "      \"Value\": \"MAGT-11:00\"\n",
      "    }, \n",
      "    {\n",
      "      \"Index\": 36, \n",
      "      \"UtcOffset\": \"+12:00\", \n",
      "      \"Value\": \"NZST-12:00NZDT-13:00:00,M9.5.0/02:00:00,M4.1.0/02:00:00\"\n",
      "    }, \n",
      "    {\n",
      "      \"Index\": 37, \n",
      "      \"UtcOffset\": \"+13:00\", \n",
      "      \"Value\": \"TKT-13:00\"\n",
      "    }, \n",
      "    {\n",
      "      \"Index\": 38, \n",
      "      \"UtcOffset\": \"+14:00\", \n",
      "      \"Value\": \"LINT-14:00\"\n",
      "    }, \n",
      "    {\n",
      "      \"Index\": 39, \n",
      "      \"UtcOffset\": \"+00:00\", \n",
      "      \"Value\": \"GMT-0\"\n",
      "    }\n",
      "  ]\n",
      "}\n"
     ]
    }
   ],
   "source": [
    "# select type\n",
    "ilorest select HpeiLODateTime\n",
    "\n",
    "# Get all resources from the selected data type in stripped mode\n",
    "ilorest get --json"
   ]
  },
  {
   "cell_type": "code",
   "execution_count": 5,
   "metadata": {},
   "outputs": [
    {
     "name": "stdout",
     "output_type": "stream",
     "text": [
      "{\n",
      "  \"@odata.context\": \"/redfish/v1/$metadata#HpeiLODateTime.HpeiLODateTime\", \n",
      "  \"@odata.etag\": \"W/\\\"09805A7E\\\"\", \n",
      "  \"@odata.id\": \"/redfish/v1/Managers/1/DateTime/\", \n",
      "  \"@odata.type\": \"#HpeiLODateTime.v2_0_0.HpeiLODateTime\", \n",
      "  \"ConfigurationSettings\": \"Current\", \n",
      "  \"DateTime\": \"2020-12-14T14:00:43Z\", \n",
      "  \"Id\": \"DateTime\", \n",
      "  \"Links\": {\n",
      "    \"EthernetNICs\": {\n",
      "      \"@odata.id\": \"/redfish/v1/Managers/1/EthernetInterfaces/\"\n",
      "    }\n",
      "  }, \n",
      "  \"NTPServers\": [\n",
      "    \"\", \n",
      "    \"\"\n",
      "  ], \n",
      "  \"Name\": \"iLO Date and Time Settings\", \n",
      "  \"PropagateTimeToHost\": false, \n",
      "  \"StaticNTPServers\": [\n",
      "    \"0.0.0.0\", \n",
      "    \"0.0.0.0\"\n",
      "  ], \n",
      "  \"TimeZone\": {\n",
      "    \"Index\": 15, \n",
      "    \"Name\": \"Greenwich Mean Time, Casablanca, Monrovia, Dublin, London\", \n",
      "    \"UtcOffset\": \"+00:00\", \n",
      "    \"Value\": \"GMT-0\"\n",
      "  }, \n",
      "  \"TimeZoneList\": [\n",
      "    {\n",
      "      \"Index\": 0, \n",
      "      \"Name\": \"International Date Line West\", \n",
      "      \"UtcOffset\": \"-12:00\", \n",
      "      \"Value\": \"GMT+12:00\"\n",
      "    }, \n",
      "    {\n",
      "      \"Index\": 1, \n",
      "      \"Name\": \"Midway Island, Samoa\", \n",
      "      \"UtcOffset\": \"-11:00\", \n",
      "      \"Value\": \"SST+11:00\"\n",
      "    }, \n",
      "    {\n",
      "      \"Index\": 2, \n",
      "      \"Name\": \"Hawaii\", \n",
      "      \"UtcOffset\": \"-10:00\", \n",
      "      \"Value\": \"HST+10:00\"\n",
      "    }, \n",
      "    {\n",
      "      \"Index\": 3, \n",
      "      \"Name\": \"Marquesas\", \n",
      "      \"UtcOffset\": \"-09:30\", \n",
      "      \"Value\": \"MART+9:30\"\n",
      "    }, \n",
      "    {\n",
      "      \"Index\": 4, \n",
      "      \"Name\": \"Alaska\", \n",
      "      \"UtcOffset\": \"-09:00\", \n",
      "      \"Value\": \"AKST+9:00AKDT+08:00:00,M3.2.0/02:00:00,M11.1.0/02:00:00\"\n",
      "    }, \n",
      "    {\n",
      "      \"Index\": 5, \n",
      "      \"Name\": \"Pacific Time(US & Canada), Tijuana, Portland\", \n",
      "      \"UtcOffset\": \"-08:00\", \n",
      "      \"Value\": \"PST+8:00PDT+07:00:00,M3.2.0/02:00:00,M11.1.0/02:00:00\"\n",
      "    }, \n",
      "    {\n",
      "      \"Index\": 6, \n",
      "      \"Name\": \"Arizona, Chihuahua, La Paz, Mazatlan, Mountain Time (US & Canad\", \n",
      "      \"UtcOffset\": \"-07:00\", \n",
      "      \"Value\": \"MST+7:00MDT+06:00:00,M3.2.0/02:00:00,M11.1.0/02:00:00\"\n",
      "    }, \n",
      "    {\n",
      "      \"Index\": 7, \n",
      "      \"Name\": \"Central America, Central Time(US & Canada)\", \n",
      "      \"UtcOffset\": \"-06:00\", \n",
      "      \"Value\": \"CST+6:00CDT+05:00:00,M3.2.0/02:00:00,M11.1.0/02:00:00\"\n",
      "    }, \n",
      "    {\n",
      "      \"Index\": 8, \n",
      "      \"Name\": \"Bogota, Lima, Quito, Eastern Time(US & Canada)\", \n",
      "      \"UtcOffset\": \"-05:00\", \n",
      "      \"Value\": \"EST+5:00EDT+04:00:00,M3.2.0/02:00:00,M11.1.0/02:00:00\"\n",
      "    }, \n",
      "    {\n",
      "      \"Index\": 9, \n",
      "      \"Name\": \"Caracas, Georgetown\", \n",
      "      \"UtcOffset\": \"-04:00\", \n",
      "      \"Value\": \"VET+4:00\"\n",
      "    }, \n",
      "    {\n",
      "      \"Index\": 10, \n",
      "      \"Name\": \"Atlantic Time(Canada), Santiago\", \n",
      "      \"UtcOffset\": \"-04:00\", \n",
      "      \"Value\": \"AST+4:00ADT+03:00:00,M3.2.0/02:00:00,M11.1.0/02:00:00\"\n",
      "    }, \n",
      "    {\n",
      "      \"Index\": 11, \n",
      "      \"Name\": \"Newfoundland\", \n",
      "      \"UtcOffset\": \"-03:30\", \n",
      "      \"Value\": \"NST+3:30NDT+02:30:00,M3.2.0/02:00:00,M11.1.0/02:00:00\"\n",
      "    }, \n",
      "    {\n",
      "      \"Index\": 12, \n",
      "      \"Name\": \"Brasilia, Buenos Aires, Greenland\", \n",
      "      \"UtcOffset\": \"-03:00\", \n",
      "      \"Value\": \"ART+3:00\"\n",
      "    }, \n",
      "    {\n",
      "      \"Index\": 13, \n",
      "      \"Name\": \"Mid-Atlantic\", \n",
      "      \"UtcOffset\": \"-02:00\", \n",
      "      \"Value\": \"GST+2:00\"\n",
      "    }, \n",
      "    {\n",
      "      \"Index\": 14, \n",
      "      \"Name\": \"Azores, Cape Verde Is.\", \n",
      "      \"UtcOffset\": \"-01:00\", \n",
      "      \"Value\": \"CVT+1:00\"\n",
      "    }, \n",
      "    {\n",
      "      \"Index\": 15, \n",
      "      \"Name\": \"Greenwich Mean Time, Casablanca, Monrovia, Dublin, London\", \n",
      "      \"UtcOffset\": \"+00:00\", \n",
      "      \"Value\": \"GMT-0\"\n",
      "    }, \n",
      "    {\n",
      "      \"Index\": 16, \n",
      "      \"Name\": \"Amsterdam, Berlin, Bern, Rome, Paris, West Central Africa\", \n",
      "      \"UtcOffset\": \"+01:00\", \n",
      "      \"Value\": \"CET-1:00CEST-02:00:00,M3.5.0/01:00:00,M10.5.0/01:00:00\"\n",
      "    }, \n",
      "    {\n",
      "      \"Index\": 17, \n",
      "      \"Name\": \"Athens, Bucharest, Cairo, Jerusalem\", \n",
      "      \"UtcOffset\": \"+02:00\", \n",
      "      \"Value\": \"EET-2:00EEST-03:00:00,M3.5.0/01:00:00,M10.5.0/01:00:00\"\n",
      "    }, \n",
      "    {\n",
      "      \"Index\": 18, \n",
      "      \"Name\": \"Baghdad, Kuwait, Riyadh, Moscow, Istanbul, Nairobi\", \n",
      "      \"UtcOffset\": \"+03:00\", \n",
      "      \"Value\": \"AST-3:00\"\n",
      "    }, \n",
      "    {\n",
      "      \"Index\": 19, \n",
      "      \"Name\": \"Tehran\", \n",
      "      \"UtcOffset\": \"+03:30\", \n",
      "      \"Value\": \"IRST-3:30IRDT-04:30:00,80/00:00:00,264/00:00:00\"\n",
      "    }, \n",
      "    {\n",
      "      \"Index\": 20, \n",
      "      \"Name\": \"Abu Dhabi, Muscat, Baku, Tbilisi, Yerevan\", \n",
      "      \"UtcOffset\": \"+04:00\", \n",
      "      \"Value\": \"GST-4:00\"\n",
      "    }, \n",
      "    {\n",
      "      \"Index\": 21, \n",
      "      \"Name\": \"Kabul\", \n",
      "      \"UtcOffset\": \"+04:30\", \n",
      "      \"Value\": \"AFT-4:30\"\n",
      "    }, \n",
      "    {\n",
      "      \"Index\": 22, \n",
      "      \"Name\": \"Ekaterinburg, Islamabad, Karachi, Tashkent\", \n",
      "      \"UtcOffset\": \"+05:00\", \n",
      "      \"Value\": \"YEKT-5:00\"\n",
      "    }, \n",
      "    {\n",
      "      \"Index\": 23, \n",
      "      \"Name\": \"Chennai, Kolkata, Mumbai, New Delhi\", \n",
      "      \"UtcOffset\": \"+05:30\", \n",
      "      \"Value\": \"IST-5:30\"\n",
      "    }, \n",
      "    {\n",
      "      \"Index\": 24, \n",
      "      \"Name\": \"Kathmandu\", \n",
      "      \"UtcOffset\": \"+05:45\", \n",
      "      \"Value\": \"NPT-5:45\"\n",
      "    }, \n",
      "    {\n",
      "      \"Index\": 25, \n",
      "      \"Name\": \"Almaty, Dhaka, Sri Jayawardenepura\", \n",
      "      \"UtcOffset\": \"+06:00\", \n",
      "      \"Value\": \"ALMT-6:00\"\n",
      "    }, \n",
      "    {\n",
      "      \"Index\": 26, \n",
      "      \"Name\": \"Rangoon\", \n",
      "      \"UtcOffset\": \"+06:30\", \n",
      "      \"Value\": \"MMT-6:30\"\n",
      "    }, \n",
      "    {\n",
      "      \"Index\": 27, \n",
      "      \"Name\": \"Bangkok, Hanio, Jakarta, Novosibirsk, Astana, Krasnoyarsk\", \n",
      "      \"UtcOffset\": \"+07:00\", \n",
      "      \"Value\": \"ICT-7:00\"\n",
      "    }, \n",
      "    {\n",
      "      \"Index\": 28, \n",
      "      \"Name\": \"Beijing, Chongqing, Hong Kong, Urumqi, Taipei, Perth\", \n",
      "      \"UtcOffset\": \"+08:00\", \n",
      "      \"Value\": \"CST-8:00\"\n",
      "    }, \n",
      "    {\n",
      "      \"Index\": 29, \n",
      "      \"Name\": \"Eucla\", \n",
      "      \"UtcOffset\": \"+08:45\", \n",
      "      \"Value\": \"ACWST-08:45\"\n",
      "    }, \n",
      "    {\n",
      "      \"Index\": 30, \n",
      "      \"Name\": \"Osaka, Sapporo, Tokyo, Seoul, Yakutsk\", \n",
      "      \"UtcOffset\": \"+09:00\", \n",
      "      \"Value\": \"JST-9:00\"\n",
      "    }, \n",
      "    {\n",
      "      \"Index\": 31, \n",
      "      \"Name\": \"Adelaide, Darwin\", \n",
      "      \"UtcOffset\": \"+09:30\", \n",
      "      \"Value\": \"ACST-9:30ACDT-10:30:00,M10.1.0/02:00:00,M4.1.0/02:00:00\"\n",
      "    }, \n",
      "    {\n",
      "      \"Index\": 32, \n",
      "      \"Name\": \"Canberra, Melbourne, Sydney, Guam, Hobart, Vladivostok\", \n",
      "      \"UtcOffset\": \"+10:00\", \n",
      "      \"Value\": \"AEST-10:00AEDT-11:00:00,M10.1.0/02:00:00,M4.1.0/02:00:00\"\n",
      "    }, \n",
      "    {\n",
      "      \"Index\": 33, \n",
      "      \"Name\": \"Lord Howe\", \n",
      "      \"UtcOffset\": \"+10:30\", \n",
      "      \"Value\": \"LHST-10:30LHDT11:00\"\n",
      "    }, \n",
      "    {\n",
      "      \"Index\": 34, \n",
      "      \"Name\": \"Chatham\", \n",
      "      \"UtcOffset\": \"+10:45\", \n",
      "      \"Value\": \"CHAST-10:45CHADT-11:45\"\n",
      "    }, \n",
      "    {\n",
      "      \"Index\": 35, \n",
      "      \"Name\": \"Magadan, Solomon Is., New Caledonia\", \n",
      "      \"UtcOffset\": \"+11:00\", \n",
      "      \"Value\": \"MAGT-11:00\"\n",
      "    }, \n",
      "    {\n",
      "      \"Index\": 36, \n",
      "      \"Name\": \"Auckland, Wellington, Fiji, Kamchatka, Marshall Is.\", \n",
      "      \"UtcOffset\": \"+12:00\", \n",
      "      \"Value\": \"NZST-12:00NZDT-13:00:00,M9.5.0/02:00:00,M4.1.0/02:00:00\"\n",
      "    }, \n",
      "    {\n",
      "      \"Index\": 37, \n",
      "      \"Name\": \"Nuku'alofa\", \n",
      "      \"UtcOffset\": \"+13:00\", \n",
      "      \"Value\": \"TKT-13:00\"\n",
      "    }, \n",
      "    {\n",
      "      \"Index\": 38, \n",
      "      \"Name\": \"Line Islands\", \n",
      "      \"UtcOffset\": \"+14:00\", \n",
      "      \"Value\": \"LINT-14:00\"\n",
      "    }, \n",
      "    {\n",
      "      \"Index\": 39, \n",
      "      \"Name\": \"Unspecified Time Zone\", \n",
      "      \"UtcOffset\": \"+00:00\", \n",
      "      \"Value\": \"GMT-0\"\n",
      "    }\n",
      "  ]\n",
      "}\n"
     ]
    }
   ],
   "source": [
    "# Get all resources associated to this data type in verbose mode\n",
    "ilorest list --json"
   ]
  },
  {
   "cell_type": "code",
   "execution_count": 6,
   "metadata": {},
   "outputs": [
    {
     "name": "stdout",
     "output_type": "stream",
     "text": [
      "\n",
      "NAME\n",
      "    TimeZone\n",
      "\n",
      "\n",
      "DESCRIPTION\n",
      "    The currently selected time zone.\n",
      "\n",
      "\n",
      "TYPE\n",
      "    object\n",
      "\n",
      "\n",
      "READ-ONLY\n",
      "    False\n",
      "\n",
      "\n",
      "SUB-PROPERTIES\n",
      "    Index, UtcOffset, Name, Value\n"
     ]
    }
   ],
   "source": [
    "# You can get more info about a specific property.\n",
    "# Note the \"READ-ONLY\" attribute.\n",
    "ilorest info TimeZone"
   ]
  },
  {
   "cell_type": "code",
   "execution_count": 7,
   "metadata": {},
   "outputs": [
    {
     "name": "stdout",
     "output_type": "stream",
     "text": [
      "Current changes found:\n",
      "HpeiLODateTime.v2_0_0(/redfish/v1/Managers/1/DateTime/) (Currently selected)\n",
      "\tTimeZone/Name=New Delhi\n"
     ]
    }
   ],
   "source": [
    "# Set iLO TimeZone to \"New Delhi\"\n",
    "ilorest set TimeZone/Name=\"New Delhi\"\n",
    "\n",
    "# View changed settings\n",
    "ilorest status"
   ]
  },
  {
   "cell_type": "code",
   "execution_count": 8,
   "metadata": {},
   "outputs": [
    {
     "name": "stdout",
     "output_type": "stream",
     "text": [
      "Committing changes...\n",
      "The operation completed successfully.\n"
     ]
    }
   ],
   "source": [
    "# Commit changes in Redfish server\n",
    "ilorest commit"
   ]
  },
  {
   "cell_type": "markdown",
   "metadata": {},
   "source": [
    "> **NOTE**: A successful `commit` against a real iLO 5 clears pending changes in the cache. However, our simulator does not behave like a real iLO 5 and we need to clean up the cache manually to mimic a real successful commit."
   ]
  },
  {
   "cell_type": "code",
   "execution_count": 9,
   "metadata": {},
   "outputs": [
    {
     "name": "stdout",
     "output_type": "stream",
     "text": [
      "Current changes found:\n",
      "HpeiLODateTime.v2_0_0(/redfish/v1/Managers/1/DateTime/) (Currently selected)\n",
      "\tTimeZone/Name=New Delhi\n",
      "No changes found\n"
     ]
    }
   ],
   "source": [
    "ilorest status\n",
    "ilorest select HpeiLODateTime --refresh\n",
    "ilorest status"
   ]
  },
  {
   "cell_type": "markdown",
   "metadata": {},
   "source": [
    "### Use of the --filter option\n",
    "\n",
    "In this example you will use the iLOrest `--filter` option to retrieve only the IPv4 address of the iLO Dedicated Network Port."
   ]
  },
  {
   "cell_type": "markdown",
   "metadata": {},
   "source": [
    "Searching for keywords `dedicated` or `shared` in the [API Reference document](https://hewlettpackard.github.io/ilo-rest-api-docs/ilo5/#oem-hpe-interfacetype) leads to the `EthernetInterface` data type. The following cell logs into a remote iLO 5 and retrieves all the data types containing string `Ethernet`."
   ]
  },
  {
   "cell_type": "code",
   "execution_count": 10,
   "metadata": {},
   "outputs": [
    {
     "name": "stdout",
     "output_type": "stream",
     "text": [
      "EthernetInterface.v1_4_1\n",
      "EthernetInterfaceCollection\n"
     ]
    }
   ],
   "source": [
    "ilorest types | grep Ethernet"
   ]
  },
  {
   "cell_type": "markdown",
   "metadata": {},
   "source": [
    "Data types with suffix [`Collection`](https://hewlettpackard.github.io/ilo-rest-api-docs/ilo5/#collections) group similar resources usually represented in an array of `Members` links. The following cell lists all the ethernet interfaces in a system: System Interfaces (4) and Manager Interfaces (3). "
   ]
  },
  {
   "cell_type": "code",
   "execution_count": 11,
   "metadata": {},
   "outputs": [
    {
     "name": "stdout",
     "output_type": "stream",
     "text": [
      "[\n",
      "  {\n",
      "    \"@odata.context\": \"/redfish/v1/$metadata#EthernetInterfaceCollection.EthernetInterfaceCollection\", \n",
      "    \"@odata.etag\": \"W/\\\"96E00A2C\\\"\", \n",
      "    \"@odata.id\": \"/redfish/v1/Systems/1/EthernetInterfaces/\", \n",
      "    \"@odata.type\": \"#EthernetInterfaceCollection.EthernetInterfaceCollection\", \n",
      "    \"Description\": \"Collection of System Ethernet Interfaces\", \n",
      "    \"Members\": [\n",
      "      {\n",
      "        \"@odata.id\": \"/redfish/v1/Systems/1/EthernetInterfaces/1/\"\n",
      "      }, \n",
      "      {\n",
      "        \"@odata.id\": \"/redfish/v1/Systems/1/EthernetInterfaces/2/\"\n",
      "      }, \n",
      "      {\n",
      "        \"@odata.id\": \"/redfish/v1/Systems/1/EthernetInterfaces/3/\"\n",
      "      }, \n",
      "      {\n",
      "        \"@odata.id\": \"/redfish/v1/Systems/1/EthernetInterfaces/4/\"\n",
      "      }\n",
      "    ], \n",
      "    \"Members@odata.count\": 4, \n",
      "    \"Name\": \"System Ethernet Interfaces\"\n",
      "  }, \n",
      "  {\n",
      "    \"@odata.context\": \"/redfish/v1/$metadata#EthernetInterfaceCollection.EthernetInterfaceCollection\", \n",
      "    \"@odata.etag\": \"W/\\\"E589C4BF\\\"\", \n",
      "    \"@odata.id\": \"/redfish/v1/Managers/1/EthernetInterfaces/\", \n",
      "    \"@odata.type\": \"#EthernetInterfaceCollection.EthernetInterfaceCollection\", \n",
      "    \"Description\": \"Configuration of Manager Network Interfaces\", \n",
      "    \"Members\": [\n",
      "      {\n",
      "        \"@odata.id\": \"/redfish/v1/Managers/1/EthernetInterfaces/1/\"\n",
      "      }, \n",
      "      {\n",
      "        \"@odata.id\": \"/redfish/v1/Managers/1/EthernetInterfaces/2/\"\n",
      "      }, \n",
      "      {\n",
      "        \"@odata.id\": \"/redfish/v1/Managers/1/EthernetInterfaces/3/\"\n",
      "      }\n",
      "    ], \n",
      "    \"Members@odata.count\": 3, \n",
      "    \"Name\": \"Manager Network Interfaces\"\n",
      "  }\n",
      "]\n"
     ]
    }
   ],
   "source": [
    "ilorest list --json --select EthernetInterfaceCollection"
   ]
  },
  {
   "cell_type": "markdown",
   "metadata": {},
   "source": [
    "To retrieve the IPv4 address of the dedicated iLO network port you need to find a unique property characterizing the iLO Dedicated Network Port. The following cells select the ` EthernetInterface` data type and prints the `Name` property of each and every ethernet port in the server to verify whether it is a good candidate for a filter criteria.\n"
   ]
  },
  {
   "cell_type": "code",
   "execution_count": 12,
   "metadata": {},
   "outputs": [
    {
     "name": "stdout",
     "output_type": "stream",
     "text": [
      "[\n",
      "  {\n",
      "    \"Name\": \"\"\n",
      "  }, \n",
      "  {\n",
      "    \"Name\": \"\"\n",
      "  }, \n",
      "  {\n",
      "    \"Name\": \"Manager Dedicated Network Interface\"\n",
      "  }, \n",
      "  {\n",
      "    \"Name\": \"\"\n",
      "  }, \n",
      "  {\n",
      "    \"Name\": \"Manager Shared Network Interface\"\n",
      "  }, \n",
      "  {\n",
      "    \"Name\": \"\"\n",
      "  }, \n",
      "  {\n",
      "    \"Name\": \"Manager Virtual Network Interface\"\n",
      "  }, \n",
      "  {\n",
      "    \"Name\": \"System Ethernet Interfaces\"\n",
      "  }, \n",
      "  {\n",
      "    \"Name\": \"Manager Network Interfaces\"\n",
      "  }\n",
      "]\n"
     ]
    }
   ],
   "source": [
    "ilorest select EthernetInterface\n",
    "ilorest list Name --json "
   ]
  },
  {
   "cell_type": "markdown",
   "metadata": {},
   "source": [
    "The output of the previous command show that Dedicated iLO Network Interface can be uniquely identified using the `Name` property. The following command displays the IPv4 configuration of the Dedicated iLO Network Interface using the `--filter` option."
   ]
  },
  {
   "cell_type": "code",
   "execution_count": 13,
   "metadata": {},
   "outputs": [
    {
     "name": "stdout",
     "output_type": "stream",
     "text": [
      "IPv4Addresses=\n",
      "               SubnetMask=255.255.255.0\n",
      "               AddressOrigin=Static\n",
      "               Gateway=192.168.10.250\n",
      "               Address=192.168.10.5\n"
     ]
    }
   ],
   "source": [
    "ilorest get IPv4Addresses --filter Name=\"Manager Dedicated Network Interface\""
   ]
  },
  {
   "cell_type": "code",
   "execution_count": 14,
   "metadata": {},
   "outputs": [
    {
     "name": "stdout",
     "output_type": "stream",
     "text": [
      "IPv4Addresses=\n",
      "               Address=192.168.10.5\n"
     ]
    }
   ],
   "source": [
    "ilorest get IPv4Addresses/Address --filter Name=\"Manager Dedicated Network Interface\""
   ]
  },
  {
   "cell_type": "markdown",
   "metadata": {},
   "source": [
    "> Note: The `Oem/Hpe/InterfaceType` property could have been used as well."
   ]
  },
  {
   "cell_type": "code",
   "execution_count": 15,
   "metadata": {},
   "outputs": [
    {
     "name": "stdout",
     "output_type": "stream",
     "text": [
      "IPv4Addresses=\n",
      "               Address=192.168.10.5\n"
     ]
    }
   ],
   "source": [
    "ilorest get IPv4Addresses/Address --filter Oem/Hpe/InterfaceType=\"Dedicated\""
   ]
  },
  {
   "cell_type": "markdown",
   "metadata": {},
   "source": [
    "## Use of the iLOrest debug mode\n",
    "\n",
    "This paragraph explains how the iLOrest debug mode can help you to troubleshoot your Python, Bash or PowerShell Redfish scripts. \n",
    "\n",
    "Imagine you have difficulties to develop a Python or Bash/cURL script modifying the system boot order in order to stop the next reboot of a server at RBSU/Bios Setup.\n",
    "\n",
    "You can use iLOrest and its `bootorder` macro command in debug mode to understand how it perfoms this tasks and then reproduce it in your own programs.\n",
    "\n",
    "The next cell prepares the environment: Remove any log file if any, login, modify the cache files."
   ]
  },
  {
   "cell_type": "code",
   "execution_count": 16,
   "metadata": {},
   "outputs": [
    {
     "ename": "",
     "evalue": "1",
     "output_type": "error",
     "traceback": []
    }
   ],
   "source": [
    "# Cleanup log file if any\n",
    "rm ${LogFile} &> /dev/null"
   ]
  },
  {
   "cell_type": "markdown",
   "metadata": {},
   "source": [
    "The help of the `bootorder` extension provides the syntax to send a One Time Boot command"
   ]
  },
  {
   "cell_type": "code",
   "execution_count": 17,
   "metadata": {},
   "outputs": [
    {
     "name": "stdout",
     "output_type": "stream",
     "text": [
      "\texample: bootorder --onetimeboot=Hdd\n",
      "  --onetimeboot ONETIMEBOOT\n"
     ]
    }
   ],
   "source": [
    "ilorest help bootorder | grep 'onetime'"
   ]
  },
  {
   "cell_type": "markdown",
   "metadata": {},
   "source": [
    "The `bootorder` extension with no argument returns the list of all possible OneTimeBoot options"
   ]
  },
  {
   "cell_type": "code",
   "execution_count": 18,
   "metadata": {},
   "outputs": [
    {
     "name": "stdout",
     "output_type": "stream",
     "text": [
      "\n",
      "Current Persistent Boot Order:\n",
      "1. Generic.USB.1.1 (Generic USB Boot)\n",
      "2. NIC.LOM.1.1.Httpv4 (Embedded LOM 1 Port 1 : Intel(R) I350 Gigabit Network Connection (HTTP(S) IPv4))\n",
      "3. NIC.LOM.1.1.IPv4 (Embedded LOM 1 Port 1 : Intel(R) I350 Gigabit Network Connection (PXE IPv4))\n",
      "4. NIC.LOM.1.1.Httpv6 (Embedded LOM 1 Port 1 : Intel(R) I350 Gigabit Network Connection (HTTP(S) IPv6))\n",
      "5. NIC.LOM.1.1.IPv6 (Embedded LOM 1 Port 1 : Intel(R) I350 Gigabit Network Connection (PXE IPv6))\n",
      "6. HD.EmbSATA.1.2 (Embedded SATA Port 1 HDD : ST1000DM010-2EP102 )\n",
      "\n",
      "Continuous and one time boot options:\n",
      "1. None\n",
      "2. Cd\n",
      "3. Hdd\n",
      "4. Usb\n",
      "5. SDCard\n",
      "6. Utilities\n",
      "7. Diags\n",
      "8. BiosSetup\n",
      "9. Pxe\n",
      "10. UefiShell\n",
      "11. UefiHttp\n",
      "12. UefiTarget\n",
      "\n",
      "Continuous and one time boot uefi options:\n",
      "1. Generic.USB.1.1 (Generic USB Boot)\n",
      "2. NIC.LOM.1.1.Httpv4 (Embedded LOM 1 Port 1 : Intel(R) I350 Gigabit Network Connection (HTTP(S) IPv4))\n",
      "3. NIC.LOM.1.1.IPv4 (Embedded LOM 1 Port 1 : Intel(R) I350 Gigabit Network Connection (PXE IPv4))\n",
      "4. NIC.LOM.1.1.Httpv6 (Embedded LOM 1 Port 1 : Intel(R) I350 Gigabit Network Connection (HTTP(S) IPv6))\n",
      "5. NIC.LOM.1.1.IPv6 (Embedded LOM 1 Port 1 : Intel(R) I350 Gigabit Network Connection (PXE IPv6))\n",
      "6. HD.EmbSATA.1.2 (Embedded SATA Port 1 HDD : ST1000DM010-2EP102 )\n",
      "\n"
     ]
    }
   ],
   "source": [
    "ilorest bootorder"
   ]
  },
  {
   "cell_type": "markdown",
   "metadata": {},
   "source": [
    "The following cell sends the desired `bootorder` command and retrieves the list of all modifies parameters. This is interesting information but you may need more details to understand exactly how to send the request to the remoter iLO 5."
   ]
  },
  {
   "cell_type": "code",
   "execution_count": 21,
   "metadata": {},
   "outputs": [
    {
     "name": "stdout",
     "output_type": "stream",
     "text": [
      "Location data is empty\n",
      "Unable to locate registry model\n",
      "No changes found\n",
      "Logging session out.\n"
     ]
    }
   ],
   "source": [
    "ilorest bootorder --onetimeboot=BiosSetup\n",
    "ilorest status"
   ]
  },
  {
   "cell_type": "markdown",
   "metadata": {},
   "source": [
    "The following command commits the changes in **debug mode** in the remore iLO 5.\n",
    "\n",
    "Debug messages are redirected a log file, `stdout` and `stderr`. However `stdout` and `stderr` are discarded to `/dev/null` to keep a clean display in this noteobook."
   ]
  },
  {
   "cell_type": "code",
   "execution_count": null,
   "metadata": {},
   "outputs": [],
   "source": [
    "ilorest --debug commit &> /dev/null\n",
    "\n",
    "# Cleaning manually pending changes in the cache to mimic a real iLO 5\n",
    "ilorest select $(ilorest select | awk '{print $NF}') --refresh"
   ]
  },
  {
   "cell_type": "markdown",
   "metadata": {},
   "source": [
    "### Debug file analysis\n",
    "\n",
    "An `iLOrest.log` file should appear soon in your left Jupyter Sidebar. Double click on it and search for string `: PATCH` \n",
    "\n",
    "Analyse the PATCH request. Interesting for your debugging are:\n",
    "\n",
    "  * PATH / target URI: `/redfish/v1/Systems/1/`\n",
    "  * BODY / Payload request: `{\"Boot\": {\"BootSourceOverrideTarget\": \"BiosSetup\", \"BootSourceOverrideEnabled\": \"Once\"}}`\n",
    "  * Response Code: `Code:204 No Content`\n",
    "  * Response BODY: `BODY: None`\n",
    "  \n",
    "> NOTE: In this simulator environment the Response code is 204 (No Content) and thus the BODY is empty (`None`). If you send this request toward a real iLO 5, you will get a non-empty response."
   ]
  },
  {
   "cell_type": "markdown",
   "metadata": {},
   "source": [
    "## File-based mode\n",
    "\n",
    "In this section you will study the `save`/`load` and `serverclone` commands. Note that the `iloclone` command is being deprepcated.\n",
    "\n",
    "To deploy / load configuration files in parallel towards multiple targets, you can read this [article](https://developer.hpe.com/blog/massive-parallel-management-with-ilorest-on-linux).\n",
    "\n",
    "### Save/load a specific data type configuration\n",
    "\n",
    "In this section you will the `save` and `load` macro iLOrest commands to save and then deploy a specific or multiple data types.\n",
    "\n"
   ]
  },
  {
   "cell_type": "markdown",
   "metadata": {},
   "source": [
    "By default, the output of the save macro command is written in the `ilorest.json` file in the current directory. This can be altered by the `-f` command option.\n",
    "\n",
    "The following cell retrieves the `Chassis`and `ManagerNetworkProtocol` data types. After its execution, you will see file `ilorest.json` appearing in your left sidebar. It can take 10-15 seconds to appear in the left sidebar."
   ]
  },
  {
   "cell_type": "code",
   "execution_count": null,
   "metadata": {},
   "outputs": [],
   "source": [
    "# Note: there is NO space character between list items\n",
    "ilorest save --multisave Chassis,ManagerNetworkProtocol                         "
   ]
  },
  {
   "cell_type": "markdown",
   "metadata": {},
   "source": [
    "You can double click on the `ilorest.json` file to review its content. In addition to the `Chassis` and `ManagerNetworkProtocol` data types, it contains a `Comments` section with \"administrative\" properties.\n",
    "\n",
    "The following cell modifies two parameters (`IndicatorLED` and `AlertMailEmail`) in the `ilorest.json` file."
   ]
  },
  {
   "cell_type": "code",
   "execution_count": null,
   "metadata": {},
   "outputs": [],
   "source": [
    "sed -i -e 's/\\(\"IndicatorLED\": \\).*/\\1\"Blinking\",/ ; s/\\(\"AlertMailEmail\": \\).*/\\1\"John Deuf\",/' ilorest.json"
   ]
  },
  {
   "cell_type": "markdown",
   "metadata": {},
   "source": [
    "The following cell loads the modified configuration files into its cache, displays the modifications and commit them to the managed server."
   ]
  },
  {
   "cell_type": "code",
   "execution_count": null,
   "metadata": {},
   "outputs": [],
   "source": [
    "echo \"Loading modified properties into target system\"\n",
    "ilorest load \n",
    "\n",
    "echo -e \"\\nPrint Status\"\n",
    "ilorest status\n",
    "\n",
    "echo -e \"\\nCommit changes\"\n",
    "ilorest commit \n",
    "\n",
    "# Clean up manually pending changes in the cache to mimic a real iLO 5\n",
    "ilorest select ManagerNetworkProtocol. --refresh\n",
    "ilorest select Chassis. --refresh"
   ]
  },
  {
   "cell_type": "markdown",
   "metadata": {},
   "source": [
    "### Save/load the entire configuration of a server\n",
    "\n",
    "The `serverclone save` and `serverclone load` commands respectively create from a server or restore to a server a JSON formatted file containing most of its configuration settings (Smart Array configuration is not saved by default). The default output file is `ilorest_clone.json` but can be altered with the command `-f` parameter. Smart Array controller settings and logical drive configurations can be optionally be included for save.\n",
    "\n",
    "By default the `serverclone save` command asks the user to provide inputs (i.e passwords) to be included in the output configuration file. If you don't want to supply them manually during the save operation you can provide the `--auto` parameter like in the following cell. A placeholder will be inserted in the output file for later edition.\n",
    "\n",
    "The following cell retrieves the configuration parameters of a remove iLO 5 based server without the SSA parameters."
   ]
  },
  {
   "cell_type": "code",
   "execution_count": null,
   "metadata": {},
   "outputs": [],
   "source": [
    "# Retrieve server configuration including SSA parameters but without Bios parameters.\n",
    "ilorest serverclone save --auto --nobios --ilossa"
   ]
  },
  {
   "cell_type": "markdown",
   "metadata": {},
   "source": [
    "You can edit the `ilorest_clone.json` file, modify it and load it in suitable servers. The `--auto` paramter avoids manual inputs. When the entire file has been loaded, a server reset is automatically performed.\n",
    "\n",
    "> Note: The HTTP responses of the iLO 5 simulator may not be identical to the resonses of a real iLO 5."
   ]
  },
  {
   "cell_type": "code",
   "execution_count": null,
   "metadata": {},
   "outputs": [],
   "source": [
    "ilorest serverclone load --auto -f ilorest_clone.json\n",
    "\n",
    "# Clean up of pending changes in the cache to mimic a real iLO 5\n",
    "ilorest select SmartStorageConfig. --refresh"
   ]
  },
  {
   "cell_type": "markdown",
   "metadata": {},
   "source": [
    "## Raw commands\n",
    "\n",
    "iLOrest allows you to get and set parameters directly in the Redfish tree using the following \"raw\" commands: `rawdelete`, `rawget`, `rawput`, `rawpost`, `rawhead` and `rawpatch`. \n",
    "\n",
    "The use of raw commands is not recommended as it assumes the resource URIs. Resource URIs can change over time as explained in this [article](https://developer.hpe.com/blog/getting-started-with-ilo-restful-api-redfish-api-conformance). However, in some specific cases or for troubleshooting they can be useful.\n"
   ]
  },
  {
   "cell_type": "markdown",
   "metadata": {},
   "source": [
    "### Raw get\n",
    "\n",
    "The `rawget` command fetches the content of the supplied URI. Refer to the [API Reference Document](https://hewlettpackard.github.io/ilo-rest-api-docs/ilo5/) to find the location of your desired URI. Additional tools have to be used to filter specific properties. "
   ]
  },
  {
   "cell_type": "markdown",
   "metadata": {},
   "source": [
    "The following cell intends to retrieve the IPv4 address of the iLO Dedicated Network port, assuming it is the first NIC in the collection. It uses the popular JsonQuery (`jq`) utility to filter desired parameters. "
   ]
  },
  {
   "cell_type": "code",
   "execution_count": null,
   "metadata": {},
   "outputs": [],
   "source": [
    "# Get the Name and the IPv4 address parameters of the first iLO NIC. \n",
    "ilorest rawget \"/redfish/v1/Managers/1/EthernetInterfaces/1\" | jq '.Name, .IPv4Addresses[].Address' "
   ]
  },
  {
   "cell_type": "markdown",
   "metadata": {},
   "source": [
    "### Raw patch, put and post\n",
    "\n",
    "The `rawpatch`, `rawput` and `rawpost` commands require a target location URI and a \"body/workload\" companion json file containing the parameters to patch, put or post. \n",
    "\n",
    "> **NOTE**: The body/workload file format has changed between ilorest versions 2.X and 3. Issue `ilorest help rawpatch` to get the file format suitable for your iLOrest version. "
   ]
  },
  {
   "cell_type": "markdown",
   "metadata": {},
   "source": [
    "The following cell creates a .json file containing the body of a patch request asking the next reboot to stop at RBSU. The content of this file comes from the debug paragraph studied earlier.\n",
    "\n",
    "Then, it executes a `rawpatch` command this this file as input. As we are using an iLO 5 simulator, the response message may not be the one received by a real physical iLO 5.\n",
    "\n",
    "> Note: The `ilorest status` command returns \"No changes found\" because the `rawpatch` command is not cached."
   ]
  },
  {
   "cell_type": "code",
   "execution_count": null,
   "metadata": {},
   "outputs": [],
   "source": [
    "cat > RawPatchFile.json << __EOF__\n",
    "{\n",
    "   \"/redfish/v1/Systems/1\":\n",
    "   {\n",
    "     \"Boot\": {\n",
    "             \"BootSourceOverrideTarget\": \"Utilities\",\n",
    "             \"BootSourceOverrideEnabled\": \"Once\"\n",
    "             }  \n",
    "   }\n",
    "}\n",
    "__EOF__\n",
    "\n",
    "# Send the PATCH workload\n",
    "ilorest rawpatch RawPatchFile.json \n",
    "\n",
    "# rawpatch bypasses the cache files. Hence ilorest will not detect any changes.\n",
    "ilorest status \n",
    "\n",
    "# Logout\n",
    "ilorest logout"
   ]
  },
  {
   "cell_type": "markdown",
   "metadata": {},
   "source": [
    "## Summary\n",
    "\n",
    "In this workshop, you discovered the HPE iLOrest command line interface and its three operational modes: interactive, scripted and file based. More examples can be studied in the next Jupyter Notebook."
   ]
  }
 ],
 "metadata": {
  "kernelspec": {
   "display_name": "Bash",
   "language": "bash",
   "name": "bash"
  },
  "language_info": {
   "codemirror_mode": "shell",
   "file_extension": ".sh",
   "mimetype": "text/x-sh",
   "name": "bash"
  }
 },
 "nbformat": 4,
 "nbformat_minor": 4
}
