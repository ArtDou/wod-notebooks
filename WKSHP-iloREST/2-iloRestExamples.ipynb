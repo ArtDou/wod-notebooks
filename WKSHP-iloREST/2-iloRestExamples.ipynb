{
  "cells": [
    {
      "cell_type": "markdown",
      "metadata": {},
      "source": [
        "# iLOrest examples\n"
      ]
    },
    {
      "cell_type": "markdown",
      "metadata": {},
      "source": [
        "Version 0.1"
      ]
    },
    {
      "cell_type": "markdown",
      "metadata": {},
      "source": [
        "## Environment preparation\n",
        "\n",
        "The following cell sets environment variables and checks the connectivity toward the various BMCs used in this notebook."
      ]
    },
    {
      "cell_type": "code",
      "execution_count": null,
      "metadata": {},
      "outputs": [],
      "source": [
        "# Set Student ID number\n",
        "Stud={{ STDID }}\n",
        "\n",
        "# location and ports variables\n",
        "let OpenBmcPort=44000+${Stud}\n",
        "let iLO5SimulatorPort=45000+${Stud}\n",
        "let ilo5Port=443\n",
        "\n",
        "CacheDir=\"${PWD}/iLOrestCache\"\n",
        "LogDir=\"${PWD}\"\n",
        "LogFile=\"${LogDir}/iLOrest.log\"\n",
        "\n",
        "iLO5SimulatorIP=openbmcs\n",
        "iLOSimulator=${iLO5SimulatorIP}:${iLO5SimulatorPort}\n",
        "iLO5SimulatorURI=https://${iLOSimulator}\n",
        "\n",
        "OpenBmcIP=openbmcs\n",
        "OpenBmc=\"${OpenBmcIP}:${OpenBmcPort}\"\n",
        "OpenBmcURI=\"https://${OpenBmc}\"\n",
        "\n",
        "ilo5IP=\"ilo5\"\n",
        "ilo5=\"${ilo5IP}:${ilo5Port}\"\n",
        "ilo5URI=\"https://${ilo5}\"\n",
        "\n",
        "# Credentials\n",
        "User=\"student\"\n",
        "Password='P@ssw0rd!'\n",
        "\n",
        "# Miscellaneous\n",
        "alias ilorest='ilorest --nologo --cache-dir ${CacheDir} --logdir ${LogDir}'\n",
        "ilorest logout &>/dev/null # Clear cache\n",
        "\n",
        "\n",
        "# Verify we can reach the remote Bmcs on the right HTTPS ports. \n",
        "for bmc in ilo5 OpenBmc iLO5Simulator ; do\n",
        "    ip=\"${bmc}IP\" ; port=$(echo ${bmc}Port)\n",
        "    nc -vz  $(eval echo \"\\$${ip}\") $(eval echo \"\\$${port}\") &> /dev/null && \n",
        "        echo \"$bmc is reachable\" \\\n",
        "        || echo \"WARNING: Problem reaching $bmc\"\n",
        "done\n",
        "\n",
        "\n",
        "ilorest login $ilo5 -u $User -p $Password\n",
        "\n",
        "# Redirect cache to point to the iLO 5 Simulator\n",
        "sed -i \"s.${ilo5URI}.${iLO5SimulatorURI}.\" ${CacheDir}/cache/*"
      ]
    },
    {
      "cell_type": "markdown",
      "metadata": {},
      "source": [
        "### Macro command examples"
      ]
    },
    {
      "cell_type": "code",
      "execution_count": null,
      "metadata": {},
      "outputs": [],
      "source": [
        "ilorest select AccountService.\n",
        "ilorest get --json"
      ]
    },
    {
      "cell_type": "code",
      "execution_count": null,
      "metadata": {},
      "outputs": [],
      "source": [
        "ilorest help listcomp"
      ]
    },
    {
      "cell_type": "code",
      "execution_count": null,
      "metadata": {},
      "outputs": [],
      "source": [
        "ilorest select"
      ]
    },
    {
      "cell_type": "code",
      "execution_count": null,
      "metadata": {},
      "outputs": [],
      "source": [
        "ilorest get MinPasswordLength"
      ]
    },
    {
      "cell_type": "code",
      "execution_count": null,
      "metadata": {},
      "outputs": [],
      "source": [
        "ilorest set MinPasswordLength=5"
      ]
    },
    {
      "cell_type": "code",
      "execution_count": null,
      "metadata": {},
      "outputs": [],
      "source": [
        "ilorest logout"
      ]
    },
    {
      "cell_type": "markdown",
      "metadata": {},
      "source": [
        "## Recurrent requests\n",
        "\n"
      ]
    }
  ],
  "metadata": {
    "kernelspec": {
      "display_name": "Bash",
      "language": "bash",
      "name": "bash"
    },
    "language_info": {
      "codemirror_mode": "shell",
      "file_extension": ".sh",
      "mimetype": "text/x-sh",
      "name": "bash"
    }
  },
  "nbformat": 4,
  "nbformat_minor": 4
}
