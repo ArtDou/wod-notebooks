{
 "cells": [
  {
   "cell_type": "markdown",
   "metadata": {},
   "source": [
    "# iLOrest examples\n"
   ]
  },
  {
   "cell_type": "markdown",
   "metadata": {},
   "source": [
    "Version 0.32"
   ]
  },
  {
   "cell_type": "markdown",
   "metadata": {},
   "source": [
    "## Introduction\n",
    "\n",
    "This Jupyter Notebook contains iLOrest examples as well as tips and tricks answering recurrent questions from HPE customers."
   ]
  },
  {
   "cell_type": "markdown",
   "metadata": {},
   "source": [
    "## List of examples\n",
    "\n",
    "The following GET and SET examples are present in this Jupyter Notebook. Note that this list is growing overtime. The classification is not following a strict model; it is a mix of Root service and data type locations.\n",
    "\n",
    "HPE OEM extensions are TBD\n",
    "\n",
    "* AccountService\n",
    "   - [iLO users: Enforce password complexity and minimum password length](#EnforceiLOUsersPasswordComplexity)\n",
    "\n",
    "* Chassis\n",
    "   - [ThermalConfiguration](#ThermalConfiguration)\n",
    "    \n",
    "* Managers (iLO)\n",
    "    - [Enable/Disable SNMPv1 in iLO](#SNMPv1Enabled)\n",
    " \n",
    "* Resource Directory\n",
    "    - TBD\n",
    "\n",
    "* CompusterSystem\n",
    "     - [PostState and DiscoveryComplete](#PostState_And_DiscoveryComplete)\n",
    "     - [Bios/RBSU Login password](#ManageBiosRbsuPassword)"
   ]
  },
  {
   "cell_type": "markdown",
   "metadata": {},
   "source": [
    "## Environment preparation\n",
    "\n",
    "The following cell sets environment variables and checks the connectivity toward the various BMCs used in this notebook."
   ]
  },
  {
   "cell_type": "code",
   "execution_count": 1,
   "metadata": {},
   "outputs": [
    {
     "name": "stdout",
     "output_type": "stream",
     "text": [
      "ilo5 is reachable\n",
      "OpenBmc is reachable\n",
      "iLO5Simulator is reachable\n"
     ]
    }
   ],
   "source": [
    "########## Environment preparation ((Version: 0.1)) ############\n",
    "\n",
    "\n",
    "# Set Student ID number\n",
    "Stud=00\n",
    "\n",
    "# location and ports variables\n",
    "let OpenBmcPort=44000+${Stud}\n",
    "let iLO5SimulatorPort=45000+${Stud}\n",
    "let ilo5Port=443\n",
    "\n",
    "CacheDir=\"${PWD}/iLOrestCache\"\n",
    "LogDir=\"${PWD}\"\n",
    "LogFile=\"${LogDir}/iLOrest.log\"\n",
    "\n",
    "iLO5SimulatorIP=bmcsimulators\n",
    "iLOSimulator=${iLO5SimulatorIP}:${iLO5SimulatorPort}\n",
    "iLO5SimulatorURI=https://${iLOSimulator}\n",
    "\n",
    "OpenBmcIP=bmcsimulators\n",
    "OpenBmc=\"${OpenBmcIP}:${OpenBmcPort}\"\n",
    "OpenBmcURI=\"https://${OpenBmc}\"\n",
    "\n",
    "ilo5IP=\"ilo5\"\n",
    "ilo5=\"${ilo5IP}:${ilo5Port}\"\n",
    "ilo5URI=\"https://${ilo5}\"\n",
    "\n",
    "# Credentials\n",
    "User=\"student\"\n",
    "Password='P@ssw0rd!'\n",
    "\n",
    "# Miscellaneous\n",
    "alias ilorest='ilorest --nologo --cache-dir ${CacheDir} --logdir ${LogDir}'\n",
    "ilorest logout &>/dev/null # Clear cache\n",
    "\n",
    "\n",
    "# Verify we can reach the remote Bmcs on the right HTTPS ports. \n",
    "for bmc in ilo5 OpenBmc iLO5Simulator ; do\n",
    "    ip=\"${bmc}IP\" ; port=$(echo ${bmc}Port)\n",
    "    nc -vz  $(eval echo \"\\$${ip}\") $(eval echo \"\\$${port}\") &> /dev/null && \n",
    "        echo \"$bmc is reachable\" \\\n",
    "        || echo \"WARNING: Problem reaching $bmc\"\n",
    "done"
   ]
  },
  {
   "cell_type": "markdown",
   "metadata": {},
   "source": [
    "### iLO 5 login and cache redirection\n",
    "\n",
    "This infrastructure contains only one physical computer and prevents multiple students to perform SET actions on this unique system. Therefore, students have to use a DMTF BMC simulator populated with an iLO 5 mockup. However, because iLOrest populates its cache directory during the login process you need first to authenticate with the iLO 5 and then modify the cache files to have them pointing to the DMTF simulator. "
   ]
  },
  {
   "cell_type": "code",
   "execution_count": 2,
   "metadata": {},
   "outputs": [
    {
     "name": "stdout",
     "output_type": "stream",
     "text": [
      "Discovering data...Done\n"
     ]
    }
   ],
   "source": [
    "ilorest login $ilo5 -u $User -p $Password\n",
    "\n",
    "# Redirect cache toward the iLO 5 Simulator\n",
    "sed -i \"s.${ilo5URI}.${iLO5SimulatorURI}.\" ${CacheDir}/cache/*"
   ]
  },
  {
   "cell_type": "markdown",
   "metadata": {},
   "source": [
    "## AccountService\n",
    "\n",
    "This root service models the iLO User Accounts."
   ]
  },
  {
   "cell_type": "markdown",
   "metadata": {},
   "source": [
    "<a id = \"EnforceiLOUsersPasswordComplexity\">iLO users: Enforce password complexity and minimum password length</a>\\\n",
    "API Reference document keyword: `EnforcePasswordComplexity` \\\n",
    "iLO GUI location: `Security - Access Settings`"
   ]
  },
  {
   "cell_type": "code",
   "execution_count": 3,
   "metadata": {},
   "outputs": [
    {
     "name": "stdout",
     "output_type": "stream",
     "text": [
      "{\n",
      "  \"Oem\": {\n",
      "    \"Hpe\": {\n",
      "      \"@odata.context\": \"/redfish/v1/$metadata#HpeiLOAccountService.HpeiLOAccountService\", \n",
      "      \"@odata.id\": \"/redfish/v1/AccountService/\", \n",
      "      \"@odata.type\": \"#HpeiLOAccountService.v2_3_0.HpeiLOAccountService\", \n",
      "      \"Actions\": {\n",
      "        \"#HpeiLOAccountService.ImportKerberosKeytab\": {\n",
      "          \"target\": \"/redfish/v1/AccountService/Actions/Oem/Hpe/HpeiLOAccountService.ImportKerberosKeytab/\"\n",
      "        }\n",
      "      }, \n",
      "      \"AuthFailureDelayTimeSeconds\": 10, \n",
      "      \"AuthFailureLoggingThreshold\": 3, \n",
      "      \"AuthFailuresBeforeDelay\": 1, \n",
      "      \"DefaultPassword\": null, \n",
      "      \"DefaultUserName\": null, \n",
      "      \"DirectorySettings\": {\n",
      "        \"LdapAuthenticationMode\": \"Disabled\", \n",
      "        \"LdapCaCertificateLoaded\": false, \n",
      "        \"LdapCaCertificates\": {\n",
      "          \"@odata.id\": \"/redfish/v1/AccountService/ExternalAccountProviders/LDAP/Certificates/\"\n",
      "        }, \n",
      "        \"LdapServerPort\": 636\n",
      "      }, \n",
      "      \"DirectoryTest\": {\n",
      "        \"@odata.id\": \"/redfish/v1/AccountService/DirectoryTest/\"\n",
      "      }, \n",
      "      \"EnforcePasswordComplexity\": false, \n",
      "      \"Id\": \"AccountService\", \n",
      "      \"KerberosSettings\": {\n",
      "        \"KDCServerPort\": 88, \n",
      "        \"KerberosRealm\": \"\"\n",
      "      }, \n",
      "      \"MinPasswordLength\": 8\n",
      "    }\n",
      "  }\n",
      "}\n",
      "Current changes found:\n",
      "AccountService.v1_5_0(/redfish/v1/AccountService/) (Currently selected)\n",
      "\tOem/Hpe/EnforcePasswordComplexity=True\n",
      "\tOem/Hpe/MinPasswordLength=5\n"
     ]
    }
   ],
   "source": [
    "# Select data type\n",
    "# ilorest select HpeiLOAccountService # TODO/TBD: populate ResourceDirectory with HpeiLOAccountService \n",
    "ilorest select AccountService\n",
    "\n",
    "\n",
    "ilorest list Oem/Hpe --json\n",
    "\n",
    " \n",
    "ilorest set Oem/Hpe/EnforcePasswordComplexity=True\n",
    "ilorest set Oem/Hpe/MinPasswordLength=5\n",
    "\n",
    "ilorest status\n",
    "#ilorest commit"
   ]
  },
  {
   "cell_type": "markdown",
   "metadata": {},
   "source": [
    "## Chassis\n",
    "\n",
    "This section contains parameters related to the `Chassis`data type as well as data types under the Oem extensions below this data type."
   ]
  },
  {
   "cell_type": "markdown",
   "metadata": {},
   "source": [
    "### <a id = \"ThermalConfiguration\">ThermalConfiguration</a>\n",
    "\n",
    "> **NOTE** This parameter is new with iLO 5 firmware 2.30. \n",
    "\n",
    "    API Reference document keyword: `TBD: Not yet documented` \\\n",
    "    iLO GUI location: `TBD: Not yet implemented`"
   ]
  },
  {
   "cell_type": "code",
   "execution_count": 4,
   "metadata": {},
   "outputs": [
    {
     "name": "stdout",
     "output_type": "stream",
     "text": [
      "Unable to locate instance for hpethermalext\n",
      "{\n",
      "  \"@odata.context\": \"/redfish/v1/$metadata#AccountService.AccountService\", \n",
      "  \"@odata.etag\": \"W/\\\"8F1B1B4B\\\"\", \n",
      "  \"@odata.id\": \"/redfish/v1/AccountService/\", \n",
      "  \"@odata.type\": \"#AccountService.v1_5_0.AccountService\", \n",
      "  \"Accounts\": {\n",
      "    \"@odata.id\": \"/redfish/v1/AccountService/Accounts/\"\n",
      "  }, \n",
      "  \"ActiveDirectory\": {\n",
      "    \"AccountProviderType\": \"ActiveDirectoryService\", \n",
      "    \"Authentication\": {\n",
      "      \"AuthenticationType\": \"UsernameAndPassword\", \n",
      "      \"Password\": null, \n",
      "      \"Username\": \"\"\n",
      "    }, \n",
      "    \"RemoteRoleMapping\": [\n",
      "      {\n",
      "        \"LocalRole\": \"dirgroupb3d8954f6ebbe735764e9f7c\", \n",
      "        \"RemoteGroup\": \"Administrators\"\n",
      "      }, \n",
      "      {\n",
      "        \"LocalRole\": \"dirgroup9d4546a03a03bb977c03086a\", \n",
      "        \"RemoteGroup\": \"Authenticated Users:S-1-5-11\"\n",
      "      }\n",
      "    ], \n",
      "    \"ServiceAddresses\": [\n",
      "      \"\"\n",
      "    ], \n",
      "    \"ServiceEnabled\": false\n",
      "  }, \n",
      "  \"Description\": \"iLO User Accounts\", \n",
      "  \"Id\": \"AccountService\", \n",
      "  \"LDAP\": {\n",
      "    \"AccountProviderType\": \"ActiveDirectoryService\", \n",
      "    \"Authentication\": {\n",
      "      \"AuthenticationType\": \"UsernameAndPassword\", \n",
      "      \"Password\": null, \n",
      "      \"Username\": \"\"\n",
      "    }, \n",
      "    \"Certificates\": {\n",
      "      \"@odata.id\": \"/redfish/v1/AccountService/ExternalAccountProviders/LDAP/Certificates/\"\n",
      "    }, \n",
      "    \"LDAPService\": {\n",
      "      \"SearchSettings\": {}\n",
      "    }, \n",
      "    \"RemoteRoleMapping\": [\n",
      "      {\n",
      "        \"LocalRole\": \"dirgroupb3d8954f6ebbe735764e9f7c\", \n",
      "        \"RemoteGroup\": \"Administrators\"\n",
      "      }, \n",
      "      {\n",
      "        \"LocalRole\": \"dirgroup9d4546a03a03bb977c03086a\", \n",
      "        \"RemoteGroup\": \"Authenticated Users:S-1-5-11\"\n",
      "      }\n",
      "    ], \n",
      "    \"ServiceAddresses\": [\n",
      "      \"\"\n",
      "    ], \n",
      "    \"ServiceEnabled\": false\n",
      "  }, \n",
      "  \"LocalAccountAuth\": \"Enabled\", \n",
      "  \"Name\": \"Account Service\", \n",
      "  \"Oem\": {\n",
      "    \"Hpe\": {\n",
      "      \"@odata.context\": \"/redfish/v1/$metadata#HpeiLOAccountService.HpeiLOAccountService\", \n",
      "      \"@odata.id\": \"/redfish/v1/AccountService/\", \n",
      "      \"@odata.type\": \"#HpeiLOAccountService.v2_3_0.HpeiLOAccountService\", \n",
      "      \"Actions\": {\n",
      "        \"#HpeiLOAccountService.ImportKerberosKeytab\": {\n",
      "          \"target\": \"/redfish/v1/AccountService/Actions/Oem/Hpe/HpeiLOAccountService.ImportKerberosKeytab/\"\n",
      "        }\n",
      "      }, \n",
      "      \"AuthFailureDelayTimeSeconds\": 10, \n",
      "      \"AuthFailureLoggingThreshold\": 3, \n",
      "      \"AuthFailuresBeforeDelay\": 1, \n",
      "      \"DefaultPassword\": null, \n",
      "      \"DefaultUserName\": null, \n",
      "      \"DirectorySettings\": {\n",
      "        \"LdapAuthenticationMode\": \"Disabled\", \n",
      "        \"LdapCaCertificateLoaded\": false, \n",
      "        \"LdapCaCertificates\": {\n",
      "          \"@odata.id\": \"/redfish/v1/AccountService/ExternalAccountProviders/LDAP/Certificates/\"\n",
      "        }, \n",
      "        \"LdapServerPort\": 636\n",
      "      }, \n",
      "      \"DirectoryTest\": {\n",
      "        \"@odata.id\": \"/redfish/v1/AccountService/DirectoryTest/\"\n",
      "      }, \n",
      "      \"EnforcePasswordComplexity\": true, \n",
      "      \"Id\": \"AccountService\", \n",
      "      \"KerberosSettings\": {\n",
      "        \"KDCServerPort\": 88, \n",
      "        \"KerberosRealm\": \"\"\n",
      "      }, \n",
      "      \"MinPasswordLength\": 5\n",
      "    }\n",
      "  }, \n",
      "  \"Roles\": {\n",
      "    \"@odata.id\": \"/redfish/v1/AccountService/Roles/\"\n",
      "  }\n",
      "}\n"
     ]
    }
   ],
   "source": [
    "# Select data type\n",
    "ilorest select HpeThermalExt\n",
    "\n",
    "ilorest list --json\n"
   ]
  },
  {
   "cell_type": "markdown",
   "metadata": {},
   "source": [
    "## Managers\n",
    "\n",
    "Examples in this section are related to the `Manager` data type as well as data Oem data types located below `/redfish/v1/Managers/` end point like `HpeiLOSnmpService`. "
   ]
  },
  {
   "cell_type": "markdown",
   "metadata": {},
   "source": [
    "### <a id = \"SNMPv1Enabled\">Enable/Disable SNMPv1 in iLO</a>\n",
    "\n",
    "> **NOTE** Changing the `SNMPv1Enabled` setting appeared in iLO 5 FW 2.30.\n",
    "\n",
    "    API Reference document keyword: `SNMPv1Enabled` \\\n",
    "    iLO GUI location: `TBD`"
   ]
  },
  {
   "cell_type": "code",
   "execution_count": 5,
   "metadata": {},
   "outputs": [
    {
     "name": "stdout",
     "output_type": "stream",
     "text": [
      "SNMPv1Enabled=False\n",
      "\n",
      "ERROR\t: Setting for 'snmpv1enabled' is the same as the current value.\n",
      "Current changes found:\n",
      "AccountService.v1_5_0(/redfish/v1/AccountService/)\n",
      "\tOem/Hpe/EnforcePasswordComplexity=True\n",
      "\tOem/Hpe/MinPasswordLength=5\n"
     ]
    }
   ],
   "source": [
    "# Select data type\n",
    "ilorest select HpeiLOSnmpService\n",
    "\n",
    "# Get current value\n",
    "ilorest get SNMPv1Enabled\n",
    "echo\n",
    "\n",
    "# Set new value\n",
    "ilorest set SNMPv1Enabled=False\n",
    "\n",
    "ilorest status"
   ]
  },
  {
   "cell_type": "markdown",
   "metadata": {},
   "source": [
    "## HPE iLO Resource Directory\n",
    "\n",
    "The HPE iLO Resource Directory is an HPE Oem extention containing the exhaustive list of the data types present the in a Redfish pecific data types. This directory can be used by Redfish clients to find faster find a specific resource in the Redfish tree."
   ]
  },
  {
   "cell_type": "code",
   "execution_count": 6,
   "metadata": {},
   "outputs": [
    {
     "name": "stdout",
     "output_type": "stream",
     "text": [
      "\n"
     ]
    }
   ],
   "source": [
    "Type=\"HpeThermalExt\"\n",
    "#Type=\"SoftwareInventory\"\n",
    "ilorest types | grep Resource\n",
    "ilorest select HpeiLOResourceDirectory\n",
    "echo\n",
    "ilorest list instances --json | jq -r '.[]|.[]|.\"@odata.type\"' \\\n",
    "         | awk -F. '/'${Type}'/ {print $1}' | sort -u"
   ]
  },
  {
   "cell_type": "markdown",
   "metadata": {},
   "source": [
    "## ComputerSystem\n",
    "\n",
    "This section contains examples related to the `ComputerSystem` data type."
   ]
  },
  {
   "cell_type": "markdown",
   "metadata": {},
   "source": [
    "### <a id = \"PostState_And_DiscoveryComplete\">PostState and DiscoveryComplete</a>\n",
    "\n",
    "Use these state parameters to evaluate the current state of a system before modifying or viewing its resources. As explained in this [article](https://developer.hpe.com/blog/master-the-redfish-server-states-to-improve-your-monitoring-and-manageme) certain parameters cannot be modified if the computer is not in a specific state.\n",
    "\n",
    "Moreover, some parameters cannot be viewed when the entire discovery of all subsystems is not complete. As an example, you will not be able to view or modify SmartArray and logical drive configurations if the `SmartArrayDiscovery` is not complete."
   ]
  },
  {
   "cell_type": "code",
   "execution_count": 7,
   "metadata": {},
   "outputs": [
    {
     "name": "stdout",
     "output_type": "stream",
     "text": [
      "Oem=\n",
      "     Hpe=\n",
      "          DeviceDiscoveryComplete=\n",
      "                                   AMSDeviceDiscovery=Complete\n",
      "                                   DeviceDiscovery=vMainDeviceDiscoveryComplete\n",
      "                                   SmartArrayDiscovery=Complete\n",
      "\n",
      "Oem=\n",
      "     Hpe=\n",
      "          PostState=FinishedPost\n",
      "\n"
     ]
    }
   ],
   "source": [
    "ilorest select ComputerSystem\n",
    "# Try to include HpeComputerSystemExt in the Mockup \n",
    "ilorest get Oem/Hpe/DeviceDiscoveryComplete\n",
    "echo\n",
    "ilorest get Oem/Hpe/PostState \n",
    "echo \n"
   ]
  },
  {
   "cell_type": "markdown",
   "metadata": {},
   "source": [
    "### <a id = \"ManageBiosRbsuPassword\">Bios/RBSU Login password</a>\n",
    "\n",
    "> NOTE: requires iLOrest >= 3.1.1"
   ]
  },
  {
   "cell_type": "code",
   "execution_count": 9,
   "metadata": {},
   "outputs": [
    {
     "name": "stdout",
     "output_type": "stream",
     "text": [
      "An invalid response body was returned: No JSON object could be decodedNo error message returned or unable to parse error response.\n",
      "An invalid response body was returned: No JSON object could be decodedNo error message returned or unable to parse error response.\n",
      "Current changes found:\n",
      "AccountService.v1_5_0(/redfish/v1/AccountService/)\n",
      "\tOem/Hpe/EnforcePasswordComplexity=True\n",
      "\tOem/Hpe/MinPasswordLength=5\n"
     ]
    }
   ],
   "source": [
    "# Setting a password for the first time\n",
    "ilorest setpassword FirstTimePassword '\"\"'\n",
    "\n",
    "# Removing the Bios/RBSU password\n",
    "ilorest setpassword '\"\"' FirstTimePassowrd\n",
    "\n",
    "# No commit needed. No iLO nor system reset needed. \n",
    "ilorest status\n"
   ]
  },
  {
   "cell_type": "markdown",
   "metadata": {},
   "source": [
    "## Thermal"
   ]
  },
  {
   "cell_type": "code",
   "execution_count": null,
   "metadata": {},
   "outputs": [],
   "source": [
    "ilorest serverinfo --thermal\n",
    "ilorest list --json"
   ]
  },
  {
   "cell_type": "code",
   "execution_count": null,
   "metadata": {},
   "outputs": [],
   "source": []
  },
  {
   "cell_type": "code",
   "execution_count": null,
   "metadata": {},
   "outputs": [],
   "source": []
  },
  {
   "cell_type": "code",
   "execution_count": null,
   "metadata": {},
   "outputs": [],
   "source": []
  },
  {
   "cell_type": "code",
   "execution_count": 10,
   "metadata": {},
   "outputs": [
    {
     "name": "stdout",
     "output_type": "stream",
     "text": [
      "Logging session out.\n"
     ]
    }
   ],
   "source": [
    "ilorest logout"
   ]
  },
  {
   "cell_type": "markdown",
   "metadata": {},
   "source": [
    "## TBD\n"
   ]
  }
 ],
 "metadata": {
  "kernelspec": {
   "display_name": "Bash",
   "language": "bash",
   "name": "bash"
  },
  "language_info": {
   "codemirror_mode": "shell",
   "file_extension": ".sh",
   "mimetype": "text/x-sh",
   "name": "bash"
  }
 },
 "nbformat": 4,
 "nbformat_minor": 4
}
