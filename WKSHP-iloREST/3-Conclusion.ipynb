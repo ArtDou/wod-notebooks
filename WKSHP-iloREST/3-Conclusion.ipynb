{
  "cells": [
    {
      "cell_type": "markdown",
      "metadata": {},
      "source": [
<<<<<<< Updated upstream
        "# TBD\n",
        "\n",
        "Version 0.0"
=======
        "![HPE DEV Logo](Pictures/hpe-dev-logo.png \"HPE DEV Hack Shack\")\n",
        "\n",
        "Version 0.1\n",
        "\n",
        "# Thank you for attending this workshop\n",
        "\n",
        "In this workshop you TBD\n",
        "\n",
        "**Congratulations!**\n"
      ]
    },
    {
      "cell_type": "markdown",
      "metadata": {},
      "source": [
        "# Final steps\n",
        "\n",
        "### Join the HPE DEV Community and subscribe to the Newsletter by scanning this QR code\n",
        "\n",
        "![QRCode](Pictures/QRCode-HPEDEV.PNG)\n",
        "\n",
        "\n",
        "# Thank you\n",
        "![ThankYou](Pictures/grommet.JPG)"
>>>>>>> Stashed changes
      ]
    },
    {
      "cell_type": "code",
      "execution_count": null,
      "metadata": {},
      "outputs": [],
      "source": []
    }
  ],
  "metadata": {
    "kernelspec": {
      "display_name": "Python 3",
      "language": "python",
      "name": "python3"
    },
    "language_info": {
      "codemirror_mode": {
        "name": "ipython",
        "version": 3
      },
      "file_extension": ".py",
      "mimetype": "text/x-python",
      "name": "python",
      "nbconvert_exporter": "python",
      "pygments_lexer": "ipython3",
      "version": "3.8.5"
    }
  },
  "nbformat": 4,
  "nbformat_minor": 4
}
