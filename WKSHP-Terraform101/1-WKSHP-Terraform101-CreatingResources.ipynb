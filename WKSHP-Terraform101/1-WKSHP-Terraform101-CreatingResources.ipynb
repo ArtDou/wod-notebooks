{
 "cells": [
  {
   "cell_type": "markdown",
   "metadata": {},
   "source": [
    "## Let’s harness some of the benefits of Infrastructure as Code\n",
    "\n",
    "One of the superpowers of IaC is its repeatability, the fact that you can set something up once and then use the same information in multiple ways. Implementing IaC allows organizations to store configuration files describing the desired infrastructure as a single source of truth. It also allows you to apply the DevOps methodology that’s already in place for application code directly to the infrastructure. For example, configuration files can be stored and managed through GitHub using the same way your DevOps team manages the application code. This concept is often called “Shifting Left”, as you are describing the infrastructure to host an application earlier (left) in the delivery pipeline of the application. This allows for easier and consistent deployments of infrastructure across the complete infrastructure landscape of an organization.\n",
    "\n",
    "## HPE GreenLake\n",
    "\n",
    "HPE GreenLake is HPE’s edge-to-cloud platform. The HPE GreenLake platform provides a unified experience wherever your applications and its data are located on the edge, in colocations or in your own datacenter. This cloud experience everywhere includes the following capabilities:\n",
    "\n",
    "* Self-service\n",
    "* Infinite scalability\n",
    "* Pay-as-you-go\n",
    "* Managed for you\n",
    "\n",
    "## HPE GreenLake Cloud Services\n",
    "\n",
    "The HPE GreenLake ecosystem provides solutions for several top workloads such as containers, Machine Learning, private cloud, virtual machines, SAP HANA, HPC, VDI and many more. This page on [HPE GreenLake cloud services and ecosystem](https://www.hpe.com/us/en/greenlake/services.html) provides a complete list. The ecosystem also leverages many technologies from HPE partners such as Microsoft, VMware, SAP, Nutanix, Veeam and others. \n",
    "\n",
    "## HPE GreenLake for private cloud\n",
    "\n",
    "One of the options provided by HPE GreenLake is to make it easy for customers to order and operate a private cloud with a mix of virtual machines, containers, and physical servers. This is exactly what the private cloud Service is all about. This service allows customers to point and click to create resources such as virtual machines. It also provides access via a public API, allowing developers to use  an Infrastructure-as-Code type of tool to automate provisioning, for example using Terraform.\n",
    "\n",
    "## Terraform\n",
    "\n",
    "[Terraform](https://terraform.io) is an open source Infrastructure-as-Code framework originally created by HashiCorp that is written in Go. It uses a declarative language (HashiCorp Configuration Language HCL or JSON more recently) to describe the desired state of the infrastructure in terms of cloud, virtual machines, networks, storage, and many other components. Terraform uses the concept of “providers” to integrate with all major public clouds. Terraform is a so-called idempotent system in the sense that it doesn’t generate any side effects if applied multiple times on an infrastructure already in its desired state. Terraform has gained quite the momentum in the last few years. Its main competition is Ansible, Amazon Cloud Formation, Puppet and Chef.\n"
   ]
  },
  {
   "cell_type": "markdown",
   "metadata": {},
   "source": [
    "## Terraform installation\n",
    "\n",
    "Your first step is to get your system ready to run Terraform. This will include:\n",
    "\n",
    "1. Installing Terraform: follow [these steps](https://learn.hashicorp.com/tutorials/terraform/install-cli)\n",
    "2. Verifying installation: **terraform --help**\n",
    "\n",
    "We have already installed Terraform in you workshop environment, so you are ready to start building your infrastructure description file. Before we do so let's check the Terraform version installed on our system:"
   ]
  },
  {
   "cell_type": "code",
   "execution_count": 1,
   "metadata": {},
   "outputs": [
    {
     "name": "stdout",
     "output_type": "stream",
     "text": [
      "Terraform v1.1.9\n",
      "on linux_amd64\n"
     ]
    }
   ],
   "source": [
    "# Let's find out the version installed on this environment\n",
    "terraform version"
   ]
  },
  {
   "cell_type": "markdown",
   "metadata": {},
   "source": [
    "## Building a Terraform configuration file from scratch\n",
    "\n",
    "Let’s start building this TF file. It's called config.tf and you can open it for edition by double clicking from the left pane file explorer view. We will edit this file during the entire workshop, so keep it open and don't forget to save using the save icon from the taskbar above your notebooks. In case of issue with the file, you can find valid files at different stages from the solutions folder. Just cut/paste content from any of these to get back on track.\n",
    "\n",
    "> Note: config.tf should be empty at this time.\n",
    "\n",
    "### Selecting a Terraform provider\n",
    "\n",
    "The first section of the file will enumerate the “providers” you rely upon for building your infrastructure, and they could be multiple providers in a single TF file. In this case here, you will only have the HPE GreenLake provider referenced as hpe/hpegl in the official [Terraform registry](https://registry.terraform.io/).\n",
    "\n",
    "You can find out more about the HPE GreenLake Terraform provider from its [Terraform Registry page](https://registry.terraform.io/providers/HPE/hpegl/latest).\n",
    "\n",
    "This page also provides a link to the GitHub repository corresponding to this provider. The [docs](https://github.com/hpe/terraform-provider-hpegl/tree/main/docs) folder is your best source of information for using the different data sources and resources provided by the provider. If you navigate to the resources section, you will see that one resource you can manipulate with this provider is a [VM instance](https://github.com/hpe/terraform-provider-hpegl/blob/main/docs/resources/vmaas_instance.md). Let’s focus on this resource in this article.\n",
    "\n",
    "> Note: Because this is open source, don’t hesitate to open issues, or even a pull request, if you identify an issue.\n",
    "\n",
    "Insert the following lines in your Terraform configuration file: config.tf and save it.\n",
    "\n",
    "```json\n",
    "# Load HPE GreenLake terraform provider\n",
    "terraform {\n",
    "      required_providers {\n",
    "         hpegl = {\n",
    "            source  = \"hpe/hpegl\"\n",
    "            version = \"0.1.7\"\n",
    "         }\n",
    "      }\n",
    "   }\n",
    "```\n",
    "\n"
   ]
  },
  {
   "cell_type": "markdown",
   "metadata": {},
   "source": [
    "### Terraform init\n",
    "\n",
    "Before you can use Terraform, you will have to initialize it from the configuration file we have created. This is done with the following step: **terraform init**\n"
   ]
  },
  {
   "cell_type": "code",
   "execution_count": 1,
   "metadata": {},
   "outputs": [
    {
     "name": "stdout",
     "output_type": "stream",
     "text": [
      "\n",
      "\u001b[0m\u001b[1mInitializing the backend...\u001b[0m\n",
      "\n",
      "\u001b[0m\u001b[1mInitializing provider plugins...\u001b[0m\n",
      "- Finding hpe/hpegl versions matching \"0.1.7\"...\n",
      "- Installing hpe/hpegl v0.1.7...\n",
      "- Installed hpe/hpegl v0.1.7 (self-signed, key ID \u001b[0m\u001b[1mD1F277A1AC66CE3D\u001b[0m\u001b[0m)\n",
      "\n",
      "Partner and community providers are signed by their developers.\n",
      "If you'd like to know more about provider signing, you can read about it here:\n",
      "https://www.terraform.io/docs/cli/plugins/signing.html\n",
      "\n",
      "Terraform has created a lock file \u001b[1m.terraform.lock.hcl\u001b[0m to record the provider\n",
      "selections it made above. Include this file in your version control repository\n",
      "so that Terraform can guarantee to make the same selections by default when\n",
      "you run \"terraform init\" in the future.\u001b[0m\n",
      "\n",
      "\u001b[0m\u001b[1m\u001b[32mTerraform has been successfully initialized!\u001b[0m\u001b[32m\u001b[0m\n",
      "\u001b[0m\u001b[32m\n",
      "You may now begin working with Terraform. Try running \"terraform plan\" to see\n",
      "any changes that are required for your infrastructure. All Terraform commands\n",
      "should now work.\n",
      "\n",
      "If you ever set or change modules or backend configuration for Terraform,\n",
      "rerun this command to reinitialize your working directory. If you forget, other\n",
      "commands will detect it and remind you to do so if necessary.\u001b[0m\n"
     ]
    }
   ],
   "source": [
    "# Let's inititalize our Terraform environment\n",
    "terraform init"
   ]
  },
  {
   "cell_type": "markdown",
   "metadata": {},
   "source": [
    "#### Configuring the Terraform provider\n",
    "\n",
    "Now that you have expressed the fact that the hpegl provider will be used, you need to setup some parameters for it. As explained on this [page](https://github.com/hpe/terraform-provider-hpegl/blob/main/docs/index.md), you can either explicitly set those parameters in your Terraform configuration file (tf file), or have them set in a series of environment variables, or a mix of both. \n",
    "\n",
    "I suggest the following two parameters be added in your TF file by cut/pasting it:\n",
    "\n",
    "```json\n",
    "# Setup provider environment (location and space)\n",
    "provider \"hpegl\" {\n",
    "      vmaas {\n",
    "         location   = \"HPE\"\n",
    "         space_name = \"TerraForm Space\"\n",
    "      }\n",
    "}\n",
    "```"
   ]
  },
  {
   "cell_type": "markdown",
   "metadata": {},
   "source": [
    "You can find your location and your space name from the HPE GreenLake user interface. In our example shown below, HPE is our location:\n",
    "\n",
    "![GreenLake for private cloud](./Pictures/greenlakeforprivatecloud.png \"GreenLake for private cloud\")\n",
    "\n",
    "And in the capture below, **Terraform Space** is the space we have created for our work with Terraform. You can check your available Spaces from the HPE GreenLake console under your profile icon, **Change space**.\n",
    "\n",
    "![GreenLake select new space](./Pictures/greenlakeselectingspace.png \"GreenLake select new space\")"
   ]
  },
  {
   "cell_type": "markdown",
   "metadata": {},
   "source": [
    "And the rest (such as tenant id, user id and user secret key) can be placed in a RC file, which you can source before running your Terraform command. \n",
    "\n",
    "We have already created this student.rc file for you, can take a look at it and source it to declare the variables:"
   ]
  },
  {
   "cell_type": "code",
   "execution_count": 2,
   "metadata": {},
   "outputs": [
    {
     "name": "stdout",
     "output_type": "stream",
     "text": [
      "export HPEGL_TENANT_ID={{ GREENLAKE_TENANT_ID }}\n",
      "export HPEGL_USER_ID= {{ STUDENT_CLIENTID }}\n",
      "export HPEGL_USER_SECRET= {{ STUDENT_CLIENTSECRET }}\n",
      "export HPEGL_IAM_SERVICE_URL={{ GREENLAKE_IAM_API_URL  }}/oauth2/{{ GREENLAKE_TENANT_ID  }}/{{ GREENLAKE_IAM_ID }}\n",
      "export TF_CLI_ARGS_plan=\"-parallelism=1\"\n",
      "export TF_CLI_ARGS_apply=\"-parallelism=1\"\n",
      "#export TF_LOG=DEBUG\n",
      "export TF_LOG=bash: export: `}}': not a valid identifier\n",
      "bash: export: `{{': not a valid identifier\n",
      "bash: export: `}}': not a valid identifier\n",
      "bash: export: `{{': not a valid identifier\n",
      "bash: export: `}}': not a valid identifier\n",
      "bash: export: `}}/oauth2/{{': not a valid identifier\n",
      "bash: export: `}}/{{': not a valid identifier\n",
      "bash: export: `}}': not a valid identifier\n"
     ]
    }
   ],
   "source": [
    "# Check the content of student.rc\n",
    "cat student.rc\n",
    "# and source it\n",
    "source ./student.rc\n",
    "source ./didier.rc"
   ]
  },
  {
   "cell_type": "markdown",
   "metadata": {},
   "source": [
    "These values were all retrieved from the HPE GreenLake user interface. You can connect to your [console on HPE GreenLake](https://greenlake.hpe.com), using the same credentials as the ones used to connect to your Workshop-on-Demand. Feel free to give it a try.\n",
    "\n",
    "But in a nutshell, your API Client access (which we created for you) can be retrieved from the HPE GreenLake console under your settings icon, **Identity & Access** and then the **API Clients** tab.\n",
    "\n",
    "![GreenLake API Clients](./Pictures/greenlakeapiclients.png \"GreenLake API Clients\")\n",
    "\n",
    "> Note: You need to remember the API Client secret key, as it’s not displayed anymore after creation.\n",
    "\n",
    "Your client id and the Issuer URL are also available there as shown in capture below. \n",
    "\n",
    "![GreenLake Terraform API Client](./Pictures/greenlaketerraformapiclient.png \"GreenLake Terraform API Client\")\n",
    "\n",
    "\n",
    "Finally, your Tenant ID is shown in the HPE GreenLake console under your profile icon, **API Access**.\n",
    "\n",
    "![GreenLake Tenant ID](./Pictures/greenlaketenantid.png \"GreenLake Tenant ID\")\n",
    "\n"
   ]
  },
  {
   "cell_type": "markdown",
   "metadata": {},
   "source": [
    "### Querying for infrastructure components\n",
    "\n",
    "Your next step with the TF file is to query the HPE GreenLake provider to collect information needed to create your first VM instance. From the [documentation](https://github.com/hpe/terraform-provider-hpegl/blob/main/docs/resources/vmaas_instance.md), you can see that you need to gather the following information:\n",
    "\n",
    "* Cloud ID\n",
    "* Group ID\n",
    "* Layout ID\n",
    "* Plan ID\n",
    "* Instance type code\n",
    "* Network ID\n",
    "* Resource Pool ID\n",
    "* Template ID\n",
    "* Folder Code\n",
    "\n",
    "For this, you will use the Terraform **data** statements. For example, the following statement retrieves the Cloud ID and stores it (in variable called **cloud**), which we can later retrieve using: **data.hpegl_vmaas_cloud.cloud.id**:\n",
    "\n",
    "```json\n",
    "# Retrieve cloud id\n",
    "data \"hpegl_vmaas_cloud\" \"cloud\" {\n",
    "  name = \"HPE GreenLake VMaaS Cloud-Trial4 \"\n",
    "   }\n",
    "```\n",
    "\n",
    "Cut it and paste it in your config.tf file. \n",
    "\n",
    "Then using a similar technique, you can retrieve the rest of the data you need. \n",
    "\n",
    "```json\n",
    "# And a few networks\n",
    "data \"hpegl_vmaas_network\" \"blue_net\" {\n",
    "  name = \"Blue-Network\"\n",
    "   }\n",
    "data \"hpegl_vmaas_network\" \"green_net\" {\n",
    "  name = \"Green-network\"\n",
    "   }\n",
    " \n",
    "data \"hpegl_vmaas_cloud_folder\" \"compute_folder\" {\n",
    "   cloud_id = data.hpegl_vmaas_cloud.cloud.id\n",
    "   name = \"ComputeFolder\"\n",
    "   }\n",
    " \n",
    "# Locate a resource pool\n",
    "data \"hpegl_vmaas_resource_pool\" \"cl_resource_pool\" {\n",
    "  cloud_id = data.hpegl_vmaas_cloud.cloud.id\n",
    "  name = \"ComputeResourcePool\"\n",
    "   }\n",
    " \n",
    "# And a group\n",
    "data \"hpegl_vmaas_group\" \"default_group\" {\n",
    "  name = \"HPEDEV-HackShackTenant-Group\"\n",
    "}\n",
    " \n",
    "# Locate a plan\n",
    "data \"hpegl_vmaas_plan\" \"g1_small\" {\n",
    "  name = \"G1-Small\"\n",
    "   }\n",
    " \n",
    "# A layout\n",
    "data \"hpegl_vmaas_layout\" \"vmware\" {\n",
    "  name           \t= \"VMware VM with vanilla CentOS\"\n",
    "  instance_type_code = \"glhc-vanilla-centos\"\n",
    "}\n",
    " \n",
    "# And a template\n",
    "data \"hpegl_vmaas_template\" \"vanilla\" {\n",
    "  name = \"vanilla-centos7-x86_64-09072020\"\n",
    "   }\n",
    "```\n",
    "\n",
    "Cut and paste this into you config file. The order of the statements doesn't really matter.\n",
    "\n",
    "> You can get information about each of the data statements supported by the hpegl provider from [GitHub](https://github.com/hpe/terraform-provider-hpegl/tree/main/docs/data-sources).\n",
    "\n",
    "### Validating the config file\n",
    "\n",
    "Now that we have added a fair amount of content in our configuration file, a good practice is to validate regularly using the **terraform validate** command: "
   ]
  },
  {
   "cell_type": "code",
   "execution_count": 7,
   "metadata": {},
   "outputs": [
    {
     "name": "stdout",
     "output_type": "stream",
     "text": [
      "\u001b[32m\u001b[1mSuccess!\u001b[0m The configuration is valid.\n",
      "\u001b[0m\n"
     ]
    }
   ],
   "source": [
    "# Validate config file \n",
    "terraform validate\n"
   ]
  },
  {
   "cell_type": "markdown",
   "metadata": {},
   "source": [
    "### Creating a VM resource\n",
    "\n",
    "The last step is to use a Terraform **resource** statement to request the creation of a new VM instance. Let's cut/paste the following resource statement to your configuration file:\n",
    "\n",
    "```json\n",
    "resource \"hpegl_vmaas_instance\" \"DidierTest1\" {\n",
    "  name           \t= \"didou\"\n",
    "  cloud_id       \t= data.hpegl_vmaas_cloud.cloud.id\n",
    " \tgroup_id       \t= data.hpegl_vmaas_group.default_group.id\n",
    " \tlayout_id      \t= data.hpegl_vmaas_layout.vmware.id\n",
    " \tplan_id        \t= data.hpegl_vmaas_plan.g1_small.id\n",
    " \tinstance_type_code = data.hpegl_vmaas_layout.vmware.instance_type_code\n",
    " \n",
    " \tnetwork {\n",
    "     \tid = data.hpegl_vmaas_network.green_net.id\n",
    " \t}\n",
    " \n",
    " \tvolume {\n",
    "     \tname     \t= \"root_vol\"\n",
    "     \tsize     \t= 15\n",
    "     \tdatastore_id = \"auto\"\n",
    " \t}\n",
    " \n",
    " \tconfig {\n",
    "     \tresource_pool_id = data.hpegl_vmaas_resource_pool.cl_resource_pool.id\n",
    "     \ttemplate_id  \t= data.hpegl_vmaas_template.vanilla.id\n",
    "     \tno_agent     \t= true\n",
    "     \tasset_tag    \t= \"vm_terraform\"\n",
    "     \tfolder_code  \t= data.hpegl_vmaas_cloud_folder.compute_folder.code\n",
    " \t}\n",
    " \n",
    " \tpower = \"poweron\"\n",
    "   }\n",
    " \n",
    "```\n",
    "\n",
    "> Note: You can get information about each of the resource statements supported by the hpegl provider from [GitHub](https://github.com/hpe/terraform-provider-hpegl/tree/main/docs/resources)."
   ]
  },
  {
   "cell_type": "markdown",
   "metadata": {},
   "source": [
    "### Terraform ready to plan\n",
    "\n",
    "I recommend running the **terraform validate** command again as you add sections to your file to track syntax errors. Once ready, the **terraform plan** command will provide information about what will be created when the **terraform apply** method is finally used.\n",
    "\n",
    "Let's try this:\n",
    " "
   ]
  },
  {
   "cell_type": "code",
   "execution_count": 10,
   "metadata": {},
   "outputs": [
    {
     "name": "stdout",
     "output_type": "stream",
     "text": [
      "\u001b[32m\u001b[1mSuccess!\u001b[0m The configuration is valid.\n",
      "\u001b[0m\n",
      "\n",
      "Terraform used the selected providers to generate the following execution plan.\n",
      "Resource actions are indicated with the following symbols:\n",
      "  \u001b[32m+\u001b[0m create\n",
      "\u001b[0m\n",
      "Terraform will perform the following actions:\n",
      "\n",
      "\u001b[1m  # hpegl_vmaas_instance.DidierTest1\u001b[0m will be created\u001b[0m\u001b[0m\n",
      "\u001b[0m  \u001b[32m+\u001b[0m\u001b[0m resource \"hpegl_vmaas_instance\" \"DidierTest1\" {\n",
      "      \u001b[32m+\u001b[0m \u001b[0m\u001b[1m\u001b[0mcloud_id\u001b[0m\u001b[0m           = 1\n",
      "      \u001b[32m+\u001b[0m \u001b[0m\u001b[1m\u001b[0mcontainers\u001b[0m\u001b[0m         = (known after apply)\n",
      "      \u001b[32m+\u001b[0m \u001b[0m\u001b[1m\u001b[0mgroup_id\u001b[0m\u001b[0m           = 3\n",
      "      \u001b[32m+\u001b[0m \u001b[0m\u001b[1m\u001b[0mhistory\u001b[0m\u001b[0m            = (known after apply)\n",
      "      \u001b[32m+\u001b[0m \u001b[0m\u001b[1m\u001b[0mhostname\u001b[0m\u001b[0m           = (known after apply)\n",
      "      \u001b[32m+\u001b[0m \u001b[0m\u001b[1m\u001b[0mid\u001b[0m\u001b[0m                 = (known after apply)\n",
      "      \u001b[32m+\u001b[0m \u001b[0m\u001b[1m\u001b[0minstance_type_code\u001b[0m\u001b[0m = \"glhc-vanilla-centos\"\n",
      "      \u001b[32m+\u001b[0m \u001b[0m\u001b[1m\u001b[0mlayout_id\u001b[0m\u001b[0m          = 1159\n",
      "      \u001b[32m+\u001b[0m \u001b[0m\u001b[1m\u001b[0mname\u001b[0m\u001b[0m               = \"didou\"\n",
      "      \u001b[32m+\u001b[0m \u001b[0m\u001b[1m\u001b[0mplan_id\u001b[0m\u001b[0m            = 402\n",
      "      \u001b[32m+\u001b[0m \u001b[0m\u001b[1m\u001b[0mpower\u001b[0m\u001b[0m              = \"poweron\"\n",
      "      \u001b[32m+\u001b[0m \u001b[0m\u001b[1m\u001b[0mserver_id\u001b[0m\u001b[0m          = (known after apply)\n",
      "      \u001b[32m+\u001b[0m \u001b[0m\u001b[1m\u001b[0mstatus\u001b[0m\u001b[0m             = (known after apply)\n",
      "\n",
      "      \u001b[32m+\u001b[0m \u001b[0mconfig {\n",
      "          \u001b[32m+\u001b[0m \u001b[0m\u001b[1m\u001b[0masset_tag\u001b[0m\u001b[0m        = \"vm_terraform\"\n",
      "          \u001b[32m+\u001b[0m \u001b[0m\u001b[1m\u001b[0mfolder_code\u001b[0m\u001b[0m      = \"group-v41\"\n",
      "          \u001b[32m+\u001b[0m \u001b[0m\u001b[1m\u001b[0mno_agent\u001b[0m\u001b[0m         = true\n",
      "          \u001b[32m+\u001b[0m \u001b[0m\u001b[1m\u001b[0mresource_pool_id\u001b[0m\u001b[0m = 2\n",
      "          \u001b[32m+\u001b[0m \u001b[0m\u001b[1m\u001b[0mtemplate_id\u001b[0m\u001b[0m      = 573\n",
      "        }\n",
      "\n",
      "      \u001b[32m+\u001b[0m \u001b[0mnetwork {\n",
      "          \u001b[32m+\u001b[0m \u001b[0m\u001b[1m\u001b[0mid\u001b[0m\u001b[0m          = 7\n",
      "          \u001b[32m+\u001b[0m \u001b[0m\u001b[1m\u001b[0minternal_id\u001b[0m\u001b[0m = (known after apply)\n",
      "          \u001b[32m+\u001b[0m \u001b[0m\u001b[1m\u001b[0mis_primary\u001b[0m\u001b[0m  = (known after apply)\n",
      "          \u001b[32m+\u001b[0m \u001b[0m\u001b[1m\u001b[0mname\u001b[0m\u001b[0m        = (known after apply)\n",
      "        }\n",
      "\n",
      "      \u001b[32m+\u001b[0m \u001b[0mvolume {\n",
      "          \u001b[32m+\u001b[0m \u001b[0m\u001b[1m\u001b[0mdatastore_id\u001b[0m\u001b[0m = \"auto\"\n",
      "          \u001b[32m+\u001b[0m \u001b[0m\u001b[1m\u001b[0mid\u001b[0m\u001b[0m           = (known after apply)\n",
      "          \u001b[32m+\u001b[0m \u001b[0m\u001b[1m\u001b[0mname\u001b[0m\u001b[0m         = \"root_vol\"\n",
      "          \u001b[32m+\u001b[0m \u001b[0m\u001b[1m\u001b[0mroot\u001b[0m\u001b[0m         = (known after apply)\n",
      "          \u001b[32m+\u001b[0m \u001b[0m\u001b[1m\u001b[0msize\u001b[0m\u001b[0m         = 15\n",
      "        }\n",
      "    }\n",
      "\n",
      "\u001b[0m\u001b[1mPlan:\u001b[0m 1 to add, 0 to change, 0 to destroy.\n",
      "\u001b[0m\u001b[90m\n",
      "───────────────────────────────────────────────────────────────────────────────\u001b[0m\n",
      "\n",
      "Note: You didn't use the -out option to save this plan, so Terraform can't\n",
      "guarantee to take exactly these actions if you run \"terraform apply\" now.\n"
     ]
    }
   ],
   "source": [
    "# Let's validate\n",
    "terraform validate\n",
    "\n",
    "# Let's see the plan\n",
    "terraform plan"
   ]
  },
  {
   "cell_type": "markdown",
   "metadata": {},
   "source": [
    "If you agree with the plan, and what is going to be created, you can move to the last step, i.e. applying the configuration.\n",
    "\n",
    "### Terraform ready to apply\n",
    "\n",
    "The command you need to use is now: **terraform apply**. This will rerun the plan command, then apply it. It will prompt you to confirm before it starts building what’s in the plan. However for usage in a Jupyter Notebook environment we will "
   ]
  },
  {
   "cell_type": "code",
   "execution_count": 3,
   "metadata": {},
   "outputs": [
    {
     "name": "stdout",
     "output_type": "stream",
     "text": [
      "\n",
      "Terraform used the selected providers to generate the following execution plan.\n",
      "Resource actions are indicated with the following symbols:\n",
      "  \u001b[32m+\u001b[0m create\n",
      "\u001b[0m\n",
      "Terraform will perform the following actions:\n",
      "\n",
      "\u001b[1m  # hpegl_vmaas_instance.student1737\u001b[0m will be created\u001b[0m\u001b[0m\n",
      "\u001b[0m  \u001b[32m+\u001b[0m\u001b[0m resource \"hpegl_vmaas_instance\" \"student1737\" {\n",
      "      \u001b[32m+\u001b[0m \u001b[0m\u001b[1m\u001b[0mcloud_id\u001b[0m\u001b[0m           = 1\n",
      "      \u001b[32m+\u001b[0m \u001b[0m\u001b[1m\u001b[0mcontainers\u001b[0m\u001b[0m         = (known after apply)\n",
      "      \u001b[32m+\u001b[0m \u001b[0m\u001b[1m\u001b[0mgroup_id\u001b[0m\u001b[0m           = 3\n",
      "      \u001b[32m+\u001b[0m \u001b[0m\u001b[1m\u001b[0mhistory\u001b[0m\u001b[0m            = (known after apply)\n",
      "      \u001b[32m+\u001b[0m \u001b[0m\u001b[1m\u001b[0mhostname\u001b[0m\u001b[0m           = (known after apply)\n",
      "      \u001b[32m+\u001b[0m \u001b[0m\u001b[1m\u001b[0mid\u001b[0m\u001b[0m                 = (known after apply)\n",
      "      \u001b[32m+\u001b[0m \u001b[0m\u001b[1m\u001b[0minstance_type_code\u001b[0m\u001b[0m = \"glhc-vanilla-centos\"\n",
      "      \u001b[32m+\u001b[0m \u001b[0m\u001b[1m\u001b[0mlayout_id\u001b[0m\u001b[0m          = 1159\n",
      "      \u001b[32m+\u001b[0m \u001b[0m\u001b[1m\u001b[0mname\u001b[0m\u001b[0m               = \"student1737\"\n",
      "      \u001b[32m+\u001b[0m \u001b[0m\u001b[1m\u001b[0mplan_id\u001b[0m\u001b[0m            = 402\n",
      "      \u001b[32m+\u001b[0m \u001b[0m\u001b[1m\u001b[0mpower\u001b[0m\u001b[0m              = \"poweron\"\n",
      "      \u001b[32m+\u001b[0m \u001b[0m\u001b[1m\u001b[0mserver_id\u001b[0m\u001b[0m          = (known after apply)\n",
      "      \u001b[32m+\u001b[0m \u001b[0m\u001b[1m\u001b[0mstatus\u001b[0m\u001b[0m             = (known after apply)\n",
      "\n",
      "      \u001b[32m+\u001b[0m \u001b[0mconfig {\n",
      "          \u001b[32m+\u001b[0m \u001b[0m\u001b[1m\u001b[0masset_tag\u001b[0m\u001b[0m        = \"vm_terraform\"\n",
      "          \u001b[32m+\u001b[0m \u001b[0m\u001b[1m\u001b[0mfolder_code\u001b[0m\u001b[0m      = \"group-v41\"\n",
      "          \u001b[32m+\u001b[0m \u001b[0m\u001b[1m\u001b[0mno_agent\u001b[0m\u001b[0m         = true\n",
      "          \u001b[32m+\u001b[0m \u001b[0m\u001b[1m\u001b[0mresource_pool_id\u001b[0m\u001b[0m = 2\n",
      "          \u001b[32m+\u001b[0m \u001b[0m\u001b[1m\u001b[0mtemplate_id\u001b[0m\u001b[0m      = 573\n",
      "        }\n",
      "\n",
      "      \u001b[32m+\u001b[0m \u001b[0mnetwork {\n",
      "          \u001b[32m+\u001b[0m \u001b[0m\u001b[1m\u001b[0mid\u001b[0m\u001b[0m          = 7\n",
      "          \u001b[32m+\u001b[0m \u001b[0m\u001b[1m\u001b[0minternal_id\u001b[0m\u001b[0m = (known after apply)\n",
      "          \u001b[32m+\u001b[0m \u001b[0m\u001b[1m\u001b[0mis_primary\u001b[0m\u001b[0m  = (known after apply)\n",
      "          \u001b[32m+\u001b[0m \u001b[0m\u001b[1m\u001b[0mname\u001b[0m\u001b[0m        = (known after apply)\n",
      "        }\n",
      "\n",
      "      \u001b[32m+\u001b[0m \u001b[0mvolume {\n",
      "          \u001b[32m+\u001b[0m \u001b[0m\u001b[1m\u001b[0mdatastore_id\u001b[0m\u001b[0m = \"auto\"\n",
      "          \u001b[32m+\u001b[0m \u001b[0m\u001b[1m\u001b[0mid\u001b[0m\u001b[0m           = (known after apply)\n",
      "          \u001b[32m+\u001b[0m \u001b[0m\u001b[1m\u001b[0mname\u001b[0m\u001b[0m         = \"root_vol\"\n",
      "          \u001b[32m+\u001b[0m \u001b[0m\u001b[1m\u001b[0mroot\u001b[0m\u001b[0m         = (known after apply)\n",
      "          \u001b[32m+\u001b[0m \u001b[0m\u001b[1m\u001b[0msize\u001b[0m\u001b[0m         = 15\n",
      "        }\n",
      "    }\n",
      "\n",
      "\u001b[0m\u001b[1mPlan:\u001b[0m 1 to add, 0 to change, 0 to destroy.\n",
      "\u001b[0m\u001b[0m\u001b[1mhpegl_vmaas_instance.student1737: Creating...\u001b[0m\u001b[0m\n",
      "\u001b[0m\u001b[1mhpegl_vmaas_instance.student1737: Still creating... [10s elapsed]\u001b[0m\u001b[0m\n",
      "\u001b[0m\u001b[1mhpegl_vmaas_instance.student1737: Still creating... [20s elapsed]\u001b[0m\u001b[0m\n",
      "\u001b[0m\u001b[1mhpegl_vmaas_instance.student1737: Still creating... [30s elapsed]\u001b[0m\u001b[0m\n",
      "\u001b[0m\u001b[1mhpegl_vmaas_instance.student1737: Still creating... [40s elapsed]\u001b[0m\u001b[0m\n",
      "\u001b[0m\u001b[1mhpegl_vmaas_instance.student1737: Still creating... [50s elapsed]\u001b[0m\u001b[0m\n",
      "\u001b[0m\u001b[1mhpegl_vmaas_instance.student1737: Still creating... [1m0s elapsed]\u001b[0m\u001b[0m\n",
      "\u001b[0m\u001b[1mhpegl_vmaas_instance.student1737: Still creating... [1m10s elapsed]\u001b[0m\u001b[0m\n",
      "\u001b[0m\u001b[1mhpegl_vmaas_instance.student1737: Still creating... [1m20s elapsed]\u001b[0m\u001b[0m\n",
      "\u001b[0m\u001b[1mhpegl_vmaas_instance.student1737: Still creating... [1m30s elapsed]\u001b[0m\u001b[0m\n",
      "\u001b[0m\u001b[1mhpegl_vmaas_instance.student1737: Still creating... [1m40s elapsed]\u001b[0m\u001b[0m\n",
      "\u001b[0m\u001b[1mhpegl_vmaas_instance.student1737: Still creating... [1m50s elapsed]\u001b[0m\u001b[0m\n",
      "\u001b[0m\u001b[1mhpegl_vmaas_instance.student1737: Still creating... [2m0s elapsed]\u001b[0m\u001b[0m\n",
      "\u001b[0m\u001b[1mhpegl_vmaas_instance.student1737: Creation complete after 2m10s [id=172]\u001b[0m\n",
      "\u001b[0m\u001b[1m\u001b[32m\n",
      "Apply complete! Resources: 1 added, 0 changed, 0 destroyed.\n",
      "\u001b[0m"
     ]
    }
   ],
   "source": [
    "terraform apply -input=false -auto-approve"
   ]
  },
  {
   "cell_type": "markdown",
   "metadata": {},
   "source": [
    "If we now check the list of VM in your GreenLake Console we should see our new VM, similar to what is shown below:\n",
    "\n",
    "![GreenLake VM created using Terraform](./Pictures/vmcreated.png \"GreenLake VM created using Terraform\")\n",
    "\n"
   ]
  },
  {
   "cell_type": "markdown",
   "metadata": {},
   "source": [
    "This concludes the first part of this workshop. We have been able to create a VM instance using Terraform. The configuration file that we built together can be stored in a GitHub repository and handled the same way you handle application code. Welcome to the world of Infrastructure-as-Code!\n",
    "\n",
    "Let's now move to the [second part](2-WKSHP-Terraform101-ManagingResources.ipynb) in which we will continue to modify the configuration file, to change the desired state of the virtual machine.\n"
   ]
  }
 ],
 "metadata": {
  "kernelspec": {
   "display_name": "Bash",
   "language": "bash",
   "name": "bash"
  },
  "language_info": {
   "codemirror_mode": "shell",
   "file_extension": ".sh",
   "mimetype": "text/x-sh",
   "name": "bash"
  }
 },
 "nbformat": 4,
 "nbformat_minor": 4
}
