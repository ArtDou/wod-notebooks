{
 "cells": [
  {
   "cell_type": "markdown",
   "metadata": {},
   "source": [
    "## Let’s recap\n",
    "\n",
    "In [the fist lab](1-WKSHP-Terraform101-CreatingResources.ipynb) , we covered HPE GreenLake with its Private Cloud Service and showed how to get started with Terraform and the Terraform provider for HPE GreenLake. In this lab, we will start with the same VM configuration created in Lab 1 as shown below. From there we will show you how to tap into more advanced functionality that’s provided by Terraform and the HPE GreenLake provider:\n",
    "\n",
    "![GreenLake VM created using Terraform](./Pictures/vmcreated.png \"GreenLake VM created using Terraform\")\n",
    "\n",
    "First, let's reload our environment variables:"
   ]
  },
  {
   "cell_type": "code",
   "execution_count": 2,
   "metadata": {},
   "outputs": [
    {
     "name": "stdout",
     "output_type": "stream",
     "text": [
      "export HPEGL_TENANT_ID={{ GREENLAKE_TENANT_ID }}\n",
      "export HPEGL_USER_ID= {{ STUDENT_CLIENTID }}\n",
      "export HPEGL_USER_SECRET= {{ STUDENT_CLIENTSECRET }}\n",
      "export HPEGL_IAM_SERVICE_URL={{ GREENLAKE_IAM_API_URL  }}/oauth2/{{ GREENLAKE_TENANT_ID  }}/{{ GREENLAKE_IAM_ID }}\n",
      "export TF_CLI_ARGS_plan=\"-parallelism=1\"\n",
      "export TF_CLI_ARGS_apply=\"-parallelism=1\"\n",
      "#export TF_LOG=DEBUG\n",
      "export TF_LOG=bash: export: `}}': not a valid identifier\n",
      "bash: export: `{{': not a valid identifier\n",
      "bash: export: `}}': not a valid identifier\n",
      "bash: export: `{{': not a valid identifier\n",
      "bash: export: `}}': not a valid identifier\n",
      "bash: export: `}}/oauth2/{{': not a valid identifier\n",
      "bash: export: `}}/{{': not a valid identifier\n",
      "bash: export: `}}': not a valid identifier\n"
     ]
    }
   ],
   "source": [
    "# Source RC file to reload environment variables\n",
    "source ./student.rc\n",
    "source ./didier.rc"
   ]
  },
  {
   "cell_type": "markdown",
   "metadata": {},
   "source": [
    "## Infrastructure lifecycle management\n",
    "\n",
    "Once your infrastructure is created, it will need to evolve over time in order to cope with any change of workload or to perform maintenance. Let’s look at a few scenarios."
   ]
  },
  {
   "cell_type": "markdown",
   "metadata": {},
   "source": [
    "### Use case 1: Setting up tags and labels\n",
    "\n",
    "As organizations scale their cloud environments, they often need to define methodologies for organizing resources. For this, they can leverage tags and labels. Tags consist of key/value pairs that make it easier to search for, or filter, your cloud resources based on categories relevant to the organization. Another option is to attach labels, which are simple values, to your VMs in order to keep track of what it’s used for or who it belongs to.\n",
    "\n",
    "So let's try adding metadata to the VM using tags and labels. According to the [documentation](https://github.com/HPE/terraform-provider-hpegl/blob/main/docs/resources/vmaas_instance.md), you can add labels by adding the following snippets to our configuration file:\n",
    "\n",
    "```markdown\n",
    "# Using labels\n",
    "labels = [\"hackshack\", \"hpedev\"]\n",
    "```\n",
    "\n",
    "And you can add tags by inserting the following other code snippet in your configuration file:\n",
    "\n",
    "```markdown\n",
    "# Using tags\n",
    "tags = {\n",
    "        team  = \"HPE Developer\"\n",
    "        support = \"gold\"\n",
    "  }\n",
    "```\n",
    "\n",
    "Save file and apply those changes with **terraform apply**, wait a little and look at the VM details. You can see the labels and the tags in the capture below:\n",
    "\n",
    "![tags and labels applied to VM](/img/terraform-greenlake-part2-blog-picture3.png \"tags and labels applied to VM\")"
   ]
  },
  {
   "cell_type": "markdown",
   "metadata": {},
   "source": [
    "### Use case 1: Stop this VM\n",
    "\n",
    "To start, let’s keep things simple. You might want to just turn off the VMs that are part of an infrastructure when you don’t need them to save cost or limit your carbon impact on the planet. If you paid attention to the current configuration file, you’ll see that we inserted a power statement when originally creating the VM. While *poweron* is the only valid option when creating a new resource of type **hpegl\\_vmaas\\_instance**, other values are available for lifecycle management, such as *poweroff* and *suspend*.\n",
    "\n",
    "Locate the following section in your configuration file:\n",
    "\n",
    "```markdown\n",
    "     }\n",
    "     power = \"poweron\"\n",
    "   }\n",
    "```\n",
    "\n",
    "And change it so that the power desired state is set to *poweroff* as shown below:\n",
    "\n",
    "```markdown\n",
    "     }\n",
    "     power = \"poweroff\"\n",
    "   }\n",
    "```\n",
    "\n",
    "Save and run a **terraform apply** command:"
   ]
  },
  {
   "cell_type": "markdown",
   "metadata": {},
   "source": [
    "```markdown\n",
    "Terraform will perform the following actions:\n",
    "\n",
    "# hpegl_vmaas_instance.DidierTest1 will be updated in-place\n",
    "  ~ resource \"hpegl_vmaas_instance\" \"DidierTest1\" {\n",
    "        id                 = \"149\"\n",
    "        name               = \"DidierTest1\"\n",
    "      ~ power              = \"poweron\" -> \"poweroff\"\n",
    "```\n",
    "\n",
    "Pretty soon afterwards, you can check out the HPE GreenLake console and see that the VM status was changed to stopped.\n",
    "\n",
    "![VM is now stopped](/img/terraform-greenlake-part2-blog-picture2-2.png \"VM is now stopped\")"
   ]
  },
  {
   "cell_type": "code",
   "execution_count": null,
   "metadata": {},
   "outputs": [],
   "source": [
    "# Apply power state changes"
   ]
  },
  {
   "cell_type": "markdown",
   "metadata": {},
   "source": [
    "### Use case 3: Get me more disk space\n",
    "\n",
    "Another typical use case would be to add another disk to a VM, say a data volume for application usage. The syntax for this is the same as you used to create the VM with its *root_vol*, already visible in the Storage details of the VM:\n",
    "\n",
    "![VM was created with one disk: root_vol](/img/terraform-greenlake-part2-blog-picture4.png \"VM was created with one disk: root_vol\")\n",
    "\n",
    "Go ahead and add the following code snippet to your configuration file:\n",
    "\n",
    "```markdown\n",
    "  # Add another volume\n",
    "  \n",
    "  volume {\n",
    "         name         = \"data_vol\"\n",
    "         size         = 25\n",
    "         datastore_id = \"auto\"\n",
    "     }\n",
    "```\n",
    "\n",
    "Save the file, apply those changes, wait a little and check the VM storage configuration again:\n",
    "\n",
    "![VM with two disks](/img/terraform-greenlake-part2-blog-picture5.png \"VM with two disks\")"
   ]
  },
  {
   "cell_type": "markdown",
   "metadata": {},
   "source": [
    "### Use case 4: Please snap this VM\n",
    "\n",
    "Here’s one last use case you can try, which consists of snapshotting the VM. You can do tis by adding the following Terraform code snippet in your configuration file:\n",
    "\n",
    "```markdown\n",
    "   snapshot {\n",
    "    name        = \"Snap1\n",
    "    description = \"Snap this VM so we can restart from this state\"\n",
    "  }\n",
    "```\n",
    "\n",
    "Save the file, apply those changes, wait a little and check the details of the VM  once again, in the Backups section:\n",
    "\n",
    "![Snap of VM ready](/img/terraform-greenlake-part2-blog-picture6.png \"Snap of VM ready\")\n",
    "\n",
    "## Debugging when things go wrong\n",
    "\n",
    "In this post, I’ve showed you how to make sure the Terraform configuration file is valid before applying changes using the **terraform validate** command. To see more details during an apply command, you can also enable Terraform debug by simply setting up the TF_LOG environment variable. I suggest setting it up to DEBUG but other supported values are: TRACE, INFO, WARN and ERROR.\n",
    " \n",
    "```markdown\n",
    "export TF_LOG=DEBUG\n",
    "```"
   ]
  }
 ],
 "metadata": {
  "kernelspec": {
   "display_name": "Bash",
   "language": "bash",
   "name": "bash"
  },
  "language_info": {
   "codemirror_mode": "shell",
   "file_extension": ".sh",
   "mimetype": "text/x-sh",
   "name": "bash"
  }
 },
 "nbformat": 4,
 "nbformat_minor": 4
}
