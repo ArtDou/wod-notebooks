{
 "cells": [
  {
   "cell_type": "markdown",
   "metadata": {},
   "source": [
    "\n",
    "# Machine Learning Basics\n",
    "## Overview\n",
    "In this workshop, we will learn the basics on Machine Learning by being hands-on - no math knowledge required!!\n",
    "\n",
    "We will create some basic machine learning models and use them to make predictions.\n",
    "\n",
    "We are NOT attempting to teach you to become a datascientist!!\n",
    "## Architecture\n",
    "the following lab could run from your laptop or from binder but we adapted it to fit in our overall workshop infrastructure.\n",
    "We are using a vm appliance serving one docker container (containing the labs) per student.\n",
    "\n",
    "![WOD-infra](Pictures/wod-docker-infra.png)\n",
    "\n",
    "\n",
    "The workshop is leveraging a docker image providing all the necessary tooling for this lab : \n",
    "here is a link to the [Jupyter Notebook Scientific Python Stack  docker image](https://hub.docker.com/r/jupyter/scipy-notebook) \n",
    "\n",
    "you will be moving to a second jupyter notebook environment right now using the link provided below."
   ]
  },
  {
   "cell_type": "markdown",
   "metadata": {},
   "source": [
    "## Let us start the lab now!\n",
    "\n",
    "Click the following link to run the [Machine Learning lab](http://{{ JPHOSTEXT }}:{{ HTTPPORT }}?token={{ MLTOK }})\n",
    "\n",
    "\n",
    "token = {{ MLTOK }}\n",
    "port = {{ HTTPPORT }}\n",
    "\n",
    "\n",
    "\n",
    "\n",
    "## Now what?\n",
    "Congratulations! You have now completed this workshop!\n",
    "\n",
    "## Feedback\n",
    "\n",
    "If after following this workshop you feel that the objectives haven't been achieved, please [email me](mailto:chris.snow@hpe.com) with your feedback.\n",
    "\n",
    "\n",
    "# Time to wrap up\n",
    "You can now move to the conclusion of this workshop !\n",
    "\n",
    "* [Conclusion](2-WKSHP-Conclusion.ipynb)"
   ]
  }
 ],
 "metadata": {
  "kernelspec": {
   "display_name": "Bash",
   "language": "bash",
   "name": "bash"
  },
  "language_info": {
   "codemirror_mode": "shell",
   "file_extension": ".sh",
   "mimetype": "text/x-sh",
   "name": "bash"
  }
 },
 "nbformat": 4,
 "nbformat_minor": 4
}
