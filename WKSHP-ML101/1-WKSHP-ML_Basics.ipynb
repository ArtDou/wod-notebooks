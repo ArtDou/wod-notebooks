{
 "cells": [
  {
   "cell_type": "markdown",
   "metadata": {},
   "source": [
    "\n",
    "# Machine Learning Basics\n",
    "## Overview\n",
    "TBD\n",
    "## Architecture\n",
    "TBD"
   ]
  },
  {
   "cell_type": "code",
   "execution_count": null,
   "metadata": {},
   "outputs": [],
   "source": []
  },
  {
   "cell_type": "markdown",
   "metadata": {},
   "source": [
    "## Let us start the lab now!\n",
    "\n",
    "Click the following link to run the [Machine Learning lab](http://{{ JPHOSTEXT }}:{{ HTTPPORT }}?token={{ MLTOK }})\n",
    "\n",
    "\n",
    "token = {{ MLTOK }}\n",
    "port = {{ HTTPPORT }}\n",
    "\n",
    "\n",
    "\n",
    "\n",
    "## Now what?\n",
    "Congratulations! You have placed your first API calls using Postman and cURL. This simple API only accepted GET calls, so one might argue everything could have been handled by a standard browser. The advantage of using Postman is that you can save your calls and start building collections of API calls that are useful in your job. We used a very limited API to get the weather report in Paris, but the exact same technique (using Postman) could be applied with other REST APIs, such as the ones from HPE OneView, HPE SimpliVity or Redfish. \n",
    "\n",
    "\n",
    "# Time to wrap up\n",
    "You can now move to the conclusion of this workshop !\n",
    "\n",
    "* [Conclusion](2-WKSHP-Conclusion.ipynb)"
   ]
  }
 ],
 "metadata": {
  "kernelspec": {
   "display_name": "Bash",
   "language": "bash",
   "name": "bash"
  },
  "language_info": {
   "codemirror_mode": "shell",
   "file_extension": ".sh",
   "mimetype": "text/x-sh",
   "name": "bash"
  }
 },
 "nbformat": 4,
 "nbformat_minor": 4
}
