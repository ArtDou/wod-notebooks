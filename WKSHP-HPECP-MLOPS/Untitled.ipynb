{
 "cells": [
  {
   "cell_type": "code",
   "execution_count": 2,
   "metadata": {},
   "outputs": [
    {
     "name": "stdout",
     "output_type": "stream",
     "text": [
      "[ssh] Login to jupyterhub...\n",
      "[ssh] host=jupyterhub hostname=jupyterhub other_conf={'user': None, 'port': None, 'keyfile': None, 'load_system_ssh_config': False, 'missing_host_policy': <paramiko.client.WarningPolicy object at 0x7fe3ec5772b0>}\n",
      "[ssh] Successfully logged in.\n"
     ]
    }
   ],
   "source": [
    "%login jupyterhub"
   ]
  },
  {
   "cell_type": "code",
   "execution_count": 3,
   "metadata": {},
   "outputs": [
    {
     "name": "stdout",
     "output_type": "stream",
     "text": [
      "[ssh] host = jupyterhub, cwd = /home/jupyter\n",
      "jupyterhub.etc.fr.comm.hpecorp.net\n"
     ]
    }
   ],
   "source": [
    "hostname"
   ]
  },
  {
   "cell_type": "code",
   "execution_count": 4,
   "metadata": {},
   "outputs": [
    {
     "name": "stdout",
     "output_type": "stream",
     "text": [
      "[ssh] host = jupyterhub, cwd = /home/jupyter\n",
      "go\n",
      "install.py\n",
      "java\n",
      "jupyterhub.sqlite\n",
      "jupyter-procmail\n",
      "kubectl-hpecp.sig\n",
      "kubectl-hpecp.star\n",
      "package-lock.json\n",
      "student0\n",
      "thread.sh\n"
     ]
    }
   ],
   "source": [
    "ls\n"
   ]
  },
  {
   "cell_type": "code",
   "execution_count": 5,
   "metadata": {},
   "outputs": [
    {
     "name": "stdout",
     "output_type": "stream",
     "text": [
      "[ssh] host = jupyterhub, cwd = /home/jupyter\n",
      "Available kernels:\n",
      "  rust           /home/jupyter/.local/share/jupyter/kernels/rust\n",
      "  ansible        /opt/jupyterhub/share/jupyter/kernels/ansible\n",
      "  bash           /opt/jupyterhub/share/jupyter/kernels/bash\n",
      "  gophernotes    /opt/jupyterhub/share/jupyter/kernels/gophernotes\n",
      "  java           /opt/jupyterhub/share/jupyter/kernels/java\n",
      "  powershell     /opt/jupyterhub/share/jupyter/kernels/powershell\n",
      "  python3        /opt/jupyterhub/share/jupyter/kernels/python3\n"
     ]
    }
   ],
   "source": [
    "/opt/jupyterhub/bin/jupyter kernelspec list"
   ]
  },
  {
   "cell_type": "code",
   "execution_count": 6,
   "metadata": {},
   "outputs": [
    {
     "name": "stdout",
     "output_type": "stream",
     "text": [
      "[ssh] Closing existing connection.\n",
      "[ssh] Successfully logged out.\n"
     ]
    }
   ],
   "source": [
    "%logout"
   ]
  },
  {
   "cell_type": "code",
   "execution_count": 9,
   "metadata": {},
   "outputs": [
    {
     "name": "stdout",
     "output_type": "stream",
     "text": [
      "[ssh] Login to jupyterhubtest...\n",
      "[ssh] host=jupyterhubtest hostname=jupyterhubtest other_conf={'user': None, 'port': None, 'keyfile': None, 'load_system_ssh_config': False, 'missing_host_policy': <paramiko.client.WarningPolicy object at 0x7fe3ec4f46d0>}\n",
      "[ssh] Successfully logged in.\n"
     ]
    }
   ],
   "source": [
    "%login jupyterhubtest\n"
   ]
  },
  {
   "cell_type": "code",
   "execution_count": 10,
   "metadata": {},
   "outputs": [
    {
     "name": "stdout",
     "output_type": "stream",
     "text": [
      "[ssh] host = jupyterhubtest, cwd = /home/jupyter\n",
      "Available kernels:\n",
      "  rust           /home/jupyter/.local/share/jupyter/kernels/rust\n",
      "  ansible        /opt/jupyterhub/share/jupyter/kernels/ansible\n",
      "  bash           /opt/jupyterhub/share/jupyter/kernels/bash\n",
      "  gophernotes    /opt/jupyterhub/share/jupyter/kernels/gophernotes\n",
      "  java           /opt/jupyterhub/share/jupyter/kernels/java\n",
      "  powershell     /opt/jupyterhub/share/jupyter/kernels/powershell\n",
      "  python3        /opt/jupyterhub/share/jupyter/kernels/python3\n"
     ]
    }
   ],
   "source": [
    "/opt/jupyterhub/bin/jupyter kernelspec list"
   ]
  },
  {
   "cell_type": "code",
   "execution_count": 13,
   "metadata": {},
   "outputs": [
    {
     "name": "stdout",
     "output_type": "stream",
     "text": [
      "[ssh] host = jupyterhubtest, cwd = /home/jupyter\n",
      "adduser.conf\n",
      "aliases\n",
      "aliases.db\n",
      "alternatives\n",
      "ansible\n",
      "apache2\n",
      "apparmor\n",
      "apparmor.d\n",
      "apport\n",
      "apt\n",
      "at.deny\n",
      "bash.bashrc\n",
      "bash_completion\n",
      "bash_completion.d\n",
      "bindresvport.blacklist\n",
      "binfmt.d\n",
      "byobu\n",
      "ca-certificates\n",
      "ca-certificates.conf\n",
      "ca-certificates.conf.dpkg-old\n",
      "calendar\n",
      "cloud\n",
      "console-setup\n",
      "cron.d\n",
      "cron.daily\n",
      "cron.hourly\n",
      "cron.monthly\n",
      "crontab\n",
      "cron.weekly\n",
      "cryptsetup-initramfs\n",
      "crypttab\n",
      "dbus-1\n",
      "dconf\n",
      "debconf.conf\n",
      "debian_version\n",
      "default\n",
      "deluser.conf\n",
      "depmod.d\n",
      "dhcp\n",
      "dpkg\n",
      "e2scrub.conf\n",
      "emacs\n",
      "environment\n",
      "environment.d\n",
      "ethertypes\n",
      "firefox\n",
      "fonts\n",
      "fstab\n",
      "fuse.conf\n",
      "fwupd\n",
      "gai.conf\n",
      "gdb\n",
      "ghostscript\n",
      "groff\n",
      "group\n",
      "group-\n",
      "grub.d\n",
      "gshadow\n",
      "gshadow-\n",
      "gss\n",
      "gtk-3.0\n",
      "hdparm.conf\n",
      "host.conf\n",
      "hostname\n",
      "hosts\n",
      "hosts.allow\n",
      "hosts.deny\n",
      "init.d\n",
      "initramfs-tools\n",
      "inputrc\n",
      "insserv.conf.d\n",
      "iproute2\n",
      "iscsi\n",
      "issue\n",
      "issue.net\n",
      "java-11-openjdk\n",
      "jupyter\n",
      "kernel\n",
      "landscape\n",
      "ldap\n",
      "ld.so.cache\n",
      "ld.so.conf\n",
      "ld.so.conf.d\n",
      "legal\n",
      "libaudit.conf\n",
      "libnl-3\n",
      "libpaper.d\n",
      "lighttpd\n",
      "locale.alias\n",
      "locale.gen\n",
      "localtime\n",
      "logcheck\n",
      "login.defs\n",
      "logrotate.conf\n",
      "logrotate.d\n",
      "lsb-release\n",
      "ltrace.conf\n",
      "lvm\n",
      "machine-id\n",
      "magic\n",
      "magic.mime\n",
      "mailcap\n",
      "mailcap.order\n",
      "manpath.config\n",
      "mdadm\n",
      "mime.types\n",
      "mke2fs.conf\n",
      "modprobe.d\n",
      "modules\n",
      "modules-load.d\n",
      "mtab\n",
      "multipath.conf\n",
      "nanorc\n",
      "netplan\n",
      "network\n",
      "networkd-dispatcher\n",
      "NetworkManager\n",
      "networks\n",
      "newt\n",
      "nsswitch.conf\n",
      "opt\n",
      "os-release\n",
      "overlayroot.conf\n",
      "PackageKit\n",
      "pam.conf\n",
      "pam.d\n",
      "papersize\n",
      "passwd\n",
      "passwd-\n",
      "perl\n",
      "pki\n",
      "pm\n",
      "polkit-1\n",
      "pollinate\n",
      "popularity-contest.conf\n",
      "postfix\n",
      "ppp\n",
      "profile\n",
      "profile.d\n",
      "protocols\n",
      "python2.7\n",
      "python3\n",
      "python3.8\n",
      "rc0.d\n",
      "rc1.d\n",
      "rc2.d\n",
      "rc3.d\n",
      "rc4.d\n",
      "rc5.d\n",
      "rc6.d\n",
      "rcS.d\n",
      "resolv.conf\n",
      "resolvconf\n",
      "rmt\n",
      "rpc\n",
      "rsyslog.conf\n",
      "rsyslog.d\n",
      "screenrc\n",
      "security\n",
      "selinux\n",
      "sensors3.conf\n",
      "sensors.d\n",
      "services\n",
      "shadow\n",
      "shadow-\n",
      "shells\n",
      "skel\n",
      "sos.conf\n",
      "ssh\n",
      "ssl\n",
      "subgid\n",
      "subgid-\n",
      "subuid\n",
      "subuid-\n",
      "sudoers\n",
      "sudoers.d\n",
      "sysctl.conf\n",
      "sysctl.d\n",
      "systemd\n",
      "terminfo\n",
      "texmf\n",
      "thermald\n",
      "timezone\n",
      "tmpfiles.d\n",
      "ubuntu-advantage\n",
      "ucf.conf\n",
      "udev\n",
      "ufw\n",
      "update-manager\n",
      "update-motd.d\n",
      "update-notifier\n",
      "vim\n",
      "vmware-tools\n",
      "vtrgb\n",
      "vulkan\n",
      "wgetrc\n",
      "X11\n",
      "xattr.conf\n",
      "xdg\n",
      "zsh_command_not_found\n"
     ]
    }
   ],
   "source": [
    "ls /etc"
   ]
  }
 ],
 "metadata": {
  "kernelspec": {
   "display_name": "SSH",
   "language": "bash",
   "name": "ssh"
  },
  "language_info": {
   "codemirror_mode": "shell",
   "file_extension": ".sh",
   "mimetype": "text/x-sh",
   "name": "ssh"
  }
 },
 "nbformat": 4,
 "nbformat_minor": 4
}
