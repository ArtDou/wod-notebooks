{
 "cells": [
  {
   "cell_type": "code",
   "execution_count": 1,
   "metadata": {},
   "outputs": [
    {
     "name": "stdout",
     "output_type": "stream",
     "text": [
      "Hello World!\n"
     ]
    }
   ],
   "source": [
    "print('Hello World!')"
   ]
  },
  {
   "cell_type": "markdown",
   "metadata": {},
   "source": [
    "# This is a great Workshop!\n",
    "## HPE DEV Team Rocks\n",
    "### I love this devtalk!"
   ]
  },
  {
   "cell_type": "markdown",
   "metadata": {},
   "source": [
    "1. Step1: To Create a List:\n",
    "* You need a list of items\n",
    " * Action A\n",
    " * Action B\n",
    " * Action C\n",
    " \n",
    "2. Step2: To Bold a text:\n",
    "* You need to enclose text between * *\n",
    " * Example 1 : **This is easy**\n",
    " \n",
    "3. Step3: To emphasize a text:\n",
    "* You need to  enclose text between \" \"\n",
    " * Example 2 : ` So easy isn't it ? `"
   ]
  },
  {
   "cell_type": "markdown",
   "metadata": {},
   "source": [
    "![](Pictures/question.jpg)\n",
    "\n",
    "\n",
    "[How many workshops are listed in our WOD catalog](https://hackshack.hpedev.io/workshops) "
   ]
  },
  {
   "cell_type": "code",
   "execution_count": null,
   "metadata": {},
   "outputs": [],
   "source": [
    "import os, binascii\n",
    "def sum(x,y):\n",
    "  return x+y"
   ]
  },
  {
   "cell_type": "code",
   "execution_count": null,
   "metadata": {},
   "outputs": [],
   "source": []
  }
 ],
 "metadata": {
  "kernelspec": {
   "display_name": "Python 3",
   "language": "python",
   "name": "python3"
  },
  "language_info": {
   "codemirror_mode": {
    "name": "ipython",
    "version": 3
   },
   "file_extension": ".py",
   "mimetype": "text/x-python",
   "name": "python",
   "nbconvert_exporter": "python",
   "pygments_lexer": "ipython3",
   "version": "3.8.5"
  }
 },
 "nbformat": 4,
 "nbformat_minor": 4
}
