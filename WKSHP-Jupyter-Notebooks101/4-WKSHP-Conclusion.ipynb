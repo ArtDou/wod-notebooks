{
 "cells": [
  {
   "cell_type": "markdown",
   "metadata": {},
   "source": [
    "{{ BRANDINGLOGO }}\n",
    "\n",
    "# Thank you for visiting the Hack Shack\n",
    "\n",
    "Powered by [{{ BRANDING }} Community Team](hpedev.io)\n",
    "\n",
    {% if MODESW == "CHLG" %}
    "# Thank you for participating to our software challenge\n",
    {% endif %}
    "\n",
    "\n",
    "# Conclusion\n",
    "\n",
    "In the following workshop, you have learned about Jupyter Technologies. You have edited your first Notebook, installed JupyterNotebook on your laptop. You also saw how to setup a Jupyterhub server, allowing you to distribute notebooks across a large set of users. \n",
    "Congratulations!\n",
    "\n",
    "# Final steps\n",
    "Please take a moment to fill out our [survey]({{ SURVEYURL }}).\n",
    "\n",
    "And make sure you use `File -> Log Out menu` to terminate your workshop session.\n",
    "\n",
    "# Thank you\n",
    "![ThankYou](Pictures/grommet.JPG)"
   ]
  }
 ],
 "metadata": {
  "kernelspec": {
   "display_name": "Bash",
   "language": "bash",
   "name": "bash"
  },
  "language_info": {
   "codemirror_mode": "shell",
   "file_extension": ".sh",
   "mimetype": "text/x-sh",
   "name": "bash"
  }
 },
 "nbformat": 4,
 "nbformat_minor": 4
}
