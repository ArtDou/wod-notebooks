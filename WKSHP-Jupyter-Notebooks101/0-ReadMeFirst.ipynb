{
 "cells": [
  {
   "cell_type": "markdown",
   "metadata": {},
   "source": [
    "![HPEDEVlogo](Pictures/hpedevlogo-NB.JPG)\n",
    "\n",
    "# Welcome to the Hack Shack\n",
    "Powered by [HPE DEV Team](https://hpedev.io)\n",
    "\n",
    "<p align=\"center\">\n",
    "  <img src=\"Pictures/hackshackdisco.png\">\n",
    "  \n",
    "</p>\n",
    "\n",
    "# Workshops-on-Demand\n",
    "\n",
    "# Introduction to Delivering Hand on Experience with Jupyter Notebooks\n",
    "In this workshop we’ll go through the different steps to allow you to develop your own Jupyter Notebooks based Workshops.\n",
    "The HPE DEV Team have been working for more than a year on developing workshops for physical events, then for virtual events and finally for [Workshops-on-Demand](https://hackshack.hpedev.io/workshops).\n",
    "This tutorial is a guide for those who would be willing to leverage our experience to develop some new content . it will cover the basics of a jupyter notebook technologies. It should also learn you how to install the necessary tooling to develop on your own laptop.\n",
    "\n",
    "\n",
    "\n",
    "# Author: [Frederic Passeron](mailto:frederic.passeron@hpe.com)\n",
    "\n",
    "## Handouts\n",
    "You can freely copy the Jupyter Notebooks, including their output, in order to practice back at your office at your own pace, leveraging a local installation of Jupyter Notebook on your laptop.\n",
    "- You install the Jupyter Notebook application from [here](https://jupyter.org/install). \n",
    "- A Beginners Guide is also available [here](https://jupyter-notebook-beginner-guide.readthedocs.io/en/latest/what_is_jupyter.html)\n",
    "\n",
    "\n",
    "## Lab flow\n",
    "HackShack Workshops are delivered through a central point that allows a portable, dynamic version of the lab guides. Rather than using standard PDF files which always end in copy / paste errors from the lab guide into the TS sessions, this year we decided to innovate and introduce a brand-new infrastructure. We will leverage a JupyterHub server on which all the different lab guides will be stored in a notebook format (*.ipynb).\n",
    "\n",
    "\n",
    "Enjoy the labs ! :-)\n",
    "\n",
    "\n",
    "## Workflow\n",
    "\n",
    "### Lab 1: Introduction to Jupyter Notebooks\n",
    "Description: In this section, we’ll go through some of the basics of a jupyter notebook technology. You will edit your first notebook !\n",
    "* [Lab 1](1-Introduction-to-Jupyter-Notebooks.ipynb)\n",
    "\n",
    "### Lab 2: How to develop a workshop on your laptop\n",
    "Description: In this section, we’ll show you how to install jupyter notebook on your laptop and how you can leverage it to build up your own Notebooks and Workshops.\n",
    "* [Lab 2](2-WKSHP-HowTo-Dev-with-laptop.ipynb)\n",
    "\n",
    "### Lab 3: How to install your own Jupyterhub environment\n",
    "Description: In this section, we’ll show you how to install your own jupyterhub server to suport customers' workshops, trainings or plain sandboxing tests\n",
    "* [Lab 3](3-WKSHP-HowTo-Install-Jupyterhub)\n",
    "\n",
    "\n",
    "# Thank you!\n",
    "![grommet.JPG](Pictures/grommet.JPG)"
   ]
  },
  {
   "cell_type": "code",
   "execution_count": null,
   "metadata": {},
   "outputs": [],
   "source": []
  }
 ],
 "metadata": {
  "kernelspec": {
   "display_name": "Python 3",
   "language": "python",
   "name": "python3"
  },
  "language_info": {
   "codemirror_mode": {
    "name": "ipython",
    "version": 3
   },
   "file_extension": ".py",
   "mimetype": "text/x-python",
   "name": "python",
   "nbconvert_exporter": "python",
   "pygments_lexer": "ipython3",
   "version": "3.8.5"
  }
 },
 "nbformat": 4,
 "nbformat_minor": 4
}
