{
 "cells": [
  {
   "cell_type": "markdown",
   "metadata": {},
   "source": [
    "![HPEDEVlogo](Pictures/hpedevlogo-NB.JPG)  ![StackStormlogo](Pictures/stackstorm.jpg)\n",
    "\n",
    "\n",
    "# Welcome to the Hack Shack\n",
    "Powered by [HPE DEV Team](https://hpedev.io)\n",
    "\n",
    "<p align=\"center\">\n",
    "  <img src=\"Pictures/hackshackdisco.png\">\n",
    "  \n",
    "\n",
    "\n",
    "# Workshops-on-Demand\n",
    "\n",
    "# Introduction to StackStorm101\n",
    "This notebook will walk you through some of the basics of stackstorm. This notebook has been developed to accomodate mutiple users logging into the same stackstorm server. This is not by any means a super deep dive but hopefully will explain why stackstorm should be in your automation toolbag. \n",
    "\n",
    "# Author: [Rick A kauffman](mailto:rick.a.kauffman@hpe.com) adaptation by [Frederic Passeron](mailto:frederic.passeron@hpe.com)\n",
    "\n",
    "## Handouts\n",
    "You can freely copy the Jupyter Notebooks, including their output, in order to practice back at your office at your own pace, leveraging a local installation of Jupyter Notebook on your laptop.\n",
    "- You install the Jupyter Notebook application from [here](https://jupyter.org/install). \n",
    "- A Beginners Guide is also available [here](https://jupyter-notebook-beginner-guide.readthedocs.io/en/latest/what_is_jupyter.html)\n",
    "\n",
    "\n",
    "## Lab flow\n",
    "HackShack Workshops are delivered through a central point that allows a portable, dynamic version of the lab guides. Rather than using standard PDF files which always end in copy / paste errors from the lab guide into the TS sessions, this year we decided to innovate and introduce a brand-new infrastructure. We will leverage a JupyterHub server on which all the different lab guides will be stored in a notebook format (*.ipynb).\n",
    "\n",
    "## WARNING! To learn stackstorm we have to start at the bottom. Bear with me to the end and we can explore stackstorm a different way.\n",
    "\n",
    "Enjoy the labs ! :-)\n",
    "\n",
    "\n",
    "## Workflow\n",
    "\n",
    "### Lab 1: The Basics\n",
    "Description: In this section, we’ll go through some of the main concepts behind StackStorm. StackStorm is an automation framework that uses Sensors to watch and listen to alarm/event queues. Triggers to tell Rules when to launch, Actions/Workflows to change the existing state.\n",
    "* [Lab 1](1-WKSHP-Stackstorm_Basics.ipynb)\n",
    "\n",
    "![grommet.JPG](Pictures/grommet.JPG)"
   ]
  },
  {
   "cell_type": "markdown",
   "metadata": {},
   "source": [
    "<h2>Next&nbsp;&nbsp;&nbsp;&nbsp;<a href=\"1-WKSHP-Stackstorm_Basics.ipynb#sc\" target=\"New\" title=\"Next: Lab1\"><i class=\"fas fa-chevron-circle-right\" style=\"color:#FFAD33;\"></i></a></h2>"
   ]
  },
  {
   "cell_type": "code",
   "execution_count": null,
   "metadata": {},
   "outputs": [],
   "source": []
  }
 ],
 "metadata": {
  "kernelspec": {
   "display_name": "Python 3",
   "language": "python",
   "name": "python3"
  },
  "language_info": {
   "codemirror_mode": {
    "name": "ipython",
    "version": 3
   },
   "file_extension": ".py",
   "mimetype": "text/x-python",
   "name": "python",
   "nbconvert_exporter": "python",
   "pygments_lexer": "ipython3",
   "version": "3.8.5"
  }
 },
 "nbformat": 4,
 "nbformat_minor": 4
}
