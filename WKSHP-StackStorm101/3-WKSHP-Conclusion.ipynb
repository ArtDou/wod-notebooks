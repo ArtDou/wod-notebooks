{
 "cells": [
  {
   "cell_type": "markdown",
   "metadata": {},
   "source": [
    "![HPEDEVlogo](Pictures/hpedevlogo-NB.JPG)\n",
    "\n",
    "# Thank you for visiting the Hack Shack\n",
    "\n",
    "Powered by [HPE DEV Team](hpedev.io)\n",
    "\n",
    "\n",
    "# Conclusion\n",
    "\n",
    "By now I hope you can see that deploying an event based automation platform will save you time in devloping automation solutions. When I look around the HPE data center I see many things\n",
    "that can take advantage of stackstorm. All we need are the stackstorm integration packs. That is now my quest. I have written packs for iLoamplifier, Synergy, ArubaCX, Plexxi, and Qumulo and I am just getting started! In the picture, the Sidekick server is just a standard st2 server just like the one you are on now! These st2 packs are avilable on my private github and with a little effort, I will get the published on HPEexternal github as well. With any luck we will cover Sensors, Triggers, and Rules in the next tektalk. Stay tuned!\n",
    "\n",
    "\n",
    "# Final steps\n",
    "Please take a moment to fill out our [survey]({{ SURVEYURL }}).\n",
    "\n",
    "And make sure you use File -> Log Out menu to terminate your workshop session.\n",
    "\n",
    "# Thank you\n",
    "![ThankYou](Pictures/grommet.JPG)"
   ]
  }
 ],
 "metadata": {
  "kernelspec": {
   "display_name": "Bash",
   "language": "bash",
   "name": "bash"
  },
  "language_info": {
   "codemirror_mode": "shell",
   "file_extension": ".sh",
   "mimetype": "text/x-sh",
   "name": "bash"
  }
 },
 "nbformat": 4,
 "nbformat_minor": 4
}
