{
 "cells": [
  {
   "cell_type": "markdown",
   "metadata": {},
   "source": [
    "\n",
    "\n",
    "<p align=\"center\">\n",
    "  <img src=\"Pictures/stackstorm.jpg\">\n",
    "  \n",
    "</p>\n",
    "\n",
    "# StackStorm 101\n",
    "\n",
    "## LAB 1 The Basics\n",
    "StackStorm is an automation framework that uses Sensors to watch and listen to alarm/event queues. Triggers to tell Rules when to launch, Actions/Workflows to change the existing state.\n",
    "\n",
    "<p align=\"center\">\n",
    "  <img src=\"Pictures/stackstorm-view.png\">\n",
    "  \n",
    "</p>\n",
    "\n",
    "Stackstorm Doc [here](https://stackstorm.com/)\n",
    "\n",
    "We will use the ssh kernel to remotely connect to an existing stackstorm server. \n"
   ]
  },
  {
   "cell_type": "markdown",
   "metadata": {},
   "source": [
    "## 1 - The concepts:"
   ]
  },
  {
   "cell_type": "markdown",
   "metadata": {},
   "source": [
    "Let's start by connecting to the stackstorm server"
   ]
  },
  {
   "cell_type": "code",
   "execution_count": null,
   "metadata": {},
   "outputs": [],
   "source": [
    "%login {{ STACKSTORMSRVNAME }}"
   ]
  },
  {
   "cell_type": "markdown",
   "metadata": {},
   "source": [
    "A quick check of the StackStorm (st2) version."
   ]
  },
  {
   "cell_type": "code",
   "execution_count": null,
   "metadata": {},
   "outputs": [],
   "source": [
    "st2 --version"
   ]
  },
  {
   "cell_type": "markdown",
   "metadata": {},
   "source": [
    "Getting help with st2"
   ]
  },
  {
   "cell_type": "code",
   "execution_count": null,
   "metadata": {},
   "outputs": [],
   "source": [
    "st2 -h"
   ]
  },
  {
   "cell_type": "markdown",
   "metadata": {},
   "source": [
    "Stackstorm is a platform that you will need to sign in to. Use the installation password."
   ]
  },
  {
   "cell_type": "code",
   "execution_count": null,
   "metadata": {},
   "outputs": [],
   "source": [
    "st2 login student{{  STDID  }} --password {{ PASSSTU  }}"
   ]
  },
  {
   "cell_type": "markdown",
   "metadata": {},
   "source": [
    "Actions are the workhorse of stackstorm. From the diagram above they are the last thing that gets called to kick off some form of automation. To see what actions you have installed on your st2 server run this."
   ]
  },
  {
   "cell_type": "code",
   "execution_count": null,
   "metadata": {},
   "outputs": [],
   "source": [
    "st2 action list"
   ]
  },
  {
   "cell_type": "markdown",
   "metadata": {},
   "source": [
    "Thats quite a few packs and actions. We can narrow down our search using the -p flag and specifying the pack we are interested in."
   ]
  },
  {
   "cell_type": "code",
   "execution_count": null,
   "metadata": {},
   "outputs": [],
   "source": [
    "st2 action list -p core"
   ]
  },
  {
   "cell_type": "markdown",
   "metadata": {},
   "source": [
    "Additionally, you can look at sensors, rules, and triggers using the same syntax. Results will vary depending on what is installed on the st2 server."
   ]
  },
  {
   "cell_type": "code",
   "execution_count": null,
   "metadata": {},
   "outputs": [],
   "source": [
    "st2 sensor list"
   ]
  },
  {
   "cell_type": "code",
   "execution_count": null,
   "metadata": {},
   "outputs": [],
   "source": [
    "st2 rule list"
   ]
  },
  {
   "cell_type": "code",
   "execution_count": null,
   "metadata": {},
   "outputs": [],
   "source": [
    "st2 trigger list"
   ]
  },
  {
   "cell_type": "markdown",
   "metadata": {},
   "source": [
    "You can also have st2 run commands either locally or remotely. As you noted from above, st2 has CORE actions that make this easy. This means any command you can run from the command\n",
    "line can be executed in st2, either from the local host or any remote host. You will see the results of the command returned in stdout (standard out) and the command itself was successful."
   ]
  },
  {
   "cell_type": "code",
   "execution_count": null,
   "metadata": {},
   "outputs": [],
   "source": [
    "st2 run core.local -- date -R"
   ]
  },
  {
   "cell_type": "markdown",
   "metadata": {},
   "source": [
    "Notice the id number? Everytime st2 executes a task, it tracks the outcome in the executions list.\n",
    "You can view that list by running the below command."
   ]
  },
  {
   "cell_type": "code",
   "execution_count": null,
   "metadata": {},
   "outputs": [],
   "source": [
    "st2 execution list"
   ]
  },
  {
   "cell_type": "markdown",
   "metadata": {},
   "source": [
    "Let us now isolate an id"
   ]
  },
  {
   "cell_type": "code",
   "execution_count": null,
   "metadata": {},
   "outputs": [],
   "source": [
    "st2 execution list -j | jq \".[-1].id\" | sed 's/\"//g' > id"
   ]
  },
  {
   "cell_type": "code",
   "execution_count": null,
   "metadata": {},
   "outputs": [],
   "source": [
    "st2 execution get $(cat id)"
   ]
  },
  {
   "cell_type": "markdown",
   "metadata": {},
   "source": [
    "## 2 - Try on your own"
   ]
  },
  {
   "cell_type": "markdown",
   "metadata": {},
   "source": [
    "Every one of the ’id’s’ will have all the the errors, stdin, stdout, parameters and return code. This is super handy when trying to debug any actions you are creating. You would use the st2 execution get (id) command. Since these numbers are randomly generated you will have to do this command on your own. It’s a bit tricky to copy and paste text in a notebook. Don’t worry about it now, just know you can always use st2 execution get to see the results of an execution."
   ]
  },
  {
   "cell_type": "markdown",
   "metadata": {},
   "source": [
    "# 2-1  Note:"
   ]
  },
  {
   "cell_type": "markdown",
   "metadata": {},
   "source": [
    "When manually running an action from the st2 command line, you need to include the pack name, where the action lives, and the name of the action. st2 run pack.action. Actions may or may\n",
    "not require extra parameters to function. To learn what any action requires, we need to look at the internals of the action by using the get command. Let’s look at the core pack and what is required for the echo action. Not all parameters are required, look carefully. If the parameter has a default setting, you don’t have to include it."
   ]
  },
  {
   "cell_type": "code",
   "execution_count": null,
   "metadata": {},
   "outputs": [],
   "source": [
    "st2 action get core.echo"
   ]
  },
  {
   "cell_type": "markdown",
   "metadata": {},
   "source": [
    "Looks like we need to add the parameter message to our call for action. So we add message=’our string’."
   ]
  },
  {
   "cell_type": "code",
   "execution_count": null,
   "metadata": {},
   "outputs": [],
   "source": [
    "st2 run core.echo message='Lorem ipsum, blah, blah, blah'"
   ]
  },
  {
   "cell_type": "markdown",
   "metadata": {},
   "source": [
    "OK, now let’s look at how we will run something a little more useful. Let’s list all the files in the directory."
   ]
  },
  {
   "cell_type": "code",
   "execution_count": null,
   "metadata": {},
   "outputs": [],
   "source": [
    "st2 run core.local cmd='ls'"
   ]
  },
  {
   "cell_type": "markdown",
   "metadata": {},
   "source": [
    "Maybe you want to scrape some information from a web server, we can use this!"
   ]
  },
  {
   "cell_type": "code",
   "execution_count": null,
   "metadata": {},
   "outputs": [],
   "source": [
    "st2 run core.http url=\"http://www.techworldwookie.com/test.html\""
   ]
  },
  {
   "cell_type": "markdown",
   "metadata": {},
   "source": [
    "# 2-2  Custom Actions:"
   ]
  },
  {
   "cell_type": "markdown",
   "metadata": {},
   "source": [
    "Let’s run a custom action. nasa_apod is an action that will get the NASA picture of the day for NASA’s server and return some information about the picture and the URL. This action is part of a stackstorm integration pack called tektalk. Let’s see if it is installed."
   ]
  },
  {
   "cell_type": "code",
   "execution_count": null,
   "metadata": {},
   "outputs": [],
   "source": [
    "st2 pack list"
   ]
  },
  {
   "cell_type": "markdown",
   "metadata": {},
   "source": [
    "Yes, we see the pack tektalk listed, now let’s see what actions are made available to us."
   ]
  },
  {
   "cell_type": "code",
   "execution_count": null,
   "metadata": {},
   "outputs": [],
   "source": [
    "st2 action list -p tektalk"
   ]
  },
  {
   "cell_type": "markdown",
   "metadata": {},
   "source": [
    "Great, now we have to see what paramerters are needed for the action to run."
   ]
  },
  {
   "cell_type": "code",
   "execution_count": null,
   "metadata": {},
   "outputs": [],
   "source": [
    "st2 action get tektalk.nasa_apod"
   ]
  },
  {
   "cell_type": "markdown",
   "metadata": {},
   "source": [
    "API_KEY and HD are defaulted. The only parameter we need to supply is the date for the picture we want. It will need to be in a yyyy-mm-dd format."
   ]
  },
  {
   "cell_type": "markdown",
   "metadata": {},
   "source": [
    "## 2-3 Action Files"
   ]
  },
  {
   "cell_type": "markdown",
   "metadata": {},
   "source": [
    "Actions are made up of two different files. An introductory YAML file and a script of some kind. Action files live in the /actions directory. Let’s take a look."
   ]
  },
  {
   "cell_type": "code",
   "execution_count": null,
   "metadata": {},
   "outputs": [],
   "source": [
    "ls -lia /opt/stackstorm/packs/tektalk/actions"
   ]
  },
  {
   "cell_type": "markdown",
   "metadata": {},
   "source": [
    "Let’s look at the introductory YAML file"
   ]
  },
  {
   "cell_type": "code",
   "execution_count": null,
   "metadata": {},
   "outputs": [],
   "source": [
    "cat /opt/stackstorm/packs/tektalk/actions/nasa_apod.yaml"
   ]
  },
  {
   "cell_type": "markdown",
   "metadata": {},
   "source": [
    "This is a YAML file so it will start with three dashes. We have the name of the action and the name of the pack it resides. The obilgatory description and then the runner_type. There are\n",
    "13 different types of runners including WinRM Powershell. In our example we will be using a python script, nasa_apod.py. The file then informs the python script that it will be receiveing\n",
    "three parameters. Let’s look at the python script."
   ]
  },
  {
   "cell_type": "code",
   "execution_count": null,
   "metadata": {},
   "outputs": [],
   "source": [
    "cat /opt/stackstorm/packs/tektalk/actions/nasa_apod.py"
   ]
  },
  {
   "cell_type": "markdown",
   "execution_count": null,
   "metadata": {},
   "outputs": [],
   "source": [
    "We pass the api_key, date and hd variable to the python script and use requests to get the response. The python script returns the variable data. Let’s run the action like this!"
   ]
  },
  {
   "cell_type": "code",
   "execution_count": null,
   "metadata": {},
   "outputs": [],
   "source": [
    "st2 run tektalk.nasa_apod date=2018-07-04"
   ]
  },
  {
   "cell_type": "markdown",
   "metadata": {},
   "source": [
    "## HIP Tip of the Week!"
   ]
  },
  {
   "cell_type": "markdown",
   "metadata": {},
   "source": [
    "It is very easy to take an existing shell script or python script and convert it to be used with stackstorm. You do not need to rewrite all of your automation scripts."
   ]
  },
  {
   "cell_type": "markdown",
   "metadata": {},
   "source": [
    "## 2-4 Workflows"
   ]
  },
  {
   "cell_type": "markdown",
   "metadata": {},
   "source": [
    "Actions by themselves are basically just more of the same. They are just scripts. Workflows allow us to string several actions together and feed the output of one action into another. Wrokflows, like\n",
    "actions require an intrductory YAML file and then another YAML file in the workflows directory. Workflows can call on any action from any st2 pack. The new workflow system for st2 is Orquesta,\n",
    "let look at our example workflow. First the introductory YAML."
   ]
  },
  {
   "cell_type": "code",
   "execution_count": null,
   "metadata": {},
   "outputs": [],
   "source": [
    "cat /opt/stackstorm/packs/tektalk/actions/nasa_apod_workflow.yaml"
   ]
  },
  {
   "cell_type": "markdown",
   "metadata": {},
   "source": [
    "The key takeaway is the runner_type is now Orquesta. Notice that the entry__point is another YAML with the exact same name located in the workflows directory. Let’s look at that file."
   ]
  },
  {
   "cell_type": "code",
   "execution_count": null,
   "metadata": {},
   "outputs": [],
   "source": [
    "cat /opt/stackstorm/packs/tektalk/actions/workflows/nasa_apod_workflow.yaml"
   ]
  },
  {
   "cell_type": "markdown",
   "metadata": {},
   "source": [
    "Let’s break this down. This is just a list of tasks. Tasks are carried out by actions. Actions get parameters (or not). \n",
    "Results are published to the context where they can be reused by other actions."
   ]
  },
  {
   "cell_type": "markdown",
   "metadata": {},
   "source": [
    "# 3  The Elephant in the room"
   ]
  },
  {
   "cell_type": "markdown",
   "metadata": {},
   "source": [
    "What we see here is not python. It is YAML (Yet Another Markup Language). I just takes a few lines of these YAML files to stich together a very complex workflows. Calling any actions from any pack is quite powerful. Using stackstorm will save you from writing thousands of lines of python.\n",
    "You would not normally run a workflow manually, that’s really not automation becasue a human is involved. Workflows are assigned to st2 rules that get activated by triggers. That’s the magic of st2. In just this one special case however, we will manually run our workflow and see what goes on behind the scenes."
   ]
  },
  {
   "cell_type": "code",
   "execution_count": null,
   "metadata": {},
   "outputs": [],
   "source": [
    "st2 run tektalk.nasa_apod_workflow"
   ]
  },
  {
   "cell_type": "markdown",
   "metadata": {},
   "source": [
    "So what happened? Our workflow had three tasks, get a picture from a webserver, echo the results, and tell us what linux we are ruinning. St2 informs us that all three tasks were executed successfully.\n",
    "If you are curious about any of these executions, remember st2 lets us look at each one in greater detail with copy and pasting the execution id in the following command. To copy and paste\n",
    "text, highlight the text, hold down the shift key and right-click just past the last character you have highlighted. Then, CTRL-v to paste! Easy, right?"
   ]
  },
  {
   "cell_type": "markdown",
   "metadata": {},
   "source": [
    "Let's now isolate the first id"
   ]
  },
  {
   "cell_type": "code",
   "execution_count": null,
   "metadata": {},
   "outputs": [],
   "source": [
    "st2 run tektalk.nasa_apod_workflow -j | jq  \".[0].id\" 2>/dev/null | sed 's/\"//g' > id"
   ]
  },
  {
   "cell_type": "code",
   "execution_count": null,
   "metadata": {},
   "outputs": [],
   "source": [
    "st2 execution get $(cat id)"
   ]
  },
  {
   "cell_type": "markdown",
   "metadata": {},
   "source": [
    "# 4 The stackstorm exchange"
   ]
  },
  {
   "cell_type": "markdown",
   "metadata": {},
   "source": [
    "You can find over 170 prebuilt st2 integration packs on the echange. Let’s have a look. (Opens in a new browser!)\n",
    "[StackStorm Exchange](https://exchange.stackstorm.org/)\n",
    "You might of seen this on the Exchange website. Installing a pack in st2 is very easy. st2 pack install . Maybe you want to automate something in VMware. You would have to write a bunch\n",
    "of python to make that happen, pyVmomi (a module written in python) would be your new best friend. Even so, you would still write a couple 1000 lines of code vs. st2 pack install vsphere.\n",
    "You may have noticed that there is a pack for Ansible as well.This means you can use stackstorm to add event based automation to you Ansible deployment!"
   ]
  },
  {
   "cell_type": "markdown",
   "metadata": {},
   "source": [
    "# 5 The stackstorm GUI"
   ]
  },
  {
   "cell_type": "markdown",
   "metadata": {},
   "source": [
    "I promised you this from the beginning. It’s handy, I find I use the GUI more to monitor the sensors, rules and actions. After I get it put together from the command line (creating YAML files is way easier with an editor), I make sure it’s running properly from the GUI (So much easier than on the command line).\n",
    "\n",
    "[The Jedi Link](https://{{ JPHOSTEXT }}:{{  STACKSTORMWEBUIPORT  }})"
   ]
  },
  {
   "cell_type": "markdown",
   "metadata": {},
   "source": [
    "</br>\n",
    " <a href=\"0-ReadMeFirst.ipynb\" target=\"New\" title=\"Back: Introduction\"><button type=\"submit\"  class=\"btn btn-lg btn-block\" style=\"background-color:#FFAD33;color:#fff;position:relative;width:10%; height: 30px;float: left;\"><b>Back</b></button></a>\n",
    " <a href=\"3-WKSHP-Conclusion.ipynb#sc\" target=\"New\" title=\"Next:Conclusion\"><button type=\"submit\"  class=\"btn btn-lg btn-block\" style=\"background-color:#FFAD33;color:#fff;position:relative;width:10%; height: 30px;float: right;\"><b>Next</b></button></a>\n"
   ]
  },
  {
   "cell_type": "markdown",
   "metadata": {},
   "source": [
    "<h2>Next&nbsp;&nbsp;&nbsp;&nbsp;<a href=\"3-WKSHP-Conclusion.ipynb#sc\" target=\"New\" title=\"Next: Conclusion\"><i class=\"fas fa-chevron-circle-right\" style=\"color:#FFAD33;\"></i></a></h2>"
   ]
  }
 ],
 "metadata": {
  "kernelspec": {
   "display_name": "SSH",
   "language": "bash",
   "name": "ssh"
  },
  "language_info": {
   "codemirror_mode": "shell",
   "file_extension": ".sh",
   "mimetype": "text/x-sh",
   "name": "ssh"
  }
 },
 "nbformat": 4,
 "nbformat_minor": 4
}
