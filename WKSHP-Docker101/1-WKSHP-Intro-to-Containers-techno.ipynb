{
 "cells": [
  {
   "cell_type": "markdown",
   "metadata": {},
   "source": [
    "![HPEDEVlogo](Pictures/hpedevlogo-NB.JPG)    ![Dockerlogo](Pictures/docker.png)  "
   ]
  },
  {
   "cell_type": "markdown",
   "metadata": {},
   "source": [
    "# What is Docker?\n",
    "\n",
    "The Docker website itself simply describes Docker as:\n",
    "\n",
    "    “The world’s leading software containerization platform” — Docker, Docker Overview\n",
    "\n",
    "That really clears it up, right? Umm…yeah, not really. A much better description of Docker is found on OpenSource.com.\n",
    "\n",
    "    Docker is a tool designed to make it easier to create, deploy, and run applications by using containers. Containers allow a developer to package up an application with all of the parts it needs, such as libraries and other dependencies, and ship it all out as one package. — OpenSource.com, What is Docker?\n",
    "\n",
    "What Docker really does is separate the application code from infrastructure requirements and needs. It does this by running each application in an isolated environment called a ‘container’. \n",
    "\n",
    "While traditionnaly developers (Devs) concentrate on the actual code of their application and Operators (Ops) concentrate on the hardware infrastructure that will host these apps (including compute, network, storage and security concerns), in a container world DevSecOps teams will manage the end to end \"build, ship and run\" of these applications, looking at all aspects in a holistic view.\n",
    "\n",
    "Each container image they build will ensure they contain the right programs and software dependencies, so that the perimeter is completely under control during the development phases as weel as during the test and production phases, reducing the complexity of maintenance.\n",
    "\n",
    "Technically speaking, containers take advantage of some underlying Linux features such as namespaces, capabilities, control groups to provide an isolated environement where the application will think it is alone at execution time.\n",
    "\n",
    "Which is a perfect segue to the next point: why Docker?\n",
    "\n",
    "\n",
    "# Why Docker?\n",
    "\n",
    "I can’t tell you how many times I’ve heard a developer (myself included) say, “It works on my machine, I don’t know why it doesn’t work on yours.” — any developer, ever\n",
    "\n",
    "This is what Docker is designed to prevent — the inevitable confusion that comes when a dev’s been working on their local machine on a project for days (or weeks), and as soon as it’s deployed to a new environment, the app won’t run. Most likely because there’s a bunch of installed dependencies that are necessary to run the application but they aren’t saved in the package.json or the build.gradle or specified in the manifest.yml.\n",
    "\n",
    "Every single Docker container image begins as a pure vanilla Linux machine that knows nothing.\n",
    "The Docker container image’s just like Jon Snow when it spins up; it knows nothing.\n",
    "\n",
    "Then, we tell the image everything it needs to know — all the dependencies it needs to download and install in order to run the application. This process is done with a Dockerfile, but I’m getting ahead of myself.\n",
    "\n",
    "For this section, suffice it to say, Docker takes away the guesswork (and hours spent debugging) from deploying applications because it always starts as a fresh, isolated environment and the very same dependencies get added to it. Every. Single. Time.\n",
    "\n",
    "No environment that has different versions of dependencies installed. No environment missing dependencies entirely. None of that nonsense with Docker.\n",
    "\n",
    "# Docker Tools\n",
    "\n",
    "Before I dive into the Dockerfile, I’ll give a quick run down of Docker’s suite of tools."
   ]
  },
  {
   "cell_type": "markdown",
   "metadata": {},
   "source": [
    "<p align=\"center\">\n",
    "  <img src=\"Pictures/docker101-1.png\">"
   ]
  },
  {
   "cell_type": "markdown",
   "metadata": {},
   "source": [
    "Docker has four main tools that it provides to accomplish tasks:\n",
    "\n",
    "    Docker Engine\n",
    "    Docker Compose\n",
    "    Docker Machine\n",
    "    Docker Swarm\n",
    "\n",
    "## Docker Engine\n",
    "\n",
    "    It is Docker's “powerful open source containerization technology combined with a work flow for building and containerizing your applications.” — Docker, About Docker Engine\n",
    "\n",
    "It’s what realizes Docker's \"build, ship, run\" mantra. That engine is a daemon responding to REST API requests to perform the operations asked to it. When someone uses a docker command through the Docker CLI, it talks to this daemon/engine. Docker provides 2 major concepts: the Docker image and the Docker container.\n",
    "\n",
    "- The Docker image is the content of what is built, generally using a receipt stored in the Dockerfile. It is read-only, and has to be rebuilt at each software modification.\n",
    "- The Docker container is the application run in a sandbox. It is read-write and can be instantiated as many times as you want from a given Docker image.\n",
    "\n",
    "\n",
    "## Docker Compose\n",
    "\n",
    "    “is a tool for defining and running multi-container Docker applications” — Docker, Overview of Docker Compose\n",
    "\n",
    "This is what you use when you have an application made up of multiple microservices, or software components. The `docker-compose.yml` file allows you to configure all those services in one place and start them all with a single command. We’ll cover Docker Compose in much greater detail in the follow up Workshop. This is like the Makefile of Docker to build and launch a complete set of images and containers with all their required parameters (volume storage, network attachments, ports to open, ...). And of course, you'll manage it under your configuration management tool such as git to keep track of your modifications.\n",
    "\n",
    "## Docker Machine\n",
    "\n",
    "In years past, Docker Machine was more popular than it is now.\n",
    "\n",
    "    “Docker Machine is a tool that lets you install Docker Engine on virtual hosts, and manage the hosts with docker-machine commands.” — Docker, Docker Machine Overview\n",
    "\n",
    "It’s fallen by the wayside a bit as Docker images have become more stable on their native platforms, but earlier in Docker’s history it was very helpful. That’s about all you need to know about Docker Machine for now.\n",
    "\n",
    "## Docker Swarm\n",
    "\n",
    "The final tool, Docker Swarm, will be covered in a later workshop. But for now, it helps to\n",
    "\n",
    "    “create a swarm of Docker Engines where you can deploy application services. You don’t need additional orchestration software to create or manage a swarm” — Docker, Swarm Mode Overview\n",
    "\n",
    "More recently, Kubernetes has taken a more dominant role as containers orchestrator wrt Swarm. Docker still supports both natively.\n",
    "\n",
    "These are the tools you’ll become familiar with, and now, we can talk about the Dockerfile.\n",
    "The Dockerfile — where it all begins\n",
    "\n",
    "## Dockerfiles\n",
    "\n",
    "Docker is a powerful tool, but its power is harnessed through the use of things called Dockerfiles.\n",
    "\n",
    "    A Dockerfile is a text document that contains all the commands a user could call on the command line to assemble an image. Using \"docker build\" users can create an automated build that executes several command-line instructions in succession.- Docker, Dockerfile Reference\n",
    "\n",
    "A Docker image consists of read-only layers each of which represents a line in the Dockerfile. The layers are stacked and each one is a delta of the changes from the previous layer.\n",
    "\n",
    "This is what I was talking about above, when a Docker container starts up, it needs to be told what to do, it has nothing installed, it knows how to do nothing. Truly nothing.\n",
    "\n",
    "The first thing the Dockerfile needs is a base image. A base image tells the initial environment the container will start from typically a minimal OS image — Alpine, Ubuntu, RHEL, SuSE, or a more advanced image where an initial applicaiton is provided such as Node JS, Java, PostgreSQL, Apache, etc.\n",
    "\n",
    "Next, you’ll provide setup instructions. These are all the things the Docker image needs to know to be built: environment variables, dependencies to install, where files live, data to use, etc.\n",
    "\n",
    "And finally, you have to tell the image what to do. Typically it will be run with specific instructions, once installed with the previous setup instructions. We’ll give a quick overview of the most common Dockerfile commands [next](2-WKSHP-Using-Docker.ipynb) and then show some examples to help it make sense."
   ]
  },
  {
   "cell_type": "markdown",
   "metadata": {},
   "source": [
    "<br><br>\n",
    "\n",
    "## <i class=\"fas fa-2x fa-map-marker-alt\" style=\"color:#551199;\"></i>&nbsp;&nbsp;Next Steps\n",
    "\n",
    "# Lab2 : Using Docker\n",
    "\n",
    "<h2>Next LAB&nbsp;&nbsp;&nbsp;&nbsp;<a href=\"2-WKSHP-Using-Docker.ipynb\" target=\"New\" title=\"Next LAB: Using Docker\"><i class=\"fas fa-chevron-circle-right\" style=\"color:#551199;\"></i></a></h2>\n",
    "\n",
    "</br>\n",
    " <a href=\"0-ReadMeFirst.ipynb\" target=\"New\" title=\"Back: ReadMeFirst\"><button type=\"submit\"  class=\"btn btn-lg btn-block\" style=\"background-color:#551199;color:#fff;position:relative;width:10%; height: 30px;float: left;\"><b>Back</b></button></a>\n",
    " <a href=\"2-WKSHP-Using-Docker.ipynb\" target=\"New\" title=\"Next:Using Docker\"><button type=\"submit\"  class=\"btn btn-lg btn-block\" style=\"background-color:#551199;color:#fff;position:relative;width:10%; height: 30px;float: right;\"><b>Next</b></button></a>\n"
   ]
  },
  {
   "cell_type": "code",
   "execution_count": null,
   "metadata": {},
   "outputs": [],
   "source": []
  }
 ],
 "metadata": {
  "kernelspec": {
   "display_name": "Python 3",
   "language": "python",
   "name": "python3"
  },
  "language_info": {
   "codemirror_mode": {
    "name": "ipython",
    "version": 3
   },
   "file_extension": ".py",
   "mimetype": "text/x-python",
   "name": "python",
   "nbconvert_exporter": "python",
   "pygments_lexer": "ipython3",
   "version": "3.8.10"
  }
 },
 "nbformat": 4,
 "nbformat_minor": 4
}
