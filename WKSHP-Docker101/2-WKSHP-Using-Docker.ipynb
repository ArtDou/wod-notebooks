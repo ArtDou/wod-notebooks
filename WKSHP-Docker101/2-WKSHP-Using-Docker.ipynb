{
 "cells": [
  {
   "cell_type": "markdown",
   "metadata": {},
   "source": [
    "![HPEDEVlogo](Pictures/hpedevlogo-NB.JPG)    ![Dockerlogo](Pictures/docker.png)  "
   ]
  },
  {
   "cell_type": "markdown",
   "metadata": {},
   "source": [
    "Let's start by connecting to our docker appliance (Docker in Docker Appliance)"
   ]
  },
  {
   "cell_type": "code",
   "execution_count": null,
   "metadata": {},
   "outputs": [],
   "source": [
    "%login {{ hostvars[inventory_hostname]['IP-WKSHP-Docker101'] }}"
   ]
  },
  {
   "cell_type": "code",
   "execution_count": 1,
   "metadata": {},
   "outputs": [
    {
     "name": "stdout",
     "output_type": "stream",
     "text": [
      "[ssh] Login to 16.31.86.200...\n",
      "[ssh] host=16.31.86.200 hostname=16.31.86.200 other_conf={'user': None, 'port': None, 'keyfile': None, 'load_system_ssh_config': False, 'missing_host_policy': <paramiko.client.WarningPolicy object at 0x7f306417c2e0>}\n",
      "[ssh] Successfully logged in.\n"
     ]
    }
   ],
   "source": [
    "%login 16.31.86.200"
   ]
  },
  {
   "cell_type": "markdown",
   "metadata": {},
   "source": [
    "# Using Docker\n",
    "Estimated time: 15 minutes.\n",
    "## The first container\n",
    "In order to be able to manage a first container, the easiest approach is to import an existing one, before creating your own. For that we will refer to the public Docker registry which contains thousands of ready to be consumed containers, including this hello-world one:"
   ]
  },
  {
   "cell_type": "code",
   "execution_count": 19,
   "metadata": {},
   "outputs": [
    {
     "name": "stdout",
     "output_type": "stream",
     "text": [
      "[ssh] host = 16.31.86.200, cwd = /home/jupyter\n",
      "Unable to find image 'hello-world:latest' locally\n",
      "latest: Pulling from library/hello-world\n",
      "b8dfde127a29: Pulling fs layer\n",
      "b8dfde127a29: Verifying Checksum\n",
      "b8dfde127a29: Download complete\n",
      "b8dfde127a29: Pull complete\n",
      "Digest: sha256:df5f5184104426b65967e016ff2ac0bfcd44ad7899ca3bbcf8e44e4461491a9e\n",
      "Status: Downloaded newer image for hello-world:latest\n",
      "\n",
      "Hello from Docker!\n",
      "This message shows that your installation appears to be working correctly.\n",
      "\n",
      "To generate this message, Docker took the following steps:\n",
      " 1. The Docker client contacted the Docker daemon.\n",
      " 2. The Docker daemon pulled the \"hello-world\" image from the Docker Hub.\n",
      "    (amd64)\n",
      " 3. The Docker daemon created a new container from that image which runs the\n",
      "    executable that produces the output you are currently reading.\n",
      " 4. The Docker daemon streamed that output to the Docker client, which sent it\n",
      "    to your terminal.\n",
      "\n",
      "To try something more ambitious, you can run an Ubuntu container with:\n",
      " $ docker run -it ubuntu bash\n",
      "\n",
      "Share images, automate workflows, and more with a free Docker ID:\n",
      " https://hub.docker.com/\n",
      "\n",
      "For more examples and ideas, visit:\n",
      " https://docs.docker.com/get-started/\n",
      "\n"
     ]
    }
   ],
   "source": [
    "docker run hello-world"
   ]
  },
  {
   "cell_type": "markdown",
   "metadata": {},
   "source": [
    "So we've got a success! Of course, we do not really go far first, but what can you expect from an hello-world example ;-). \n",
    "Let's understand what happened by getting informations on images and containers created with the `ls` command:"
   ]
  },
  {
   "cell_type": "code",
   "execution_count": 20,
   "metadata": {},
   "outputs": [
    {
     "name": "stdout",
     "output_type": "stream",
     "text": [
      "[ssh] host = 16.31.86.200, cwd = /home/jupyter\n",
      "REPOSITORY      TAG       IMAGE ID       CREATED        SIZE\n",
      "dockerlab1580   latest    314733fd858d   19 hours ago   1.06GB\n",
      "dockerlab       latest    9149de89bb43   19 hours ago   1.06GB\n",
      "test            latest    2f8bd0730896   20 hours ago   589MB\n",
      "ubuntu          latest    c29284518f49   8 days ago     72.8MB\n",
      "hello-world     latest    d1165f221234   4 months ago   13.3kB\n",
      "centos          7         8652b9f0cb4c   8 months ago   204MB\n"
     ]
    }
   ],
   "source": [
    "docker image ls"
   ]
  },
  {
   "cell_type": "code",
   "execution_count": 22,
   "metadata": {},
   "outputs": [
    {
     "name": "stdout",
     "output_type": "stream",
     "text": [
      "[ssh] host = 16.31.86.200, cwd = /home/jupyter\n",
      "CONTAINER ID   IMAGE           COMMAND                  CREATED              STATUS                          PORTS                                                                              NAMES\n",
      "de0bb2409cff   hello-world     \"/hello\"                 About a minute ago   Exited (0) About a minute ago                                                                                      crazy_noether\n",
      "4538595c00ea   dockerlab1580   \"/bin/sh -c '/usr/sb…\"   19 hours ago         Up 19 hours                     0.0.0.0:14005->22/tcp, :::14005->22/tcp, 0.0.0.0:14055->80/tcp, :::14055->80/tcp   dockerlab1580_dockerlab1580_1\n"
     ]
    }
   ],
   "source": [
    "docker container ls -a"
   ]
  },
  {
   "cell_type": "markdown",
   "metadata": {},
   "source": [
    "So we see that we now have an image which has been downloaded from the Docker public registry (because it mentionned theimage wasn't found locally and was pulled), and that a container has been instantiated from that image and is not running anymore (Status Exited). The `rm` command allows to delete the container (but of course not the image which remains available)"
   ]
  },
  {
   "cell_type": "code",
   "execution_count": 24,
   "metadata": {},
   "outputs": [
    {
     "name": "stdout",
     "output_type": "stream",
     "text": [
      "[ssh] host = 16.31.86.200, cwd = /home/jupyter\n",
      "de0bb2409cff\n"
     ]
    }
   ],
   "source": [
    "docker container ls -a | grep hello-world | awk '{print $1}'| xargs docker container rm"
   ]
  },
  {
   "cell_type": "markdown",
   "metadata": {},
   "source": [
    "If everything goes well, it should have printed the Id of the container removed. Check that:"
   ]
  },
  {
   "cell_type": "code",
   "execution_count": 25,
   "metadata": {},
   "outputs": [
    {
     "name": "stdout",
     "output_type": "stream",
     "text": [
      "[ssh] host = 16.31.86.200, cwd = /home/jupyter\n",
      "CONTAINER ID   IMAGE           COMMAND                  CREATED        STATUS        PORTS                                                                              NAMES\n",
      "4538595c00ea   dockerlab1580   \"/bin/sh -c '/usr/sb…\"   19 hours ago   Up 19 hours   0.0.0.0:14005->22/tcp, :::14005->22/tcp, 0.0.0.0:14055->80/tcp, :::14055->80/tcp   dockerlab1580_dockerlab1580_1\n"
     ]
    }
   ],
   "source": [
    "docker container ls -a"
   ]
  },
  {
   "cell_type": "markdown",
   "metadata": {},
   "source": [
    "## The second container\n",
    "In order to have a more interesting environment, we'll now look for existing container images in the public Docker registry, and choose to use an ubuntu docker image on our host environment:"
   ]
  },
  {
   "cell_type": "code",
   "execution_count": 26,
   "metadata": {},
   "outputs": [
    {
     "name": "stdout",
     "output_type": "stream",
     "text": [
      "[ssh] host = 16.31.86.200, cwd = /home/jupyter\n",
      "NAME                                                      DESCRIPTION                                     STARS     OFFICIAL   AUTOMATED\n",
      "ubuntu                                                    Ubuntu is a Debian-based Linux operating sys…   12533     [OK]       \n",
      "dorowu/ubuntu-desktop-lxde-vnc                            Docker image to provide HTML5 VNC interface …   552                  [OK]\n",
      "websphere-liberty                                         WebSphere Liberty multi-architecture images …   276       [OK]       \n",
      "rastasheep/ubuntu-sshd                                    Dockerized SSH service, built on top of offi…   254                  [OK]\n",
      "consol/ubuntu-xfce-vnc                                    Ubuntu container with \"headless\" VNC session…   241                  [OK]\n",
      "ubuntu-upstart                                            Upstart is an event-based replacement for th…   113       [OK]       \n",
      "1and1internet/ubuntu-16-nginx-php-phpmyadmin-mysql-5      ubuntu-16-nginx-php-phpmyadmin-mysql-5          50                   [OK]\n",
      "ubuntu-debootstrap                                        debootstrap --variant=minbase --components=m…   44        [OK]       \n",
      "i386/ubuntu                                               Ubuntu is a Debian-based Linux operating sys…   25                   \n",
      "1and1internet/ubuntu-16-apache-php-5.6                    ubuntu-16-apache-php-5.6                        14                   [OK]\n",
      "1and1internet/ubuntu-16-apache-php-7.0                    ubuntu-16-apache-php-7.0                        13                   [OK]\n",
      "ppc64le/ubuntu                                            Ubuntu is a Debian-based Linux operating sys…   13                   \n",
      "1and1internet/ubuntu-16-nginx-php-phpmyadmin-mariadb-10   ubuntu-16-nginx-php-phpmyadmin-mariadb-10       11                   [OK]\n",
      "1and1internet/ubuntu-16-nginx-php-5.6-wordpress-4         ubuntu-16-nginx-php-5.6-wordpress-4             9                    [OK]\n",
      "darksheer/ubuntu                                          Base Ubuntu Image -- Updated hourly             5                    [OK]\n",
      "1and1internet/ubuntu-16-nginx-php-7.1                     ubuntu-16-nginx-php-7.1                         5                    [OK]\n",
      "1and1internet/ubuntu-16-nginx-php-7.0                     ubuntu-16-nginx-php-7.0                         4                    [OK]\n",
      "1and1internet/ubuntu-16-nginx-php-7.1-wordpress-4         ubuntu-16-nginx-php-7.1-wordpress-4             3                    [OK]\n",
      "owncloud/ubuntu                                           ownCloud Ubuntu base image                      3                    \n",
      "1and1internet/ubuntu-16-apache                            ubuntu-16-apache                                3                    [OK]\n",
      "1and1internet/ubuntu-16-apache-php-5.6-zend-2             ubuntu-16-apache-php-5.6-zend-2                 2                    [OK]\n",
      "1and1internet/ubuntu-16-apache-php-5.6-drupal-8           ubuntu-16-apache-php-5.6-drupal-8               1                    [OK]\n",
      "1and1internet/ubuntu-16-sshd                              ubuntu-16-sshd                                  1                    [OK]\n",
      "1and1internet/ubuntu-16-php-7.1                           ubuntu-16-php-7.1                               1                    [OK]\n",
      "smartentry/ubuntu                                         ubuntu with smartentry                          1                    [OK]\n"
     ]
    }
   ],
   "source": [
    "docker search ubuntu"
   ]
  },
  {
   "cell_type": "code",
   "execution_count": 27,
   "metadata": {},
   "outputs": [
    {
     "name": "stdout",
     "output_type": "stream",
     "text": [
      "[ssh] host = 16.31.86.200, cwd = /home/jupyter\n",
      "Using default tag: latest\n",
      "latest: Pulling from library/ubuntu\n",
      "Digest: sha256:b3e2e47d016c08b3396b5ebe06ab0b711c34e7f37b98c9d37abe794b71cea0a2\n",
      "Status: Image is up to date for ubuntu:latest\n",
      "docker.io/library/ubuntu:latest\n"
     ]
    }
   ],
   "source": [
    "docker pull ubuntu"
   ]
  },
  {
   "cell_type": "markdown",
   "metadata": {},
   "source": [
    "Once the container image has been downloaded we can view it in our catalog of images:"
   ]
  },
  {
   "cell_type": "code",
   "execution_count": 28,
   "metadata": {},
   "outputs": [
    {
     "name": "stdout",
     "output_type": "stream",
     "text": [
      "[ssh] host = 16.31.86.200, cwd = /home/jupyter\n",
      "REPOSITORY      TAG       IMAGE ID       CREATED        SIZE\n",
      "dockerlab1580   latest    314733fd858d   19 hours ago   1.06GB\n",
      "dockerlab       latest    9149de89bb43   19 hours ago   1.06GB\n",
      "test            latest    2f8bd0730896   20 hours ago   589MB\n",
      "ubuntu          latest    c29284518f49   8 days ago     72.8MB\n",
      "hello-world     latest    d1165f221234   4 months ago   13.3kB\n",
      "centos          7         8652b9f0cb4c   8 months ago   204MB\n"
     ]
    }
   ],
   "source": [
    "docker image ls"
   ]
  },
  {
   "cell_type": "markdown",
   "metadata": {},
   "source": [
    "This content is called an image and will serve as the base to create the operational container (here based on Ubuntu) in which we will process data:"
   ]
  },
  {
   "cell_type": "code",
   "execution_count": 30,
   "metadata": {},
   "outputs": [
    {
     "name": "stdout",
     "output_type": "stream",
     "text": [
      "[ssh] host = 16.31.86.200, cwd = /home/jupyter\n",
      "bullseye/sid\n"
     ]
    }
   ],
   "source": [
    "docker run ubuntu:latest cat /etc/debian_version"
   ]
  },
  {
   "cell_type": "markdown",
   "metadata": {},
   "source": [
    "whereas on our host:"
   ]
  },
  {
   "cell_type": "code",
   "execution_count": 32,
   "metadata": {},
   "outputs": [
    {
     "name": "stdout",
     "output_type": "stream",
     "text": [
      "[ssh] host = 16.31.86.200, cwd = /home/jupyter\n",
      "cat: /etc/debian_version: No such file or directory\n"
     ]
    },
    {
     "ename": "abnormal exit code",
     "evalue": "1",
     "output_type": "error",
     "traceback": [
      ""
     ]
    }
   ],
   "source": [
    "cat /etc/debian_version"
   ]
  },
  {
   "cell_type": "markdown",
   "metadata": {},
   "source": [
    "This example shows that you can run completely different environments inside a container as our local Linux distribution is not based on Debian at all, contrary to Ubuntu.\n",
    "Let's try to improve our container by installing wget init:"
   ]
  },
  {
   "cell_type": "code",
   "execution_count": 38,
   "metadata": {},
   "outputs": [
    {
     "name": "stdout",
     "output_type": "stream",
     "text": [
      "[ssh] host = 16.31.86.200, cwd = /home/jupyter\n",
      "\n",
      "Get:1 http://archive.ubuntu.com/ubuntu focal InRelease [265 kB]\n",
      "Get:2 http://security.ubuntu.com/ubuntu focal-security InRelease [114 kB]\n",
      "Get:3 http://archive.ubuntu.com/ubuntu focal-updates InRelease [114 kB]\n",
      "Get:4 http://archive.ubuntu.com/ubuntu focal-backports InRelease [101 kB]\n",
      "Get:5 http://archive.ubuntu.com/ubuntu focal/restricted amd64 Packages [33.4 kB]\n",
      "Get:6 http://archive.ubuntu.com/ubuntu focal/universe amd64 Packages [11.3 MB]\n",
      "Get:7 http://security.ubuntu.com/ubuntu focal-security/restricted amd64 Packages [428 kB]\n",
      "Get:8 http://archive.ubuntu.com/ubuntu focal/multiverse amd64 Packages [177 kB]\n",
      "Get:9 http://archive.ubuntu.com/ubuntu focal/main amd64 Packages [1275 kB]\n",
      "Get:10 http://security.ubuntu.com/ubuntu focal-security/universe amd64 Packages [784 kB]\n",
      "Get:11 http://archive.ubuntu.com/ubuntu focal-updates/multiverse amd64 Packages [37.2 kB]\n",
      "Get:12 http://archive.ubuntu.com/ubuntu focal-updates/restricted amd64 Packages [474 kB]\n",
      "Get:13 http://archive.ubuntu.com/ubuntu focal-updates/universe amd64 Packages [1055 kB]\n",
      "Get:14 http://archive.ubuntu.com/ubuntu focal-updates/main amd64 Packages [1417 kB]\n",
      "Get:15 http://archive.ubuntu.com/ubuntu focal-backports/universe amd64 Packages [6303 B]\n",
      "Get:16 http://archive.ubuntu.com/ubuntu focal-backports/main amd64 Packages [2668 B]\n",
      "Get:17 http://security.ubuntu.com/ubuntu focal-security/main amd64 Packages [985 kB]\n",
      "Get:18 http://security.ubuntu.com/ubuntu focal-security/multiverse amd64 Packages [34.7 kB]\n",
      "Fetched 18.6 MB in 3s (6042 kB/s)\n",
      "Reading package lists...\n",
      "Building dependency tree...\n",
      "Reading state information...\n",
      "2 packages can be upgraded. Run 'apt list --upgradable' to see them.\n",
      "Reading package lists...\n",
      "Building dependency tree...\n",
      "Reading state information...\n",
      "The following additional packages will be installed:\n",
      "  ca-certificates libpsl5 libssl1.1 openssl publicsuffix\n",
      "The following NEW packages will be installed:\n",
      "  ca-certificates libpsl5 libssl1.1 openssl publicsuffix wget\n",
      "0 upgraded, 6 newly installed, 0 to remove and 2 not upgraded.\n",
      "Need to get 2597 kB of archives.\n",
      "After this operation, 7226 kB of additional disk space will be used.\n",
      "Get:1 http://archive.ubuntu.com/ubuntu focal-updates/main amd64 libssl1.1 amd64 1.1.1f-1ubuntu2.4 [1319 kB]\n",
      "Get:2 http://archive.ubuntu.com/ubuntu focal-updates/main amd64 openssl amd64 1.1.1f-1ubuntu2.4 [620 kB]\n",
      "Get:3 http://archive.ubuntu.com/ubuntu focal-updates/main amd64 ca-certificates all 20210119~20.04.1 [146 kB]\n",
      "Get:4 http://archive.ubuntu.com/ubuntu focal/main amd64 libpsl5 amd64 0.21.0-1ubuntu1 [51.5 kB]\n",
      "Get:5 http://archive.ubuntu.com/ubuntu focal/main amd64 publicsuffix all 20200303.0012-1 [111 kB]\n",
      "Get:6 http://archive.ubuntu.com/ubuntu focal/main amd64 wget amd64 1.20.3-1ubuntu1 [349 kB]\n",
      "WARNING: apt does not have a stable CLI interface. Use with caution in scripts.\n",
      "\n",
      "debconf: delaying package configuration, since apt-utils is not installed\n",
      "Fetched 2597 kB in 1s (5155 kB/s)\n",
      "Selecting previously unselected package libssl1.1:amd64.\n",
      "(Reading database ... 4127 files and directories currently installed.)\n",
      "Preparing to unpack .../0-libssl1.1_1.1.1f-1ubuntu2.4_amd64.deb ...\n",
      "Unpacking libssl1.1:amd64 (1.1.1f-1ubuntu2.4) ...\n",
      "Selecting previously unselected package openssl.\n",
      "Preparing to unpack .../1-openssl_1.1.1f-1ubuntu2.4_amd64.deb ...\n",
      "Unpacking openssl (1.1.1f-1ubuntu2.4) ...\n",
      "Selecting previously unselected package ca-certificates.\n",
      "Preparing to unpack .../2-ca-certificates_20210119~20.04.1_all.deb ...\n",
      "Unpacking ca-certificates (20210119~20.04.1) ...\n",
      "Selecting previously unselected package libpsl5:amd64.\n",
      "Preparing to unpack .../3-libpsl5_0.21.0-1ubuntu1_amd64.deb ...\n",
      "Unpacking libpsl5:amd64 (0.21.0-1ubuntu1) ...\n",
      "Selecting previously unselected package publicsuffix.\n",
      "Preparing to unpack .../4-publicsuffix_20200303.0012-1_all.deb ...\n",
      "Unpacking publicsuffix (20200303.0012-1) ...\n",
      "Selecting previously unselected package wget.\n",
      "Preparing to unpack .../5-wget_1.20.3-1ubuntu1_amd64.deb ...\n",
      "Unpacking wget (1.20.3-1ubuntu1) ...\n",
      "Setting up libpsl5:amd64 (0.21.0-1ubuntu1) ...\n",
      "Setting up libssl1.1:amd64 (1.1.1f-1ubuntu2.4) ...\n",
      "debconf: unable to initialize frontend: Dialog\n",
      "debconf: (TERM is not set, so the dialog frontend is not usable.)\n",
      "debconf: falling back to frontend: Readline\n",
      "debconf: unable to initialize frontend: Readline\n",
      "debconf: (Can't locate Term/ReadLine.pm in @INC (you may need to install the Term::ReadLine module) (@INC contains: /etc/perl /usr/local/lib/x86_64-linux-gnu/perl/5.30.0 /usr/local/share/perl/5.30.0 /usr/lib/x86_64-linux-gnu/perl5/5.30 /usr/share/perl5 /usr/lib/x86_64-linux-gnu/perl/5.30 /usr/share/perl/5.30 /usr/local/lib/site_perl /usr/lib/x86_64-linux-gnu/perl-base) at /usr/share/perl5/Debconf/FrontEnd/Readline.pm line 7.)\n",
      "debconf: falling back to frontend: Teletype\n",
      "Setting up openssl (1.1.1f-1ubuntu2.4) ...\n",
      "Setting up publicsuffix (20200303.0012-1) ...\n",
      "Setting up wget (1.20.3-1ubuntu1) ...\n",
      "Setting up ca-certificates (20210119~20.04.1) ...\n",
      "debconf: unable to initialize frontend: Dialog\n",
      "debconf: (TERM is not set, so the dialog frontend is not usable.)\n",
      "debconf: falling back to frontend: Readline\n",
      "debconf: unable to initialize frontend: Readline\n",
      "debconf: (Can't locate Term/ReadLine.pm in @INC (you may need to install the Term::ReadLine module) (@INC contains: /etc/perl /usr/local/lib/x86_64-linux-gnu/perl/5.30.0 /usr/local/share/perl/5.30.0 /usr/lib/x86_64-linux-gnu/perl5/5.30 /usr/share/perl5 /usr/lib/x86_64-linux-gnu/perl/5.30 /usr/share/perl/5.30 /usr/local/lib/site_perl /usr/lib/x86_64-linux-gnu/perl-base) at /usr/share/perl5/Debconf/FrontEnd/Readline.pm line 7.)\n",
      "debconf: falling back to frontend: Teletype\n",
      "Updating certificates in /etc/ssl/certs...\n",
      "129 added, 0 removed; done.\n",
      "Processing triggers for libc-bin (2.31-0ubuntu9.2) ...\n",
      "Processing triggers for ca-certificates (20210119~20.04.1) ...\n",
      "Updating certificates in /etc/ssl/certs...\n",
      "0 added, 0 removed; done.\n",
      "Running hooks in /etc/ca-certificates/update.d...\n",
      "done.\n"
     ]
    }
   ],
   "source": [
    "docker run ubuntu:latest bash -c \"apt update && apt-get install -y wget\""
   ]
  },
  {
   "cell_type": "markdown",
   "metadata": {},
   "source": [
    "So you have successfully install the wgetcommand in your Ubuntu container. Hurray !\n",
    "Let's try to use it:"
   ]
  },
  {
   "cell_type": "code",
   "execution_count": 39,
   "metadata": {},
   "outputs": [
    {
     "name": "stdout",
     "output_type": "stream",
     "text": [
      "[ssh] host = 16.31.86.200, cwd = /home/jupyter\n",
      "docker: Error response from daemon: OCI runtime create failed: container_linux.go:367: starting container process caused: exec: \"wget\": executable file not found in $PATH: unknown.\n"
     ]
    },
    {
     "ename": "abnormal exit code",
     "evalue": "127",
     "output_type": "error",
     "traceback": [
      ""
     ]
    }
   ],
   "source": [
    "docker run ubuntu:latest wget http://www.google.com"
   ]
  },
  {
   "cell_type": "markdown",
   "metadata": {},
   "source": [
    "Now you should start feeling depressed :-) Why isit notworking as you have seen it wasinstalled successfully just upper !!\n",
    "Well, we need to understand what really a container is and the natureof the commands we passed ealier for that. Let's examine containers:"
   ]
  },
  {
   "cell_type": "code",
   "execution_count": 42,
   "metadata": {},
   "outputs": [
    {
     "name": "stdout",
     "output_type": "stream",
     "text": [
      "[ssh] host = 16.31.86.200, cwd = /home/jupyter\n",
      "CONTAINER ID   IMAGE           COMMAND                  CREATED          STATUS                       PORTS                                                                              NAMES\n",
      "d0f52d6a240e   ubuntu:latest   \"wget http://www.goo…\"   2 minutes ago    Created                                                                                                         agitated_benz\n",
      "a65285a04161   ubuntu:latest   \"bash -c 'apt update…\"   4 minutes ago    Exited (0) 4 minutes ago                                                                                        magical_matsumoto\n",
      "48f76c13b53d   ubuntu:latest   \"apt-get install -y …\"   5 minutes ago    Exited (100) 5 minutes ago                                                                                      hardcore_cray\n",
      "f0694e523ab7   ubuntu:latest   \"cat /etc/debian_ver…\"   11 minutes ago   Exited (0) 11 minutes ago                                                                                       xenodochial_hofstadter\n",
      "4538595c00ea   dockerlab1580   \"/bin/sh -c '/usr/sb…\"   19 hours ago     Up 19 hours                  0.0.0.0:14005->22/tcp, :::14005->22/tcp, 0.0.0.0:14055->80/tcp, :::14055->80/tcp   dockerlab1580_dockerlab1580_1\n"
     ]
    }
   ],
   "source": [
    "docker container ls -a"
   ]
  },
  {
   "cell_type": "markdown",
   "metadata": {},
   "source": [
    "You should see at least 4 Ubuntu based containers with the different commands we passed. Because each time we run `docker run`, Docker instantiates a **new** container and soesn't reuse any of the previous created. Sowe have 4 different execution environments all based on Ubuntu but all with their own lifecycle. Meaning that in the last one, the installation of `wget` never happened so the command is not found. It is in the third container only. We'll see how to deal with that later on."
   ]
  },
  {
   "cell_type": "markdown",
   "metadata": {},
   "source": [
    "Let's understand another aspect:"
   ]
  },
  {
   "cell_type": "code",
   "execution_count": 43,
   "metadata": {},
   "outputs": [
    {
     "name": "stdout",
     "output_type": "stream",
     "text": [
      "[ssh] host = 16.31.86.200, cwd = /home/jupyter\n",
      "Linux 2253ec85e270 3.10.0-1160.15.2.el7.x86_64 #1 SMP Wed Feb 3 15:06:38 UTC 2021 x86_64 x86_64 x86_64 GNU/Linux\n"
     ]
    }
   ],
   "source": [
    "docker run ubuntu:latest uname -a"
   ]
  },
  {
   "cell_type": "markdown",
   "metadata": {},
   "source": [
    "If you're on a CentOS distribution it will rather be: \n",
    "Linux ad9b474525d0 3.10.0-327.el7.x86_64 #1 SMP Thu Oct 29 17:29:29 EDT 2015 x86_64 x86_64 x86_64 GNU/Linux"
   ]
  },
  {
   "cell_type": "markdown",
   "metadata": {},
   "source": [
    "So you checked that your container behaves like a Fedora 28 distribution. Only the kernel is shared between the Docker host and the Docker container. Open another console to view how this container has been created and is seen:"
   ]
  },
  {
   "cell_type": "code",
   "execution_count": 8,
   "metadata": {},
   "outputs": [
    {
     "name": "stdout",
     "output_type": "stream",
     "text": [
      "[ssh] host = 16.31.86.200, cwd = /home/jupyter\n",
      "Desired=Unknown/Install/Remove/Purge/Hold\n",
      "| Status=Not/Inst/Conf-files/Unpacked/halF-conf/Half-inst/trig-aWait/Trig-pend\n",
      "|/ Err?=(none)/Reinst-required (Status,Err: uppercase=bad)\n",
      "||/ Name                    Version                      Architecture Description\n",
      "+++-=======================-============================-============-========================================================================\n",
      "ii  adduser                 3.118ubuntu2                 all          add and remove users and groups\n",
      "ii  apt                     2.0.6                        amd64        commandline package manager\n",
      "ii  base-files              11ubuntu5.3                  amd64        Debian base system miscellaneous files\n",
      "ii  base-passwd             3.5.47                       amd64        Debian base system master password and group files\n",
      "ii  bash                    5.0-6ubuntu1.1               amd64        GNU Bourne Again SHell\n",
      "ii  bsdutils                1:2.34-0.1ubuntu9.1          amd64        basic utilities from 4.4BSD-Lite\n",
      "ii  bzip2                   1.0.8-2                      amd64        high-quality block-sorting file compressor - utilities\n",
      "ii  coreutils               8.30-3ubuntu2                amd64        GNU core utilities\n",
      "ii  dash                    0.5.10.2-6                   amd64        POSIX-compliant shell\n",
      "ii  debconf                 1.5.73                       all          Debian configuration management system\n",
      "ii  debianutils             4.9.1                        amd64        Miscellaneous utilities specific to Debian\n",
      "ii  diffutils               1:3.7-3                      amd64        File comparison utilities\n",
      "ii  dpkg                    1.19.7ubuntu3                amd64        Debian package management system\n",
      "ii  e2fsprogs               1.45.5-2ubuntu1              amd64        ext2/ext3/ext4 file system utilities\n",
      "ii  fdisk                   2.34-0.1ubuntu9.1            amd64        collection of partitioning utilities\n",
      "ii  findutils               4.7.0-1ubuntu1               amd64        utilities for finding files--find, xargs\n",
      "ii  gcc-10-base:amd64       10.3.0-1ubuntu1~20.04        amd64        GCC, the GNU Compiler Collection (base package)\n",
      "ii  gpgv                    2.2.19-3ubuntu2.1            amd64        GNU privacy guard - signature verification tool\n",
      "ii  grep                    3.4-1                        amd64        GNU grep, egrep and fgrep\n",
      "ii  gzip                    1.10-0ubuntu4                amd64        GNU compression utilities\n",
      "ii  hostname                3.23                         amd64        utility to set/show the host name or domain name\n",
      "ii  init-system-helpers     1.57                         all          helper tools for all init systems\n",
      "ii  libacl1:amd64           2.2.53-6                     amd64        access control list - shared library\n",
      "ii  libapt-pkg6.0:amd64     2.0.6                        amd64        package management runtime library\n",
      "ii  libattr1:amd64          1:2.4.48-5                   amd64        extended attribute handling - shared library\n",
      "ii  libaudit-common         1:2.8.5-2ubuntu6             all          Dynamic library for security auditing - common files\n",
      "ii  libaudit1:amd64         1:2.8.5-2ubuntu6             amd64        Dynamic library for security auditing\n",
      "ii  libblkid1:amd64         2.34-0.1ubuntu9.1            amd64        block device ID library\n",
      "ii  libbz2-1.0:amd64        1.0.8-2                      amd64        high-quality block-sorting file compressor library - runtime\n",
      "ii  libc-bin                2.31-0ubuntu9.2              amd64        GNU C Library: Binaries\n",
      "ii  libc6:amd64             2.31-0ubuntu9.2              amd64        GNU C Library: Shared libraries\n",
      "ii  libcap-ng0:amd64        0.7.9-2.1build1              amd64        An alternate POSIX capabilities library\n",
      "ii  libcom-err2:amd64       1.45.5-2ubuntu1              amd64        common error description library\n",
      "ii  libcrypt1:amd64         1:4.4.10-10ubuntu4           amd64        libcrypt shared library\n",
      "ii  libdb5.3:amd64          5.3.28+dfsg1-0.6ubuntu2      amd64        Berkeley v5.3 Database Libraries [runtime]\n",
      "ii  libdebconfclient0:amd64 0.251ubuntu1                 amd64        Debian Configuration Management System (C-implementation library)\n",
      "ii  libext2fs2:amd64        1.45.5-2ubuntu1              amd64        ext2/ext3/ext4 file system libraries\n",
      "ii  libfdisk1:amd64         2.34-0.1ubuntu9.1            amd64        fdisk partitioning library\n",
      "ii  libffi7:amd64           3.3-4                        amd64        Foreign Function Interface library runtime\n",
      "ii  libgcc-s1:amd64         10.3.0-1ubuntu1~20.04        amd64        GCC support library\n",
      "ii  libgcrypt20:amd64       1.8.5-5ubuntu1               amd64        LGPL Crypto library - runtime library\n",
      "ii  libgmp10:amd64          2:6.2.0+dfsg-4               amd64        Multiprecision arithmetic library\n",
      "ii  libgnutls30:amd64       3.6.13-2ubuntu1.3            amd64        GNU TLS library - main runtime library\n",
      "ii  libgpg-error0:amd64     1.37-1                       amd64        GnuPG development runtime library\n",
      "ii  libhogweed5:amd64       3.5.1+really3.5.1-2ubuntu0.2 amd64        low level cryptographic library (public-key cryptos)\n",
      "ii  libidn2-0:amd64         2.2.0-2                      amd64        Internationalized domain names (IDNA2008/TR46) library\n",
      "ii  liblz4-1:amd64          1.9.2-2ubuntu0.20.04.1       amd64        Fast LZ compression algorithm library - runtime\n",
      "ii  liblzma5:amd64          5.2.4-1ubuntu1               amd64        XZ-format compression library\n",
      "ii  libmount1:amd64         2.34-0.1ubuntu9.1            amd64        device mounting library\n",
      "ii  libncurses6:amd64       6.2-0ubuntu2                 amd64        shared libraries for terminal handling\n",
      "ii  libncursesw6:amd64      6.2-0ubuntu2                 amd64        shared libraries for terminal handling (wide character support)\n",
      "ii  libnettle7:amd64        3.5.1+really3.5.1-2ubuntu0.2 amd64        low level cryptographic library (symmetric and one-way cryptos)\n",
      "ii  libp11-kit0:amd64       0.23.20-1ubuntu0.1           amd64        library for loading and coordinating access to PKCS#11 modules - runtime\n",
      "ii  libpam-modules:amd64    1.3.1-5ubuntu4.2             amd64        Pluggable Authentication Modules for PAM\n",
      "ii  libpam-modules-bin      1.3.1-5ubuntu4.2             amd64        Pluggable Authentication Modules for PAM - helper binaries\n",
      "ii  libpam-runtime          1.3.1-5ubuntu4.2             all          Runtime support for the PAM library\n",
      "ii  libpam0g:amd64          1.3.1-5ubuntu4.2             amd64        Pluggable Authentication Modules library\n",
      "ii  libpcre2-8-0:amd64      10.34-7                      amd64        New Perl Compatible Regular Expression Library- 8 bit runtime files\n",
      "ii  libpcre3:amd64          2:8.39-12build1              amd64        Old Perl 5 Compatible Regular Expression Library - runtime files\n",
      "ii  libprocps8:amd64        2:3.3.16-1ubuntu2.2          amd64        library for accessing process information from /proc\n",
      "ii  libseccomp2:amd64       2.5.1-1ubuntu1~20.04.1       amd64        high level interface to Linux seccomp filter\n",
      "ii  libselinux1:amd64       3.0-1build2                  amd64        SELinux runtime shared libraries\n",
      "ii  libsemanage-common      3.0-1build2                  all          Common files for SELinux policy management libraries\n",
      "ii  libsemanage1:amd64      3.0-1build2                  amd64        SELinux policy management library\n",
      "ii  libsepol1:amd64         3.0-1                        amd64        SELinux library for manipulating binary security policies\n",
      "ii  libsmartcols1:amd64     2.34-0.1ubuntu9.1            amd64        smart column output alignment library\n",
      "ii  libss2:amd64            1.45.5-2ubuntu1              amd64        command-line interface parsing library\n",
      "ii  libstdc++6:amd64        10.3.0-1ubuntu1~20.04        amd64        GNU Standard C++ Library v3\n",
      "ii  libsystemd0:amd64       245.4-4ubuntu3.7             amd64        systemd utility library\n",
      "ii  libtasn1-6:amd64        4.16.0-2                     amd64        Manage ASN.1 structures (runtime)\n",
      "ii  libtinfo6:amd64         6.2-0ubuntu2                 amd64        shared low-level terminfo library for terminal handling\n",
      "ii  libudev1:amd64          245.4-4ubuntu3.7             amd64        libudev shared library\n",
      "ii  libunistring2:amd64     0.9.10-2                     amd64        Unicode string library for C\n",
      "ii  libuuid1:amd64          2.34-0.1ubuntu9.1            amd64        Universally Unique ID library\n",
      "ii  libzstd1:amd64          1.4.4+dfsg-3ubuntu0.1        amd64        fast lossless compression algorithm\n",
      "ii  login                   1:4.8.1-1ubuntu5.20.04       amd64        system login tools\n",
      "ii  logsave                 1.45.5-2ubuntu1              amd64        save the output of a command in a log file\n",
      "ii  lsb-base                11.1.0ubuntu2                all          Linux Standard Base init script functionality\n",
      "ii  mawk                    1.3.4.20200120-2             amd64        Pattern scanning and text processing language\n",
      "ii  mount                   2.34-0.1ubuntu9.1            amd64        tools for mounting and manipulating filesystems\n",
      "ii  ncurses-base            6.2-0ubuntu2                 all          basic terminal type definitions\n",
      "ii  ncurses-bin             6.2-0ubuntu2                 amd64        terminal-related programs and man pages\n",
      "ii  passwd                  1:4.8.1-1ubuntu5.20.04       amd64        change and administer password and group data\n",
      "ii  perl-base               5.30.0-9ubuntu0.2            amd64        minimal Perl system\n",
      "ii  procps                  2:3.3.16-1ubuntu2.2          amd64        /proc file system utilities\n",
      "ii  sed                     4.7-1                        amd64        GNU stream editor for filtering/transforming text\n",
      "ii  sensible-utils          0.0.12+nmu1                  all          Utilities for sensible alternative selection\n",
      "ii  sysvinit-utils          2.96-2.1ubuntu1              amd64        System-V-like utilities\n",
      "ii  tar                     1.30+dfsg-7ubuntu0.20.04.1   amd64        GNU version of the tar archiving utility\n",
      "ii  ubuntu-keyring          2020.02.11.4                 all          GnuPG keys of the Ubuntu archive\n",
      "ii  util-linux              2.34-0.1ubuntu9.1            amd64        miscellaneous system utilities\n",
      "ii  zlib1g:amd64            1:1.2.11.dfsg-2ubuntu1.2     amd64        compression library - runtime\n"
     ]
    }
   ],
   "source": [
    " docker run ubuntu dpkg -l"
   ]
  },
  {
   "cell_type": "markdown",
   "metadata": {},
   "source": [
    "For more examples and ideas, visit: http://docs.docker.com/userguide/"
   ]
  },
  {
   "cell_type": "code",
   "execution_count": 9,
   "metadata": {},
   "outputs": [
    {
     "name": "stdout",
     "output_type": "stream",
     "text": [
      "[ssh] host = 16.31.86.200, cwd = /home/jupyter\n",
      "/usr/bin/bash: line 1: dpkg: command not found\n"
     ]
    },
    {
     "ename": "abnormal exit code",
     "evalue": "127",
     "output_type": "error",
     "traceback": [
      ""
     ]
    }
   ],
   "source": [
    "dpkg -l"
   ]
  },
  {
   "cell_type": "markdown",
   "metadata": {},
   "source": [
    "You see that the underlying Linux distribution doesn't understand the dpkg commad. It is only valid in the container environmenet, which is an Ubuntu distribution whereas our base distribution is a CentOS one, withanother package management.\n",
    "\n",
    "However, we can get some info on our modified Docker environment:"
   ]
  },
  {
   "cell_type": "code",
   "execution_count": 10,
   "metadata": {},
   "outputs": [
    {
     "name": "stdout",
     "output_type": "stream",
     "text": [
      "[ssh] host = 16.31.86.200, cwd = /home/jupyter\n",
      "REPOSITORY      TAG       IMAGE ID       CREATED        SIZE\n",
      "dockerlab1580   latest    314733fd858d   19 hours ago   1.06GB\n",
      "dockerlab       latest    9149de89bb43   19 hours ago   1.06GB\n",
      "test            latest    2f8bd0730896   19 hours ago   589MB\n",
      "ubuntu          latest    c29284518f49   8 days ago     72.8MB\n",
      "centos          7         8652b9f0cb4c   8 months ago   204MB\n"
     ]
    }
   ],
   "source": [
    "docker image ls"
   ]
  },
  {
   "cell_type": "markdown",
   "metadata": {},
   "source": [
    "So you see that you now have 2 new images from which our 2 test containers have been created (the hello-wolrd and the Ubuntu)"
   ]
  },
  {
   "cell_type": "code",
   "execution_count": 11,
   "metadata": {},
   "outputs": [
    {
     "name": "stdout",
     "output_type": "stream",
     "text": [
      "[ssh] host = 16.31.86.200, cwd = /home/jupyter\n",
      "CONTAINER ID   IMAGE           COMMAND                  CREATED         STATUS                     PORTS                                                                              NAMES\n",
      "cd6fb6e8fb5b   ubuntu          \"dpkg -l\"                8 minutes ago   Exited (0) 8 minutes ago                                                                                      gracious_williams\n",
      "ae7b579460f6   ubuntu          \"dpkg -l\"                9 minutes ago   Exited (0) 9 minutes ago                                                                                      elegant_ishizaka\n",
      "267e71f9259f   ubuntu          \"dpkg -l\"                9 minutes ago   Exited (0) 9 minutes ago                                                                                      strange_faraday\n",
      "f81ae8461b62   ubuntu          \"dpkg-l\"                 9 minutes ago   Created                                                                                                       stoic_grothendieck\n",
      "4538595c00ea   dockerlab1580   \"/bin/sh -c '/usr/sb…\"   19 hours ago    Up 19 hours                0.0.0.0:14005->22/tcp, :::14005->22/tcp, 0.0.0.0:14055->80/tcp, :::14055->80/tcp   dockerlab1580_dockerlab1580_1\n"
     ]
    }
   ],
   "source": [
    "docker container ls -a"
   ]
  },
  {
   "cell_type": "markdown",
   "metadata": {},
   "source": [
    "And here you see the list of your containers with their status (they should all be Exited as they have finished their task)"
   ]
  },
  {
   "cell_type": "markdown",
   "metadata": {},
   "source": [
    "In order to remove the ubuntu container(s), we first need to retrieve their container id (first column with awk) and to use docker the rm command to remove them:"
   ]
  },
  {
   "cell_type": "code",
   "execution_count": 15,
   "metadata": {},
   "outputs": [
    {
     "name": "stdout",
     "output_type": "stream",
     "text": [
      "[ssh] host = 16.31.86.200, cwd = /home/jupyter\n",
      "cd6fb6e8fb5b\n",
      "ae7b579460f6\n",
      "267e71f9259f\n",
      "f81ae8461b62\n"
     ]
    }
   ],
   "source": [
    "docker container ls -a | grep ubuntu | awk '{ print $1}' | xargs docker container rm "
   ]
  },
  {
   "cell_type": "code",
   "execution_count": null,
   "metadata": {},
   "outputs": [],
   "source": [
    "Check they are gone:"
   ]
  },
  {
   "cell_type": "code",
   "execution_count": 16,
   "metadata": {},
   "outputs": [
    {
     "name": "stdout",
     "output_type": "stream",
     "text": [
      "[ssh] host = 16.31.86.200, cwd = /home/jupyter\n",
      "CONTAINER ID   IMAGE           COMMAND                  CREATED        STATUS        PORTS                                                                              NAMES\n",
      "4538595c00ea   dockerlab1580   \"/bin/sh -c '/usr/sb…\"   19 hours ago   Up 19 hours   0.0.0.0:14005->22/tcp, :::14005->22/tcp, 0.0.0.0:14055->80/tcp, :::14055->80/tcp   dockerlab1580_dockerlab1580_1\n"
     ]
    }
   ],
   "source": [
    "docker container ls"
   ]
  },
  {
   "cell_type": "markdown",
   "metadata": {},
   "source": [
    "Let's list the images again!"
   ]
  },
  {
   "cell_type": "code",
   "execution_count": null,
   "metadata": {},
   "outputs": [],
   "source": [
    "docker search fedora"
   ]
  },
  {
   "cell_type": "code",
   "execution_count": null,
   "metadata": {},
   "outputs": [],
   "source": [
    "docker pull fedora"
   ]
  },
  {
   "cell_type": "markdown",
   "metadata": {},
   "source": [
    "Once the container image has been downloaded we can view it in our catalog of images:"
   ]
  },
  {
   "cell_type": "code",
   "execution_count": null,
   "metadata": {},
   "outputs": [],
   "source": [
    "docker images"
   ]
  },
  {
   "cell_type": "markdown",
   "metadata": {},
   "source": [
    "This content is called an image and will serve as the base to create the operational container (here based on Fedora) in which we will process data:"
   ]
  },
  {
   "cell_type": "markdown",
   "metadata": {},
   "source": [
    "recup id here + comment"
   ]
  },
  {
   "cell_type": "code",
   "execution_count": null,
   "metadata": {},
   "outputs": [],
   "source": [
    "docker run -ti cc510acfcd70 /bin/bash"
   ]
  },
  {
   "cell_type": "code",
   "execution_count": null,
   "metadata": {},
   "outputs": [],
   "source": [
    "cat /etc/fedora-release"
   ]
  },
  {
   "cell_type": "code",
   "execution_count": null,
   "metadata": {},
   "outputs": [],
   "source": [
    "dnf install -y wget"
   ]
  },
  {
   "cell_type": "code",
   "execution_count": null,
   "metadata": {},
   "outputs": [],
   "source": [
    "uname -a"
   ]
  },
  {
   "cell_type": "markdown",
   "metadata": {},
   "source": [
    "If you're on a CentOS distribution it will rather be: \n",
    "Linux ad9b474525d0 3.10.0-327.el7.x86_64 #1 SMP Thu Oct 29 17:29:29 EDT 2015 x86_64 x86_64 x86_64 GNU/Linux"
   ]
  },
  {
   "cell_type": "markdown",
   "metadata": {},
   "source": [
    "So you checked that your container behaves like a Fedora 28 distribution. Only the kernel is shared between the Docker host and the Docker container. Open another console to view how this container has been created and is seen:"
   ]
  },
  {
   "cell_type": "code",
   "execution_count": null,
   "metadata": {},
   "outputs": [],
   "source": [
    "docker ps"
   ]
  },
  {
   "cell_type": "markdown",
   "metadata": {},
   "source": [
    "If you logout of the container, you'll see how Docker manages that fact:"
   ]
  },
  {
   "cell_type": "code",
   "execution_count": null,
   "metadata": {},
   "outputs": [],
   "source": [
    "exit"
   ]
  },
  {
   "cell_type": "code",
   "execution_count": null,
   "metadata": {},
   "outputs": [],
   "source": [
    "docker ps"
   ]
  },
  {
   "cell_type": "code",
   "execution_count": null,
   "metadata": {},
   "outputs": [],
   "source": [
    "docker ps -a"
   ]
  },
  {
   "cell_type": "markdown",
   "metadata": {},
   "source": [
    "So your container is seen as stopped and you have to use the -a option to see it in the history of containers created, but not active anymore.\n",
    "\n",
    "Re-create a new container based on the same image, connect to it and look at the packages installed. Check what Docker sees. Use the previous commands to perform these tasks.\n",
    "\n",
    "Answer the questions:\n",
    "  1. Can you download a web page with wget in your container ? Why ? Which steps are needed now ? Why ?\n",
    "  2. Can you connect back to your first container ? (Hint: use **docker start** to re-enable your dead container and **docker attach** to re-enter in it)\n",
    "  3. Feel free to call the trainer if something is unclear or if you want to ensure you understand all points.\n"
   ]
  },
  {
   "cell_type": "markdown",
   "metadata": {},
   "source": [
    "# Configuring owncloud in a container\n",
    "\n",
    "Estimated time: 60 minutes.\n",
    "\n",
    "Based on the work done in the Docker Dojo during a Grenoble Docker Meetup (cf: https://github.com/Enalean/docker-dojo/tree/master/owncloud).\n",
    "\n",
    "Owncloud is a web based application providing services such as calendar data or file sharing e.g.\n",
    "When we want to contain an application such as owncloud, there are a certain number of aspects to take in account and solve:\n",
    "  1. installing the application and its dependencies in the container\n",
    "  2. allow IP configuration for remote access to the application\n",
    "  3. allow data persistence at each invocation of the container\n",
    "  4. allow configuration data persistence at each invocation of the container\n",
    "One possibility would be to run the container from an image and launch the various commands in the container (as we've done previously). We could put that in a script and launch it systematically when we instantiate a container from an image, or rebuild a prepared image to be instantiated later. But there is a better way to achieve what we want to do, and this is by using the automation process by Docker with the Dockerfile.\n",
    "\n",
    "The Dockerfile is a way to describe all the operations required to create an image from an initial empty one and stacking all the operations to build at the end the final image ready to be instantiated and consumed and thrown away\n",
    "Let's start our Dockerfile by creating a simple container from a base image and just installing some software components useful for our environment, and build an image from that:\n"
   ]
  },
  {
   "cell_type": "markdown",
   "metadata": {},
   "source": [
    "`#` **`cat > Dockerfile << EOF`**\n",
    "```\n",
    "FROM centos:6\n",
    "RUN yum install -y httpd\n",
    "EOF\n",
    "```\n",
    "\n",
    "Note : Use **`cat Dockerfile`** to see the file content."
   ]
  },
  {
   "cell_type": "code",
   "execution_count": null,
   "metadata": {},
   "outputs": [],
   "source": [
    "docker build ."
   ]
  },
  {
   "cell_type": "code",
   "execution_count": null,
   "metadata": {},
   "outputs": [],
   "source": [
    "docker images"
   ]
  },
  {
   "cell_type": "code",
   "execution_count": null,
   "metadata": {},
   "outputs": [],
   "source": [
    "So we can verify that a new CentOS 6 image has been downloaded and based on it a new image has been created (without name nor tag, just an ID) containing httpd installed with its dependencies. Check it by instantiating a container based on that image and launching httpd in it:\n",
    "\n",
    "`#` **`**\n",
    "\n",
    "`[root@babbfd33b239 /]#` **` `**\n",
    "```\n",
    "\n",
    "\n",
    "`[root@babbfd33b239 /]#` **`t`**"
   ]
  },
  {
   "cell_type": "code",
   "execution_count": null,
   "metadata": {},
   "outputs": [],
   "source": [
    "docker run -ti 358657a2b6b0 /bin/bash"
   ]
  },
  {
   "cell_type": "code",
   "execution_count": null,
   "metadata": {},
   "outputs": [],
   "source": [
    "httpd"
   ]
  },
  {
   "cell_type": "markdown",
   "metadata": {},
   "source": [
    "httpd: Could not reliably determine the server's fully qualified domain name, using 172.17.0.5 for ServerName\n",
    "```\n",
    "Note : The above message is just a warning, as an evidence, you can see the processes running with the next command."
   ]
  },
  {
   "cell_type": "code",
   "execution_count": null,
   "metadata": {},
   "outputs": [],
   "source": [
    "ps auxww |grep ht"
   ]
  },
  {
   "cell_type": "code",
   "execution_count": null,
   "metadata": {},
   "outputs": [],
   "source": [
    "exit"
   ]
  },
  {
   "cell_type": "code",
   "execution_count": null,
   "metadata": {},
   "outputs": [],
   "source": [
    "docker ps -a"
   ]
  },
  {
   "cell_type": "code",
   "execution_count": null,
   "metadata": {},
   "outputs": [],
   "source": [
    "docker diff babbfd33b239"
   ]
  },
  {
   "cell_type": "code",
   "execution_count": null,
   "metadata": {},
   "outputs": [],
   "source": [
    "docker history 358657a2b6b"
   ]
  },
  {
   "cell_type": "markdown",
   "metadata": {},
   "source": [
    "So we checked that we can launch the httpd server from inside an instantiated container made from our image. We also checked how our image was built. Note that the image built is 72 MB larger than the base CentOS 6 one (shown by history) and has sensible modifications shown by the diff command.\n",
    "It's a good start, but now we would like to have our httpd server started automatically with our container creation. And have attribution accordingly ;-)"
   ]
  },
  {
   "cell_type": "code",
   "execution_count": null,
   "metadata": {},
   "outputs": [],
   "source": [
    "cat >> Dockerfile"
   ]
  },
  {
   "cell_type": "code",
   "execution_count": null,
   "metadata": {},
   "outputs": [],
   "source": [
    "```\n",
    "MAINTAINER myself@mydomain.org\n",
    "CMD httpd\n",
    "EOF\n",
    "```"
   ]
  },
  {
   "cell_type": "code",
   "execution_count": null,
   "metadata": {},
   "outputs": [],
   "source": [
    "docker build ."
   ]
  },
  {
   "cell_type": "markdown",
   "metadata": {},
   "source": [
    "You can remark that all the first steps are very quick. This is because Docker caches steps, and will not repeat them unless the Dockerfile changes. You can modify the Docker file by putting the `MAINTAINER` command as the second line and re-launch the build. You'll see that in that case Docker invalidates its cache and restarts.\n",
    "Now start a container from that image to check the web server is indeed started"
   ]
  },
  {
   "cell_type": "code",
   "execution_count": null,
   "metadata": {},
   "outputs": [],
   "source": [
    "docker run -ti 76cec1da7808"
   ]
  },
  {
   "cell_type": "markdown",
   "metadata": {},
   "source": [
    "httpd: Could not reliably determine the server's fully qualified domain name, using 172.17.0.6 for ServerName\n",
    "```\n",
    "1. What happened ? Why don't you get a prompt ?\n",
    "2. Use `docker ps` to see the status of your container and `docker logs` to see what happened.\n",
    "3. Try to adapt the Dockerfile to solve that issue. **Discuss with your trainer if you're stuck !**\n",
    "\n",
    "If the **`-ti`** option makes Apache die, then use the **`-d`** option instead to launch the container as a daemon instead."
   ]
  },
  {
   "cell_type": "code",
   "execution_count": null,
   "metadata": {},
   "outputs": [],
   "source": [
    "perl -pi -e 's|D httpd|D /usr/sbin/apachectl -DFOREGROUND -k start|' Dockerfile"
   ]
  },
  {
   "cell_type": "markdown",
   "metadata": {},
   "source": [
    "(This magic command replaces the launch of the httpd command by the apachectl one with the right options. If you are using CentOS 7 as the host OS, you will have to install perl via yum).\n",
    "\n",
    "1. Try to use a browser (you may want to install lynx) to connect to your web server. Can you do it ?\n",
    "2. Which IP address do you point to ? You can use `docker exec` to get the IP address for the container.\n",
    "\n",
    "By default, the container ports are not exposed outside of the container. So you can't use your host OS to access your isolated webserver. If you are running the container locally navigate to http://localhost in the host browser. If the container is running on lab instruture navigate to http://10.3.222.x (as directed by the instructor).\n",
    "\n",
    "You will have to explicitly open container port 80 to allow access to the web server running in the container. This will require changes to the Dockerfile:"
   ]
  },
  {
   "cell_type": "code",
   "execution_count": null,
   "metadata": {},
   "outputs": [],
   "source": [
    "cat >> Dockerfile << EOF`"
   ]
  },
  {
   "cell_type": "code",
   "execution_count": null,
   "metadata": {},
   "outputs": [],
   "source": [
    "EXPOSE 80\n",
    "EOF"
   ]
  },
  {
   "cell_type": "markdown",
   "metadata": {},
   "source": [
    "Note : This is not mandatory, as this is only metadata for the image. However it will help people to know the exposed port of your image."
   ]
  },
  {
   "cell_type": "code",
   "execution_count": null,
   "metadata": {},
   "outputs": [],
   "source": [
    "docker build ."
   ]
  },
  {
   "cell_type": "code",
   "execution_count": null,
   "metadata": {},
   "outputs": [],
   "source": [
    "docker run -d -p 80:80 04d9c18da22a\n",
    "docker ps"
   ]
  },
  {
   "cell_type": "markdown",
   "metadata": {},
   "source": [
    "Now that we have exposed the port, we're able to launch our container in daemon mode (-d) and redirect the local port 80 to the container port 80. Our web server is listening is listening on port 80 in the container. Repeat the earlier attempt to connect to the web server in the container. You should see a CentOS based page on your host distribution.\n",
    "\n",
    "It's now time to add some content to our web server !\n",
    "Modify again the Dockerfile to add owncloud to our image:"
   ]
  },
  {
   "cell_type": "code",
   "execution_count": null,
   "metadata": {},
   "outputs": [],
   "source": [
    "cat >> Dockerfile << EOF"
   ]
  },
  {
   "cell_type": "code",
   "execution_count": null,
   "metadata": {},
   "outputs": [],
   "source": [
    "RUN yum install -y tar bzip2\n",
    "ADD https://download.owncloud.org/community/7.0/owncloud-7.0.15.tar.bz2 /var/www/html/\n",
    "# Add this only if before docker engine 17.03\n",
    "# RUN cd /var/www/html/ && tar xvfj owncloud-7.0.15.tar.bz2 && rm -f owncloud-7.0.15.tar.bz2\n",
    "EOF"
   ]
  },
  {
   "cell_type": "markdown",
   "metadata": {},
   "source": [
    "We can directly point to a URL, Docker will download the content and extract it in place.\n",
    "Try now to connect to your owncloud instance. The URL is http://10.3.222.X/owncloud if we host the lab or http://localhost/owncloud if you run it locally.\n",
    "\n",
    "![Owncloud failed](Pictures/owncloud_without_dep.png)\n",
    "\n",
    "1. What happens?\n",
    "2. What should you do next to solve the issue ? **Discuss with your trainer if you're stuck !**\n",
    "\n",
    "Hint, you probably need to add the owncloud dependencies to be able to launch it. Open your Dockerfile and add the following line after the last ADD"
   ]
  },
  {
   "cell_type": "code",
   "execution_count": null,
   "metadata": {},
   "outputs": [],
   "source": [
    "RUN yum install -y php php-dom php-mbstring php-pdo php-gd"
   ]
  },
  {
   "cell_type": "code",
   "execution_count": null,
   "metadata": {},
   "outputs": [],
   "source": [
    "With that you should be able to use owncloud ! (Note that you need to use that version with CentOS 6 for a PHP dependency management) But we're not done yet !!!\n",
    "If you log on to your owncloud instance, and start customizing it (login/passwd for admin, storage path), you'll have errors first, that we'll fix later on and then if you `Docker stop` and `Docker rm` the container to relaunch it again, of course, none of this customization will be kept as it's not part of your container content.\n",
    "\n",
    "So we now have to deal with storage management for our Docker container. First we need to solve the error generated when you tried to configure your owncloud instance. We had rights issues. Use the following command to help solve the issue:"
   ]
  },
  {
   "cell_type": "code",
   "execution_count": null,
   "metadata": {},
   "outputs": [],
   "source": [
    "docker exec b42f9f6f1034 ls -al /var/www/html\n",
    "docker exec b42f9f6f1034 ps auxww | grep httpd"
   ]
  },
  {
   "cell_type": "markdown",
   "metadata": {},
   "source": [
    "The principle is that the owner of the httpd process should have the rights on the owncloud directory to read and store files there. ** So modify you Dockerfile accordingly and retest **.\n",
    "\n",
    "Now you should be able to customize your owncloud instance and start using it.\n",
    "\n",
    "By now you have probably remarked that the ADD order is done each time, without any benefit from the cache management of Docker. Also you have to each time deal with IDs for containers and images, which is not that convenient. Let's fix that. Download the owncloud tar file in your directory and modify the ADD line:"
   ]
  },
  {
   "cell_type": "code",
   "execution_count": null,
   "metadata": {},
   "outputs": [],
   "source": [
    "wget https://download.owncloud.org/community/7.0/owncloud-7.0.15.tar.bz2"
   ]
  },
  {
   "cell_type": "code",
   "execution_count": null,
   "metadata": {},
   "outputs": [],
   "source": [
    "perl -pi -e 's|ADD https://download.owncloud.org/community/7.0/owncloud-7.0.15.tar.bz2|COPY owncloud-7.0.15.tar.bz2|' Dockerfile"
   ]
  },
  {
   "cell_type": "code",
   "execution_count": null,
   "metadata": {},
   "outputs": [],
   "source": [
    "docker build -t owncloud ."
   ]
  },
  {
   "cell_type": "markdown",
   "metadata": {},
   "source": [
    "Next time you re-run the build, the cache effect is optimal. Also you now have tagged your image and use it by its name:"
   ]
  },
  {
   "cell_type": "markdown",
   "metadata": {},
   "source": [
    "docker images"
   ]
  },
  {
   "cell_type": "markdown",
   "metadata": {},
   "source": [
    "It would be great if you could persist the content from one run to another.  Yes, you can ;-) For that, you need to attach a local directory of your host to your container, and point the setup of your owncloud to that directory instead of the one under `/var/www/html/owncloud`.\n",
    "Create a `/data` directory on your host, mount it in your container under `/data`, and then point your setup ot it:"
   ]
  },
  {
   "cell_type": "code",
   "execution_count": null,
   "metadata": {},
   "outputs": [],
   "source": [
    "mkdir -p /data"
   ]
  },
  {
   "cell_type": "code",
   "execution_count": null,
   "metadata": {},
   "outputs": [],
   "source": [
    "date > /data/myfile.txt"
   ]
  },
  {
   "cell_type": "code",
   "execution_count": null,
   "metadata": {},
   "outputs": [],
   "source": [
    "cat >> Dockerfile << EOF"
   ]
  },
  {
   "cell_type": "code",
   "execution_count": null,
   "metadata": {},
   "outputs": [],
   "source": [
    "```\n",
    "VOLUME /data\n",
    "EOF\n",
    "```"
   ]
  },
  {
   "cell_type": "code",
   "execution_count": null,
   "metadata": {},
   "outputs": [],
   "source": [
    "docker build -t owncloud ."
   ]
  },
  {
   "cell_type": "code",
   "execution_count": null,
   "metadata": {},
   "outputs": [],
   "source": [
    "docker ps"
   ]
  },
  {
   "cell_type": "code",
   "execution_count": null,
   "metadata": {},
   "outputs": [],
   "source": [
    "docker stop 29c8f5ca3d76 "
   ]
  },
  {
   "cell_type": "code",
   "execution_count": null,
   "metadata": {},
   "outputs": [],
   "source": [
    "docker rm 29c8f5ca3d76"
   ]
  },
  {
   "cell_type": "code",
   "execution_count": null,
   "metadata": {},
   "outputs": [],
   "source": [
    "docker run -d -p 80:80 -v /data:/data owncloud:latest"
   ]
  },
  {
   "cell_type": "code",
   "execution_count": null,
   "metadata": {},
   "outputs": [],
   "source": []
  },
  {
   "cell_type": "markdown",
   "metadata": {},
   "source": [
    "Now reload the owncloud configuration page in your browser, but this time configure the data folder as in the following screen shot:\n",
    "\n",
    "![Owncloud Setup](Pictures/owncloud.png)\n",
    "\n",
    "** If you encounter issues you need to adapt your environment so that the apache user is allowed to write on to the /data directory. **\n",
    "\n",
    "Your current Dockerfile should look like this at that point:"
   ]
  },
  {
   "cell_type": "code",
   "execution_count": null,
   "metadata": {},
   "outputs": [],
   "source": [
    "cat Dockerfile"
   ]
  },
  {
   "cell_type": "code",
   "execution_count": null,
   "metadata": {},
   "outputs": [],
   "source": [
    "```\n",
    "FROM centos:6\n",
    "#FROM fedora:latest\n",
    "RUN yum install -y httpd\n",
    "MAINTAINER myself@mydomain.org\n",
    "RUN yum install -y tar bzip2\n",
    "COPY owncloud-7.0.15.tar.bz2 /var/www/html/\n",
    "RUN cd /var/www/html/ && tar xvfj owncloud-7.0.15.tar.bz2 && rm -f owncloud-7.0.15.tar.bz2\n",
    "RUN yum install -y php php-dom php-mbstring php-pdo php-gd\n",
    "VOLUME /data\n",
    "RUN chown -R apache:apache /var/www/html/owncloud /data\n",
    "CMD /usr/sbin/apachectl -DFOREGROUND -k start\n",
    "EXPOSE 80\n",
    "```"
   ]
  },
  {
   "cell_type": "markdown",
   "metadata": {},
   "source": [
    "Move the example text file you created earlier to your ownClould Documents folder so you can see the file and view the file in ownCloud."
   ]
  },
  {
   "cell_type": "code",
   "execution_count": null,
   "metadata": {},
   "outputs": [],
   "source": [
    "mv /data/myfile.txt /data/bruno/files/Documents"
   ]
  },
  {
   "cell_type": "markdown",
   "metadata": {},
   "source": [
    "Open the Documents folder in the ownCloud Web UI. Confirm that the myfile.txt example file is present and then view the contents to check that they match what you created earlier.\n"
   ]
  },
  {
   "cell_type": "code",
   "execution_count": null,
   "metadata": {},
   "outputs": [],
   "source": [
    "docker ps"
   ]
  },
  {
   "cell_type": "code",
   "execution_count": null,
   "metadata": {},
   "outputs": [],
   "source": [
    "docker stop 23f\n",
    "docker rm 23f"
   ]
  },
  {
   "cell_type": "code",
   "execution_count": null,
   "metadata": {},
   "outputs": [],
   "source": [
    "docker run -d -p 80:80 -v /data:/data owncloud:latest"
   ]
  },
  {
   "cell_type": "markdown",
   "metadata": {},
   "source": [
    "1. At that point you should find again your data on your owncloud instance right ? But what additional pain point do you have ?\n",
    "2. Knowing that the owncloud configuration data are located under `/var/www/html/owncloud/config/config.php`  try to adapt the Dockerfile to solve that last issue. **Discuss with your trainer if you're stuck !**\n",
    "Note : there is more than one way to solve this."
   ]
  },
  {
   "cell_type": "markdown",
   "metadata": {},
   "source": [
    "<br><br>\n",
    "\n",
    "## <i class=\"fas fa-2x fa-map-marker-alt\" style=\"color:#551199;\"></i>&nbsp;&nbsp;Next Steps\n",
    "\n",
    "# Lab3 : Using Docker Compose\n",
    "\n",
    "<h2>Next LAB&nbsp;&nbsp;&nbsp;&nbsp;<a href=\"3-WKSHP-Using-Docker-Compose.ipynb\" target=\"New\" title=\"Next LAB: Using Docker Compose\"><i class=\"fas fa-chevron-circle-right\" style=\"color:#551199;\"></i></a></h2>\n",
    "\n",
    "</br>\n",
    " <a href=\"1-WKSHP-Intro-to-Containers-techno.ipynb\" target=\"New\" title=\"Back: Introduction to Containers technologies\"><button type=\"submit\"  class=\"btn btn-lg btn-block\" style=\"background-color:#551199;color:#fff;position:relative;width:10%; height: 30px;float: left;\"><b>Back</b></button></a>\n",
    " <a href=\"3-WKSHP-Using-Docker-Compose.ipynb\" target=\"New\" title=\"Next:Using Docker Compose\"><button type=\"submit\"  class=\"btn btn-lg btn-block\" style=\"background-color:#551199;color:#fff;position:relative;width:10%; height: 30px;float: right;\"><b>Next</b></button></a>\n"
   ]
  }
 ],
 "metadata": {
  "kernelspec": {
   "display_name": "SSH",
   "language": "bash",
   "name": "ssh"
  },
  "language_info": {
   "codemirror_mode": "shell",
   "file_extension": ".sh",
   "mimetype": "text/x-sh",
   "name": "ssh"
  }
 },
 "nbformat": 4,
 "nbformat_minor": 4
}
