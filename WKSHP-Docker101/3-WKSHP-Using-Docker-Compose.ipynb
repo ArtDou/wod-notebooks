{
 "cells": [
  {
   "cell_type": "markdown",
   "metadata": {},
   "source": [
    "![HPEDEVlogo](Pictures/hpedevlogo-NB.JPG)    ![Dockerlogo](Pictures/docker-compose.png)  "
   ]
  },
  {
   "cell_type": "code",
   "execution_count": null,
   "metadata": {},
   "outputs": [],
   "source": [
    "%login {{ DINDSRVNAME }}"
   ]
  },
  {
   "cell_type": "markdown",
   "metadata": {},
   "source": [
    "# Using Docker compose\n",
    "\n",
    "Docker compose is a tool part of the Docker ecosystem.\n",
    "It is used to run solutions split in multiple containers which is the case most of the time.\n",
    "This is mainly due to the Docker philosophy to use one container per service.\n",
    "\n",
    "Another benefit is to define the container running parameters within a YAML configuration file."
   ]
  },
  {
   "cell_type": "markdown",
   "metadata": {},
   "source": [
    "## Installing Docker compose\n",
    "\n",
    "If you're not in the Docker in Docker setup, Use the following commands:"
   ]
  },
  {
   "cell_type": "code",
   "execution_count": null,
   "metadata": {},
   "outputs": [],
   "source": [
    "curl -L https://github.com/docker/compose/releases/download/1.9.0/docker-compose-$(uname -s)-$(uname -m) > /usr/local/bin/docker-compose"
   ]
  },
  {
   "cell_type": "markdown",
   "metadata": {},
   "source": [
    "If that command fails and you're on MacOS X (because the File System is read-only, then use the target /opt/local/sbin/docker-compose instead)"
   ]
  },
  {
   "cell_type": "code",
   "execution_count": null,
   "metadata": {},
   "outputs": [],
   "source": [
    "chmod +x /usr/local/bin/docker-compose"
   ]
  },
  {
   "cell_type": "markdown",
   "metadata": {},
   "source": [
    "Check that the binary works by displaying the revision (providing you have /usr/local/bin in your path):"
   ]
  },
  {
   "cell_type": "code",
   "execution_count": null,
   "metadata": {},
   "outputs": [],
   "source": [
    "docker-compose --version"
   ]
  },
  {
   "cell_type": "markdown",
   "metadata": {},
   "source": [
    "## Our first docker-compose.yml file\n",
    "Now we have a working docker-compose, we need to create an application environment and our first **docker-compose.yml** configuration file.\n",
    "\n",
    "Create the build environment by moving all our previous stuffs into a folder:"
   ]
  },
  {
   "cell_type": "code",
   "execution_count": null,
   "metadata": {},
   "outputs": [],
   "source": [
    "mkdir owncloud\n",
    "mv Dockerfile owncloud-7.0.15.tar.bz2 config.php owncloud\n",
    "cd owncloud"
   ]
  },
  {
   "cell_type": "markdown",
   "metadata": {},
   "source": [
    "Now we can create our configuration file. We will use the new v3.0 format instead of the legacy one. The v3.0 was created to extend functionalities and can be activated by specifying the release at the top of the file.\n",
    "\n",
    "Note : Of course old docker-compose binaries don't manage v3.0, you can find support information [here](https://docs.docker.com/compose/compose-file/#compose-and-docker-compatibility-matrix)"
   ]
  },
  {
   "cell_type": "code",
   "execution_count": null,
   "metadata": {},
   "outputs": [],
   "source": [
    "cat > docker-compose.yml << EOF`\n",
    "```\n",
    "version: '3'\n",
    "services:\n",
    "  web:\n",
    "    build: .\n",
    "    volumes:\n",
    "      - /data:/data\n",
    "    ports:\n",
    "      - \"80:80\"\n",
    "EOF\n",
    "```"
   ]
  },
  {
   "cell_type": "code",
   "execution_count": null,
   "metadata": {},
   "outputs": [],
   "source": [
    "The above file asks to docker-compose to define a web service that will be built from our Dockerfile, to expose port 80 and to map /data on the host to /data in the container.\n",
    "\n",
    "We can now start our application using:"
   ]
  },
  {
   "cell_type": "code",
   "execution_count": null,
   "metadata": {},
   "outputs": [],
   "source": [
    "docker-compose up -d"
   ]
  },
  {
   "cell_type": "code",
   "execution_count": null,
   "metadata": {},
   "outputs": [],
   "source": [
    "docker ps"
   ]
  },
  {
   "cell_type": "markdown",
   "metadata": {},
   "source": [
    "Our application starts and should work the same way as previously. However it is much simpler because we don't need to define ports and storage mapping using the command line, also the YAML file can be held in and this information can be managed in Configuration Management System.\n",
    "\n",
    "You can also note that the container name is defined as `application_service_number` (owncloud_web_1)\n",
    "\n",
    "Now stop the application:"
   ]
  },
  {
   "cell_type": "code",
   "execution_count": null,
   "metadata": {},
   "outputs": [],
   "source": [
    "docker-compose down"
   ]
  },
  {
   "cell_type": "markdown",
   "metadata": {},
   "source": [
    "Check what happens to the container.\n",
    "\n",
    "Ok that's cool, but it is not really a big change so far."
   ]
  },
  {
   "cell_type": "markdown",
   "metadata": {},
   "source": [
    "## Going further with docker-compose.yml\n",
    "\n",
    "If we look at our owncloud application, we are using an internal sqlite database. This was defined during the setup phase.\n",
    "\n",
    "As mentioned during the setup (below), this is convenient for a limited installation, but for larger ones it is better to use mysql/mariadb or postgres.\n",
    "\n",
    "![Owncloud sqlite setup](Pictures/owncloud_setup.png)\n",
    "\n",
    "In order to install owncloud on another database:\n",
    "\n",
    "   1. Wipe `config.php` to have the setup page proposed again by the application.\n",
    "   2. Add the `php-mysql` package to your Dockerfile in the relevant part.\n",
    "   3. Start the application but use `docker-compose up -d --build` to force the rebuild of the Dockerfile.\n",
    "\n",
    "![Owncloud sqlite setup](Pictures/owncloud_setup_db.png)\n",
    "\n",
    "Instead of building our own mariadb container from scratch like we did for owncloud, we will use the official Docker one.\n",
    "\n",
    "Of course it requires some information about the compose-file format. Documentation for this can be found here: https://docs.docker.com/compose/compose-file and the image itself there: https://hub.docker.com/_/mariadb\n",
    "\n",
    "  1. Try to modify `docker-compose.yml` to add a db service based on the mariadb official images.\n",
    "  2. We need to provide the database parameters fields (user, password etc...). Hint: Look at the mariadb container environment variables. **Discuss with your trainer if you're stuck or use our slack Channel!**\n",
    "  3. What is the hostname of our container ? Hint: Look at the links or preferred network directive to allow db container connection from the web container.\n"
   ]
  },
  {
   "cell_type": "markdown",
   "metadata": {},
   "source": [
    "If you didn't manage to configure the mariadb container and use it with owncloud, then the additional content for your docker-compose.yml could be useful:\n",
    "```\n",
    "  db:\n",
    "    image: mariadb\n",
    "    environment:\n",
    "      - MYSQL_ROOT_PASSWORD=password\n",
    "      - MYSQL_DATABASE=owncloud\n",
    "      - MYSQL_USER=owncloud\n",
    "      - MYSQL_PASSWORD=owncloudpwd\n",
    "```\n",
    "\n",
    "We are now using a mariadb container, but the database content is inside the container. So this is the same story as before, we need to keep our data persistent.\n",
    "\n",
    "  1. Find out where are managed the db files.\n",
    "  1. Use a Docker volume to use them from the host.\n",
    "  2. Modify docker-compose.yml to do that. Hint: separate owncloud and db data under /data to avoid user rights conflicts.\n",
    "\n",
    "If you manage to configure the mariadb container with persistent data your docker-compose.yml should look like this:\n",
    "```\n",
    "version: '3'\n",
    "services:\n",
    "  web:\n",
    "    build: .\n",
    "    volumes:\n",
    "      - /data/owncloud:/data/owncloud\n",
    "    ports:\n",
    "      - \"80:80\"\n",
    "    networks:\n",
    "      - oclan\n",
    "    depends_on:\n",
    "      - db\n",
    "  db:\n",
    "    image: mariadb\n",
    "    environment:\n",
    "      - MYSQL_ROOT_PASSWORD=password\n",
    "      - MYSQL_DATABASE=owncloud\n",
    "      - MYSQL_USER=owncloud\n",
    "      - MYSQL_PASSWORD=owncloudpwd\n",
    "    networks:\n",
    "      - oclan\n",
    "    volumes:\n",
    "      - /data/db:/var/lib/mysql\n",
    "networks:\n",
    "  oclan:\n",
    "    driver: bridge\n",
    "```"
   ]
  },
  {
   "cell_type": "code",
   "execution_count": null,
   "metadata": {},
   "outputs": [],
   "source": [
    "docker-compose ps"
   ]
  },
  {
   "cell_type": "markdown",
   "metadata": {},
   "source": [
    "Try to change the listening port inside your docker-compose.yml file and perform a `docker-compose -up -d`\n",
    "\n",
    "You can notice that only the services that need to be modified are recreated.\n",
    "\n",
    "You may like to try to allow scalability for your application by scaling the\n",
    "web service"
   ]
  },
  {
   "cell_type": "code",
   "execution_count": null,
   "metadata": {},
   "outputs": [],
   "source": [
    "docker-compose scale web=2"
   ]
  },
  {
   "cell_type": "markdown",
   "metadata": {},
   "source": [
    "Detect whether this is working or not and why. If not, we'll find another way\n",
    "to solve this.\n",
    "\n",
    "Bonus, you can try to update the docker-compose.yml file to add an ha-proxy instance in front of the web services."
   ]
  },
  {
   "cell_type": "code",
   "execution_count": null,
   "metadata": {},
   "outputs": [],
   "source": [
    "# Using docker-machine to create Docker hosts\n",
    "\n",
    "Depending on the context of the Lab, you may already have enough machines available (5) to run the Swarm part, or you may need to create them. In that case, continue with this part, if not, skip to the next one.\n",
    "\n",
    "docker-machine is a Docker tool that can be used to deploy Docker hosts on various cloud platforms (AWS, Azure, Digital Ocean, Openstack, etc...).\n",
    "We will use this tool to deploy 5 nodes that will be used later in the Swarm part. Docker machine simply deploys a server on your favorite provider and then installs the latest release of Docker Engine.\n",
    "\n",
    "The following command will deploy one node to our openstack environment but will not run it yet."
   ]
  },
  {
   "cell_type": "code",
   "execution_count": null,
   "metadata": {},
   "outputs": [],
   "source": [
    "docker-machine create --driver openstack --openstack-auth-url http://10.11.50.26:5000/v2.0 --openstack-flavor-name m1.small --openstack-image-name ubuntu1604 --openstack-username dockerlab --openstack-password Linux1 --openstack-tenant-name dockerlab --openstack-net-name private --openstack-floatingip-pool external-network --openstack-sec-groups default --openstack-ssh-user ubuntu dockerw1"
   ]
  },
  {
   "cell_type": "code",
   "execution_count": null,
   "metadata": {},
   "outputs": [],
   "source": [
    "In order to save time we will deploy 5 hosts in parallel with the following command."
   ]
  },
  {
   "cell_type": "code",
   "execution_count": null,
   "metadata": {},
   "outputs": [],
   "source": [
    "for i in dockerm1 dockerm2 dockerm3 dockerw1 dockerw2; do\n",
    "    docker-machine create --driver openstack --openstack-auth-url http://10.11.50.26:5000/v2.0 --openstack-flavor-name m1.small --openstack-image-name ubuntu1604 --openstack-username dockerlab --openstack-password linux1 --openstack-tenant-name dockerlab --openstack-net-name private --openstack-floatingip-pool external-network --openstack-sec-groups default --openstack-ssh-user ubuntu $i &\n",
    "done"
   ]
  },
  {
   "cell_type": "code",
   "execution_count": null,
   "metadata": {},
   "outputs": [],
   "source": [
    "This will take around 5mn. You can list the machines installed with the command:"
   ]
  },
  {
   "cell_type": "code",
   "execution_count": null,
   "metadata": {},
   "outputs": [],
   "source": [
    "docker-machine ls"
   ]
  },
  {
   "cell_type": "code",
   "execution_count": null,
   "metadata": {},
   "outputs": [],
   "source": [
    "To connect to a server you can use:"
   ]
  },
  {
   "cell_type": "code",
   "execution_count": null,
   "metadata": {},
   "outputs": [],
   "source": [
    "docker-machine ssh <machine_name>"
   ]
  },
  {
   "cell_type": "code",
   "execution_count": null,
   "metadata": {},
   "outputs": [],
   "source": [
    "Docker CLI always uses the API. So you can configure the CLI to use a remote host instead of your local Unix socket. That way your client will act as usual but instead of managing your local engine, it will manage a remote one.\n",
    "Example, suppose you want to interact with the dockerm1 machine. Just type the following command:"
   ]
  },
  {
   "cell_type": "code",
   "execution_count": null,
   "metadata": {},
   "outputs": [],
   "source": [
    "docker-machine env dockerm1"
   ]
  },
  {
   "cell_type": "code",
   "execution_count": null,
   "metadata": {},
   "outputs": [],
   "source": [
    "The above command will provide the env variable and the command to export them in the environment. So using"
   ]
  },
  {
   "cell_type": "code",
   "execution_count": null,
   "metadata": {},
   "outputs": [],
   "source": [
    "eval $(docker-machine env dockerm1)"
   ]
  },
  {
   "cell_type": "code",
   "execution_count": null,
   "metadata": {},
   "outputs": [],
   "source": [
    "you can now work with Docker as usual, however all commands passed will operate on the remote host."
   ]
  },
  {
   "cell_type": "markdown",
   "metadata": {},
   "source": [
    "<br><br>\n",
    "\n",
    "## <i class=\"fas fa-2x fa-map-marker-alt\" style=\"color:#551199;\"></i>&nbsp;&nbsp;Next Steps\n",
    "\n",
    "# Conclusion\n",
    "\n",
    "<h2>Next LAB&nbsp;&nbsp;&nbsp;&nbsp;<a href=\"4-WKSHP-Conclusion.ipynbb\" target=\"New\" title=\"Next : Conclusion\"><i class=\"fas fa-chevron-circle-right\" style=\"color:#551199;\"></i></a></h2>\n",
    "\n",
    "</br>\n",
    " <a href=\"2-WKSHP-Using-Docker.ipynb\" target=\"New\" title=\"Back: Using Docker\"><button type=\"submit\"  class=\"btn btn-lg btn-block\" style=\"background-color:#551199;color:#fff;position:relative;width:10%; height: 30px;float: left;\"><b>Back</b></button></a>\n",
    " <a href=\"3-WKSHP-Using-Docker-Compose.ipynb\" target=\"New\" title=\"Next:Conclusion\"><button type=\"submit\"  class=\"btn btn-lg btn-block\" style=\"background-color:#551199;color:#fff;position:relative;width:10%; height: 30px;float: right;\"><b>Next</b></button></a>\n"
   ]
  },
  {
   "cell_type": "code",
   "execution_count": null,
   "metadata": {},
   "outputs": [],
   "source": []
  }
 ],
 "metadata": {
  "kernelspec": {
   "display_name": "SSH",
   "language": "bash",
   "name": "ssh"
  },
  "language_info": {
   "codemirror_mode": "shell",
   "file_extension": ".sh",
   "mimetype": "text/x-sh",
   "name": "ssh"
  }
 },
 "nbformat": 4,
 "nbformat_minor": 4
}
