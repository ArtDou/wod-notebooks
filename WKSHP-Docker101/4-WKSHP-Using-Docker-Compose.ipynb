{
 "cells": [
  {
   "cell_type": "markdown",
   "metadata": {},
   "source": [
    "![HPEDEVlogo](Pictures/hpedevlogo-NB.JPG)    ![Dockerlogo](Pictures/docker-compose.png)  "
   ]
  },
  {
   "cell_type": "code",
   "execution_count": null,
   "metadata": {},
   "outputs": [],
   "source": [
    "%login {{ hostvars[inventory_hostname]['IP-WKSHP-Docker101'] }}"
   ]
  },
  {
   "cell_type": "markdown",
   "metadata": {},
   "source": [
    "# Using Docker compose\n",
    "\n",
    "Docker compose is a tool part of the Docker ecosystem.\n",
    "It is used to run solutions split in multiple containers which is the case most of the time.\n",
    "This is mainly due to the Docker philosophy to use one container per service.\n",
    "\n",
    "Another benefit is to define the container running parameters within a YAML configuration file."
   ]
  },
  {
   "cell_type": "markdown",
   "metadata": {},
   "source": [
    "## Our first docker-compose.yml file\n",
    "We need to create an application environment and our first **docker-compose.yml** configuration file.\n",
    "\n",
    "Use the build environment of the previous chapter and create our configuration file in it. \n",
    "\n",
    "Note : There are various docker-compose binaries and configuration file format existing.You can find support information [here](https://docs.docker.com/compose/release-notes/)"
   ]
  },
  {
   "cell_type": "code",
   "execution_count": null,
   "metadata": {},
   "outputs": [],
   "source": [
    "export STUDENTHOME=`pwd`\n",
    "export HTTPPORT=`cat HTTPPORT`\n",
    "cd build\n",
    "cat > docker-compose.yml << EOF\n",
    "version: '3.5'\n",
    "services:\n",
    "  hpedevcloud_web:\n",
    "    build: .\n",
    "    image: img_hpedevcloud_web\n",
    "    volumes:\n",
    "      - $STUDENTHOME/data:/var/www/html/nextcloud/data\n",
    "      - $STUDENTHOME/config:/var/www/html/nextcloud/config\n",
    "    ports:\n",
    "      - \"$HTTPPORT:80\"\n",
    "EOF"
   ]
  },
  {
   "cell_type": "markdown",
   "metadata": {},
   "source": [
    "The above file asks to docker-compose to define a web service that will be built from our Dockerfile, to map port $HTTPPORT to 80 and to map the data and config directories at their expected place in the container.\n",
    "\n",
    "We can now start our application using:"
   ]
  },
  {
   "cell_type": "code",
   "execution_count": null,
   "metadata": {},
   "outputs": [],
   "source": [
    "docker-compose up --build -d"
   ]
  },
  {
   "cell_type": "code",
   "execution_count": null,
   "metadata": {},
   "outputs": [],
   "source": [
    "docker container ls"
   ]
  },
  {
   "cell_type": "markdown",
   "metadata": {},
   "source": [
    "Our application starts and should work the same way as previously. However it is much simpler because we don't need to define ports and storage mapping using the command line, also the YAML file can be held in and this information can be managed in a Configuration Management System such as `git`.\n",
    "\n",
    "You can also note that the container name is defined as `context_service_number` (build_hpedevcloud_web_1)"
   ]
  },
  {
   "cell_type": "markdown",
   "metadata": {},
   "source": [
    "Test your nexcloud instance as previously in your browser."
   ]
  },
  {
   "cell_type": "markdown",
   "metadata": {},
   "source": [
    "Check what happens to the container."
   ]
  },
  {
   "cell_type": "code",
   "execution_count": 4,
   "metadata": {},
   "outputs": [],
   "source": [
    "docker container ls -a"
   ]
  },
  {
   "cell_type": "markdown",
   "metadata": {},
   "source": [
    "Now stop the application and look at the containers again"
   ]
  },
  {
   "cell_type": "code",
   "execution_count": null,
   "metadata": {},
   "outputs": [],
   "source": [
    "docker-compose down\n",
    "docker container ls -a"
   ]
  },
  {
   "cell_type": "markdown",
   "metadata": {},
   "source": [
    "So contrary to the basic `docker` command, `docker-compose` does the cleanup of containers after shutdown. "
   ]
  },
  {
   "cell_type": "markdown",
   "metadata": {},
   "source": [
    "Ok that's cool, but it is not really a big change so far."
   ]
  },
  {
   "cell_type": "markdown",
   "metadata": {},
   "source": [
    "## Going further with docker-compose.yml\n",
    "\n",
    "If we look at our nextcloud application, we see we are using an internal sqlite database. This was defined during the setup phase.\n",
    "\n",
    "As mentioned during the setup (below), this is convenient for a limited installation, but for larger ones it is better to use mariadb or postgres.\n",
    "\n",
    "![Nextcloud sqlite setup](Pictures/nextcloud_setup.png)\n",
    "\n",
    "In order to install nextcloud with another database: \n",
    "\n",
    "   1. Cleanup the nexcloud install in order to have the setup page proposed again by the application.\n",
    "   2. Add the `php-mysqlnd` package to your Dockerfile when installing dependencies for nexcloud.\n",
    "   3. Add a new container running a MariaDB server to store our data in a persistent manner, using a private network to communicate between the frontend and the backend.\n",
    "   4. Start the application stack forcing the rebuild of the image as the Dockerfile changed.\n",
    "   5. Look at the result\n",
    "\n",
    "First, instead of building our own mariadb container from scratch like we did for nextcloud, we will use the official Docker one.\n",
    "\n",
    "Of course it requires some information about the compose-file format. Documentation for this can be found here: https://docs.docker.com/compose/compose-file and the image itself there: https://hub.docker.com/_/mariadb\n",
    "We will pass some variables to the container creation in order to be able to log on it afterwards."
   ]
  },
  {
   "cell_type": "code",
   "execution_count": null,
   "metadata": {},
   "outputs": [],
   "source": [
    "docker-compose up -d\n",
    "docker exec build_hpedevcloud_web_1 rm -rf /var/www/html/nextcloud/data\n",
    "docker exec build_hpedevcloud_web_1 rm -f /var/www/html/nextcloud/config/config.php\n",
    "docker exec build_hpedevcloud_web_1 touch /var/www/html/nextcloud/config/CAN_INSTALL\n",
    "mkdir -p ../db\n",
    "docker-compose down\n",
    "sed -i -e 's/php-zip/php-zip php-mysqlnd/' Dockerfile\n",
    "export STUDENTHOME=`dirname $(pwd)`\n",
    "\n",
    "cat >> docker-compose.yml << EOF\n",
    "    networks:\n",
    "      - nclan\n",
    "    depends_on:\n",
    "      - hpedevcloud_db\n",
    "      \n",
    "  hpedevcloud_db:\n",
    "    image: mariadb\n",
    "    # Hint from https://techoverflow.net/2021/08/17/how-to-fix-nextcloud-4047-innodb-refuses-to-write-tables-with-row_formatcompressed-or-key_block_size/\n",
    "    command: --transaction-isolation=READ-COMMITTED --binlog-format=ROW --innodb-file-per-table=1 --skip-innodb-read-only-compressed\n",
    "    restart: always\n",
    "    environment:\n",
    "      - MYSQL_ROOT_PASSWORD=password\n",
    "      - MYSQL_DATABASE=nextcloud\n",
    "      - MYSQL_USER=nextcloud\n",
    "      - MYSQL_PASSWORD=nextcloudpwd\n",
    "    networks:\n",
    "      - nclan\n",
    "    volumes:\n",
    "      - $STUDENTHOME/db:/var/lib/mysql\n",
    "      \n",
    "networks:\n",
    "  nclan:\n",
    "    driver: bridge\n",
    "EOF\n",
    "docker-compose up --build -d\n",
    "docker-compose ps"
   ]
  },
  {
   "cell_type": "markdown",
   "metadata": {},
   "source": [
    "![Nextcloud MariaDB setup](Pictures/nextcloud_db_setup.png)\n",
    "\n",
    "The password to use is the one passed with the `MYSQL_PASSWORD` environment variable.\n",
    "\n",
    "Check that you can have access to this newly configured Nextcloud based on MariaDB.\n",
    "First if you have a gateway issue/timeout, refresh the page (Shift reload may be necessary). \n",
    "\n",
    "Log in back and start using again by uploading a file. Stop and restart again the stack and check that the file is still there."
   ]
  },
  {
   "cell_type": "code",
   "execution_count": null,
   "metadata": {},
   "outputs": [],
   "source": [
    "docker-compose down\n",
    "docker-compose up -d\n",
    "docker-compose ps"
   ]
  },
  {
   "cell_type": "markdown",
   "metadata": {},
   "source": [
    "Great ! \n",
    "\n",
    "As a next step, we could manage our own MariaDB server from the same standard Linux distribution to allow for common base. In that case, you'd probably have to launch the server using: `CMD /usr/libexec/mysql-check-socket && /usr/libexec/mysql-prepare-db-dir && /usr/libexec/mysql-check-socket && /usr/libexec/mysql-prepare-db-dir && mariadb-server` and use additional commands to setup the root passord and an admin account with `docker exec  build_hpedevcloud_db_1 /usr/bin/mysqladmin -u root password 'linux1'`. This is left as an exercise for the reader.\n",
    "\n",
    "But moreover, we now have the start of a micro-service architecture. Each service is isolated in its own container and can be scaled separately. let's try with the web server:"
   ]
  },
  {
   "cell_type": "code",
   "execution_count": null,
   "metadata": {},
   "outputs": [],
   "source": [
    "docker-compose down\n",
    "docker-compose up --scale hpedevcloud_web=2 -d\n",
    "docker-compose ps"
   ]
  },
  {
   "cell_type": "markdown",
   "metadata": {},
   "source": [
    "For that to work, we would need a clustered version of MariaDB on the back-end side, and avoid the port conflict as you can see upper on the front-end side. One way is to manage a load-balancer to receive the requests on that port which we would then redirect to multiple frontend web servers. Let's try !\n",
    "\n",
    "For that we'll have to:\n",
    "\n",
    "   1. Add a new container running a haproxy server, with a persistent storage for its configuration and using a private network to communicate with the frontend.\n",
    "   3. Look at the result\n",
    "   \n",
    "More details on how haproxy is working are available at https://en.wikipedia.org/wiki/HAProxy and information on the Docker Hub image at https://hub.docker.com/_/haproxy"
   ]
  },
  {
   "cell_type": "code",
   "metadata": {},
   "execution_count": null,
   "outputs": [],
   "source": [
    "export STUDENTHOME=`dirname $(pwd)`\n",
    "mkdir -p ../ha\n",
    "\n",
    "cat > ../ha/haproxy.cfg << EOF\n",
    "global\n",
    "    log /dev/log local0\n",
    "    log localhost local1 notice\n",
    "    maxconn 2000\n",
    "    daemon\n",
    " \n",
    "defaults\n",
    "    log global\n",
    "    mode http\n",
    "    option httplog\n",
    "    option dontlognull\n",
    "    retries 3\n",
    "    timeout connect 5000\n",
    "    timeout client 50000\n",
    "    timeout server 50000\n",
    " \n",
    "frontend http-in\n",
    "    bind *:8000\n",
    "    default_backend webservers\n",
    " \n",
    "backend webservers\n",
    "    stats enable\n",
    "    stats auth admin:admin\n",
    "    stats uri /haproxy?stats\n",
    "    balance roundrobin\n",
    "    option httpchk\n",
    "    option forwardfor\n",
    "    option http-server-close\n",
    "    server-template hpedevcloud_web_ 6 hpedevcloud_web:80 check\n",
    "EOF\n",
    "\n",
    "cat > docker-compose.yml << EOF\n",
    "version: '3.5'\n",
    "services:\n",
    "  hpedevcloud_web:\n",
    "    build: .\n",
    "    image: img_hpedevcloud_web\n",
    "    volumes:\n",
    "      - $STUDENTHOME/data:/var/www/html/nextcloud/data\n",
    "      - $STUDENTHOME/config:/var/www/html/nextcloud/config\n",
    "    networks:\n",
    "      nclan:\n",
    "      proxylan:\n",
    "        aliases:\n",
    "          - hpedevcloud_web\n",
    "    depends_on:\n",
    "      - hpedevcloud_db\n",
    "      \n",
    "  hpedevcloud_db:\n",
    "    image: mariadb\n",
    "    command: --transaction-isolation=READ-COMMITTED --binlog-format=ROW --innodb-file-per-table=1 --skip-innodb-read-only-compressed\n",
    "    restart: always\n",
    "    environment:\n",
    "      - MYSQL_ROOT_PASSWORD=password\n",
    "      - MYSQL_DATABASE=nextcloud\n",
    "      - MYSQL_USER=nextcloud\n",
    "      - MYSQL_PASSWORD=nextcloudpwd\n",
    "    networks:\n",
    "      - nclan\n",
    "    volumes:\n",
    "      - $STUDENTHOME/db:/var/lib/mysql\n",
    "      \n",
    "  hpedevcloud_proxy:\n",
    "    image: haproxy:2.5\n",
    "    ports:\n",
    "      - \"$HTTPPORT:8000\"\n",
    "    networks:\n",
    "      - proxylan\n",
    "    volumes:\n",
    "      - $STUDENTHOME/ha:/usr/local/etc/haproxy\n",
    "    depends_on:\n",
    "      - hpedevcloud_web\n",
    "      \n",
    "networks:\n",
    "  nclan:\n",
    "    driver: bridge\n",
    "  proxylan:\n",
    "    driver: bridge\n",
    "EOF\n",
    "\n",
    "docker-compose down\n",
    "docker-compose up --scale hpedevcloud_web=2\n",
    "docker-compose ps"
   ]
  },
  {
   "cell_type": "markdown",
   "metadata": {},
   "source": [
    "It seems to work. All containers are launched and ports seem to work ok. If you log on nextcloud however you may start seeing timeouts, and deconnections or not even being able to login as nextcloud is not cluster aware. Well this is in fact normal."
   ]
  },
  {
   "cell_type": "markdown",
   "metadata": {},
   "source": [
    "<br><br>\n",
    "\n",
    "## <i class=\"fas fa-2x fa-map-marker-alt\" style=\"color:#551199;\"></i>&nbsp;&nbsp;Next Steps\n",
    "\n",
    "# Conclusion\n",
    "\n",
    "<h2>Next LAB&nbsp;&nbsp;&nbsp;&nbsp;<a href=\"4-WKSHP-Conclusion.ipynbb\" target=\"New\" title=\"Next : Conclusion\"><i class=\"fas fa-chevron-circle-right\" style=\"color:#551199;\"></i></a></h2>\n",
    "\n",
    "</br>\n",
    " <a href=\"2-WKSHP-Using-Docker.ipynb\" target=\"New\" title=\"Back: Using Docker\"><button type=\"submit\"  class=\"btn btn-lg btn-block\" style=\"background-color:#551199;color:#fff;position:relative;width:10%; height: 30px;float: left;\"><b>Back</b></button></a>\n",
    " <a href=\"3-WKSHP-Using-Docker-Compose.ipynb\" target=\"New\" title=\"Next:Conclusion\"><button type=\"submit\"  class=\"btn btn-lg btn-block\" style=\"background-color:#551199;color:#fff;position:relative;width:10%; height: 30px;float: right;\"><b>Next</b></button></a>\n"
   ]
  }
 ],
 "metadata": {
  "kernelspec": {
   "display_name": "SSH",
   "language": "bash",
   "name": "ssh"
  },
  "language_info": {
   "codemirror_mode": "shell",
   "file_extension": ".sh",
   "mimetype": "text/x-sh",
   "name": "ssh"
  }
 },
 "nbformat": 4,
 "nbformat_minor": 4
}
