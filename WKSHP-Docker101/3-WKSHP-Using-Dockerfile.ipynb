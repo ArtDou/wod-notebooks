{
 "cells": [
  {
   "cell_type": "markdown",
   "metadata": {},
   "source": [
    "![HPEDEVlogo](Pictures/hpedevlogo-NB.JPG)    ![Dockerlogo](Pictures/docker.png)  "
   ]
  },
  {
   "cell_type": "markdown",
   "metadata": {},
   "source": [
    "Let's start by connecting to our docker appliance again (Docker in Docker Appliance)"
   ]
  },
  {
   "cell_type": "code",
   "execution_count": null,
   "metadata": {},
   "outputs": [],
   "source": [
    "%login {{ hostvars[inventory_hostname]['IP-WKSHP-Docker101'] }}"
   ]
  },
  {
   "cell_type": "code",
   "execution_count": 3,
   "metadata": {},
   "outputs": [
    {
     "name": "stdout",
     "output_type": "stream",
     "text": [
      "[ssh] Login to 16.31.86.200...\n",
      "[ssh] host=16.31.86.200 hostname=16.31.86.200 other_conf={'user': None, 'port': None, 'keyfile': None, 'load_system_ssh_config': False, 'missing_host_policy': <paramiko.client.WarningPolicy object at 0x7ff064367ac0>}\n",
      "[ssh] Successfully logged in.\n"
     ]
    }
   ],
   "source": [
    "%login 16.31.86.200"
   ]
  },
  {
   "cell_type": "markdown",
   "metadata": {},
   "source": [
    "# Configuring nextcloud in a container\n",
    "\n",
    "Estimated time: 60 minutes.\n",
    "\n",
    "Based on the work done in the Docker Dojo during a Grenoble Docker Meetup (cf: https://github.com/Enalean/docker-dojo/tree/master/owncloud).\n",
    "\n",
    "Nextcloud is a web based application providing services such as calendar data or file sharing e.g.\n",
    "When we want to contain an application such as nextcloud, there are a certain number of aspects to take in account and solve:\n",
    "  1. installing the application and its dependencies in the container\n",
    "  2. allow IP configuration for remote access to the application\n",
    "  3. allow data persistence at each invocation of the container\n",
    "  4. allow configuration data persistence at each invocation of the container\n",
    "  \n",
    "One possibility would be to run the container from an image and launch the various commands in the container (as we've done previously). We could put that in a script and launch it systematically when we instantiate a container from an image, or rebuild a prepared image to be instantiated later. But there is a better way to achieve what we want to do, and this is by using the automation process by Docker with the Dockerfile.\n",
    "\n",
    "The Dockerfile is a way to describe all the operations required to create an image from an initial basic one and stacking all the operations to build at the end the final image ready to be instantiated and consumed and thrown away.\n",
    "\n",
    "Let's start our Dockerfile by creating a simple container from a base image and just installing some software components useful for our environment, and build an image from that:\n"
   ]
  },
  {
   "cell_type": "code",
   "execution_count": 4,
   "metadata": {},
   "outputs": [
    {
     "name": "stdout",
     "output_type": "stream",
     "text": [
      "[ssh] host = 16.31.86.200, cwd = /home/jupyter\n",
      "FROM centos:7\n",
      "RUN yum install -y httpd\n"
     ]
    }
   ],
   "source": [
    "echo 'FROM centos:7' > Dockerfile\n",
    "echo 'RUN yum install -y httpd' >> Dockerfile\n",
    "cat Dockerfile"
   ]
  },
  {
   "cell_type": "code",
   "execution_count": 5,
   "metadata": {},
   "outputs": [
    {
     "name": "stdout",
     "output_type": "stream",
     "text": [
      "[ssh] host = 16.31.86.200, cwd = /home/jupyter\n",
      "Sending build context to Docker daemon  207.4kB\n",
      "Step 1/2 : FROM centos:7\n",
      " ---> 8652b9f0cb4c\n",
      "Step 2/2 : RUN yum install -y httpd\n",
      " ---> Running in 12c44da59f45\n",
      "Loaded plugins: fastestmirror, ovl\n",
      "Determining fastest mirrors\n",
      " * base: centos.mirror.fr.planethoster.net\n",
      " * extras: centos.mirror.fr.planethoster.net\n",
      " * updates: ftp.rezopole.net\n",
      "Resolving Dependencies\n",
      "--> Running transaction check\n",
      "---> Package httpd.x86_64 0:2.4.6-97.el7.centos will be installed\n",
      "--> Processing Dependency: httpd-tools = 2.4.6-97.el7.centos for package: httpd-2.4.6-97.el7.centos.x86_64\n",
      "--> Processing Dependency: system-logos >= 7.92.1-1 for package: httpd-2.4.6-97.el7.centos.x86_64\n",
      "--> Processing Dependency: /etc/mime.types for package: httpd-2.4.6-97.el7.centos.x86_64\n",
      "--> Processing Dependency: libaprutil-1.so.0()(64bit) for package: httpd-2.4.6-97.el7.centos.x86_64\n",
      "--> Processing Dependency: libapr-1.so.0()(64bit) for package: httpd-2.4.6-97.el7.centos.x86_64\n",
      "--> Running transaction check\n",
      "---> Package apr.x86_64 0:1.4.8-7.el7 will be installed\n",
      "---> Package apr-util.x86_64 0:1.5.2-6.el7 will be installed\n",
      "---> Package centos-logos.noarch 0:70.0.6-3.el7.centos will be installed\n",
      "---> Package httpd-tools.x86_64 0:2.4.6-97.el7.centos will be installed\n",
      "---> Package mailcap.noarch 0:2.1.41-2.el7 will be installed\n",
      "--> Finished Dependency Resolution\n",
      "\n",
      "Dependencies Resolved\n",
      "\n",
      "================================================================================\n",
      " Package            Arch         Version                    Repository     Size\n",
      "================================================================================\n",
      "Installing:\n",
      " httpd              x86_64       2.4.6-97.el7.centos        updates       2.7 M\n",
      "Installing for dependencies:\n",
      " apr                x86_64       1.4.8-7.el7                base          104 k\n",
      " apr-util           x86_64       1.5.2-6.el7                base           92 k\n",
      " centos-logos       noarch       70.0.6-3.el7.centos        base           21 M\n",
      " httpd-tools        x86_64       2.4.6-97.el7.centos        updates        93 k\n",
      " mailcap            noarch       2.1.41-2.el7               base           31 k\n",
      "\n",
      "Transaction Summary\n",
      "================================================================================\n",
      "Install  1 Package (+5 Dependent packages)\n",
      "\n",
      "Total download size: 24 M\n",
      "Installed size: 32 M\n",
      "Downloading packages:\n",
      "\u001b[91mwarning: /var/cache/yum/x86_64/7/base/packages/apr-util-1.5.2-6.el7.x86_64.rpm: Header V3 RSA/SHA256 Signature, key ID f4a80eb5: NOKEY\n",
      "\u001b[0mPublic key for apr-util-1.5.2-6.el7.x86_64.rpm is not installed\n",
      "Public key for httpd-tools-2.4.6-97.el7.centos.x86_64.rpm is not installed\n",
      "--------------------------------------------------------------------------------\n",
      "Total                                              5.3 MB/s |  24 MB  00:04     \n",
      "Retrieving key from file:///etc/pki/rpm-gpg/RPM-GPG-KEY-CentOS-7\n",
      "\u001b[91mImporting GPG key 0xF4A80EB5:\n",
      " Userid     : \"CentOS-7 Key (CentOS 7 Official Signing Key) <security@centos.org>\"\n",
      " Fingerprint: 6341 ab27 53d7 8a78 a7c2 7bb1 24c6 a8a7 f4a8 0eb5\n",
      " Package    : centos-release-7-9.2009.0.el7.centos.x86_64 (@CentOS)\n",
      " From       : /etc/pki/rpm-gpg/RPM-GPG-KEY-CentOS-7\n",
      "\u001b[0mRunning transaction check\n",
      "Running transaction test\n",
      "Transaction test succeeded\n",
      "Running transaction\n",
      "  Installing : apr-1.4.8-7.el7.x86_64                                       1/6 \n",
      "  Installing : apr-util-1.5.2-6.el7.x86_64                                  2/6 \n",
      "  Installing : httpd-tools-2.4.6-97.el7.centos.x86_64                       3/6 \n",
      "  Installing : centos-logos-70.0.6-3.el7.centos.noarch                      4/6 \n",
      "  Installing : mailcap-2.1.41-2.el7.noarch                                  5/6 \n",
      "  Installing : httpd-2.4.6-97.el7.centos.x86_64                             6/6 \n",
      "  Verifying  : mailcap-2.1.41-2.el7.noarch                                  1/6 \n",
      "  Verifying  : apr-1.4.8-7.el7.x86_64                                       2/6 \n",
      "  Verifying  : apr-util-1.5.2-6.el7.x86_64                                  3/6 \n",
      "  Verifying  : httpd-2.4.6-97.el7.centos.x86_64                             4/6 \n",
      "  Verifying  : httpd-tools-2.4.6-97.el7.centos.x86_64                       5/6 \n",
      "  Verifying  : centos-logos-70.0.6-3.el7.centos.noarch                      6/6 \n",
      "\n",
      "Installed:\n",
      "  httpd.x86_64 0:2.4.6-97.el7.centos                                            \n",
      "\n",
      "Dependency Installed:\n",
      "  apr.x86_64 0:1.4.8-7.el7                                                      \n",
      "  apr-util.x86_64 0:1.5.2-6.el7                                                 \n",
      "  centos-logos.noarch 0:70.0.6-3.el7.centos                                     \n",
      "  httpd-tools.x86_64 0:2.4.6-97.el7.centos                                      \n",
      "  mailcap.noarch 0:2.1.41-2.el7                                                 \n",
      "\n",
      "Complete!\n",
      "Removing intermediate container 12c44da59f45\n",
      " ---> 283093796290\n",
      "Successfully built 283093796290\n"
     ]
    }
   ],
   "source": [
    "docker build ."
   ]
  },
  {
   "cell_type": "code",
   "execution_count": 20,
   "metadata": {},
   "outputs": [
    {
     "name": "stdout",
     "output_type": "stream",
     "text": [
      "[ssh] host = 16.31.86.200, cwd = /home/jupyter\n",
      "REPOSITORY      TAG       IMAGE ID       CREATED          SIZE\n",
      "<none>          <none>    283093796290   11 minutes ago   375MB\n",
      "ubuntu          latest    fb52e22af1b0   2 weeks ago      72.8MB\n",
      "dockerlab1580   latest    314733fd858d   8 weeks ago      1.06GB\n",
      "dockerlab       latest    9149de89bb43   8 weeks ago      1.06GB\n",
      "test            latest    2f8bd0730896   8 weeks ago      589MB\n",
      "ubuntu          <none>    c29284518f49   2 months ago     72.8MB\n",
      "hello-world     latest    d1165f221234   6 months ago     13.3kB\n",
      "centos          7         8652b9f0cb4c   10 months ago    204MB\n"
     ]
    }
   ],
   "source": [
    "docker image ls"
   ]
  },
  {
   "cell_type": "markdown",
   "metadata": {},
   "source": [
    "So we can verify that a new CentOS 7 image has been downloaded and based on it a new image has been created (without name nor tag, just an ID) containing httpd installed with its dependencies. \n",
    "Check it by instantiating a container based on that image and launching httpd in it:"
   ]
  },
  {
   "cell_type": "code",
   "execution_count": 43,
   "metadata": {},
   "outputs": [
    {
     "name": "stdout",
     "output_type": "stream",
     "text": [
      "[ssh] host = 16.31.86.200, cwd = /home/jupyter\n",
      "a8ed9b8adac11dca10d94bd13dad6790ad4a5d722cc0a38bcab6fd1b3251dd2d\n"
     ]
    }
   ],
   "source": [
    "ImgId=`docker image ls | head -2 | tail -1 | awk '{print $3}'`\n",
    "docker run -d $ImgId /usr/sbin/httpd"
   ]
  },
  {
   "cell_type": "code",
   "execution_count": 44,
   "metadata": {},
   "outputs": [
    {
     "name": "stdout",
     "output_type": "stream",
     "text": [
      "[ssh] host = 16.31.86.200, cwd = /home/jupyter\n",
      "jupyter  12231  0.0  0.0 113284  1580 ?        Ss   15:47   0:00 bash -c cd /home/jupyter && env PAGER=cat MAIL=/var/mail/jupyter PATH=/usr/local/bin:/usr/bin SHLVL=39 /usr/bin/bash -c ' ps auxww |  grep http  EXIT_CODE=$? echo 3335385.0700081361code: ${EXIT_CODE}3335385.0700081361 echo 3335385.0700081361pwd: $(pwd)3335385.0700081361 echo 3335385.0700081361env: $(cat -v <(env -0))3335385.0700081361 '\n",
      "jupyter  12242  0.0  0.0 113280  1200 ?        S    15:47   0:00 /usr/bin/bash -c  ps auxww |  grep http  EXIT_CODE=$? echo 3335385.0700081361code: ${EXIT_CODE}3335385.0700081361 echo 3335385.0700081361pwd: $(pwd)3335385.0700081361 echo 3335385.0700081361env: $(cat -v <(env -0))3335385.0700081361 \n",
      "jupyter  12244  0.0  0.0 112808   948 ?        S    15:47   0:00 grep http\n"
     ]
    }
   ],
   "source": [
    "ps auxww |  grep http"
   ]
  },
  {
   "cell_type": "markdown",
   "metadata": {},
   "source": [
    "Strange, no httpd daemon seems to be running whereas you had no error message reported. Let's try to understand why. Look at the containers running:"
   ]
  },
  {
   "cell_type": "code",
   "execution_count": 45,
   "metadata": {},
   "outputs": [
    {
     "name": "stdout",
     "output_type": "stream",
     "text": [
      "[ssh] host = 16.31.86.200, cwd = /home/jupyter\n",
      "CONTAINER ID   IMAGE           COMMAND                  CREATED       STATUS       PORTS                                                                              NAMES\n",
      "4538595c00ea   dockerlab1580   \"/bin/sh -c '/usr/sb…\"   8 weeks ago   Up 8 weeks   0.0.0.0:14005->22/tcp, :::14005->22/tcp, 0.0.0.0:14055->80/tcp, :::14055->80/tcp   dockerlab1580_dockerlab1580_1\n"
     ]
    }
   ],
   "source": [
    "docker container ls"
   ]
  },
  {
   "cell_type": "markdown",
   "metadata": {},
   "source": [
    "Ok, so you don't have any container running. Look at one which exited then:"
   ]
  },
  {
   "cell_type": "code",
   "execution_count": 46,
   "metadata": {},
   "outputs": [
    {
     "name": "stdout",
     "output_type": "stream",
     "text": [
      "[ssh] host = 16.31.86.200, cwd = /home/jupyter\n",
      "CONTAINER ID   IMAGE           COMMAND                  CREATED          STATUS                      PORTS                                                                              NAMES\n",
      "a8ed9b8adac1   47a95dfca98a    \"/usr/sbin/httpd\"        17 seconds ago   Exited (0) 16 seconds ago                                                                                      unruffled_lalande\n",
      "0fd67c183928   283093796290    \"/usr/sbin/httpd\"        23 minutes ago   Exited (0) 23 minutes ago                                                                                      frosty_jepsen\n",
      "4538595c00ea   dockerlab1580   \"/bin/sh -c '/usr/sb…\"   8 weeks ago      Up 8 weeks                  0.0.0.0:14005->22/tcp, :::14005->22/tcp, 0.0.0.0:14055->80/tcp, :::14055->80/tcp   dockerlab1580_dockerlab1580_1\n"
     ]
    }
   ],
   "source": [
    "docker container ls -a"
   ]
  },
  {
   "cell_type": "markdown",
   "metadata": {},
   "source": [
    "So here it is ! But as seen previously the container exited with a 0 status code, meaning no error. Why ? Well this is because the httpd process is giving back hand to the user immediately after launch, going into background. So Docker thinks that all the tasks that he has to do where done correctly and exit gracefully. Assess that analysis by issuing the following commands:"
   ]
  },
  {
   "cell_type": "code",
   "execution_count": 51,
   "metadata": {},
   "outputs": [
    {
     "name": "stdout",
     "output_type": "stream",
     "text": [
      "[ssh] host = 16.31.86.200, cwd = /home/jupyter\n",
      "C /var\n",
      "C /var/log\n",
      "C /var/log/httpd\n",
      "A /var/log/httpd/access_log\n",
      "A /var/log/httpd/error_log\n",
      "\n",
      "IMAGE          CREATED          CREATED BY                                      SIZE      COMMENT\n",
      "47a95dfca98a   8 minutes ago    /bin/sh -c #(nop)  CMD [\"/bin/sh\" \"-c\" \"/usr…   0B        \n",
      "03d765ec78d4   8 minutes ago    /bin/sh -c #(nop)  MAINTAINER myself@mydomai…   0B        \n",
      "283093796290   28 minutes ago   /bin/sh -c yum install -y httpd                 171MB     \n",
      "8652b9f0cb4c   10 months ago    /bin/sh -c #(nop)  CMD [\"/bin/bash\"]            0B        \n",
      "<missing>      10 months ago    /bin/sh -c #(nop)  LABEL org.label-schema.sc…   0B        \n",
      "<missing>      10 months ago    /bin/sh -c #(nop) ADD file:b3ebbe8bd304723d4…   204MB     \n",
      "\n",
      "AH00558: httpd: Could not reliably determine the server's fully qualified domain name, using 172.17.0.2. Set the 'ServerName' directive globally to suppress this message\n"
     ]
    }
   ],
   "source": [
    "ImgId=`docker image ls | head -2 | tail -1 | awk '{print $3}'`\n",
    "CtnId=`docker container ls -a | grep $ImgId | awk '{print $1}'`\n",
    "docker diff $CtnId\n",
    "echo \"\"\n",
    "docker history $ImgId\n",
    "echo \"\"\n",
    "docker logs $CtnId"
   ]
  },
  {
   "cell_type": "markdown",
   "metadata": {},
   "source": [
    "So we checked that we can launch the httpd server from inside an instantiated container made from our image. It created the relevant log files in the container, with just a normal warning. We also checked how our image was built. Note that the image built is around 170 MB larger than the base CentOS 7 one (shown by history) and has sensible modifications shown by the diff command.\n",
    "\n",
    "It's a good start, but now we would like to have our httpd server started automatically with our container creation and staying alive after launch. And have attribution accordingly ;-) So let's make the following modifications to the Dockerfile"
   ]
  },
  {
   "cell_type": "code",
   "execution_count": 52,
   "metadata": {},
   "outputs": [
    {
     "name": "stdout",
     "output_type": "stream",
     "text": [
      "[ssh] host = 16.31.86.200, cwd = /home/jupyter\n",
      "FROM centos:7\n",
      "RUN yum install -y httpd\n",
      "MAINTAINER myself@mydomain.org\n",
      "CMD /usr/sbin/apachectl -DFOREGROUND -k start\n",
      "MAINTAINER myself@mydomain.org\n",
      "CMD /usr/sbin/apachectl -DFOREGROUND -k start\n"
     ]
    }
   ],
   "source": [
    "echo 'MAINTAINER myself@mydomain.org' >> Dockerfile\n",
    "echo 'CMD /usr/sbin/apachectl -DFOREGROUND -k start' >> Dockerfile\n",
    "echo \"\"\n",
    "cat Dockerfile"
   ]
  },
  {
   "cell_type": "code",
   "execution_count": 53,
   "metadata": {},
   "outputs": [
    {
     "name": "stdout",
     "output_type": "stream",
     "text": [
      "[ssh] host = 16.31.86.200, cwd = /home/jupyter\n",
      "Sending build context to Docker daemon  205.8kB\n",
      "Step 1/4 : FROM centos:7\n",
      " ---> 8652b9f0cb4c\n",
      "Step 2/4 : RUN yum install -y httpd\n",
      " ---> Using cache\n",
      " ---> 283093796290\n",
      "Step 3/4 : MAINTAINER myself@mydomain.org\n",
      " ---> Using cache\n",
      " ---> 03d765ec78d4\n",
      "Step 4/4 : CMD /usr/sbin/apachectl -DFOREGROUND -k start\n",
      " ---> Using cache\n",
      " ---> 47a95dfca98a\n",
      "Successfully built 47a95dfca98a\n"
     ]
    }
   ],
   "source": [
    "docker build ."
   ]
  },
  {
   "cell_type": "markdown",
   "metadata": {},
   "source": [
    "You can remark that all the first steps are very quick. This is because Docker caches steps, and will not repeat them unless the Dockerfile changes. You can modify the Dockerfile by putting the `MAINTAINER` command as the second line and re-launch the build. You'll see that in that case Docker invalidates its cache and restarts.\n",
    "Secondly, we modified the way our Apache Web server is started by forcing it to stay in foreground after launch. That way Docker will continue to keep alive the container.\n",
    "Now start a container from that image to check the web server is indeed started"
   ]
  },
  {
   "cell_type": "code",
   "execution_count": 54,
   "metadata": {},
   "outputs": [
    {
     "name": "stdout",
     "output_type": "stream",
     "text": [
      "[ssh] host = 16.31.86.200, cwd = /home/jupyter\n",
      "c2a3dcf257a01da4d17f41e737e8d649f568f1b9df31a7cfb5592dffd5f23df7\n"
     ]
    }
   ],
   "source": [
    "ImgId=`docker image ls | head -2 | tail -1 | awk '{print $3}'`\n",
    "docker run -d $ImgId"
   ]
  },
  {
   "cell_type": "markdown",
   "metadata": {},
   "source": [
    "Now check using the same previous commands that the container is indeed running correctly:"
   ]
  },
  {
   "cell_type": "code",
   "execution_count": 59,
   "metadata": {},
   "outputs": [
    {
     "name": "stdout",
     "output_type": "stream",
     "text": [
      "[ssh] host = 16.31.86.200, cwd = /home/jupyter\n",
      "CONTAINER ID   IMAGE           COMMAND                  CREATED         STATUS         PORTS                                                                              NAMES\n",
      "c2a3dcf257a0   47a95dfca98a    \"/bin/sh -c '/usr/sb…\"   4 minutes ago   Up 4 minutes                                                                                      goofy_chatelet\n",
      "4538595c00ea   dockerlab1580   \"/bin/sh -c '/usr/sb…\"   8 weeks ago     Up 8 weeks     0.0.0.0:14005->22/tcp, :::14005->22/tcp, 0.0.0.0:14055->80/tcp, :::14055->80/tcp   dockerlab1580_dockerlab1580_1\n",
      "C /run\n",
      "C /run/httpd\n",
      "A /run/httpd/authdigest_shm.8\n",
      "A /run/httpd/httpd.pid\n",
      "C /var\n",
      "C /var/log\n",
      "C /var/log/httpd\n",
      "A /var/log/httpd/access_log\n",
      "A /var/log/httpd/error_log\n",
      "\n",
      "IMAGE          CREATED          CREATED BY                                      SIZE      COMMENT\n",
      "47a95dfca98a   16 minutes ago   /bin/sh -c #(nop)  CMD [\"/bin/sh\" \"-c\" \"/usr…   0B        \n",
      "03d765ec78d4   16 minutes ago   /bin/sh -c #(nop)  MAINTAINER myself@mydomai…   0B        \n",
      "283093796290   35 minutes ago   /bin/sh -c yum install -y httpd                 171MB     \n",
      "8652b9f0cb4c   10 months ago    /bin/sh -c #(nop)  CMD [\"/bin/bash\"]            0B        \n",
      "<missing>      10 months ago    /bin/sh -c #(nop)  LABEL org.label-schema.sc…   0B        \n",
      "<missing>      10 months ago    /bin/sh -c #(nop) ADD file:b3ebbe8bd304723d4…   204MB     \n",
      "\n",
      "Passing arguments to httpd using apachectl is no longer supported.\n",
      "AH00558: httpd: Could not reliably determine the server's fully qualified domain name, using 172.17.0.2. Set the 'ServerName' directive globally to suppress this message\n",
      "You can only start/stop/restart httpd using this script.\n",
      "If you want to pass extra arguments to httpd, edit the\n",
      "/etc/sysconfig/httpd config file.\n",
      "root     12980  0.0  0.0 224080  4996 ?        S    15:53   0:00 /usr/sbin/httpd -DFOREGROUND -k start\n",
      "48       12988  0.0  0.0 224080  2928 ?        S    15:53   0:00 /usr/sbin/httpd -DFOREGROUND -k start\n",
      "48       12989  0.0  0.0 224080  2928 ?        S    15:53   0:00 /usr/sbin/httpd -DFOREGROUND -k start\n",
      "48       12990  0.0  0.0 224080  2928 ?        S    15:53   0:00 /usr/sbin/httpd -DFOREGROUND -k start\n",
      "48       12991  0.0  0.0 224080  2928 ?        S    15:53   0:00 /usr/sbin/httpd -DFOREGROUND -k start\n",
      "48       12992  0.0  0.0 224080  2928 ?        S    15:53   0:00 /usr/sbin/httpd -DFOREGROUND -k start\n",
      "jupyter  13437  0.0  0.0 112808   952 ?        S    15:57   0:00 grep httpd\n"
     ]
    }
   ],
   "source": [
    "docker container ls\n",
    "echo \"\"\n",
    "ImgId=`docker image ls | head -2 | tail -1 | awk '{print $3}'`\n",
    "CtnId=`docker container ls | grep $ImgId | awk '{print $1}'`\n",
    "docker diff $CtnId\n",
    "echo \"\"\n",
    "docker history $ImgId\n",
    "echo \"\"\n",
    "docker logs $CtnId\n",
    "echo \"\"\n",
    "ps auxww | grep httpd | grep -v docker"
   ]
  },
  {
   "cell_type": "markdown",
   "metadata": {},
   "source": [
    "So you can see that now your httpd process is running, has produced more differences (a pid file has been created), more log content. It is also running with a UID (48) which is not known by the host, just the container. So now let's try to reach our newly launched webserver:"
   ]
  },
  {
   "cell_type": "code",
   "execution_count": 61,
   "metadata": {},
   "outputs": [
    {
     "name": "stdout",
     "output_type": "stream",
     "text": [
      "[ssh] host = 16.31.86.200, cwd = /home/jupyter\n",
      "  % Total    % Received % Xferd  Average Speed   Time    Time     Time  Current\n",
      "                                 Dload  Upload   Total   Spent    Left  Speed\n",
      "  0     0    0     0    0     0      0      0 --:--:-- --:--:-- --:--:--     0curl: (7) Failed connect to localhost:80; Connection refused\n"
     ]
    },
    {
     "ename": "abnormal exit code",
     "evalue": "7",
     "output_type": "error",
     "traceback": [
      ""
     ]
    }
   ],
   "source": [
    "curl http://localhost"
   ]
  },
  {
   "cell_type": "markdown",
   "metadata": {},
   "source": [
    "Of course that doesn't work ;-) You would have been surprised otherwise don't you ? The major aspect here is that the httpd server you launched is run in an isolated environement, the container, that is NOT the host, so its localhost is different from the localhost of the host. Similarly its IP address is different from the one of the host. Proof:"
   ]
  },
  {
   "cell_type": "code",
   "execution_count": 73,
   "metadata": {},
   "outputs": [
    {
     "name": "stdout",
     "output_type": "stream",
     "text": [
      "[ssh] host = 16.31.86.200, cwd = /home/jupyter\n",
      "*** host ***\n",
      "2: ens192: <BROADCAST,MULTICAST,UP,LOWER_UP> mtu 1500 qdisc pfifo_fast state UP group default qlen 1000\n",
      "    link/ether 00:50:56:8e:a2:84 brd ff:ff:ff:ff:ff:ff\n",
      "    inet 16.31.86.200/22 brd 16.31.87.255 scope global noprefixroute ens192\n",
      "       valid_lft forever preferred_lft forever\n",
      "*** CTN c2a3dcf257a0 ***\n",
      "Loaded plugins: fastestmirror, ovl\n",
      "Loading mirror speeds from cached hostfile\n",
      " * base: centos.mirror.fr.planethoster.net\n",
      " * extras: centos.mirror.fr.planethoster.net\n",
      " * updates: ftp.rezopole.net\n",
      "Package net-tools-2.0-0.25.20131004git.el7.x86_64 already installed and latest version\n",
      "Nothing to do\n",
      "eth0: flags=4163<UP,BROADCAST,RUNNING,MULTICAST>  mtu 1500\n",
      "        inet 172.17.0.2  netmask 255.255.0.0  broadcast 172.17.255.255\n",
      "        ether 02:42:ac:11:00:02  txqueuelen 0  (Ethernet)\n"
     ]
    }
   ],
   "source": [
    "echo \"\"\n",
    "echo \"*** host ***\"\n",
    "echo \"\"\n",
    "/usr/sbin/ip a | grep -A 2 ens192:\n",
    "ImgId=`docker image ls | head -2 | tail -1 | awk '{print $3}'`\n",
    "CtnId=`docker container ls | grep $ImgId | awk '{print $1}'`\n",
    "echo \"\"\n",
    "echo \"*** CTN $CtnId ***\"\n",
    "echo \"\"\n",
    "docker exec $CtnId yum install -y net-tools\n",
    "echo \"\"\n",
    "docker exec $CtnId /usr/sbin/ifconfig | grep -A 2 eth0"
   ]
  },
  {
   "cell_type": "markdown",
   "metadata": {},
   "source": [
    "Convinced ? So now try *inside* the container to reach the Web server:"
   ]
  },
  {
   "cell_type": "code",
   "execution_count": 74,
   "metadata": {},
   "outputs": [
    {
     "name": "stdout",
     "output_type": "stream",
     "text": [
      "[ssh] host = 16.31.86.200, cwd = /home/jupyter\n",
      "*** CTN c2a3dcf257a0 ***\n",
      "  % Total    % Received % Xferd  Average Speed   Time    Time     Time  Current\n",
      "<!DOCTYPE html PUBLIC \"-//W3C//DTD XHTML 1.1//EN\" \"http://www.w3.org/TR/xhtml11/DTD/xhtml11.dtd\"><html><head>\n",
      "                                 Dload  Upload   Total   Spent    Left  Speed\n",
      "100  4897  100  4897    0     0   815k      0 --:--:-- --:--:-- --:--:--  956k\n",
      "<meta http-equiv=\"content-type\" content=\"text/html; charset=UTF-8\">\n",
      "\t\t<title>Apache HTTP Server Test Page powered by CentOS</title>\n",
      "\t\t<meta http-equiv=\"Content-Type\" content=\"text/html; charset=UTF-8\">\n",
      "\n",
      "    <!-- Bootstrap -->\n",
      "    <link href=\"/noindex/css/bootstrap.min.css\" rel=\"stylesheet\">\n",
      "    <link rel=\"stylesheet\" href=\"noindex/css/open-sans.css\" type=\"text/css\" />\n",
      "\n",
      "<style type=\"text/css\"><!--\t\t \n",
      "\n",
      "body {\n",
      "  font-family: \"Open Sans\", Helvetica, sans-serif;\n",
      "  font-weight: 100;\n",
      "  color: #ccc;\n",
      "  background: rgba(10, 24, 55, 1);\n",
      "  font-size: 16px;\n",
      "}\n",
      "\n",
      "h2, h3, h4 {\n",
      "  font-weight: 200;\n",
      "}\n",
      "\n",
      "h2 {\n",
      "  font-size: 28px;\n",
      "}\n",
      "\n",
      ".jumbotron {\n",
      "  margin-bottom: 0;\n",
      "  color: #333;\n",
      "  background: rgb(212,212,221); /* Old browsers */\n",
      "  background: radial-gradient(ellipse at center top, rgba(255,255,255,1) 0%,rgba(174,174,183,1) 100%); /* W3C */\n",
      "}\n",
      "\n",
      ".jumbotron h1 {\n",
      "  font-size: 128px;\n",
      "  font-weight: 700;\n",
      "  color: white;\n",
      "  text-shadow: 0px 2px 0px #abc,\n",
      "               0px 4px 10px rgba(0,0,0,0.15),\n",
      "               0px 5px 2px rgba(0,0,0,0.1),\n",
      "               0px 6px 30px rgba(0,0,0,0.1);\n",
      "}\n",
      "\n",
      ".jumbotron p {\n",
      "  font-size: 28px;\n",
      "  font-weight: 100;\n",
      "}\n",
      "\n",
      ".main {\n",
      "   background: white;\n",
      "   color: #234;\n",
      "   border-top: 1px solid rgba(0,0,0,0.12);\n",
      "   padding-top: 30px;\n",
      "   padding-bottom: 40px;\n",
      "}\n",
      "\n",
      ".footer {\n",
      "   border-top: 1px solid rgba(255,255,255,0.2);\n",
      "   padding-top: 30px;\n",
      "}\n",
      "\n",
      "    --></style>\n",
      "</head>\n",
      "<body>\n",
      "  <div class=\"jumbotron text-center\">\n",
      "    <div class=\"container\">\n",
      "   \t  <h1>Testing 123..</h1>\n",
      "  \t\t<p class=\"lead\">This page is used to test the proper operation of the <a href=\"http://apache.org\">Apache HTTP server</a> after it has been installed. If you can read this page it means that this site is working properly. This server is powered by <a href=\"http://centos.org\">CentOS</a>.</p>\n",
      "\t\t</div>\n",
      "  </div>\n",
      "  <div class=\"main\">\n",
      "    <div class=\"container\">\n",
      "       <div class=\"row\">\n",
      "  \t\t\t<div class=\"col-sm-6\">\n",
      "    \t\t\t<h2>Just visiting?</h2>\n",
      "\t\t\t  \t\t<p class=\"lead\">The website you just visited is either experiencing problems or is undergoing routine maintenance.</p>\n",
      "  \t\t\t\t\t<p>If you would like to let the administrators of this website know that you've seen this page instead of the page you expected, you should send them e-mail. In general, mail sent to the name \"webmaster\" and directed to the website's domain should reach the appropriate person.</p>\n",
      "  \t\t\t\t\t<p>For example, if you experienced problems while visiting www.example.com, you should send e-mail to \"webmaster@example.com\".</p>\n",
      "\t  \t\t\t</div>\n",
      "  \t\t\t\t<div class=\"col-sm-6\">\n",
      "\t  \t\t\t\t<h2>Are you the Administrator?</h2>\n",
      "\t\t  \t\t\t<p>You should add your website content to the directory <tt>/var/www/html/</tt>.</p>\n",
      "\t\t  \t\t\t<p>To prevent this page from ever being used, follow the instructions in the file <tt>/etc/httpd/conf.d/welcome.conf</tt>.</p>\n",
      "\n",
      "\t  \t\t\t\t<h2>Promoting Apache and CentOS</h2>\n",
      "\t\t\t  \t\t<p>You are free to use the images below on Apache and CentOS Linux powered HTTP servers.  Thanks for using Apache and CentOS!</p>\n",
      "\t\t\t\t  \t<p><a href=\"http://httpd.apache.org/\"><img src=\"images/apache_pb.gif\" alt=\"[ Powered by Apache ]\"></a> <a href=\"http://www.centos.org/\"><img src=\"images/poweredby.png\" alt=\"[ Powered by CentOS Linux ]\" height=\"31\" width=\"88\"></a></p>\n",
      "  \t\t\t\t</div>\n",
      "\t  \t\t</div>\n",
      "\t    </div>\n",
      "\t\t</div>\n",
      "\t</div>\n",
      "\t  <div class=\"footer\">\n",
      "      <div class=\"container\">\n",
      "        <div class=\"row\">\n",
      "          <div class=\"col-sm-6\">          \n",
      "            <h2>Important note:</h2>\n",
      "            <p class=\"lead\">The CentOS Project has nothing to do with this website or its content,\n",
      "            it just provides the software that makes the website run.</p>\n",
      "            \n",
      "            <p>If you have issues with the content of this site, contact the owner of the domain, not the CentOS project. \n",
      "            Unless you intended to visit CentOS.org, the CentOS Project does not have anything to do with this website,\n",
      "            the content or the lack of it.</p>\n",
      "            <p>For example, if this website is www.example.com, you would find the owner of the example.com domain at the following WHOIS server:</p>\n",
      "            <p><a href=\"http://www.internic.net/whois.html\">http://www.internic.net/whois.html</a></p>\n",
      "          </div>\n",
      "          <div class=\"col-sm-6\">\n",
      "            <h2>The CentOS Project</h2>\n",
      "            <p>The CentOS Linux distribution is a stable, predictable, manageable and reproduceable platform derived from \n",
      "               the sources of Red Hat Enterprise Linux (RHEL).<p>\n",
      "            \n",
      "            <p>Additionally to being a popular choice for web hosting, CentOS also provides a rich platform for open source communities to build upon. For more information\n",
      "               please visit the <a href=\"http://www.centos.org/\">CentOS website</a>.</p>\n",
      "          </div>\n",
      "        </div>\n",
      "\t\t  </div>\n",
      "    </div>\n",
      "  </div>\n",
      "</body></html>\n"
     ]
    }
   ],
   "source": [
    "ImgId=`docker image ls | head -2 | tail -1 | awk '{print $3}'`\n",
    "CtnId=`docker container ls | grep $ImgId | awk '{print $1}'`\n",
    "echo \"\"\n",
    "echo \"*** CTN $CtnId ***\"\n",
    "echo \"\"\n",
    "docker exec $CtnId curl http://localhost"
   ]
  },
  {
   "cell_type": "markdown",
   "metadata": {},
   "source": [
    "Success !! So you indeed have a running web server, inside a CentOS 7 distribution container. But that's not fully what you want. What you want is to be able to reach it from outside of the container."
   ]
  },
  {
   "cell_type": "code",
   "execution_count": 78,
   "metadata": {},
   "outputs": [
    {
     "name": "stdout",
     "output_type": "stream",
     "text": [
      "[ssh] host = 16.31.86.200, cwd = /home/jupyter\n",
      "*** CTN c2a3dcf257a0 ***\n",
      "*** using CTN IP ***\n",
      "  % Total    % Received % Xferd  Average Speed   Time    Time     Time  Current\n",
      "\t\t<title>Apache HTTP Server Test Page powered by CentOS</title>\n",
      "                                 Dload  Upload   Total   Spent    Left  Speed\n",
      "100  4897  100  4897    0     0  2564k      0 --:--:-- --:--:-- --:--:-- 4782k\n",
      "  \t\t<p class=\"lead\">This page is used to test the proper operation of the <a href=\"http://apache.org\">Apache HTTP server</a> after it has been installed. If you can read this page it means that this site is working properly. This server is powered by <a href=\"http://centos.org\">CentOS</a>.</p>\n",
      "\t  \t\t\t\t<h2>Promoting Apache and CentOS</h2>\n",
      "\t\t\t  \t\t<p>You are free to use the images below on Apache and CentOS Linux powered HTTP servers.  Thanks for using Apache and CentOS!</p>\n",
      "\t\t\t\t  \t<p><a href=\"http://httpd.apache.org/\"><img src=\"images/apache_pb.gif\" alt=\"[ Powered by Apache ]\"></a> <a href=\"http://www.centos.org/\"><img src=\"images/poweredby.png\" alt=\"[ Powered by CentOS Linux ]\" height=\"31\" width=\"88\"></a></p>\n",
      "            <p class=\"lead\">The CentOS Project has nothing to do with this website or its content,\n",
      "            <p>If you have issues with the content of this site, contact the owner of the domain, not the CentOS project. \n",
      "            Unless you intended to visit CentOS.org, the CentOS Project does not have anything to do with this website,\n",
      "            <h2>The CentOS Project</h2>\n",
      "            <p>The CentOS Linux distribution is a stable, predictable, manageable and reproduceable platform derived from \n",
      "            <p>Additionally to being a popular choice for web hosting, CentOS also provides a rich platform for open source communities to build upon. For more information\n",
      "               please visit the <a href=\"http://www.centos.org/\">CentOS website</a>.</p>\n",
      "*** using host IP ***\n",
      "  % Total    % Received % Xferd  Average Speed   Time    Time     Time  Current\n",
      "                                 Dload  Upload   Total   Spent    Left  Speed\n",
      "  0     0    0     0    0     0      0      0 --:--:-- --:--:-- --:--:--     0curl: (7) Failed connect to 16.31.86.200:80; Connection refused\n"
     ]
    },
    {
     "ename": "abnormal exit code",
     "evalue": "1",
     "output_type": "error",
     "traceback": [
      ""
     ]
    }
   ],
   "source": [
    "ImgId=`docker image ls | head -2 | tail -1 | awk '{print $3}'`\n",
    "CtnId=`docker container ls | grep $ImgId | awk '{print $1}'`\n",
    "echo \"\"\n",
    "echo \"*** CTN $CtnId ***\"\n",
    "echo \"\"\n",
    "CtnIP=`docker exec $CtnId ifconfig | grep -A 2 eth0 | grep inet | awk '{print $2}'`\n",
    "echo \"\"\n",
    "echo \"*** using CTN IP $CtnIP ***\"\n",
    "echo \"\"\n",
    "curl http://$CtnIP | grep CentOS\n",
    "HostIP=`/usr/sbin/ip a | grep -A 2 192: | tail -1 | awk '{print $2}' | cut -d/ -f1`\n",
    "echo \"\"\n",
    "echo \"*** using host IP $HostIP ***\"\n",
    "echo \"\"\n",
    "curl http://$HostIP | grep CentOS"
   ]
  },
  {
   "cell_type": "markdown",
   "metadata": {},
   "source": [
    "\n",
    "So it works when you use the container IP (because Linux and Docker set the routing up for you automagically, but it doesn't work if you use the IP address of the host, which is really what you want to provide access to the external world. )\n",
    "\n",
    "By default, the container ports are not exposed outside of the container. So you can't use your host OS to access your isolated webserver. \n",
    "\n",
    "You will have to explicitly redirect trafic arriving on port XXXX on the host (which is accessible from outside your environment) to the container port 80 to allow access to the web server running in the container. This will require a change to the way you invoke the container creation. Let's stop the previous container and relaunch it with the right options:"
   ]
  },
  {
   "cell_type": "code",
   "execution_count": 79,
   "metadata": {},
   "outputs": [
    {
     "name": "stdout",
     "output_type": "stream",
     "text": [
      "[ssh] host = 16.31.86.200, cwd = /home/jupyter\n",
      "c2a3dcf257a0\n",
      "c2a3dcf257a0\n",
      "eaafad0cb1da7caa9da0bac788d821f6bf79a6f6d5a18dd8546d185bc90669c8\n",
      "CONTAINER ID   IMAGE           COMMAND                  CREATED        STATUS                  PORTS                                                                              NAMES\n",
      "eaafad0cb1da   47a95dfca98a    \"/bin/sh -c '/usr/sb…\"   1 second ago   Up Less than a second   0.0.0.0:80->80/tcp, :::80->80/tcp                                                  vigorous_hermann\n",
      "4538595c00ea   dockerlab1580   \"/bin/sh -c '/usr/sb…\"   8 weeks ago    Up 8 weeks              0.0.0.0:14005->22/tcp, :::14005->22/tcp, 0.0.0.0:14055->80/tcp, :::14055->80/tcp   dockerlab1580_dockerlab1580_1\n",
      "*** using host IP ***\n",
      "  % Total    % Received % Xferd  Average Speed   Time    Time     Time  Current\n",
      "                                 Dload  Upload   Total   Spent    Left  Speed\n",
      "\t\t<title>Apache HTTP Server Test Page powered by CentOS</title>\n",
      "100  4897  100  4897    0     0  1282k      0 --:--:-- --:--:-- --:--:-- 2391k\n",
      "  \t\t<p class=\"lead\">This page is used to test the proper operation of the <a href=\"http://apache.org\">Apache HTTP server</a> after it has been installed. If you can read this page it means that this site is working properly. This server is powered by <a href=\"http://centos.org\">CentOS</a>.</p>\n",
      "\t  \t\t\t\t<h2>Promoting Apache and CentOS</h2>\n",
      "\t\t\t  \t\t<p>You are free to use the images below on Apache and CentOS Linux powered HTTP servers.  Thanks for using Apache and CentOS!</p>\n",
      "\t\t\t\t  \t<p><a href=\"http://httpd.apache.org/\"><img src=\"images/apache_pb.gif\" alt=\"[ Powered by Apache ]\"></a> <a href=\"http://www.centos.org/\"><img src=\"images/poweredby.png\" alt=\"[ Powered by CentOS Linux ]\" height=\"31\" width=\"88\"></a></p>\n",
      "            <p class=\"lead\">The CentOS Project has nothing to do with this website or its content,\n",
      "            <p>If you have issues with the content of this site, contact the owner of the domain, not the CentOS project. \n",
      "            Unless you intended to visit CentOS.org, the CentOS Project does not have anything to do with this website,\n",
      "            <h2>The CentOS Project</h2>\n",
      "            <p>The CentOS Linux distribution is a stable, predictable, manageable and reproduceable platform derived from \n",
      "            <p>Additionally to being a popular choice for web hosting, CentOS also provides a rich platform for open source communities to build upon. For more information\n",
      "               please visit the <a href=\"http://www.centos.org/\">CentOS website</a>.</p>\n"
     ]
    }
   ],
   "source": [
    "ImgId=`docker image ls | head -2 | tail -1 | awk '{print $3}'`\n",
    "CtnId=`docker container ls | grep $ImgId | awk '{print $1}'`\n",
    "docker stop $CtnId\n",
    "docker rm $CtnId\n",
    "docker run -d -p XXXX:80 $ImgId\n",
    "echo \"\"\n",
    "docker container ls\n",
    "CtnId=`docker container ls | grep $ImgId | awk '{print $1}'`\n",
    "echo \"\"\n",
    "echo \"*** using host IP ***\"\n",
    "echo \"\"\n",
    "HostIP=`/usr/sbin/ip a | grep -A 2 192: | tail -1 | awk '{print $2}' | cut -d/ -f1`\n",
    "curl http://$HostIP | grep CentOS"
   ]
  },
  {
   "cell_type": "markdown",
   "metadata": {},
   "source": [
    "Now that we have redirected the port (the local port XXXX to the container port 80), we can reach our webserver from outside the container using the host IP address. If that machine is reachable from the Internet, you have a Webserver in a container avaible online.\n",
    "\n",
    "And as this is the case in our environment, please launch a Web browser of your choice and reach that URL http://IPFW:XXXX to check it."
   ]
  },
  {
   "cell_type": "markdown",
   "metadata": {},
   "source": [
    "\n",
    "It's now time to add some content to our web server !\n",
    "Modify again the Dockerfile to add nextcloud to our image:"
   ]
  },
  {
   "cell_type": "code",
   "execution_count": null,
   "metadata": {},
   "outputs": [],
   "source": [
    "echo 'RUN yum install -y tar unzip' >> Dockerfile\n",
    "echo 'RUN curl https://download.nextcloud.com/server/releases/nextcloud-22.1.1.zip -o /tmp/nextcloud.zip' >> Dockerfile\n",
    "echo 'RUN cd /var/www/html/ && unzip -q /tmp/nextcloud.zip' >> Dockerfile"
   ]
  },
  {
   "cell_type": "markdown",
   "metadata": {},
   "source": [
    "Now re-create a new image based on that Dockerfile, purge the previous content before relaunching a new container (please wait till the end of the operation as the download is around 160MB and can take some time)"
   ]
  },
  {
   "cell_type": "code",
   "execution_count": 86,
   "metadata": {},
   "outputs": [
    {
     "name": "stdout",
     "output_type": "stream",
     "text": [
      "[ssh] host = 16.31.86.200, cwd = /home/jupyter\n",
      "4621e862f4c3\n",
      "4621e862f4c3\n",
      "Sending build context to Docker daemon  209.4kB\n",
      "Step 1/7 : FROM centos:7\n",
      " ---> 8652b9f0cb4c\n",
      "Step 2/7 : RUN yum install -y httpd\n",
      " ---> Using cache\n",
      " ---> 78f0bc0a08b8\n",
      "Step 3/7 : MAINTAINER myself@mydomain.org\n",
      " ---> Using cache\n",
      " ---> 89bb5e32c231\n",
      "Step 4/7 : CMD /usr/sbin/apachectl -DFOREGROUND -k start\n",
      " ---> Using cache\n",
      " ---> 54123dde4923\n",
      "Step 5/7 : RUN yum install -y tar unzip\n",
      " ---> Using cache\n",
      " ---> 0f33870d7477\n",
      "Step 6/7 : RUN curl https://download.nextcloud.com/server/releases/nextcloud-22.1.1.zip -o /tmp/nextcloud.zip\n",
      " ---> Using cache\n",
      " ---> 0d323f67a0fa\n",
      "Step 7/7 : RUN cd /var/www/html/ && unzip -q /tmp/nextcloud.zip\n",
      " ---> Running in 7eb26d19f794\n",
      "Removing intermediate container 7eb26d19f794\n",
      " ---> 8f733d50e036\n",
      "Successfully built 8f733d50e036\n",
      "711f34bcec442cba4621e803b5fcd0be2081cf2ca5a8cb9b77af0bb09cbd575c\n",
      "CONTAINER ID   IMAGE           COMMAND                  CREATED                  STATUS                  PORTS                                                                              NAMES\n",
      "711f34bcec44   8f733d50e036    \"/bin/sh -c '/usr/sb…\"   Less than a second ago   Up Less than a second   0.0.0.0:80->80/tcp, :::80->80/tcp                                                  festive_mayer\n",
      "4538595c00ea   dockerlab1580   \"/bin/sh -c '/usr/sb…\"   8 weeks ago              Up 8 weeks              0.0.0.0:14005->22/tcp, :::14005->22/tcp, 0.0.0.0:14055->80/tcp, :::14055->80/tcp   dockerlab1580_dockerlab1580_1\n"
     ]
    }
   ],
   "source": [
    "ImgId=`docker image ls | head -2 | tail -1 | awk '{print $3}'`\n",
    "CtnId=`docker container ls | grep $ImgId | awk '{print $1}'`\n",
    "docker stop $CtnId\n",
    "docker rm $CtnId\n",
    "echo \"\"\n",
    "docker build .\n",
    "echo \"\"\n",
    "ImgId=`docker image ls | head -2 | tail -1 | awk '{print $3}'`\n",
    "echo \"\"\n",
    "docker run -d -p XXXX:80 $ImgId\n",
    "docker container ls"
   ]
  },
  {
   "cell_type": "markdown",
   "metadata": {},
   "source": [
    "Try now to connect to your nextcloud instance. \n",
    "\n",
    "![Owncloud failed](Pictures/owncloud_without_dep.png)\n",
    "\n",
    "1. What happens?\n",
    "2. What should you do next to solve the issue ? **Discuss with your trainer if you're stuck !**\n",
    "\n",
    "Hint, you probably need to add the nextcloud dependencies to be able to launch it. Add the following line to your Dockerfile to solve that:"
   ]
  },
  {
   "cell_type": "code",
   "execution_count": null,
   "metadata": {},
   "outputs": [],
   "source": [
    "echo \"RUN yum install -y php php-dom php-mbstring php-pdo php-gd\" >> Dockerfile"
   ]
  },
  {
   "cell_type": "markdown",
   "metadata": {},
   "source": [
    "With that you should be able to use owncloud ! (Note that you need to use that version with CentOS 7 for a PHP dependency management) But we're not done yet !!!\n",
    "If you log on to your owncloud instance, and start customizing it (login/passwd for admin, storage path), you'll have errors first, that we'll fix later on and then if you `Docker stop` and `Docker rm` the container to relaunch it again, of course, none of this customization will be kept as it's not part of your container content.\n",
    "\n",
    "So we now have to deal with storage management for our Docker container. First we need to solve the error generated when you tried to configure your nextcloud instance. We had rights issues. Use the following command to help solve the issue:"
   ]
  },
  {
   "cell_type": "code",
   "execution_count": null,
   "metadata": {},
   "outputs": [],
   "source": [
    "docker exec b42f9f6f1034 ls -al /var/www/html\n",
    "docker exec b42f9f6f1034 ps auxww | grep httpd"
   ]
  },
  {
   "cell_type": "markdown",
   "metadata": {},
   "source": [
    "The principle is that the owner of the httpd process should have the rights on the nextcloud directory to read and store files there. ** So modify your Dockerfile accordingly and retest **.\n",
    "\n",
    "Now you should be able to customize your owncloud instance and start using it.\n",
    "\n",
    "By now you have probably remarked that you have to each time deal with IDs for containers and images, which is not that convenient. Let's fix that. Download the owncloud tar file in your directory and modify the ADD line:"
   ]
  },
  {
   "cell_type": "code",
   "execution_count": null,
   "metadata": {},
   "outputs": [],
   "source": [
    "docker build -t nextcloud ."
   ]
  },
  {
   "cell_type": "markdown",
   "metadata": {},
   "source": [
    "You now have tagged your image and use it by its name:"
   ]
  },
  {
   "cell_type": "code",
   "execution_count": null,
   "metadata": {},
   "outputs": [],
   "source": [
    "docker image ls"
   ]
  },
  {
   "cell_type": "markdown",
   "metadata": {},
   "source": [
    "It would be great if you could persist the content from one run to another.  Yes, you can ;-) For that, you need to attach a local directory of your host to your container, and point the setup of your owncloud to that directory instead of the one under `/var/www/html/owncloud`.\n",
    "Create a `/data` directory on your host, mount it in your container under `/data`, and then point your setup ot it:"
   ]
  },
  {
   "cell_type": "code",
   "execution_count": null,
   "metadata": {},
   "outputs": [],
   "source": [
    "mkdir -p /data"
   ]
  },
  {
   "cell_type": "code",
   "execution_count": null,
   "metadata": {},
   "outputs": [],
   "source": [
    "date > /data/myfile.txt"
   ]
  },
  {
   "cell_type": "code",
   "execution_count": null,
   "metadata": {},
   "outputs": [],
   "source": [
    "cat >> Dockerfile << EOF"
   ]
  },
  {
   "cell_type": "code",
   "execution_count": null,
   "metadata": {},
   "outputs": [],
   "source": [
    "```\n",
    "VOLUME /data\n",
    "EOF\n",
    "```"
   ]
  },
  {
   "cell_type": "code",
   "execution_count": null,
   "metadata": {},
   "outputs": [],
   "source": [
    "docker build -t owncloud ."
   ]
  },
  {
   "cell_type": "code",
   "execution_count": null,
   "metadata": {},
   "outputs": [],
   "source": [
    "docker ps"
   ]
  },
  {
   "cell_type": "code",
   "execution_count": null,
   "metadata": {},
   "outputs": [],
   "source": [
    "docker stop 29c8f5ca3d76 "
   ]
  },
  {
   "cell_type": "code",
   "execution_count": null,
   "metadata": {},
   "outputs": [],
   "source": [
    "docker rm 29c8f5ca3d76"
   ]
  },
  {
   "cell_type": "code",
   "execution_count": null,
   "metadata": {},
   "outputs": [],
   "source": [
    "docker run -d -p 80:80 -v /data:/data owncloud:latest"
   ]
  },
  {
   "cell_type": "code",
   "execution_count": null,
   "metadata": {},
   "outputs": [],
   "source": []
  },
  {
   "cell_type": "markdown",
   "metadata": {},
   "source": [
    "Now reload the owncloud configuration page in your browser, but this time configure the data folder as in the following screen shot:\n",
    "\n",
    "![Owncloud Setup](Pictures/owncloud.png)\n",
    "\n",
    "** If you encounter issues you need to adapt your environment so that the apache user is allowed to write on to the /data directory. **\n",
    "\n",
    "Your current Dockerfile should look like this at that point:"
   ]
  },
  {
   "cell_type": "code",
   "execution_count": null,
   "metadata": {},
   "outputs": [],
   "source": [
    "cat Dockerfile"
   ]
  },
  {
   "cell_type": "code",
   "execution_count": null,
   "metadata": {},
   "outputs": [],
   "source": [
    "```\n",
    "FROM centos:6\n",
    "#FROM fedora:latest\n",
    "RUN yum install -y httpd\n",
    "MAINTAINER myself@mydomain.org\n",
    "RUN yum install -y tar bzip2\n",
    "COPY owncloud-7.0.15.tar.bz2 /var/www/html/\n",
    "RUN cd /var/www/html/ && tar xvfj owncloud-7.0.15.tar.bz2 && rm -f owncloud-7.0.15.tar.bz2\n",
    "RUN yum install -y php php-dom php-mbstring php-pdo php-gd\n",
    "VOLUME /data\n",
    "RUN chown -R apache:apache /var/www/html/owncloud /data\n",
    "CMD /usr/sbin/apachectl -DFOREGROUND -k start\n",
    "EXPOSE 80\n",
    "```"
   ]
  },
  {
   "cell_type": "markdown",
   "metadata": {},
   "source": [
    "Move the example text file you created earlier to your ownClould Documents folder so you can see the file and view the file in ownCloud."
   ]
  },
  {
   "cell_type": "code",
   "execution_count": null,
   "metadata": {},
   "outputs": [],
   "source": [
    "mv /data/myfile.txt /data/bruno/files/Documents"
   ]
  },
  {
   "cell_type": "markdown",
   "metadata": {},
   "source": [
    "Open the Documents folder in the ownCloud Web UI. Confirm that the myfile.txt example file is present and then view the contents to check that they match what you created earlier.\n"
   ]
  },
  {
   "cell_type": "code",
   "execution_count": null,
   "metadata": {},
   "outputs": [],
   "source": [
    "docker ps"
   ]
  },
  {
   "cell_type": "code",
   "execution_count": null,
   "metadata": {},
   "outputs": [],
   "source": [
    "docker stop 23f\n",
    "docker rm 23f"
   ]
  },
  {
   "cell_type": "code",
   "execution_count": null,
   "metadata": {},
   "outputs": [],
   "source": [
    "docker run -d -p XXXX:80 -v /data:/data owncloud:latest"
   ]
  },
  {
   "cell_type": "markdown",
   "metadata": {},
   "source": [
    "1. At that point you should find again your data on your owncloud instance right ? But what additional pain point do you have ?\n",
    "2. Knowing that the owncloud configuration data are located under `/var/www/html/owncloud/config/config.php`  try to adapt the Dockerfile to solve that last issue. **Discuss with your trainer if you're stuck !**\n",
    "Note : there is more than one way to solve this."
   ]
  },
  {
   "cell_type": "markdown",
   "metadata": {},
   "source": [
    "<br><br>\n",
    "\n",
    "## <i class=\"fas fa-2x fa-map-marker-alt\" style=\"color:#551199;\"></i>&nbsp;&nbsp;Next Steps\n",
    "\n",
    "# Lab4 : Using Docker Compose\n",
    "\n",
    "<h2>Next LAB&nbsp;&nbsp;&nbsp;&nbsp;<a href=\"4-WKSHP-Using-Docker-Compose.ipynb\" target=\"New\" title=\"Next LAB: Using Docker Compose\"><i class=\"fas fa-chevron-circle-right\" style=\"color:#551199;\"></i></a></h2>\n",
    "\n",
    "</br>\n",
    " <a href=\"1-WKSHP-Intro-to-Containers-techno.ipynb\" target=\"New\" title=\"Back: Introduction to Containers technologies\"><button type=\"submit\"  class=\"btn btn-lg btn-block\" style=\"background-color:#551199;color:#fff;position:relative;width:10%; height: 30px;float: left;\"><b>Back</b></button></a>\n",
    " <a href=\"4-WKSHP-Using-Docker-Compose.ipynb\" target=\"New\" title=\"Next:Using Docker Compose\"><button type=\"submit\"  class=\"btn btn-lg btn-block\" style=\"background-color:#551199;color:#fff;position:relative;width:10%; height: 30px;float: right;\"><b>Next</b></button></a>\n"
   ]
  },
  {
   "cell_type": "code",
   "execution_count": null,
   "metadata": {},
   "outputs": [],
   "source": []
  }
 ],
 "metadata": {
  "kernelspec": {
   "display_name": "SSH",
   "language": "bash",
   "name": "ssh"
  },
  "language_info": {
   "codemirror_mode": "shell",
   "file_extension": ".sh",
   "mimetype": "text/x-sh",
   "name": "ssh"
  }
 },
 "nbformat": 4,
 "nbformat_minor": 4
}
