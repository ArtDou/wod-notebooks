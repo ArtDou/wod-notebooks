{
 "cells": [
  {
   "cell_type": "markdown",
   "metadata": {},
   "source": [
    "![HPEDEVlogo](Pictures/hpedevlogo-NB.JPG)    ![Dockerlogo](Pictures/docker.png)  "
   ]
  },
  {
   "cell_type": "markdown",
   "metadata": {},
   "source": [
    "Let's start by connecting to our docker appliance again (Docker in Docker Appliance)"
   ]
  },
  {
   "cell_type": "code",
   "execution_count": null,
   "metadata": {},
   "outputs": [],
   "source": [
    "%login {{ hostvars[inventory_hostname]['IP-WKSHP-Docker101'] }}"
   ]
  },
  {
   "cell_type": "code",
   "execution_count": null,
   "metadata": {},
   "outputs": [],
   "source": [
    "%login 16.31.86.200"
   ]
  },
  {
   "cell_type": "markdown",
   "metadata": {},
   "source": [
    "# Configuring nextcloud in a container\n",
    "\n",
    "Estimated time: 60 minutes.\n",
    "\n",
    "Based on the work done in the Docker Dojo during a Grenoble Docker Meetup (cf: https://github.com/Enalean/docker-dojo/tree/master/owncloud).\n",
    "\n",
    "Nextcloud is a web based application providing services such as calendar data or file sharing e.g.\n",
    "When we want to contain an application such as nextcloud, there are a certain number of aspects to take in account and solve:\n",
    "  1. installing the application and its dependencies in the container\n",
    "  2. allow IP configuration for remote access to the application\n",
    "  3. allow data persistence at each invocation of the container\n",
    "  4. allow configuration data persistence at each invocation of the container\n",
    "  \n",
    "One possibility would be to run the container from an image and launch the various commands in the container (as we've done previously). We could put that in a script and launch it systematically when we instantiate a container from an image, or rebuild a prepared image to be instantiated later. But there is a better way to achieve what we want to do, and this is by using the automation process by Docker with the Dockerfile.\n",
    "\n",
    "The Dockerfile is a way to describe all the operations required to create an image from an initial basic one and stacking all the operations to build at the end the final image ready to be instantiated and consumed and thrown away.\n",
    "\n",
    "Let's start our Dockerfile by creating a simple container from a base image and just installing some software components useful for our environment, and build an image from that:\n"
   ]
  },
  {
   "cell_type": "code",
   "execution_count": null,
   "metadata": {},
   "outputs": [],
   "source": [
    "echo 'FROM centos:7' > Dockerfile\n",
    "echo 'RUN yum install -y httpd' >> Dockerfile\n",
    "cat Dockerfile"
   ]
  },
  {
   "cell_type": "code",
   "execution_count": null,
   "metadata": {},
   "outputs": [],
   "source": [
    "docker build ."
   ]
  },
  {
   "cell_type": "code",
   "execution_count": null,
   "metadata": {},
   "outputs": [],
   "source": [
    "docker image ls"
   ]
  },
  {
   "cell_type": "markdown",
   "metadata": {},
   "source": [
    "So we can verify that a new CentOS 7 image has been downloaded and based on it a new image has been created (without name nor tag, just an ID) containing httpd installed with its dependencies. \n",
    "Check it by instantiating a container based on that image and launching httpd in it:"
   ]
  },
  {
   "cell_type": "code",
   "execution_count": null,
   "metadata": {},
   "outputs": [],
   "source": [
    "ImgId=`docker image ls | head -2 | tail -1 | awk '{print $3}'`\n",
    "docker run -d $ImgId /usr/sbin/httpd"
   ]
  },
  {
   "cell_type": "code",
   "execution_count": null,
   "metadata": {},
   "outputs": [],
   "source": [
    "ps auxww |  grep http"
   ]
  },
  {
   "cell_type": "markdown",
   "metadata": {},
   "source": [
    "Strange, no httpd daemon seems to be running whereas you had no error message reported. Let's try to understand why. Look at the containers running:"
   ]
  },
  {
   "cell_type": "code",
   "execution_count": null,
   "metadata": {},
   "outputs": [],
   "source": [
    "docker container ls"
   ]
  },
  {
   "cell_type": "markdown",
   "metadata": {},
   "source": [
    "Ok, so you don't have any container running. Look at one which exited then:"
   ]
  },
  {
   "cell_type": "code",
   "execution_count": null,
   "metadata": {},
   "outputs": [],
   "source": [
    "docker container ls -a"
   ]
  },
  {
   "cell_type": "markdown",
   "metadata": {},
   "source": [
    "So here it is ! But as seen previously the container exited with a 0 status code, meaning no error. Why ? Well this is because the httpd process is giving back hand to the user immediately after launch, going into background. So Docker thinks that all the tasks that he has to do where done correctly and exit gracefully. Assess that analysis by issuing the following commands:"
   ]
  },
  {
   "cell_type": "code",
   "execution_count": null,
   "metadata": {},
   "outputs": [],
   "source": [
    "ImgId=`docker image ls | head -2 | tail -1 | awk '{print $3}'`\n",
    "CtnId=`docker container ls -a | grep $ImgId | awk '{print $1}'`\n",
    "docker diff $CtnId\n",
    "echo \"\"\n",
    "docker history $ImgId\n",
    "echo \"\"\n",
    "docker logs $CtnId"
   ]
  },
  {
   "cell_type": "markdown",
   "metadata": {},
   "source": [
    "So we checked that we can launch the httpd server from inside an instantiated container made from our image. It created the relevant log files in the container, with just a normal warning. We also checked how our image was built. Note that the image built is around 170 MB larger than the base CentOS 7 one (shown by history) and has sensible modifications shown by the diff command.\n",
    "\n",
    "It's a good start, but now we would like to have our httpd server started automatically with our container creation and staying alive after launch. And have attribution accordingly ;-) So let's make the following modifications to the Dockerfile"
   ]
  },
  {
   "cell_type": "code",
   "execution_count": null,
   "metadata": {},
   "outputs": [],
   "source": [
    "echo 'MAINTAINER myself@mydomain.org' >> Dockerfile\n",
    "echo 'CMD /usr/sbin/apachectl -DFOREGROUND -k start' >> Dockerfile\n",
    "echo \"\"\n",
    "cat Dockerfile"
   ]
  },
  {
   "cell_type": "code",
   "execution_count": null,
   "metadata": {},
   "outputs": [],
   "source": [
    "docker build ."
   ]
  },
  {
   "cell_type": "markdown",
   "metadata": {},
   "source": [
    "You can remark that all the first steps are very quick. This is because Docker caches steps, and will not repeat them unless the Dockerfile changes. You can modify the Dockerfile by putting the `MAINTAINER` command as the second line and re-launch the build. You'll see that in that case Docker invalidates its cache and restarts.\n",
    "Secondly, we modified the way our Apache Web server is started by forcing it to stay in foreground after launch. That way Docker will continue to keep alive the container.\n",
    "Now start a container from that image to check the web server is indeed started"
   ]
  },
  {
   "cell_type": "code",
   "execution_count": null,
   "metadata": {},
   "outputs": [],
   "source": [
    "ImgId=`docker image ls | head -2 | tail -1 | awk '{print $3}'`\n",
    "docker run -d $ImgId"
   ]
  },
  {
   "cell_type": "markdown",
   "metadata": {},
   "source": [
    "Now check using the same previous commands that the container is indeed running correctly:"
   ]
  },
  {
   "cell_type": "code",
   "execution_count": null,
   "metadata": {},
   "outputs": [],
   "source": [
    "docker container ls\n",
    "echo \"\"\n",
    "ImgId=`docker image ls | head -2 | tail -1 | awk '{print $3}'`\n",
    "CtnId=`docker container ls | grep $ImgId | awk '{print $1}'`\n",
    "docker diff $CtnId\n",
    "echo \"\"\n",
    "docker history $ImgId\n",
    "echo \"\"\n",
    "docker logs $CtnId\n",
    "echo \"\"\n",
    "ps auxww | grep httpd | grep -v docker"
   ]
  },
  {
   "cell_type": "markdown",
   "metadata": {},
   "source": [
    "So you can see that now your httpd process is running, has produced more differences (a pid file has been created), more log content. It is also running with a UID (48) which is not known by the host, just the container. So now let's try to reach our newly launched webserver:"
   ]
  },
  {
   "cell_type": "code",
   "execution_count": null,
   "metadata": {},
   "outputs": [],
   "source": [
    "curl http://localhost"
   ]
  },
  {
   "cell_type": "markdown",
   "metadata": {},
   "source": [
    "Of course that doesn't work ;-) You would have been surprised otherwise don't you ? The major aspect here is that the httpd server you launched is run in an isolated environement, the container, that is NOT the host, so its localhost is different from the localhost of the host. Similarly its IP address is different from the one of the host. Proof:"
   ]
  },
  {
   "cell_type": "code",
   "execution_count": null,
   "metadata": {},
   "outputs": [],
   "source": [
    "echo \"\"\n",
    "echo \"*** host ***\"\n",
    "echo \"\"\n",
    "echo \"IP: {{ hostvars[inventory_hostname]['IP-WKSHP-Docker101'] }}\"\n",
    "ImgId=`docker image ls | head -2 | tail -1 | awk '{print $3}'`\n",
    "CtnId=`docker container ls | grep $ImgId | awk '{print $1}'`\n",
    "echo \"\"\n",
    "echo \"*** CTN $CtnId ***\"\n",
    "echo \"\"\n",
    "docker exec $CtnId yum install -y net-tools >& /dev/null\n",
    "echo \"\"\n",
    "echo -n \"IP: \"\n",
    "docker exec $CtnId /usr/sbin/ifconfig | grep -A 2 eth0 | tail -2 | head -1 | awk '{print $2 }'"
   ]
  },
  {
   "cell_type": "markdown",
   "metadata": {},
   "source": [
    "Convinced ? So now try *inside* the container to reach the Web server:"
   ]
  },
  {
   "cell_type": "code",
   "execution_count": null,
   "metadata": {},
   "outputs": [],
   "source": [
    "ImgId=`docker image ls | head -2 | tail -1 | awk '{print $3}'`\n",
    "CtnId=`docker container ls | grep $ImgId | awk '{print $1}'`\n",
    "echo \"\"\n",
    "echo \"*** CTN $CtnId ***\"\n",
    "echo \"\"\n",
    "docker exec $CtnId curl -s http://localhost"
   ]
  },
  {
   "cell_type": "markdown",
   "metadata": {},
   "source": [
    "Success !! So you indeed have a running web server, inside a CentOS 7 distribution container. But that's not fully what you want. What you want is to be able to reach it from outside of the container."
   ]
  },
  {
   "cell_type": "code",
   "execution_count": null,
   "metadata": {},
   "outputs": [],
   "source": [
    "ImgId=`docker image ls | head -2 | tail -1 | awk '{print $3}'`\n",
    "CtnId=`docker container ls | grep $ImgId | awk '{print $1}'`\n",
    "echo \"\"\n",
    "echo \"*** CTN $CtnId ***\"\n",
    "echo \"\"\n",
    "CtnIP=`docker exec $CtnId ifconfig | grep -A 2 eth0 | grep inet | awk '{print $2}'`\n",
    "echo \"\"\n",
    "echo \"*** using CTN IP $CtnIP ***\"\n",
    "echo \"\"\n",
    "curl -s http://$CtnIP | grep CentOS\n",
    "HostIP=\"{{ hostvars[inventory_hostname]['IP-WKSHP-Docker101'] }}\"\n",
    "echo \"\"\n",
    "echo \"*** using host IP $HostIP ***\"\n",
    "echo \"\"\n",
    "curl -s http://$HostIP | grep CentOS"
   ]
  },
  {
   "cell_type": "markdown",
   "metadata": {},
   "source": [
    "\n",
    "So it works when you use the container IP (because Linux and Docker set the routing up for you automagically, but it doesn't work if you use the IP address of the host, which is really what you want to provide access to for the external world. )\n",
    "\n",
    "By default, the container ports are not exposed outside of the container. So you can't use your host OS to access your isolated webserver. \n",
    "\n",
    "You will have to explicitly redirect trafic arriving on a specific port allocated to you on the host (which is accessible from outside your environment) to the container port 80 to allow access to the web server running in the container. This will require a change to the way you invoke the container creation. Let's stop the previous container and relaunch it with the right options:"
   ]
  },
  {
   "cell_type": "code",
   "execution_count": null,
   "metadata": {},
   "outputs": [],
   "source": [
    "ImgId=`docker image ls | head -2 | tail -1 | awk '{print $3}'`\n",
    "CtnId=`docker container ls | grep $ImgId | awk '{print $1}'`\n",
    "docker stop $CtnId\n",
    "docker rm $CtnId\n",
    "docker run -d -p $webport:80 $ImgId\n",
    "echo \"\"\n",
    "docker container ls\n",
    "CtnId=`docker container ls | grep $ImgId | awk '{print $1}'`\n",
    "echo \"\"\n",
    "echo \"*** using host IP ***\"\n",
    "echo \"\"\n",
    "HostIP={{ hostvars[inventory_hostname]['IP-WKSHP-Docker101'] }}\n",
    "curl http://$HostIP:$webport | grep CentOS"
   ]
  },
  {
   "cell_type": "markdown",
   "metadata": {},
   "source": [
    "Now that we have redirected the port correctly, we can reach our webserver from outside the container using the host IP address. If that machine is reachable from the Internet, you have a Webserver in a container avaible online.\n",
    "\n",
    "And as this is the case in our environment, please launch a Web browser of your choice and reach the URL mentioned in the next cell to check it."
   ]
  },
  {
   "cell_type": "code",
   "execution_count": null,
   "metadata": {},
   "outputs": [],
   "source": [
    "firefox http://{{ JPHOSTEXT }}:$webport"
   ]
  },
  {
   "cell_type": "markdown",
   "metadata": {},
   "source": [
    "Don't you feel powerful now ?"
   ]
  },
  {
   "cell_type": "markdown",
   "metadata": {},
   "source": [
    "\n",
    "It's now time to add some useful content to our web server !\n",
    "Modify again the Dockerfile to add nextcloud to our image:"
   ]
  },
  {
   "cell_type": "code",
   "execution_count": null,
   "metadata": {},
   "outputs": [],
   "source": [
    "echo 'RUN nextcloud' >> Dockerfile\n",
    "echo 'RUN curl http://{{ hostvars[inventory_hostname]['IP-WKSHP-Docker101'] }}/nextcloud-22.1.1.zip -o /tmp/nextcloud.zip' >> Dockerfile\n",
    "echo 'RUN cd /var/www/html/ && unzip -q /tmp/nextcloud.zip' >> Dockerfile"
   ]
  },
  {
   "cell_type": "markdown",
   "metadata": {},
   "source": [
    "Now re-create a new image based on that Dockerfile, purge the previous content before relaunching a new container (please wait till the end of the operation as the download is around 160MB and can take some time)"
   ]
  },
  {
   "cell_type": "code",
   "execution_count": null,
   "metadata": {},
   "outputs": [],
   "source": [
    "ImgId=`docker image ls | head -2 | tail -1 | awk '{print $3}'`\n",
    "CtnId=`docker container ls | grep $ImgId | awk '{print $1}'`\n",
    "docker stop $CtnId\n",
    "docker rm $CtnId\n",
    "echo \"\"\n",
    "docker build .\n",
    "echo \"\"\n",
    "ImgId=`docker image ls | head -2 | tail -1 | awk '{print $3}'`\n",
    "echo \"\"\n",
    "docker run -d -p $webport:80 $ImgId\n",
    "docker container ls"
   ]
  },
  {
   "cell_type": "markdown",
   "metadata": {},
   "source": [
    "Try now to connect to your nextcloud instance. \n",
    "\n",
    "![Owncloud failed](Pictures/owncloud_without_dep.png)\n",
    "\n",
    "1. What happens?\n",
    "2. What should you do next to solve the issue ? **Discuss with your trainer if you're stuck !**\n",
    "\n",
    "Hint, you probably need to add the nextcloud dependencies to be able to launch it. Add the following line to your Dockerfile to solve that:"
   ]
  },
  {
   "cell_type": "code",
   "execution_count": null,
   "metadata": {},
   "outputs": [],
   "source": [
    "echo \"RUN yum install -y php php-dom php-mbstring php-pdo php-gd\" >> Dockerfile"
   ]
  },
  {
   "cell_type": "markdown",
   "metadata": {},
   "source": [
    "With that you should be able to use owncloud ! (Note that you need to use that version with CentOS 7 for a PHP dependency management) But we're not done yet !!!\n",
    "If you log on to your owncloud instance, and start customizing it (login/passwd for admin, storage path), you'll have errors first, that we'll fix later on and then if you `Docker stop` and `Docker rm` the container to relaunch it again, of course, none of this customization will be kept as it's not part of your container content.\n",
    "\n",
    "So we now have to deal with storage management for our Docker container. First we need to solve the error generated when you tried to configure your nextcloud instance. We had rights issues. Use the following command to help solve the issue:"
   ]
  },
  {
   "cell_type": "code",
   "execution_count": null,
   "metadata": {},
   "outputs": [],
   "source": [
    "docker exec b42f9f6f1034 ls -al /var/www/html\n",
    "docker exec b42f9f6f1034 ps auxww | grep httpd"
   ]
  },
  {
   "cell_type": "markdown",
   "metadata": {},
   "source": [
    "The principle is that the owner of the httpd process should have the rights on the nextcloud directory to read and store files there. ** So modify your Dockerfile accordingly and retest **.\n",
    "\n",
    "Now you should be able to customize your owncloud instance and start using it.\n",
    "\n",
    "By now you have probably remarked that you have to each time deal with IDs for containers and images, which is not that convenient. Let's fix that. Download the owncloud tar file in your directory and modify the ADD line:"
   ]
  },
  {
   "cell_type": "code",
   "execution_count": null,
   "metadata": {},
   "outputs": [],
   "source": [
    "docker build -t nextcloud ."
   ]
  },
  {
   "cell_type": "markdown",
   "metadata": {},
   "source": [
    "You now have tagged your image and use it by its name:"
   ]
  },
  {
   "cell_type": "code",
   "execution_count": null,
   "metadata": {},
   "outputs": [],
   "source": [
    "docker image ls"
   ]
  },
  {
   "cell_type": "markdown",
   "metadata": {},
   "source": [
    "It would be great if you could persist the content from one run to another.  Yes, you can ;-) For that, you need to attach a local directory of your host to your container, and point the setup of your owncloud to that directory instead of the one under `/var/www/html/owncloud`.\n",
    "Create a `/data` directory on your host, mount it in your container under `/data`, and then point your setup ot it:"
   ]
  },
  {
   "cell_type": "code",
   "execution_count": null,
   "metadata": {},
   "outputs": [],
   "source": [
    "mkdir -p /data"
   ]
  },
  {
   "cell_type": "code",
   "execution_count": null,
   "metadata": {},
   "outputs": [],
   "source": [
    "date > /data/myfile.txt"
   ]
  },
  {
   "cell_type": "code",
   "execution_count": null,
   "metadata": {},
   "outputs": [],
   "source": [
    "cat >> Dockerfile << EOF"
   ]
  },
  {
   "cell_type": "code",
   "execution_count": null,
   "metadata": {},
   "outputs": [],
   "source": [
    "```\n",
    "VOLUME /data\n",
    "EOF\n",
    "```"
   ]
  },
  {
   "cell_type": "code",
   "execution_count": null,
   "metadata": {},
   "outputs": [],
   "source": [
    "docker build -t owncloud ."
   ]
  },
  {
   "cell_type": "code",
   "execution_count": null,
   "metadata": {},
   "outputs": [],
   "source": [
    "docker ps"
   ]
  },
  {
   "cell_type": "code",
   "execution_count": null,
   "metadata": {},
   "outputs": [],
   "source": [
    "docker stop 29c8f5ca3d76 "
   ]
  },
  {
   "cell_type": "code",
   "execution_count": null,
   "metadata": {},
   "outputs": [],
   "source": [
    "docker rm 29c8f5ca3d76"
   ]
  },
  {
   "cell_type": "code",
   "execution_count": null,
   "metadata": {},
   "outputs": [],
   "source": [
    "docker run -d -p 80:80 -v /data:/data owncloud:latest"
   ]
  },
  {
   "cell_type": "code",
   "execution_count": null,
   "metadata": {},
   "outputs": [],
   "source": []
  },
  {
   "cell_type": "markdown",
   "metadata": {},
   "source": [
    "Now reload the owncloud configuration page in your browser, but this time configure the data folder as in the following screen shot:\n",
    "\n",
    "![Owncloud Setup](Pictures/owncloud.png)\n",
    "\n",
    "** If you encounter issues you need to adapt your environment so that the apache user is allowed to write on to the /data directory. **\n",
    "\n",
    "Your current Dockerfile should look like this at that point:"
   ]
  },
  {
   "cell_type": "code",
   "execution_count": null,
   "metadata": {},
   "outputs": [],
   "source": [
    "cat Dockerfile"
   ]
  },
  {
   "cell_type": "code",
   "execution_count": null,
   "metadata": {},
   "outputs": [],
   "source": [
    "```\n",
    "FROM centos:6\n",
    "#FROM fedora:latest\n",
    "RUN yum install -y httpd\n",
    "MAINTAINER myself@mydomain.org\n",
    "RUN yum install -y tar bzip2\n",
    "COPY owncloud-7.0.15.tar.bz2 /var/www/html/\n",
    "RUN cd /var/www/html/ && tar xvfj owncloud-7.0.15.tar.bz2 && rm -f owncloud-7.0.15.tar.bz2\n",
    "RUN yum install -y php php-dom php-mbstring php-pdo php-gd\n",
    "VOLUME /data\n",
    "RUN chown -R apache:apache /var/www/html/owncloud /data\n",
    "CMD /usr/sbin/apachectl -DFOREGROUND -k start\n",
    "EXPOSE 80\n",
    "```"
   ]
  },
  {
   "cell_type": "markdown",
   "metadata": {},
   "source": [
    "Move the example text file you created earlier to your ownClould Documents folder so you can see the file and view the file in ownCloud."
   ]
  },
  {
   "cell_type": "code",
   "execution_count": null,
   "metadata": {},
   "outputs": [],
   "source": [
    "mv /data/myfile.txt /data/bruno/files/Documents"
   ]
  },
  {
   "cell_type": "markdown",
   "metadata": {},
   "source": [
    "Open the Documents folder in the ownCloud Web UI. Confirm that the myfile.txt example file is present and then view the contents to check that they match what you created earlier.\n"
   ]
  },
  {
   "cell_type": "code",
   "execution_count": null,
   "metadata": {},
   "outputs": [],
   "source": [
    "docker ps"
   ]
  },
  {
   "cell_type": "code",
   "execution_count": null,
   "metadata": {},
   "outputs": [],
   "source": [
    "docker stop 23f\n",
    "docker rm 23f"
   ]
  },
  {
   "cell_type": "code",
   "execution_count": null,
   "metadata": {},
   "outputs": [],
   "source": [
    "docker run -d -p XXXX:80 -v /data:/data owncloud:latest"
   ]
  },
  {
   "cell_type": "markdown",
   "metadata": {},
   "source": [
    "1. At that point you should find again your data on your owncloud instance right ? But what additional pain point do you have ?\n",
    "2. Knowing that the owncloud configuration data are located under `/var/www/html/owncloud/config/config.php`  try to adapt the Dockerfile to solve that last issue. **Discuss with your trainer if you're stuck !**\n",
    "Note : there is more than one way to solve this."
   ]
  },
  {
   "cell_type": "markdown",
   "metadata": {},
   "source": [
    "<br><br>\n",
    "\n",
    "## <i class=\"fas fa-2x fa-map-marker-alt\" style=\"color:#551199;\"></i>&nbsp;&nbsp;Next Steps\n",
    "\n",
    "# Lab4 : Using Docker Compose\n",
    "\n",
    "<h2>Next LAB&nbsp;&nbsp;&nbsp;&nbsp;<a href=\"4-WKSHP-Using-Docker-Compose.ipynb\" target=\"New\" title=\"Next LAB: Using Docker Compose\"><i class=\"fas fa-chevron-circle-right\" style=\"color:#551199;\"></i></a></h2>\n",
    "\n",
    "</br>\n",
    " <a href=\"1-WKSHP-Intro-to-Containers-techno.ipynb\" target=\"New\" title=\"Back: Introduction to Containers technologies\"><button type=\"submit\"  class=\"btn btn-lg btn-block\" style=\"background-color:#551199;color:#fff;position:relative;width:10%; height: 30px;float: left;\"><b>Back</b></button></a>\n",
    " <a href=\"4-WKSHP-Using-Docker-Compose.ipynb\" target=\"New\" title=\"Next:Using Docker Compose\"><button type=\"submit\"  class=\"btn btn-lg btn-block\" style=\"background-color:#551199;color:#fff;position:relative;width:10%; height: 30px;float: right;\"><b>Next</b></button></a>\n"
   ]
  },
  {
   "cell_type": "code",
   "execution_count": null,
   "metadata": {},
   "outputs": [],
   "source": []
  }
 ],
 "metadata": {
  "kernelspec": {
   "display_name": "SSH",
   "language": "bash",
   "name": "ssh"
  },
  "language_info": {
   "codemirror_mode": "shell",
   "file_extension": ".sh",
   "mimetype": "text/x-sh",
   "name": "ssh"
  }
 },
 "nbformat": 4,
 "nbformat_minor": 4
}
