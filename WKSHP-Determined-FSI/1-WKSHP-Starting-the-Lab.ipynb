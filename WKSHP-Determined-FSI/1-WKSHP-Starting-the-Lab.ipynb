{
 "cells": [
  {
   "cell_type": "markdown",
   "id": "12d2dd64-6342-4527-ae76-cd1d7312881e",
   "metadata": {},
   "source": [
    "# Getting started with Determined, the open-source deep learning training platform (FSI)\n",
    "\n",
    "*Version: open source Determined 0.18.4+*\n",
    "\n",
    "This 1st lab is providing you links to the Determined AI master web ui."
   ]
  },
  {
   "cell_type": "markdown",
   "id": "8c583f97-a920-493d-a3a4-0f166d0e3347",
   "metadata": {},
   "source": [
    "Please navigate now to the following determined AI Master [web ui](https://determinedai2.hpedev.io/)\n",
    "\n",
    "Your credetials are the following:\n",
    "\n",
    "* **user is student{{ STDID }}**\n",
    "* **Password is {{ PASSSTU }}**"
   ]
  },
  {
   "cell_type": "markdown",
   "id": "0c4128b7-efdc-4660-81ee-cdb9dc6f2bc5",
   "metadata": {},
   "source": []
  }
 ],
 "metadata": {
  "kernelspec": {
   "display_name": "Python 3 (ipykernel)",
   "language": "python",
   "name": "python3"
  },
  "language_info": {
   "codemirror_mode": {
    "name": "ipython",
    "version": 3
   },
   "file_extension": ".py",
   "mimetype": "text/x-python",
   "name": "python",
   "nbconvert_exporter": "python",
   "pygments_lexer": "ipython3",
   "version": "3.8.10"
  }
 },
 "nbformat": 4,
 "nbformat_minor": 5
}
