{
 "cells": [
  {
   "cell_type": "markdown",
   "metadata": {},
   "source": [
    "![HPEDEVlogo](Pictures/hpe-dev-logo.png)\n",
    "\n",
    "# Thank you for visiting the Hack Shack\n",
    "\n",
    "Powered by [HPE DEV Team](hpedev.io)\n",
    "\n",
    "\n",
    "# Conclusion\n",
    "\n",
    "In this workshop you got started with SPIRE and Envoy Secret Directory Service (SDS) to create a zero trust security model within a microservice architecture in Kubernetes.\n",
    "\n",
    "Congratulations!\n",
    "\n",
    "# Learn more\n",
    "\n",
    "To learn more about SPIFFE and SPIRE and this use case, check out the following resources:\n",
    "\n",
    "* [Buiding a Foundation for Zero Trust with SPIFFE and SPIRE technical paper](https://www.hpe.com/psnow/doc/a50004027enw?jumpid=in_lit-psnow-red)\n",
    "* [SPIFFE Concept](https://spiffe.io/docs/latest/spiffe-about/spiffe-concepts/)\n",
    "* [SPIRE Concept](https://spiffe.io/docs/latest/spire-about/spire-concepts/)\n",
    "* [Quickstart for SPIRE on Kubernetes](https://spiffe.io/docs/latest/try/getting-started-k8s/)\n",
    "* [Using Envoy with SPIRE](https://spiffe.io/docs/latest/microservices/envoy/)\n",
    "\n",
    "\n",
    "# Final steps\n",
    "Please take a moment to fill out our [survey]({{ SURVEYURL }}).\n",
    "\n",
    "And make sure you use File -> Log Out menu to terminate your workshop session.\n",
    "\n",
    "\n",
    "# Thank you\n",
    "![ThankYou](Pictures/grommet.jpg)"
   ]
  },
  {
   "cell_type": "code",
   "execution_count": null,
   "metadata": {},
   "outputs": [],
   "source": []
  }
 ],
 "metadata": {
  "kernelspec": {
   "display_name": "Bash",
   "language": "bash",
   "name": "bash"
  },
  "language_info": {
   "codemirror_mode": "shell",
   "file_extension": ".sh",
   "mimetype": "text/x-sh",
   "name": "bash"
  }
 },
 "nbformat": 4,
 "nbformat_minor": 4
}
