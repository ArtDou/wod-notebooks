{
 "cells": [
  {
   "cell_type": "markdown",
   "metadata": {},
   "source": [
    "# Introduction to SPIFFE and SPIRE\n",
    "\n",
    "SPIFFE and SPIRE (the SPIFFE Runtime Environment) are a set of APIs and associated tooling that provide a uniform language for describing service identity in a wide range of workloads (including orchestration systems), verifying that identity, and providing a workload with documents that serve as proof of that identity. The identities are in turn used for establishing trust between software systems across a wide variety of hosting platforms.\n",
    "\n",
    "Concretely, SPIRE exposes the SPIFFE Workload API, which can authenticate and verify running software systems (\"attestation\" in SPIFFE-speak) and issue SPIFFE IDs and SVIDs to them. This in turn allows two workloads to establish trust between each other, for example by establishing an mTLS connection or by signing and verifying a JWT token. Or SPIFFE can be used to enable a workload to securely authenticate to a secret store, a database, or a cloud provider service.\n",
    "\n",
    "This scenario provides a walk-through of installing the components that make up a SPIRE deployment and a basic demonstration of its functionality in action. During the exercise you will:\n",
    "\n",
    " * Install and start a SPIRE Server and SPIRE Agent\n",
    " * Attest a SPIRE Agent using join token node attestation\n",
    " * Create a workload registration entry\n",
    " * Simulate the workload API interaction and retrieve a workload SVID\n",
    " "
   ]
  },
  {
   "cell_type": "markdown",
   "metadata": {},
   "source": [
    "# Step 1 of 3: Install, Configure and Run SPIRE Server\n",
    "\n",
    "First, retrieve the latest SPIRE release to the machine you intend to perform the installation from with: `wget https://github.com/spiffe/spire/releases/download/v0.12.1/spire-0.12.1-linux-x86_64-glibc.tar.gz`\n",
    "\n",
    "Once you have the file, proceed to extract/uncompress the tarball with: `tar -xvf spire-0.12.1-linux-x86_64-glibc.tar.gz -C .`\n",
    "\n",
    "The tarball includes:\n",
    "\n",
    "- The spire-agent and spire-server binaries\n",
    "- Configuration files for the SPIRE Agent and Server\n",
    "\n",
    "You can examine the files in the uncompressed directory: `ls -lrt ./spire-0.12.1`\n"
   ]
  },
  {
   "cell_type": "code",
   "execution_count": null,
   "metadata": {},
   "outputs": [],
   "source": [
    "wget https://github.com/spiffe/spire/releases/download/v0.12.1/spire-0.12.1-linux-x86_64-glibc.tar.gz\n",
    "tar -xvf spire-0.12.1-linux-x86_64-glibc.tar.gz -C .\n",
    "ls -lrt .//spire-0.12.1"
   ]
  },
  {
   "cell_type": "markdown",
   "metadata": {},
   "source": [
    "As we are about to install the server, you want to pay particular attention at the server configuration file: cat server.conf"
   ]
  },
  {
   "cell_type": "code",
   "execution_count": null,
   "metadata": {},
   "outputs": [],
   "source": [
    "cat ./spire-0.12.1/conf/server/server.conf"
   ]
  },
  {
   "cell_type": "markdown",
   "metadata": {},
   "source": [
    "Configure the trust_domain of the SPIRE Server in server.conf. The value corresponds to the host part of the authority component of the URI as defined in the SPIFFE standard: https://github.com/spiffe/spiffe/blob/master/standards/SPIFFE-ID.md#21-trust-domain\n",
    "\n",
    "We will modify the following settings to cope with this workshop environment:\n",
    "\n",
    "- trust_domain set to hpedev.io\n",
    "- bind_port set to a unique id based on your student ID\n",
    "- registration_uds_path set to use a local socket instead of a default system wide socket\n",
    "\n",
    ">Note: The trust domain represents to the trust root of a system. A trust domain can be an individual, organization, environment or department running their own independent SPIFFE infrastructure. All workloads identified in the same trust domain are issued identity documents that can be verified against the root keys of the trust domain.\n",
    "\n",
    "Make any other necessary modifications to the server file. For the purpose of this exercise we won't be making any other changes."
   ]
  },
  {
   "cell_type": "code",
   "execution_count": null,
   "metadata": {},
   "outputs": [],
   "source": [
    "export id={{ STDID }} \n",
    "export PORT=142$(echo \"${id: -2}\")\n",
    "mkdir tmp\n",
    "sed -i 's/example.org/hpedev.io/' ./spire-0.12.1/conf/server/server.conf\n",
    "sed -i \"s/8081/$PORT/\" ./spire-0.12.1/conf/server/server.conf\n",
    "sed -i 's/server {/server { \\n    registration_uds_path = \".\\/tmp\\/spire-registration.sock\"/' ./spire-0.12.1/conf/server/server.conf\n",
    "cat ./spire-0.12.1/conf/server/server.conf"
   ]
  },
  {
   "cell_type": "markdown",
   "metadata": {},
   "source": [
    "Next, we can check our config file with: `spire-server validate`, and follow the recommendation of a shorter TTL by editing the server.conf file (optional)."
   ]
  },
  {
   "cell_type": "code",
   "execution_count": null,
   "metadata": {},
   "outputs": [],
   "source": [
    "./spire-0.12.1/bin/spire-server validate -config ./spire-0.12.1/conf/server/server.conf "
   ]
  },
  {
   "cell_type": "markdown",
   "metadata": {},
   "source": [
    "Next, we start SPIRE Server with: `spire-server run`"
   ]
  },
  {
   "cell_type": "code",
   "execution_count": null,
   "metadata": {},
   "outputs": [],
   "source": [
    "./spire-0.12.1/bin/spire-server run -config ./spire-0.12.1/conf/server/server.conf 2>&1 >/dev/null &"
   ]
  },
  {
   "cell_type": "markdown",
   "metadata": {},
   "source": [
    "We can verify that the SPIRE server is running using the healthcheck command: `spire-server healthcheck`"
   ]
  },
  {
   "cell_type": "code",
   "execution_count": null,
   "metadata": {},
   "outputs": [],
   "source": [
    "./spire-0.12.1/bin/spire-server healthcheck -registrationUDSPath \"./tmp/spire-registration.sock\""
   ]
  },
  {
   "cell_type": "markdown",
   "metadata": {},
   "source": [
    "That concludes Step 1. "
   ]
  },
  {
   "cell_type": "markdown",
   "metadata": {},
   "source": [
    "# Step 2 of 3: Install, Configure and Run SPIRE Agent\n",
    "\n",
    "Up next, you will perform the installation of the SPIRE Agent.\n",
    "\n",
    "You will start by inspecting the default agent configuration file: `cat ./spire-0.12.1/conf/agent/agent.conf`\n",
    "\n",
    "Next, you will set the trust domain to match the same trust domain as configured in the corrresponding SPIRE Server configuration: `hpedev.io`\n",
    "We will also change the agent socket to be local to cope with this workshop environment.\n",
    "\n"
   ]
  },
  {
   "cell_type": "code",
   "execution_count": null,
   "metadata": {},
   "outputs": [],
   "source": [
    "cat ./spire-0.12.1/conf/agent/agent.conf"
   ]
  },
  {
   "cell_type": "code",
   "execution_count": null,
   "metadata": {},
   "outputs": [],
   "source": [
    "sed -i 's/example.org/hpedev.io/g' ./spire-0.12.1/conf/agent/agent.conf\n",
    "sed -i \"s/8081/$PORT/g\" ./spire-0.12.1/conf/agent/agent.conf\n",
    "sed -i \"s/\\/tmp\\/agent.sock/.\\/tmp\\/agent.sock/g\" ./spire-0.12.1/conf/agent/agent.conf\n",
    "cat ./spire-0.12.1/conf/agent/agent.conf"
   ]
  },
  {
   "cell_type": "markdown",
   "metadata": {},
   "source": [
    "There are several attestation methods by which an agent will be attested to join a trust domain. For the purpose of this exercise, we will use join token node attestation. The join_token plugin attests a node based on a pre-shared, one-time-use join token. A token must be generated by the server before it can be used to attest a node.\n",
    "\n",
    "Conveniently, tokens may be generated through the CLI utility (`spire-server token generate`). You can generate a Join Token by running the command below on the SPIRE Server: `spire-server token generate -spiffeID spiffe://hpedev.io/clientnode`\n"
   ]
  },
  {
   "cell_type": "code",
   "execution_count": null,
   "metadata": {},
   "outputs": [],
   "source": [
    "TOKEN=$(./spire-0.12.1/bin/spire-server token generate -registrationUDSPath \"./tmp/spire-registration.sock\" -spiffeID spiffe://hpedev.io/clientnode | awk '{print $2}' | tr -d '\\r' )\n",
    "echo $TOKEN"
   ]
  },
  {
   "cell_type": "markdown",
   "metadata": {},
   "source": [
    "Now that a token has been generated, proceed to start the SPIRE Agent using the token generated earlier `spire-agent run -config agent.conf -joinToken $TOKEN &`\n",
    "\n",
    ">Notes: The join_token is responsible for attesting the agent's identity using a one-time-use pre-shared key. The join token itself is configured by a CLI flag (-joinToken).\n"
   ]
  },
  {
   "cell_type": "code",
   "execution_count": null,
   "metadata": {},
   "outputs": [],
   "source": [
    "./spire-0.12.1/bin/spire-agent run -config ./spire-0.12.1/conf/agent/agent.conf -joinToken $TOKEN 2>&1 >/dev/null  &"
   ]
  },
  {
   "cell_type": "markdown",
   "metadata": {},
   "source": [
    "We can verify that the SPIRE agent is running, by running the healthcheck command with `spire-agent healthcheck`"
   ]
  },
  {
   "cell_type": "code",
   "execution_count": null,
   "metadata": {},
   "outputs": [],
   "source": [
    "./spire-0.12.1/bin/spire-agent healthcheck -socketPath ./tmp/agent.sock "
   ]
  },
  {
   "cell_type": "markdown",
   "metadata": {},
   "source": [
    "That concludes Step 2. "
   ]
  },
  {
   "cell_type": "markdown",
   "metadata": {},
   "source": [
    "# Step 3 of 3: Register a workload and fetch its corresponding SVID\n",
    "\n",
    "Now that both SPIRE Server and SPIRE Agent are up and running, you want to see how SPIRE works in action and check how workloads are identified.\n",
    "\n",
    "The next step is to register a SPIFFE ID and a set of selectors that need to matched to obtain that SPIFFE ID. This is the SPIFFE ID of a workload that would start in this environment and retrieve its identity after being attested. To identify this workload, we will define selectors that will be mapped to a target SPIFFE ID. For the purpose of this exercise, the selectors use will be unix kernel based.\n",
    "\n",
    "We will register the uid of the logged-in user as a selector of the workload's SPIFFE ID. During kernel based attestation the workload process will be interrogated for the registered uid.\n",
    "\n",
    "Do create a worksload registration entry we use `spire-server entry create` with: \n",
    "\n",
    "- a parentID: this effectively tells SPIRE where a particular workload should be running and, by extension, which agents are authorized to ask for SVIDs on its behalf\n",
    "- a spiffeID: when we see this workload, what SPIFFEID should we issue it? \n",
    "- and a selector: SPIRE needs some information that helps it to identify the workload, which is where the selectors discovered from attestation come in (the unix kernel selector in our case). \n",
    "\n",
    "Before we do this let's collect our Unix user ID (uid) which we will use to create an entry.\n"
   ]
  },
  {
   "cell_type": "code",
   "execution_count": null,
   "metadata": {},
   "outputs": [],
   "source": [
    "uid=$(cat /etc/passwd | grep student{{ STDID }} | cut -f 3 -d:) \n",
    "echo $uid"
   ]
  },
  {
   "cell_type": "code",
   "execution_count": null,
   "metadata": {},
   "outputs": [],
   "source": [
    "./spire-0.12.1/bin/spire-server entry create \\\n",
    "    -registrationUDSPath \"./tmp/spire-registration.sock\" \\\n",
    "    -parentID spiffe://hpedev.io/clientnode \\\n",
    "    -spiffeID spiffe://hpedev.io/workload \\\n",
    "    -selector unix:uid:$uid"
   ]
  },
  {
   "cell_type": "markdown",
   "metadata": {},
   "source": [
    "We can list the list of entries already distributed by the server with `spire-server entry show`:"
   ]
  },
  {
   "cell_type": "code",
   "execution_count": null,
   "metadata": {},
   "outputs": [],
   "source": [
    "./spire-0.12.1/bin/spire-server entry show -registrationUDSPath \"./tmp/spire-registration.sock\""
   ]
  },
  {
   "cell_type": "markdown",
   "metadata": {},
   "source": [
    "As a way to simulate the workload API interaction and retrieve the workload SVID bundle a workload would obtain, you can run the following api subcommand in the agent: `spire-agent api fetch x509`and examine the output."
   ]
  },
  {
   "cell_type": "code",
   "execution_count": null,
   "metadata": {},
   "outputs": [],
   "source": [
    "./spire-0.12.1/bin/spire-agent api fetch x509 --socketPath ./tmp/agent.sock"
   ]
  },
  {
   "cell_type": "markdown",
   "metadata": {},
   "source": [
    "Optionally, you may write the SVID and key retrieved to disk with -write in order to examine in more detail:\n",
    "\n",
    "- the SVID\n",
    "- the key \n",
    "- the trust bundle\n",
    "\n",
    "Then use the `openssl` to display the details of the issued certificate. "
   ]
  },
  {
   "cell_type": "code",
   "execution_count": null,
   "metadata": {},
   "outputs": [],
   "source": [
    "./spire-0.12.1/bin/spire-agent api fetch x509 --socketPath ./tmp/agent.sock -write ."
   ]
  },
  {
   "cell_type": "code",
   "execution_count": null,
   "metadata": {},
   "outputs": [],
   "source": [
    "openssl x509 -in svid.0.pem -text -noout"
   ]
  },
  {
   "cell_type": "markdown",
   "metadata": {},
   "source": [
    "This terminates our workshop on SPIFFE/SPIRE. Thank you for exploring the fundamentals of SPIFFE/SPIRE.\n"
   ]
  },
  {
   "cell_type": "markdown",
   "metadata": {},
   "source": [
    "Jump to the [conclusion](2-WKSHP-Conclusion.ipynb).\n",
    "\n"
   ]
  }
 ],
 "metadata": {
  "kernelspec": {
   "display_name": "Bash",
   "language": "bash",
   "name": "bash"
  },
  "language_info": {
   "codemirror_mode": "shell",
   "file_extension": ".sh",
   "mimetype": "text/x-sh",
   "name": "bash"
  }
 },
 "nbformat": 4,
 "nbformat_minor": 4
}
