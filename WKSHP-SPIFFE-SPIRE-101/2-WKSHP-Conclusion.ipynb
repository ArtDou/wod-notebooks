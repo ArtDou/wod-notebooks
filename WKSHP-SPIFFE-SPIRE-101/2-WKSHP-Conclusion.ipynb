{
 "cells": [
  {
   "cell_type": "markdown",
   "metadata": {},
   "source": [
    "{{ BRANDINGLOGO }}\n",
    "\n",
    "# Thank you for visiting the Hack Shack\n",
    "\n",
    "Powered by [{{ BRANDING }} Community Team](hpedev.io)\n",
    "\n",
    "{% if MODESW == 'CHLG' %}\n",
    "# Thank you for participating to our software challenge\n",
    "{% endif %}\n",
    "\n",
    "\n",
    "# Conclusion\n",
    "\n",
    "In this workshop, you have learned about the SPIFFE and SPIRE concepts. You installed the SPIRE server, the SPIRE agent and used the workload API. We hope we helped you understand the challenges of implementing a zero trust security model.\n",
    "\n",
    "Congratulations!\n",
    "\n",
    "If you'd like to get more information about SPIFFE/SPIRE we recommend [downloading this free eBook](https://thebottomturtle.io/Solving-the-bottom-turtle-SPIFFE-SPIRE-Book.pdf) called the Solving the Bottom Turtle.\n",
    "\n",
    "![Turtle](https://spiffe.io/img/book_cover.png)\n",
    "\n",
    "\n",
    "{% if MODESW == 'CHLG' %}\n",
    "# The challenge is not over yet\n",
    "In order to complete the challenge, you must take the [quiz]({{ SURVEYCHALURL }}). Only then will you get a chance to become a winner! Please note that you must be present at the Hack Shack Celebration party to win. Refer to the Terms and Conditions for details.\n",
    "{% endif %}\n",
    "# Final steps\n",
    "Please take a moment to fill out our [survey]({{ SURVEYURL }}).\n",
    "\n",
    "And make sure you use File -> Log Out menu to terminate your workshop session.\n",
    "\n",
    "# Thank you\n",
    "![ThankYou](Pictures/grommet.JPG)"
   ]
  }
 ],
 "metadata": {
  "kernelspec": {
   "display_name": "Bash",
   "language": "bash",
   "name": "bash"
  },
  "language_info": {
   "codemirror_mode": "shell",
   "file_extension": ".sh",
   "mimetype": "text/x-sh",
   "name": "bash"
  }
 },
 "nbformat": 4,
 "nbformat_minor": 4
}
